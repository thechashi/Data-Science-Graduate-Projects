{
  "cells": [
    {
      "cell_type": "code",
      "source": [
        "!pip install selenium"
      ],
      "metadata": {
        "colab": {
          "base_uri": "https://localhost:8080/"
        },
        "id": "kL0Only8-iAN",
        "outputId": "4ab25dd8-3895-4e08-a96e-b0651268a019"
      },
      "id": "kL0Only8-iAN",
      "execution_count": null,
      "outputs": [
        {
          "output_type": "stream",
          "name": "stdout",
          "text": [
            "Looking in indexes: https://pypi.org/simple, https://us-python.pkg.dev/colab-wheels/public/simple/\n",
            "Requirement already satisfied: selenium in /usr/local/lib/python3.8/dist-packages (4.8.2)\n",
            "Requirement already satisfied: trio-websocket~=0.9 in /usr/local/lib/python3.8/dist-packages (from selenium) (0.9.2)\n",
            "Requirement already satisfied: certifi>=2021.10.8 in /usr/local/lib/python3.8/dist-packages (from selenium) (2022.12.7)\n",
            "Requirement already satisfied: urllib3[socks]~=1.26 in /usr/local/lib/python3.8/dist-packages (from selenium) (1.26.14)\n",
            "Requirement already satisfied: trio~=0.17 in /usr/local/lib/python3.8/dist-packages (from selenium) (0.22.0)\n",
            "Requirement already satisfied: sortedcontainers in /usr/local/lib/python3.8/dist-packages (from trio~=0.17->selenium) (2.4.0)\n",
            "Requirement already satisfied: async-generator>=1.9 in /usr/local/lib/python3.8/dist-packages (from trio~=0.17->selenium) (1.10)\n",
            "Requirement already satisfied: outcome in /usr/local/lib/python3.8/dist-packages (from trio~=0.17->selenium) (1.2.0)\n",
            "Requirement already satisfied: attrs>=19.2.0 in /usr/local/lib/python3.8/dist-packages (from trio~=0.17->selenium) (22.2.0)\n",
            "Requirement already satisfied: idna in /usr/local/lib/python3.8/dist-packages (from trio~=0.17->selenium) (2.10)\n",
            "Requirement already satisfied: exceptiongroup>=1.0.0rc9 in /usr/local/lib/python3.8/dist-packages (from trio~=0.17->selenium) (1.1.0)\n",
            "Requirement already satisfied: sniffio in /usr/local/lib/python3.8/dist-packages (from trio~=0.17->selenium) (1.3.0)\n",
            "Requirement already satisfied: wsproto>=0.14 in /usr/local/lib/python3.8/dist-packages (from trio-websocket~=0.9->selenium) (1.2.0)\n",
            "Requirement already satisfied: PySocks!=1.5.7,<2.0,>=1.5.6 in /usr/local/lib/python3.8/dist-packages (from urllib3[socks]~=1.26->selenium) (1.7.1)\n",
            "Requirement already satisfied: h11<1,>=0.9.0 in /usr/local/lib/python3.8/dist-packages (from wsproto>=0.14->trio-websocket~=0.9->selenium) (0.14.0)\n"
          ]
        }
      ]
    },
    {
      "cell_type": "code",
      "source": [
        "# Getting the dynamic table\n",
        "from selenium import webdriver\n",
        "from selenium.webdriver.chrome.options import Options\n",
        "from bs4 import BeautifulSoup\n",
        "\n",
        "options = Options()\n",
        "options.headless = True\n",
        "driver = webdriver.Chrome(options=options)\n",
        "\n",
        "url = 'https://csrankings.org/#/fromyear/2012/toyear/2022/index?all&us'\n",
        "driver.get(url)\n",
        "\n",
        "driver.implicitly_wait(10)\n",
        "\n",
        "html = driver.page_source\n",
        "soup = BeautifulSoup(html, 'html.parser')\n",
        "\n",
        "html = soup.prettify()\n",
        "\n",
        "with open('main.html', 'w') as f:\n",
        "    f.write(html)\n",
        "    "
      ],
      "metadata": {
        "id": "9LvP7xXsNUeH"
      },
      "id": "9LvP7xXsNUeH",
      "execution_count": null,
      "outputs": []
    },
    {
      "cell_type": "code",
      "source": [
        "# Getting University Information\n",
        "from bs4 import BeautifulSoup\n",
        "import re\n",
        "\n",
        "with open('main.html', 'r') as f:\n",
        "    html = f.read()\n",
        "\n",
        "soup = BeautifulSoup(html, 'html.parser')\n",
        "\n",
        "table = soup.find('table', id='ranking')\n",
        "\n",
        "with open('table.html', 'w') as f:\n",
        "    f.write(str(table))\n",
        "    \n",
        "\n",
        "with open('table.html', 'r') as f:\n",
        "    html = f.read()\n",
        "\n",
        "soup = BeautifulSoup(html, 'html.parser')\n",
        "\n",
        "table = soup.find('table', id='ranking')\n",
        "\n",
        "tbody = table.find('tbody')\n",
        "rows = tbody.select('tr:not(tr tr)')\n",
        "\n",
        "uni_infos = []\n",
        "for i in range(0, len(rows), 3):\n",
        "\n",
        "    row = rows[i]\n",
        "\n",
        "    cells = row.find_all('td')\n",
        "    rank = cells[0].get_text()\n",
        "    name = cells[1].get_text()\n",
        "    score = cells[2].get_text()\n",
        "    faculty = cells[3].get_text()\n",
        "    rank = ' '.join(rank.split())\n",
        "    rank = int(re.sub(r'[^A-Za-z0-9 ]+', '', rank))\n",
        "    name = ' '.join(name.split())\n",
        "    name = re.sub(r'[^A-Za-z0-9 ]+', '', name).strip()\n",
        "    score = ' '.join(score.split())\n",
        "    score = float(re.sub(r'[^A-Za-z0-9. ]+', '', score))\n",
        "    faculty = ' '.join(faculty.split())\n",
        "    faculty = int(re.sub(r'[^A-Za-z0-9 ]+', '', faculty))\n",
        "    info = [rank, name, score, faculty]\n",
        "    uni_infos.append(info)\n",
        "\n",
        "import pandas as pd\n",
        "df = pd.DataFrame(uni_infos, columns =['rank', 'uni_name', 'count', 'faculty']) \n",
        "\n",
        "\n",
        "div_ids = [e.get('id') for e in soup.find_all(lambda tag: tag.get('id') and '-faculty' in tag.get('id'))]\n",
        "\n",
        "clean_div_ids = [re.sub(r'[^A-Za-z]+', ' ', name).replace('faculty', '').strip() for name in div_ids]\n",
        "import difflib\n",
        "\n",
        "def find_best_match(name):\n",
        "    return difflib.get_close_matches(name,div_ids, cutoff=0.3)[0]\n",
        "df['div_ids'] = df['uni_name'].apply(find_best_match)\n",
        "\n",
        "df.to_csv('uni_infos.csv')\n",
        "\n",
        "data = []\n",
        "for row in table.find_all('tr')[1:]:\n",
        "    cols = row.find_all('td')\n",
        "    print(len(cols))\n"
      ],
      "metadata": {
        "id": "r9AIU9jANoIC"
      },
      "id": "r9AIU9jANoIC",
      "execution_count": null,
      "outputs": []
    },
    {
      "cell_type": "code",
      "execution_count": null,
      "id": "0eea736a",
      "metadata": {
        "id": "0eea736a"
      },
      "outputs": [],
      "source": [
        "from selenium import webdriver\n",
        "from selenium.webdriver.chrome.options import Options\n",
        "from bs4 import BeautifulSoup\n",
        "import requests\n",
        "from IPython.core.interactiveshell import InteractiveShell\n",
        "InteractiveShell.ast_node_interactivity = \"all\"\n",
        "import pandas as pd\n",
        "import numpy as np"
      ]
    },
    {
      "cell_type": "code",
      "execution_count": null,
      "id": "54983c64",
      "metadata": {
        "id": "54983c64"
      },
      "outputs": [],
      "source": [
        "\n",
        "HTMLFile = open(\"main.html\", \"r\", encoding=\"utf8\")\n",
        "\n",
        "index = HTMLFile.read()\n",
        "\n",
        "S = BeautifulSoup(index, 'html.parser')"
      ]
    },
    {
      "cell_type": "code",
      "execution_count": null,
      "id": "d7c8f0b7",
      "metadata": {
        "colab": {
          "base_uri": "https://localhost:8080/",
          "height": 363
        },
        "id": "d7c8f0b7",
        "outputId": "5adb6a5a-de84-4b9a-da3b-f95bbc055302"
      },
      "outputs": [
        {
          "output_type": "execute_result",
          "data": {
            "text/plain": [
              "     rank                            uni_name  count  faculty  \\\n",
              "71     69     Worcester Polytechnic Institute    1.9       25   \n",
              "116   113              Texas State University    1.3       10   \n",
              "7       8                  Cornell University   10.6       82   \n",
              "148   144                                OHSU    1.1        3   \n",
              "47     48     North Carolina State University    3.3       43   \n",
              "144   144          Cleveland State University    1.1        4   \n",
              "42     43                     Rice University    3.5       30   \n",
              "120   113                University of Kansas    1.3       12   \n",
              "26     26   University of Southern California    5.1       47   \n",
              "127   113  University of Texas at San Antonio    1.3        9   \n",
              "\n",
              "                                               div_ids  \n",
              "71         Worcester%20Polytechnic%20Institute-faculty  \n",
              "116                 Texas%20State%20University-faculty  \n",
              "7                         Cornell%20University-faculty  \n",
              "148                                       OHSU-faculty  \n",
              "47       North%20Carolina%20State%20University-faculty  \n",
              "144             Cleveland%20State%20University-faculty  \n",
              "42                           Rice%20University-faculty  \n",
              "120                   University%20of%20Kansas-faculty  \n",
              "26     University%20of%20Southern%20California-faculty  \n",
              "127  University%20of%20Texas%20at%20San%20Antonio-f...  "
            ],
            "text/html": [
              "\n",
              "  <div id=\"df-e04a4053-9b0f-4600-b18b-13015c372953\">\n",
              "    <div class=\"colab-df-container\">\n",
              "      <div>\n",
              "<style scoped>\n",
              "    .dataframe tbody tr th:only-of-type {\n",
              "        vertical-align: middle;\n",
              "    }\n",
              "\n",
              "    .dataframe tbody tr th {\n",
              "        vertical-align: top;\n",
              "    }\n",
              "\n",
              "    .dataframe thead th {\n",
              "        text-align: right;\n",
              "    }\n",
              "</style>\n",
              "<table border=\"1\" class=\"dataframe\">\n",
              "  <thead>\n",
              "    <tr style=\"text-align: right;\">\n",
              "      <th></th>\n",
              "      <th>rank</th>\n",
              "      <th>uni_name</th>\n",
              "      <th>count</th>\n",
              "      <th>faculty</th>\n",
              "      <th>div_ids</th>\n",
              "    </tr>\n",
              "  </thead>\n",
              "  <tbody>\n",
              "    <tr>\n",
              "      <th>71</th>\n",
              "      <td>69</td>\n",
              "      <td>Worcester Polytechnic Institute</td>\n",
              "      <td>1.9</td>\n",
              "      <td>25</td>\n",
              "      <td>Worcester%20Polytechnic%20Institute-faculty</td>\n",
              "    </tr>\n",
              "    <tr>\n",
              "      <th>116</th>\n",
              "      <td>113</td>\n",
              "      <td>Texas State University</td>\n",
              "      <td>1.3</td>\n",
              "      <td>10</td>\n",
              "      <td>Texas%20State%20University-faculty</td>\n",
              "    </tr>\n",
              "    <tr>\n",
              "      <th>7</th>\n",
              "      <td>8</td>\n",
              "      <td>Cornell University</td>\n",
              "      <td>10.6</td>\n",
              "      <td>82</td>\n",
              "      <td>Cornell%20University-faculty</td>\n",
              "    </tr>\n",
              "    <tr>\n",
              "      <th>148</th>\n",
              "      <td>144</td>\n",
              "      <td>OHSU</td>\n",
              "      <td>1.1</td>\n",
              "      <td>3</td>\n",
              "      <td>OHSU-faculty</td>\n",
              "    </tr>\n",
              "    <tr>\n",
              "      <th>47</th>\n",
              "      <td>48</td>\n",
              "      <td>North Carolina State University</td>\n",
              "      <td>3.3</td>\n",
              "      <td>43</td>\n",
              "      <td>North%20Carolina%20State%20University-faculty</td>\n",
              "    </tr>\n",
              "    <tr>\n",
              "      <th>144</th>\n",
              "      <td>144</td>\n",
              "      <td>Cleveland State University</td>\n",
              "      <td>1.1</td>\n",
              "      <td>4</td>\n",
              "      <td>Cleveland%20State%20University-faculty</td>\n",
              "    </tr>\n",
              "    <tr>\n",
              "      <th>42</th>\n",
              "      <td>43</td>\n",
              "      <td>Rice University</td>\n",
              "      <td>3.5</td>\n",
              "      <td>30</td>\n",
              "      <td>Rice%20University-faculty</td>\n",
              "    </tr>\n",
              "    <tr>\n",
              "      <th>120</th>\n",
              "      <td>113</td>\n",
              "      <td>University of Kansas</td>\n",
              "      <td>1.3</td>\n",
              "      <td>12</td>\n",
              "      <td>University%20of%20Kansas-faculty</td>\n",
              "    </tr>\n",
              "    <tr>\n",
              "      <th>26</th>\n",
              "      <td>26</td>\n",
              "      <td>University of Southern California</td>\n",
              "      <td>5.1</td>\n",
              "      <td>47</td>\n",
              "      <td>University%20of%20Southern%20California-faculty</td>\n",
              "    </tr>\n",
              "    <tr>\n",
              "      <th>127</th>\n",
              "      <td>113</td>\n",
              "      <td>University of Texas at San Antonio</td>\n",
              "      <td>1.3</td>\n",
              "      <td>9</td>\n",
              "      <td>University%20of%20Texas%20at%20San%20Antonio-f...</td>\n",
              "    </tr>\n",
              "  </tbody>\n",
              "</table>\n",
              "</div>\n",
              "      <button class=\"colab-df-convert\" onclick=\"convertToInteractive('df-e04a4053-9b0f-4600-b18b-13015c372953')\"\n",
              "              title=\"Convert this dataframe to an interactive table.\"\n",
              "              style=\"display:none;\">\n",
              "        \n",
              "  <svg xmlns=\"http://www.w3.org/2000/svg\" height=\"24px\"viewBox=\"0 0 24 24\"\n",
              "       width=\"24px\">\n",
              "    <path d=\"M0 0h24v24H0V0z\" fill=\"none\"/>\n",
              "    <path d=\"M18.56 5.44l.94 2.06.94-2.06 2.06-.94-2.06-.94-.94-2.06-.94 2.06-2.06.94zm-11 1L8.5 8.5l.94-2.06 2.06-.94-2.06-.94L8.5 2.5l-.94 2.06-2.06.94zm10 10l.94 2.06.94-2.06 2.06-.94-2.06-.94-.94-2.06-.94 2.06-2.06.94z\"/><path d=\"M17.41 7.96l-1.37-1.37c-.4-.4-.92-.59-1.43-.59-.52 0-1.04.2-1.43.59L10.3 9.45l-7.72 7.72c-.78.78-.78 2.05 0 2.83L4 21.41c.39.39.9.59 1.41.59.51 0 1.02-.2 1.41-.59l7.78-7.78 2.81-2.81c.8-.78.8-2.07 0-2.86zM5.41 20L4 18.59l7.72-7.72 1.47 1.35L5.41 20z\"/>\n",
              "  </svg>\n",
              "      </button>\n",
              "      \n",
              "  <style>\n",
              "    .colab-df-container {\n",
              "      display:flex;\n",
              "      flex-wrap:wrap;\n",
              "      gap: 12px;\n",
              "    }\n",
              "\n",
              "    .colab-df-convert {\n",
              "      background-color: #E8F0FE;\n",
              "      border: none;\n",
              "      border-radius: 50%;\n",
              "      cursor: pointer;\n",
              "      display: none;\n",
              "      fill: #1967D2;\n",
              "      height: 32px;\n",
              "      padding: 0 0 0 0;\n",
              "      width: 32px;\n",
              "    }\n",
              "\n",
              "    .colab-df-convert:hover {\n",
              "      background-color: #E2EBFA;\n",
              "      box-shadow: 0px 1px 2px rgba(60, 64, 67, 0.3), 0px 1px 3px 1px rgba(60, 64, 67, 0.15);\n",
              "      fill: #174EA6;\n",
              "    }\n",
              "\n",
              "    [theme=dark] .colab-df-convert {\n",
              "      background-color: #3B4455;\n",
              "      fill: #D2E3FC;\n",
              "    }\n",
              "\n",
              "    [theme=dark] .colab-df-convert:hover {\n",
              "      background-color: #434B5C;\n",
              "      box-shadow: 0px 1px 3px 1px rgba(0, 0, 0, 0.15);\n",
              "      filter: drop-shadow(0px 1px 2px rgba(0, 0, 0, 0.3));\n",
              "      fill: #FFFFFF;\n",
              "    }\n",
              "  </style>\n",
              "\n",
              "      <script>\n",
              "        const buttonEl =\n",
              "          document.querySelector('#df-e04a4053-9b0f-4600-b18b-13015c372953 button.colab-df-convert');\n",
              "        buttonEl.style.display =\n",
              "          google.colab.kernel.accessAllowed ? 'block' : 'none';\n",
              "\n",
              "        async function convertToInteractive(key) {\n",
              "          const element = document.querySelector('#df-e04a4053-9b0f-4600-b18b-13015c372953');\n",
              "          const dataTable =\n",
              "            await google.colab.kernel.invokeFunction('convertToInteractive',\n",
              "                                                     [key], {});\n",
              "          if (!dataTable) return;\n",
              "\n",
              "          const docLinkHtml = 'Like what you see? Visit the ' +\n",
              "            '<a target=\"_blank\" href=https://colab.research.google.com/notebooks/data_table.ipynb>data table notebook</a>'\n",
              "            + ' to learn more about interactive tables.';\n",
              "          element.innerHTML = '';\n",
              "          dataTable['output_type'] = 'display_data';\n",
              "          await google.colab.output.renderOutput(dataTable, element);\n",
              "          const docLink = document.createElement('div');\n",
              "          docLink.innerHTML = docLinkHtml;\n",
              "          element.appendChild(docLink);\n",
              "        }\n",
              "      </script>\n",
              "    </div>\n",
              "  </div>\n",
              "  "
            ]
          },
          "metadata": {},
          "execution_count": 5
        }
      ],
      "source": [
        "univ_data = pd.read_csv(\"uni_infos.csv\")\n",
        "univ_data.drop(\"Unnamed: 0\", axis=1, inplace=True)\n",
        "univ_data.sample(10)"
      ]
    },
    {
      "cell_type": "code",
      "source": [
        "df = df[df['providing_assitantship']==1]\n",
        "df = df[df['university_name']=='Florida State University']\n",
        "df = df[df['faculty_areaname'] == 'hci']\n",
        "print(df.loc[:, ['faculty_name', 'faculty_home_page', 'faculty_areaname', 'providing_assitantship']])"
      ],
      "metadata": {
        "colab": {
          "base_uri": "https://localhost:8080/"
        },
        "id": "WQZ-C9rtjdII",
        "outputId": "a9bcdb9a-3adb-43bf-bed2-1d60c5d7f0c4"
      },
      "id": "WQZ-C9rtjdII",
      "execution_count": null,
      "outputs": [
        {
          "output_type": "stream",
          "name": "stdout",
          "text": [
            "    faculty_name               faculty_home_page faculty_areaname  \\\n",
            "347     Jie Yang  http://www.cs.fsu.edu/~jieyang              hci   \n",
            "350   Guang Wang            https://guangwang.me              hci   \n",
            "\n",
            "     providing_assitantship  \n",
            "347                       1  \n",
            "350                       1  \n"
          ]
        }
      ]
    },
    {
      "cell_type": "code",
      "execution_count": null,
      "id": "a1ab4f8e",
      "metadata": {
        "colab": {
          "base_uri": "https://localhost:8080/",
          "height": 424
        },
        "id": "a1ab4f8e",
        "outputId": "56399377-afb4-40c4-cb84-7670c90255e2"
      },
      "outputs": [
        {
          "output_type": "execute_result",
          "data": {
            "text/plain": [
              "                faculty_name_and_area  publications  adjusted  \\\n",
              "0                  Graham Neubig  nlp         135.0      35.1   \n",
              "1          Abhinav Gupta 0001  vision         111.0      32.3   \n",
              "2    David P. Woodruff  ml  ,  theory          99.0      33.7   \n",
              "3              Howie Choset  robotics          83.0      19.5   \n",
              "4          Tuomas Sandholm  ai  ,  ml          80.0      29.8   \n",
              "..                                ...           ...       ...   \n",
              "161                    Bruce H. Krogh           1.0       0.2   \n",
              "162                       Jack Mostow           1.0       0.5   \n",
              "163                  Priya Narasimhan           1.0       0.2   \n",
              "164                     Dana S. Scott           1.0       0.2   \n",
              "165                   John C. Stamper           1.0       0.3   \n",
              "\n",
              "                university_name  \n",
              "0    Carnegie Mellon University  \n",
              "1    Carnegie Mellon University  \n",
              "2    Carnegie Mellon University  \n",
              "3    Carnegie Mellon University  \n",
              "4    Carnegie Mellon University  \n",
              "..                          ...  \n",
              "161  Carnegie Mellon University  \n",
              "162  Carnegie Mellon University  \n",
              "163  Carnegie Mellon University  \n",
              "164  Carnegie Mellon University  \n",
              "165  Carnegie Mellon University  \n",
              "\n",
              "[166 rows x 4 columns]"
            ],
            "text/html": [
              "\n",
              "  <div id=\"df-7ae02737-ee67-4daa-9a7b-294476123861\">\n",
              "    <div class=\"colab-df-container\">\n",
              "      <div>\n",
              "<style scoped>\n",
              "    .dataframe tbody tr th:only-of-type {\n",
              "        vertical-align: middle;\n",
              "    }\n",
              "\n",
              "    .dataframe tbody tr th {\n",
              "        vertical-align: top;\n",
              "    }\n",
              "\n",
              "    .dataframe thead th {\n",
              "        text-align: right;\n",
              "    }\n",
              "</style>\n",
              "<table border=\"1\" class=\"dataframe\">\n",
              "  <thead>\n",
              "    <tr style=\"text-align: right;\">\n",
              "      <th></th>\n",
              "      <th>faculty_name_and_area</th>\n",
              "      <th>publications</th>\n",
              "      <th>adjusted</th>\n",
              "      <th>university_name</th>\n",
              "    </tr>\n",
              "  </thead>\n",
              "  <tbody>\n",
              "    <tr>\n",
              "      <th>0</th>\n",
              "      <td>Graham Neubig  nlp</td>\n",
              "      <td>135.0</td>\n",
              "      <td>35.1</td>\n",
              "      <td>Carnegie Mellon University</td>\n",
              "    </tr>\n",
              "    <tr>\n",
              "      <th>1</th>\n",
              "      <td>Abhinav Gupta 0001  vision</td>\n",
              "      <td>111.0</td>\n",
              "      <td>32.3</td>\n",
              "      <td>Carnegie Mellon University</td>\n",
              "    </tr>\n",
              "    <tr>\n",
              "      <th>2</th>\n",
              "      <td>David P. Woodruff  ml  ,  theory</td>\n",
              "      <td>99.0</td>\n",
              "      <td>33.7</td>\n",
              "      <td>Carnegie Mellon University</td>\n",
              "    </tr>\n",
              "    <tr>\n",
              "      <th>3</th>\n",
              "      <td>Howie Choset  robotics</td>\n",
              "      <td>83.0</td>\n",
              "      <td>19.5</td>\n",
              "      <td>Carnegie Mellon University</td>\n",
              "    </tr>\n",
              "    <tr>\n",
              "      <th>4</th>\n",
              "      <td>Tuomas Sandholm  ai  ,  ml</td>\n",
              "      <td>80.0</td>\n",
              "      <td>29.8</td>\n",
              "      <td>Carnegie Mellon University</td>\n",
              "    </tr>\n",
              "    <tr>\n",
              "      <th>...</th>\n",
              "      <td>...</td>\n",
              "      <td>...</td>\n",
              "      <td>...</td>\n",
              "      <td>...</td>\n",
              "    </tr>\n",
              "    <tr>\n",
              "      <th>161</th>\n",
              "      <td>Bruce H. Krogh</td>\n",
              "      <td>1.0</td>\n",
              "      <td>0.2</td>\n",
              "      <td>Carnegie Mellon University</td>\n",
              "    </tr>\n",
              "    <tr>\n",
              "      <th>162</th>\n",
              "      <td>Jack Mostow</td>\n",
              "      <td>1.0</td>\n",
              "      <td>0.5</td>\n",
              "      <td>Carnegie Mellon University</td>\n",
              "    </tr>\n",
              "    <tr>\n",
              "      <th>163</th>\n",
              "      <td>Priya Narasimhan</td>\n",
              "      <td>1.0</td>\n",
              "      <td>0.2</td>\n",
              "      <td>Carnegie Mellon University</td>\n",
              "    </tr>\n",
              "    <tr>\n",
              "      <th>164</th>\n",
              "      <td>Dana S. Scott</td>\n",
              "      <td>1.0</td>\n",
              "      <td>0.2</td>\n",
              "      <td>Carnegie Mellon University</td>\n",
              "    </tr>\n",
              "    <tr>\n",
              "      <th>165</th>\n",
              "      <td>John C. Stamper</td>\n",
              "      <td>1.0</td>\n",
              "      <td>0.3</td>\n",
              "      <td>Carnegie Mellon University</td>\n",
              "    </tr>\n",
              "  </tbody>\n",
              "</table>\n",
              "<p>166 rows × 4 columns</p>\n",
              "</div>\n",
              "      <button class=\"colab-df-convert\" onclick=\"convertToInteractive('df-7ae02737-ee67-4daa-9a7b-294476123861')\"\n",
              "              title=\"Convert this dataframe to an interactive table.\"\n",
              "              style=\"display:none;\">\n",
              "        \n",
              "  <svg xmlns=\"http://www.w3.org/2000/svg\" height=\"24px\"viewBox=\"0 0 24 24\"\n",
              "       width=\"24px\">\n",
              "    <path d=\"M0 0h24v24H0V0z\" fill=\"none\"/>\n",
              "    <path d=\"M18.56 5.44l.94 2.06.94-2.06 2.06-.94-2.06-.94-.94-2.06-.94 2.06-2.06.94zm-11 1L8.5 8.5l.94-2.06 2.06-.94-2.06-.94L8.5 2.5l-.94 2.06-2.06.94zm10 10l.94 2.06.94-2.06 2.06-.94-2.06-.94-.94-2.06-.94 2.06-2.06.94z\"/><path d=\"M17.41 7.96l-1.37-1.37c-.4-.4-.92-.59-1.43-.59-.52 0-1.04.2-1.43.59L10.3 9.45l-7.72 7.72c-.78.78-.78 2.05 0 2.83L4 21.41c.39.39.9.59 1.41.59.51 0 1.02-.2 1.41-.59l7.78-7.78 2.81-2.81c.8-.78.8-2.07 0-2.86zM5.41 20L4 18.59l7.72-7.72 1.47 1.35L5.41 20z\"/>\n",
              "  </svg>\n",
              "      </button>\n",
              "      \n",
              "  <style>\n",
              "    .colab-df-container {\n",
              "      display:flex;\n",
              "      flex-wrap:wrap;\n",
              "      gap: 12px;\n",
              "    }\n",
              "\n",
              "    .colab-df-convert {\n",
              "      background-color: #E8F0FE;\n",
              "      border: none;\n",
              "      border-radius: 50%;\n",
              "      cursor: pointer;\n",
              "      display: none;\n",
              "      fill: #1967D2;\n",
              "      height: 32px;\n",
              "      padding: 0 0 0 0;\n",
              "      width: 32px;\n",
              "    }\n",
              "\n",
              "    .colab-df-convert:hover {\n",
              "      background-color: #E2EBFA;\n",
              "      box-shadow: 0px 1px 2px rgba(60, 64, 67, 0.3), 0px 1px 3px 1px rgba(60, 64, 67, 0.15);\n",
              "      fill: #174EA6;\n",
              "    }\n",
              "\n",
              "    [theme=dark] .colab-df-convert {\n",
              "      background-color: #3B4455;\n",
              "      fill: #D2E3FC;\n",
              "    }\n",
              "\n",
              "    [theme=dark] .colab-df-convert:hover {\n",
              "      background-color: #434B5C;\n",
              "      box-shadow: 0px 1px 3px 1px rgba(0, 0, 0, 0.15);\n",
              "      filter: drop-shadow(0px 1px 2px rgba(0, 0, 0, 0.3));\n",
              "      fill: #FFFFFF;\n",
              "    }\n",
              "  </style>\n",
              "\n",
              "      <script>\n",
              "        const buttonEl =\n",
              "          document.querySelector('#df-7ae02737-ee67-4daa-9a7b-294476123861 button.colab-df-convert');\n",
              "        buttonEl.style.display =\n",
              "          google.colab.kernel.accessAllowed ? 'block' : 'none';\n",
              "\n",
              "        async function convertToInteractive(key) {\n",
              "          const element = document.querySelector('#df-7ae02737-ee67-4daa-9a7b-294476123861');\n",
              "          const dataTable =\n",
              "            await google.colab.kernel.invokeFunction('convertToInteractive',\n",
              "                                                     [key], {});\n",
              "          if (!dataTable) return;\n",
              "\n",
              "          const docLinkHtml = 'Like what you see? Visit the ' +\n",
              "            '<a target=\"_blank\" href=https://colab.research.google.com/notebooks/data_table.ipynb>data table notebook</a>'\n",
              "            + ' to learn more about interactive tables.';\n",
              "          element.innerHTML = '';\n",
              "          dataTable['output_type'] = 'display_data';\n",
              "          await google.colab.output.renderOutput(dataTable, element);\n",
              "          const docLink = document.createElement('div');\n",
              "          docLink.innerHTML = docLinkHtml;\n",
              "          element.appendChild(docLink);\n",
              "        }\n",
              "      </script>\n",
              "    </div>\n",
              "  </div>\n",
              "  "
            ]
          },
          "metadata": {},
          "execution_count": 6
        }
      ],
      "source": [
        "div_id = 'Carnegie%20Mellon%20University-faculty'\n",
        "university = 'Carnegie Mellon University'\n",
        "\n",
        "# DataFrame1 for faculty name, area, publications and university\n",
        "# Getting the division of each university which is containing the faculty table\n",
        "table = S.find('div', {'id': div_id})\n",
        "df1 = pd.read_html(str(table))[0]\n",
        "df1.drop('Unnamed: 0', axis=1, inplace=True)\n",
        "df1 = df1.replace(to_replace='None', value=np.nan).dropna()\n",
        "df1.columns = ['faculty_name_and_area', 'publications', 'adjusted']\n",
        "df1['university_name'] = 'Carnegie Mellon University'\n",
        "df1 = df1.reset_index()\n",
        "df1.drop('index', axis=1, inplace=True)\n",
        "df1\n",
        "\n"
      ]
    },
    {
      "cell_type": "code",
      "execution_count": null,
      "id": "83557016",
      "metadata": {
        "colab": {
          "base_uri": "https://localhost:8080/",
          "height": 441
        },
        "id": "83557016",
        "outputId": "3190dfe0-b662-49ac-d18a-51c46b179236"
      },
      "outputs": [
        {
          "output_type": "stream",
          "name": "stdout",
          "text": [
            "Index(['Faculty', 'dblp'], dtype='object', name=0)\n"
          ]
        },
        {
          "output_type": "execute_result",
          "data": {
            "text/plain": [
              "                                 faculty_homepage  \\\n",
              "0                         http://www.phontron.com   \n",
              "1                 http://www.cs.cmu.edu/~abhinavg   \n",
              "2                 http://www.cs.cmu.edu/~dwoodruf   \n",
              "3                 http://www.cs.cmu.edu/~./choset   \n",
              "4                 http://www.cs.cmu.edu/~sandholm   \n",
              "..                                            ...   \n",
              "161  https://www.ece.cmu.edu/directory/details/89   \n",
              "162                 http://www.cs.cmu.edu/~mostow   \n",
              "163                  http://www.cs.cmu.edu/~priya   \n",
              "164                  http://www.cs.cmu.edu/~scott   \n",
              "165  https://www.hcii.cmu.edu/people/john-stamper   \n",
              "\n",
              "                                               dblp  \n",
              "0          https://dblp.org/pers/hd/n/Neubig:Graham  \n",
              "1     https://dblp.org/pers/hd/g/Gupta_0001:Abhinav  \n",
              "2    https://dblp.org/pers/hd/w/Woodruff:David_P%3D  \n",
              "3           https://dblp.org/pers/hd/c/Choset:Howie  \n",
              "4        https://dblp.org/pers/hd/s/Sandholm:Tuomas  \n",
              "..                                              ...  \n",
              "161     https://dblp.org/pers/hd/k/Krogh:Bruce_H%3D  \n",
              "162          https://dblp.org/pers/hd/m/Mostow:Jack  \n",
              "163     https://dblp.org/pers/hd/n/Narasimhan:Priya  \n",
              "164      https://dblp.org/pers/hd/s/Scott:Dana_S%3D  \n",
              "165    https://dblp.org/pers/hd/s/Stamper:John_C%3D  \n",
              "\n",
              "[166 rows x 2 columns]"
            ],
            "text/html": [
              "\n",
              "  <div id=\"df-8e4e83d9-c2ca-46e7-9906-5d7ad83f7b07\">\n",
              "    <div class=\"colab-df-container\">\n",
              "      <div>\n",
              "<style scoped>\n",
              "    .dataframe tbody tr th:only-of-type {\n",
              "        vertical-align: middle;\n",
              "    }\n",
              "\n",
              "    .dataframe tbody tr th {\n",
              "        vertical-align: top;\n",
              "    }\n",
              "\n",
              "    .dataframe thead th {\n",
              "        text-align: right;\n",
              "    }\n",
              "</style>\n",
              "<table border=\"1\" class=\"dataframe\">\n",
              "  <thead>\n",
              "    <tr style=\"text-align: right;\">\n",
              "      <th></th>\n",
              "      <th>faculty_homepage</th>\n",
              "      <th>dblp</th>\n",
              "    </tr>\n",
              "  </thead>\n",
              "  <tbody>\n",
              "    <tr>\n",
              "      <th>0</th>\n",
              "      <td>http://www.phontron.com</td>\n",
              "      <td>https://dblp.org/pers/hd/n/Neubig:Graham</td>\n",
              "    </tr>\n",
              "    <tr>\n",
              "      <th>1</th>\n",
              "      <td>http://www.cs.cmu.edu/~abhinavg</td>\n",
              "      <td>https://dblp.org/pers/hd/g/Gupta_0001:Abhinav</td>\n",
              "    </tr>\n",
              "    <tr>\n",
              "      <th>2</th>\n",
              "      <td>http://www.cs.cmu.edu/~dwoodruf</td>\n",
              "      <td>https://dblp.org/pers/hd/w/Woodruff:David_P%3D</td>\n",
              "    </tr>\n",
              "    <tr>\n",
              "      <th>3</th>\n",
              "      <td>http://www.cs.cmu.edu/~./choset</td>\n",
              "      <td>https://dblp.org/pers/hd/c/Choset:Howie</td>\n",
              "    </tr>\n",
              "    <tr>\n",
              "      <th>4</th>\n",
              "      <td>http://www.cs.cmu.edu/~sandholm</td>\n",
              "      <td>https://dblp.org/pers/hd/s/Sandholm:Tuomas</td>\n",
              "    </tr>\n",
              "    <tr>\n",
              "      <th>...</th>\n",
              "      <td>...</td>\n",
              "      <td>...</td>\n",
              "    </tr>\n",
              "    <tr>\n",
              "      <th>161</th>\n",
              "      <td>https://www.ece.cmu.edu/directory/details/89</td>\n",
              "      <td>https://dblp.org/pers/hd/k/Krogh:Bruce_H%3D</td>\n",
              "    </tr>\n",
              "    <tr>\n",
              "      <th>162</th>\n",
              "      <td>http://www.cs.cmu.edu/~mostow</td>\n",
              "      <td>https://dblp.org/pers/hd/m/Mostow:Jack</td>\n",
              "    </tr>\n",
              "    <tr>\n",
              "      <th>163</th>\n",
              "      <td>http://www.cs.cmu.edu/~priya</td>\n",
              "      <td>https://dblp.org/pers/hd/n/Narasimhan:Priya</td>\n",
              "    </tr>\n",
              "    <tr>\n",
              "      <th>164</th>\n",
              "      <td>http://www.cs.cmu.edu/~scott</td>\n",
              "      <td>https://dblp.org/pers/hd/s/Scott:Dana_S%3D</td>\n",
              "    </tr>\n",
              "    <tr>\n",
              "      <th>165</th>\n",
              "      <td>https://www.hcii.cmu.edu/people/john-stamper</td>\n",
              "      <td>https://dblp.org/pers/hd/s/Stamper:John_C%3D</td>\n",
              "    </tr>\n",
              "  </tbody>\n",
              "</table>\n",
              "<p>166 rows × 2 columns</p>\n",
              "</div>\n",
              "      <button class=\"colab-df-convert\" onclick=\"convertToInteractive('df-8e4e83d9-c2ca-46e7-9906-5d7ad83f7b07')\"\n",
              "              title=\"Convert this dataframe to an interactive table.\"\n",
              "              style=\"display:none;\">\n",
              "        \n",
              "  <svg xmlns=\"http://www.w3.org/2000/svg\" height=\"24px\"viewBox=\"0 0 24 24\"\n",
              "       width=\"24px\">\n",
              "    <path d=\"M0 0h24v24H0V0z\" fill=\"none\"/>\n",
              "    <path d=\"M18.56 5.44l.94 2.06.94-2.06 2.06-.94-2.06-.94-.94-2.06-.94 2.06-2.06.94zm-11 1L8.5 8.5l.94-2.06 2.06-.94-2.06-.94L8.5 2.5l-.94 2.06-2.06.94zm10 10l.94 2.06.94-2.06 2.06-.94-2.06-.94-.94-2.06-.94 2.06-2.06.94z\"/><path d=\"M17.41 7.96l-1.37-1.37c-.4-.4-.92-.59-1.43-.59-.52 0-1.04.2-1.43.59L10.3 9.45l-7.72 7.72c-.78.78-.78 2.05 0 2.83L4 21.41c.39.39.9.59 1.41.59.51 0 1.02-.2 1.41-.59l7.78-7.78 2.81-2.81c.8-.78.8-2.07 0-2.86zM5.41 20L4 18.59l7.72-7.72 1.47 1.35L5.41 20z\"/>\n",
              "  </svg>\n",
              "      </button>\n",
              "      \n",
              "  <style>\n",
              "    .colab-df-container {\n",
              "      display:flex;\n",
              "      flex-wrap:wrap;\n",
              "      gap: 12px;\n",
              "    }\n",
              "\n",
              "    .colab-df-convert {\n",
              "      background-color: #E8F0FE;\n",
              "      border: none;\n",
              "      border-radius: 50%;\n",
              "      cursor: pointer;\n",
              "      display: none;\n",
              "      fill: #1967D2;\n",
              "      height: 32px;\n",
              "      padding: 0 0 0 0;\n",
              "      width: 32px;\n",
              "    }\n",
              "\n",
              "    .colab-df-convert:hover {\n",
              "      background-color: #E2EBFA;\n",
              "      box-shadow: 0px 1px 2px rgba(60, 64, 67, 0.3), 0px 1px 3px 1px rgba(60, 64, 67, 0.15);\n",
              "      fill: #174EA6;\n",
              "    }\n",
              "\n",
              "    [theme=dark] .colab-df-convert {\n",
              "      background-color: #3B4455;\n",
              "      fill: #D2E3FC;\n",
              "    }\n",
              "\n",
              "    [theme=dark] .colab-df-convert:hover {\n",
              "      background-color: #434B5C;\n",
              "      box-shadow: 0px 1px 3px 1px rgba(0, 0, 0, 0.15);\n",
              "      filter: drop-shadow(0px 1px 2px rgba(0, 0, 0, 0.3));\n",
              "      fill: #FFFFFF;\n",
              "    }\n",
              "  </style>\n",
              "\n",
              "      <script>\n",
              "        const buttonEl =\n",
              "          document.querySelector('#df-8e4e83d9-c2ca-46e7-9906-5d7ad83f7b07 button.colab-df-convert');\n",
              "        buttonEl.style.display =\n",
              "          google.colab.kernel.accessAllowed ? 'block' : 'none';\n",
              "\n",
              "        async function convertToInteractive(key) {\n",
              "          const element = document.querySelector('#df-8e4e83d9-c2ca-46e7-9906-5d7ad83f7b07');\n",
              "          const dataTable =\n",
              "            await google.colab.kernel.invokeFunction('convertToInteractive',\n",
              "                                                     [key], {});\n",
              "          if (!dataTable) return;\n",
              "\n",
              "          const docLinkHtml = 'Like what you see? Visit the ' +\n",
              "            '<a target=\"_blank\" href=https://colab.research.google.com/notebooks/data_table.ipynb>data table notebook</a>'\n",
              "            + ' to learn more about interactive tables.';\n",
              "          element.innerHTML = '';\n",
              "          dataTable['output_type'] = 'display_data';\n",
              "          await google.colab.output.renderOutput(dataTable, element);\n",
              "          const docLink = document.createElement('div');\n",
              "          docLink.innerHTML = docLinkHtml;\n",
              "          element.appendChild(docLink);\n",
              "        }\n",
              "      </script>\n",
              "    </div>\n",
              "  </div>\n",
              "  "
            ]
          },
          "metadata": {},
          "execution_count": 7
        }
      ],
      "source": [
        "# DataFrame2 for faculty_homepage, dblp link\n",
        "headers = []\n",
        "data = []\n",
        "for row in table.find_all('tr'):\n",
        "    row_data = []\n",
        "    for cell in row.find_all(['td', 'th']):\n",
        "        link = cell.find('a')\n",
        "        if link is not None:\n",
        "            row_data.append(link.get('href'))\n",
        "        else:\n",
        "            row_data.append(cell.text.strip())\n",
        "        if cell.name == 'a':\n",
        "            if link is not None:\n",
        "                headers.append('link_row'+ row_data[-1])\n",
        "    if row_data:\n",
        "        data.append(row_data)\n",
        "\n",
        "df2 = pd.DataFrame(data)\n",
        "df2.columns = df2.iloc[0]\n",
        "df2 = df2[1:]\n",
        "df2 = df2.replace(to_replace='None', value=np.nan).dropna()\n",
        "df2 = df2.iloc[: , :-1]\n",
        "df2 = df2.iloc[: , 1:]\n",
        "df2.columns.values[1] = 'dblp'\n",
        "df2 = df2.reset_index()\n",
        "df2.drop('index', axis=1, inplace=True)\n",
        "print(df2.columns)\n",
        "df2.columns = ['faculty_homepage', 'dblp']\n",
        "df2"
      ]
    },
    {
      "cell_type": "code",
      "execution_count": null,
      "id": "805733d7",
      "metadata": {
        "colab": {
          "base_uri": "https://localhost:8080/",
          "height": 713
        },
        "id": "805733d7",
        "outputId": "0e8701c8-889b-46fb-d882-303005d10e33"
      },
      "outputs": [
        {
          "output_type": "stream",
          "name": "stdout",
          "text": [
            "Index(['faculty_name_and_area', 'publications', 'adjusted', 'university_name',\n",
            "       'faculty_homepage', 'dblp'],\n",
            "      dtype='object')\n"
          ]
        },
        {
          "output_type": "execute_result",
          "data": {
            "text/plain": [
              "                faculty_name_and_area  publications  adjusted  \\\n",
              "0                  Graham Neubig  nlp         135.0      35.1   \n",
              "1          Abhinav Gupta 0001  vision         111.0      32.3   \n",
              "2    David P. Woodruff  ml  ,  theory          99.0      33.7   \n",
              "3              Howie Choset  robotics          83.0      19.5   \n",
              "4          Tuomas Sandholm  ai  ,  ml          80.0      29.8   \n",
              "..                                ...           ...       ...   \n",
              "161                    Bruce H. Krogh           1.0       0.2   \n",
              "162                       Jack Mostow           1.0       0.5   \n",
              "163                  Priya Narasimhan           1.0       0.2   \n",
              "164                     Dana S. Scott           1.0       0.2   \n",
              "165                   John C. Stamper           1.0       0.3   \n",
              "\n",
              "                university_name                             faculty_home_page  \\\n",
              "0    Carnegie Mellon University                       http://www.phontron.com   \n",
              "1    Carnegie Mellon University               http://www.cs.cmu.edu/~abhinavg   \n",
              "2    Carnegie Mellon University               http://www.cs.cmu.edu/~dwoodruf   \n",
              "3    Carnegie Mellon University               http://www.cs.cmu.edu/~./choset   \n",
              "4    Carnegie Mellon University               http://www.cs.cmu.edu/~sandholm   \n",
              "..                          ...                                           ...   \n",
              "161  Carnegie Mellon University  https://www.ece.cmu.edu/directory/details/89   \n",
              "162  Carnegie Mellon University                 http://www.cs.cmu.edu/~mostow   \n",
              "163  Carnegie Mellon University                  http://www.cs.cmu.edu/~priya   \n",
              "164  Carnegie Mellon University                  http://www.cs.cmu.edu/~scott   \n",
              "165  Carnegie Mellon University  https://www.hcii.cmu.edu/people/john-stamper   \n",
              "\n",
              "                                               dblp  \n",
              "0          https://dblp.org/pers/hd/n/Neubig:Graham  \n",
              "1     https://dblp.org/pers/hd/g/Gupta_0001:Abhinav  \n",
              "2    https://dblp.org/pers/hd/w/Woodruff:David_P%3D  \n",
              "3           https://dblp.org/pers/hd/c/Choset:Howie  \n",
              "4        https://dblp.org/pers/hd/s/Sandholm:Tuomas  \n",
              "..                                              ...  \n",
              "161     https://dblp.org/pers/hd/k/Krogh:Bruce_H%3D  \n",
              "162          https://dblp.org/pers/hd/m/Mostow:Jack  \n",
              "163     https://dblp.org/pers/hd/n/Narasimhan:Priya  \n",
              "164      https://dblp.org/pers/hd/s/Scott:Dana_S%3D  \n",
              "165    https://dblp.org/pers/hd/s/Stamper:John_C%3D  \n",
              "\n",
              "[166 rows x 6 columns]"
            ],
            "text/html": [
              "\n",
              "  <div id=\"df-6712b5c4-a31d-481c-aef2-d0dfb6c3ace7\">\n",
              "    <div class=\"colab-df-container\">\n",
              "      <div>\n",
              "<style scoped>\n",
              "    .dataframe tbody tr th:only-of-type {\n",
              "        vertical-align: middle;\n",
              "    }\n",
              "\n",
              "    .dataframe tbody tr th {\n",
              "        vertical-align: top;\n",
              "    }\n",
              "\n",
              "    .dataframe thead th {\n",
              "        text-align: right;\n",
              "    }\n",
              "</style>\n",
              "<table border=\"1\" class=\"dataframe\">\n",
              "  <thead>\n",
              "    <tr style=\"text-align: right;\">\n",
              "      <th></th>\n",
              "      <th>faculty_name_and_area</th>\n",
              "      <th>publications</th>\n",
              "      <th>adjusted</th>\n",
              "      <th>university_name</th>\n",
              "      <th>faculty_home_page</th>\n",
              "      <th>dblp</th>\n",
              "    </tr>\n",
              "  </thead>\n",
              "  <tbody>\n",
              "    <tr>\n",
              "      <th>0</th>\n",
              "      <td>Graham Neubig  nlp</td>\n",
              "      <td>135.0</td>\n",
              "      <td>35.1</td>\n",
              "      <td>Carnegie Mellon University</td>\n",
              "      <td>http://www.phontron.com</td>\n",
              "      <td>https://dblp.org/pers/hd/n/Neubig:Graham</td>\n",
              "    </tr>\n",
              "    <tr>\n",
              "      <th>1</th>\n",
              "      <td>Abhinav Gupta 0001  vision</td>\n",
              "      <td>111.0</td>\n",
              "      <td>32.3</td>\n",
              "      <td>Carnegie Mellon University</td>\n",
              "      <td>http://www.cs.cmu.edu/~abhinavg</td>\n",
              "      <td>https://dblp.org/pers/hd/g/Gupta_0001:Abhinav</td>\n",
              "    </tr>\n",
              "    <tr>\n",
              "      <th>2</th>\n",
              "      <td>David P. Woodruff  ml  ,  theory</td>\n",
              "      <td>99.0</td>\n",
              "      <td>33.7</td>\n",
              "      <td>Carnegie Mellon University</td>\n",
              "      <td>http://www.cs.cmu.edu/~dwoodruf</td>\n",
              "      <td>https://dblp.org/pers/hd/w/Woodruff:David_P%3D</td>\n",
              "    </tr>\n",
              "    <tr>\n",
              "      <th>3</th>\n",
              "      <td>Howie Choset  robotics</td>\n",
              "      <td>83.0</td>\n",
              "      <td>19.5</td>\n",
              "      <td>Carnegie Mellon University</td>\n",
              "      <td>http://www.cs.cmu.edu/~./choset</td>\n",
              "      <td>https://dblp.org/pers/hd/c/Choset:Howie</td>\n",
              "    </tr>\n",
              "    <tr>\n",
              "      <th>4</th>\n",
              "      <td>Tuomas Sandholm  ai  ,  ml</td>\n",
              "      <td>80.0</td>\n",
              "      <td>29.8</td>\n",
              "      <td>Carnegie Mellon University</td>\n",
              "      <td>http://www.cs.cmu.edu/~sandholm</td>\n",
              "      <td>https://dblp.org/pers/hd/s/Sandholm:Tuomas</td>\n",
              "    </tr>\n",
              "    <tr>\n",
              "      <th>...</th>\n",
              "      <td>...</td>\n",
              "      <td>...</td>\n",
              "      <td>...</td>\n",
              "      <td>...</td>\n",
              "      <td>...</td>\n",
              "      <td>...</td>\n",
              "    </tr>\n",
              "    <tr>\n",
              "      <th>161</th>\n",
              "      <td>Bruce H. Krogh</td>\n",
              "      <td>1.0</td>\n",
              "      <td>0.2</td>\n",
              "      <td>Carnegie Mellon University</td>\n",
              "      <td>https://www.ece.cmu.edu/directory/details/89</td>\n",
              "      <td>https://dblp.org/pers/hd/k/Krogh:Bruce_H%3D</td>\n",
              "    </tr>\n",
              "    <tr>\n",
              "      <th>162</th>\n",
              "      <td>Jack Mostow</td>\n",
              "      <td>1.0</td>\n",
              "      <td>0.5</td>\n",
              "      <td>Carnegie Mellon University</td>\n",
              "      <td>http://www.cs.cmu.edu/~mostow</td>\n",
              "      <td>https://dblp.org/pers/hd/m/Mostow:Jack</td>\n",
              "    </tr>\n",
              "    <tr>\n",
              "      <th>163</th>\n",
              "      <td>Priya Narasimhan</td>\n",
              "      <td>1.0</td>\n",
              "      <td>0.2</td>\n",
              "      <td>Carnegie Mellon University</td>\n",
              "      <td>http://www.cs.cmu.edu/~priya</td>\n",
              "      <td>https://dblp.org/pers/hd/n/Narasimhan:Priya</td>\n",
              "    </tr>\n",
              "    <tr>\n",
              "      <th>164</th>\n",
              "      <td>Dana S. Scott</td>\n",
              "      <td>1.0</td>\n",
              "      <td>0.2</td>\n",
              "      <td>Carnegie Mellon University</td>\n",
              "      <td>http://www.cs.cmu.edu/~scott</td>\n",
              "      <td>https://dblp.org/pers/hd/s/Scott:Dana_S%3D</td>\n",
              "    </tr>\n",
              "    <tr>\n",
              "      <th>165</th>\n",
              "      <td>John C. Stamper</td>\n",
              "      <td>1.0</td>\n",
              "      <td>0.3</td>\n",
              "      <td>Carnegie Mellon University</td>\n",
              "      <td>https://www.hcii.cmu.edu/people/john-stamper</td>\n",
              "      <td>https://dblp.org/pers/hd/s/Stamper:John_C%3D</td>\n",
              "    </tr>\n",
              "  </tbody>\n",
              "</table>\n",
              "<p>166 rows × 6 columns</p>\n",
              "</div>\n",
              "      <button class=\"colab-df-convert\" onclick=\"convertToInteractive('df-6712b5c4-a31d-481c-aef2-d0dfb6c3ace7')\"\n",
              "              title=\"Convert this dataframe to an interactive table.\"\n",
              "              style=\"display:none;\">\n",
              "        \n",
              "  <svg xmlns=\"http://www.w3.org/2000/svg\" height=\"24px\"viewBox=\"0 0 24 24\"\n",
              "       width=\"24px\">\n",
              "    <path d=\"M0 0h24v24H0V0z\" fill=\"none\"/>\n",
              "    <path d=\"M18.56 5.44l.94 2.06.94-2.06 2.06-.94-2.06-.94-.94-2.06-.94 2.06-2.06.94zm-11 1L8.5 8.5l.94-2.06 2.06-.94-2.06-.94L8.5 2.5l-.94 2.06-2.06.94zm10 10l.94 2.06.94-2.06 2.06-.94-2.06-.94-.94-2.06-.94 2.06-2.06.94z\"/><path d=\"M17.41 7.96l-1.37-1.37c-.4-.4-.92-.59-1.43-.59-.52 0-1.04.2-1.43.59L10.3 9.45l-7.72 7.72c-.78.78-.78 2.05 0 2.83L4 21.41c.39.39.9.59 1.41.59.51 0 1.02-.2 1.41-.59l7.78-7.78 2.81-2.81c.8-.78.8-2.07 0-2.86zM5.41 20L4 18.59l7.72-7.72 1.47 1.35L5.41 20z\"/>\n",
              "  </svg>\n",
              "      </button>\n",
              "      \n",
              "  <style>\n",
              "    .colab-df-container {\n",
              "      display:flex;\n",
              "      flex-wrap:wrap;\n",
              "      gap: 12px;\n",
              "    }\n",
              "\n",
              "    .colab-df-convert {\n",
              "      background-color: #E8F0FE;\n",
              "      border: none;\n",
              "      border-radius: 50%;\n",
              "      cursor: pointer;\n",
              "      display: none;\n",
              "      fill: #1967D2;\n",
              "      height: 32px;\n",
              "      padding: 0 0 0 0;\n",
              "      width: 32px;\n",
              "    }\n",
              "\n",
              "    .colab-df-convert:hover {\n",
              "      background-color: #E2EBFA;\n",
              "      box-shadow: 0px 1px 2px rgba(60, 64, 67, 0.3), 0px 1px 3px 1px rgba(60, 64, 67, 0.15);\n",
              "      fill: #174EA6;\n",
              "    }\n",
              "\n",
              "    [theme=dark] .colab-df-convert {\n",
              "      background-color: #3B4455;\n",
              "      fill: #D2E3FC;\n",
              "    }\n",
              "\n",
              "    [theme=dark] .colab-df-convert:hover {\n",
              "      background-color: #434B5C;\n",
              "      box-shadow: 0px 1px 3px 1px rgba(0, 0, 0, 0.15);\n",
              "      filter: drop-shadow(0px 1px 2px rgba(0, 0, 0, 0.3));\n",
              "      fill: #FFFFFF;\n",
              "    }\n",
              "  </style>\n",
              "\n",
              "      <script>\n",
              "        const buttonEl =\n",
              "          document.querySelector('#df-6712b5c4-a31d-481c-aef2-d0dfb6c3ace7 button.colab-df-convert');\n",
              "        buttonEl.style.display =\n",
              "          google.colab.kernel.accessAllowed ? 'block' : 'none';\n",
              "\n",
              "        async function convertToInteractive(key) {\n",
              "          const element = document.querySelector('#df-6712b5c4-a31d-481c-aef2-d0dfb6c3ace7');\n",
              "          const dataTable =\n",
              "            await google.colab.kernel.invokeFunction('convertToInteractive',\n",
              "                                                     [key], {});\n",
              "          if (!dataTable) return;\n",
              "\n",
              "          const docLinkHtml = 'Like what you see? Visit the ' +\n",
              "            '<a target=\"_blank\" href=https://colab.research.google.com/notebooks/data_table.ipynb>data table notebook</a>'\n",
              "            + ' to learn more about interactive tables.';\n",
              "          element.innerHTML = '';\n",
              "          dataTable['output_type'] = 'display_data';\n",
              "          await google.colab.output.renderOutput(dataTable, element);\n",
              "          const docLink = document.createElement('div');\n",
              "          docLink.innerHTML = docLinkHtml;\n",
              "          element.appendChild(docLink);\n",
              "        }\n",
              "      </script>\n",
              "    </div>\n",
              "  </div>\n",
              "  "
            ]
          },
          "metadata": {},
          "execution_count": 8
        }
      ],
      "source": [
        "df = pd.concat([df1, df2], axis=1, join='inner')\n",
        "print(df.columns)\n",
        "df.columns = [\"faculty_name_and_area\", \"publications\", \"adjusted\", \"university_name\", \"faculty_home_page\", \"dblp\"]\n",
        "df"
      ]
    },
    {
      "cell_type": "code",
      "execution_count": null,
      "id": "44848669",
      "metadata": {
        "colab": {
          "base_uri": "https://localhost:8080/",
          "height": 661
        },
        "id": "44848669",
        "outputId": "f27d1c34-7dac-48c7-dbe5-baf6b0a345e3"
      },
      "outputs": [
        {
          "output_type": "execute_result",
          "data": {
            "text/plain": [
              "         faculty_name  publications  adjusted             university_name  \\\n",
              "0       Graham Neubig         135.0      35.1  Carnegie Mellon University   \n",
              "1       Abhinav Gupta         111.0      32.3  Carnegie Mellon University   \n",
              "2    David P Woodruff          99.0      33.7  Carnegie Mellon University   \n",
              "3        Howie Choset          83.0      19.5  Carnegie Mellon University   \n",
              "4     Tuomas Sandholm          80.0      29.8  Carnegie Mellon University   \n",
              "..                ...           ...       ...                         ...   \n",
              "161    Bruce H. Krogh           1.0       0.2  Carnegie Mellon University   \n",
              "162       Jack Mostow           1.0       0.5  Carnegie Mellon University   \n",
              "163  Priya Narasimhan           1.0       0.2  Carnegie Mellon University   \n",
              "164     Dana S. Scott           1.0       0.2  Carnegie Mellon University   \n",
              "165   John C. Stamper           1.0       0.3  Carnegie Mellon University   \n",
              "\n",
              "                                faculty_home_page  \\\n",
              "0                         http://www.phontron.com   \n",
              "1                 http://www.cs.cmu.edu/~abhinavg   \n",
              "2                 http://www.cs.cmu.edu/~dwoodruf   \n",
              "3                 http://www.cs.cmu.edu/~./choset   \n",
              "4                 http://www.cs.cmu.edu/~sandholm   \n",
              "..                                            ...   \n",
              "161  https://www.ece.cmu.edu/directory/details/89   \n",
              "162                 http://www.cs.cmu.edu/~mostow   \n",
              "163                  http://www.cs.cmu.edu/~priya   \n",
              "164                  http://www.cs.cmu.edu/~scott   \n",
              "165  https://www.hcii.cmu.edu/people/john-stamper   \n",
              "\n",
              "                                               dblp faculty_areaname  \n",
              "0          https://dblp.org/pers/hd/n/Neubig:Graham              nlp  \n",
              "1     https://dblp.org/pers/hd/g/Gupta_0001:Abhinav           vision  \n",
              "2    https://dblp.org/pers/hd/w/Woodruff:David_P%3D        ml,theory  \n",
              "3           https://dblp.org/pers/hd/c/Choset:Howie         robotics  \n",
              "4        https://dblp.org/pers/hd/s/Sandholm:Tuomas            ai,ml  \n",
              "..                                              ...              ...  \n",
              "161     https://dblp.org/pers/hd/k/Krogh:Bruce_H%3D          unknown  \n",
              "162          https://dblp.org/pers/hd/m/Mostow:Jack          unknown  \n",
              "163     https://dblp.org/pers/hd/n/Narasimhan:Priya          unknown  \n",
              "164      https://dblp.org/pers/hd/s/Scott:Dana_S%3D          unknown  \n",
              "165    https://dblp.org/pers/hd/s/Stamper:John_C%3D          unknown  \n",
              "\n",
              "[166 rows x 7 columns]"
            ],
            "text/html": [
              "\n",
              "  <div id=\"df-fec64a03-c964-4c97-8470-ea9693a9f43b\">\n",
              "    <div class=\"colab-df-container\">\n",
              "      <div>\n",
              "<style scoped>\n",
              "    .dataframe tbody tr th:only-of-type {\n",
              "        vertical-align: middle;\n",
              "    }\n",
              "\n",
              "    .dataframe tbody tr th {\n",
              "        vertical-align: top;\n",
              "    }\n",
              "\n",
              "    .dataframe thead th {\n",
              "        text-align: right;\n",
              "    }\n",
              "</style>\n",
              "<table border=\"1\" class=\"dataframe\">\n",
              "  <thead>\n",
              "    <tr style=\"text-align: right;\">\n",
              "      <th></th>\n",
              "      <th>faculty_name</th>\n",
              "      <th>publications</th>\n",
              "      <th>adjusted</th>\n",
              "      <th>university_name</th>\n",
              "      <th>faculty_home_page</th>\n",
              "      <th>dblp</th>\n",
              "      <th>faculty_areaname</th>\n",
              "    </tr>\n",
              "  </thead>\n",
              "  <tbody>\n",
              "    <tr>\n",
              "      <th>0</th>\n",
              "      <td>Graham Neubig</td>\n",
              "      <td>135.0</td>\n",
              "      <td>35.1</td>\n",
              "      <td>Carnegie Mellon University</td>\n",
              "      <td>http://www.phontron.com</td>\n",
              "      <td>https://dblp.org/pers/hd/n/Neubig:Graham</td>\n",
              "      <td>nlp</td>\n",
              "    </tr>\n",
              "    <tr>\n",
              "      <th>1</th>\n",
              "      <td>Abhinav Gupta</td>\n",
              "      <td>111.0</td>\n",
              "      <td>32.3</td>\n",
              "      <td>Carnegie Mellon University</td>\n",
              "      <td>http://www.cs.cmu.edu/~abhinavg</td>\n",
              "      <td>https://dblp.org/pers/hd/g/Gupta_0001:Abhinav</td>\n",
              "      <td>vision</td>\n",
              "    </tr>\n",
              "    <tr>\n",
              "      <th>2</th>\n",
              "      <td>David P Woodruff</td>\n",
              "      <td>99.0</td>\n",
              "      <td>33.7</td>\n",
              "      <td>Carnegie Mellon University</td>\n",
              "      <td>http://www.cs.cmu.edu/~dwoodruf</td>\n",
              "      <td>https://dblp.org/pers/hd/w/Woodruff:David_P%3D</td>\n",
              "      <td>ml,theory</td>\n",
              "    </tr>\n",
              "    <tr>\n",
              "      <th>3</th>\n",
              "      <td>Howie Choset</td>\n",
              "      <td>83.0</td>\n",
              "      <td>19.5</td>\n",
              "      <td>Carnegie Mellon University</td>\n",
              "      <td>http://www.cs.cmu.edu/~./choset</td>\n",
              "      <td>https://dblp.org/pers/hd/c/Choset:Howie</td>\n",
              "      <td>robotics</td>\n",
              "    </tr>\n",
              "    <tr>\n",
              "      <th>4</th>\n",
              "      <td>Tuomas Sandholm</td>\n",
              "      <td>80.0</td>\n",
              "      <td>29.8</td>\n",
              "      <td>Carnegie Mellon University</td>\n",
              "      <td>http://www.cs.cmu.edu/~sandholm</td>\n",
              "      <td>https://dblp.org/pers/hd/s/Sandholm:Tuomas</td>\n",
              "      <td>ai,ml</td>\n",
              "    </tr>\n",
              "    <tr>\n",
              "      <th>...</th>\n",
              "      <td>...</td>\n",
              "      <td>...</td>\n",
              "      <td>...</td>\n",
              "      <td>...</td>\n",
              "      <td>...</td>\n",
              "      <td>...</td>\n",
              "      <td>...</td>\n",
              "    </tr>\n",
              "    <tr>\n",
              "      <th>161</th>\n",
              "      <td>Bruce H. Krogh</td>\n",
              "      <td>1.0</td>\n",
              "      <td>0.2</td>\n",
              "      <td>Carnegie Mellon University</td>\n",
              "      <td>https://www.ece.cmu.edu/directory/details/89</td>\n",
              "      <td>https://dblp.org/pers/hd/k/Krogh:Bruce_H%3D</td>\n",
              "      <td>unknown</td>\n",
              "    </tr>\n",
              "    <tr>\n",
              "      <th>162</th>\n",
              "      <td>Jack Mostow</td>\n",
              "      <td>1.0</td>\n",
              "      <td>0.5</td>\n",
              "      <td>Carnegie Mellon University</td>\n",
              "      <td>http://www.cs.cmu.edu/~mostow</td>\n",
              "      <td>https://dblp.org/pers/hd/m/Mostow:Jack</td>\n",
              "      <td>unknown</td>\n",
              "    </tr>\n",
              "    <tr>\n",
              "      <th>163</th>\n",
              "      <td>Priya Narasimhan</td>\n",
              "      <td>1.0</td>\n",
              "      <td>0.2</td>\n",
              "      <td>Carnegie Mellon University</td>\n",
              "      <td>http://www.cs.cmu.edu/~priya</td>\n",
              "      <td>https://dblp.org/pers/hd/n/Narasimhan:Priya</td>\n",
              "      <td>unknown</td>\n",
              "    </tr>\n",
              "    <tr>\n",
              "      <th>164</th>\n",
              "      <td>Dana S. Scott</td>\n",
              "      <td>1.0</td>\n",
              "      <td>0.2</td>\n",
              "      <td>Carnegie Mellon University</td>\n",
              "      <td>http://www.cs.cmu.edu/~scott</td>\n",
              "      <td>https://dblp.org/pers/hd/s/Scott:Dana_S%3D</td>\n",
              "      <td>unknown</td>\n",
              "    </tr>\n",
              "    <tr>\n",
              "      <th>165</th>\n",
              "      <td>John C. Stamper</td>\n",
              "      <td>1.0</td>\n",
              "      <td>0.3</td>\n",
              "      <td>Carnegie Mellon University</td>\n",
              "      <td>https://www.hcii.cmu.edu/people/john-stamper</td>\n",
              "      <td>https://dblp.org/pers/hd/s/Stamper:John_C%3D</td>\n",
              "      <td>unknown</td>\n",
              "    </tr>\n",
              "  </tbody>\n",
              "</table>\n",
              "<p>166 rows × 7 columns</p>\n",
              "</div>\n",
              "      <button class=\"colab-df-convert\" onclick=\"convertToInteractive('df-fec64a03-c964-4c97-8470-ea9693a9f43b')\"\n",
              "              title=\"Convert this dataframe to an interactive table.\"\n",
              "              style=\"display:none;\">\n",
              "        \n",
              "  <svg xmlns=\"http://www.w3.org/2000/svg\" height=\"24px\"viewBox=\"0 0 24 24\"\n",
              "       width=\"24px\">\n",
              "    <path d=\"M0 0h24v24H0V0z\" fill=\"none\"/>\n",
              "    <path d=\"M18.56 5.44l.94 2.06.94-2.06 2.06-.94-2.06-.94-.94-2.06-.94 2.06-2.06.94zm-11 1L8.5 8.5l.94-2.06 2.06-.94-2.06-.94L8.5 2.5l-.94 2.06-2.06.94zm10 10l.94 2.06.94-2.06 2.06-.94-2.06-.94-.94-2.06-.94 2.06-2.06.94z\"/><path d=\"M17.41 7.96l-1.37-1.37c-.4-.4-.92-.59-1.43-.59-.52 0-1.04.2-1.43.59L10.3 9.45l-7.72 7.72c-.78.78-.78 2.05 0 2.83L4 21.41c.39.39.9.59 1.41.59.51 0 1.02-.2 1.41-.59l7.78-7.78 2.81-2.81c.8-.78.8-2.07 0-2.86zM5.41 20L4 18.59l7.72-7.72 1.47 1.35L5.41 20z\"/>\n",
              "  </svg>\n",
              "      </button>\n",
              "      \n",
              "  <style>\n",
              "    .colab-df-container {\n",
              "      display:flex;\n",
              "      flex-wrap:wrap;\n",
              "      gap: 12px;\n",
              "    }\n",
              "\n",
              "    .colab-df-convert {\n",
              "      background-color: #E8F0FE;\n",
              "      border: none;\n",
              "      border-radius: 50%;\n",
              "      cursor: pointer;\n",
              "      display: none;\n",
              "      fill: #1967D2;\n",
              "      height: 32px;\n",
              "      padding: 0 0 0 0;\n",
              "      width: 32px;\n",
              "    }\n",
              "\n",
              "    .colab-df-convert:hover {\n",
              "      background-color: #E2EBFA;\n",
              "      box-shadow: 0px 1px 2px rgba(60, 64, 67, 0.3), 0px 1px 3px 1px rgba(60, 64, 67, 0.15);\n",
              "      fill: #174EA6;\n",
              "    }\n",
              "\n",
              "    [theme=dark] .colab-df-convert {\n",
              "      background-color: #3B4455;\n",
              "      fill: #D2E3FC;\n",
              "    }\n",
              "\n",
              "    [theme=dark] .colab-df-convert:hover {\n",
              "      background-color: #434B5C;\n",
              "      box-shadow: 0px 1px 3px 1px rgba(0, 0, 0, 0.15);\n",
              "      filter: drop-shadow(0px 1px 2px rgba(0, 0, 0, 0.3));\n",
              "      fill: #FFFFFF;\n",
              "    }\n",
              "  </style>\n",
              "\n",
              "      <script>\n",
              "        const buttonEl =\n",
              "          document.querySelector('#df-fec64a03-c964-4c97-8470-ea9693a9f43b button.colab-df-convert');\n",
              "        buttonEl.style.display =\n",
              "          google.colab.kernel.accessAllowed ? 'block' : 'none';\n",
              "\n",
              "        async function convertToInteractive(key) {\n",
              "          const element = document.querySelector('#df-fec64a03-c964-4c97-8470-ea9693a9f43b');\n",
              "          const dataTable =\n",
              "            await google.colab.kernel.invokeFunction('convertToInteractive',\n",
              "                                                     [key], {});\n",
              "          if (!dataTable) return;\n",
              "\n",
              "          const docLinkHtml = 'Like what you see? Visit the ' +\n",
              "            '<a target=\"_blank\" href=https://colab.research.google.com/notebooks/data_table.ipynb>data table notebook</a>'\n",
              "            + ' to learn more about interactive tables.';\n",
              "          element.innerHTML = '';\n",
              "          dataTable['output_type'] = 'display_data';\n",
              "          await google.colab.output.renderOutput(dataTable, element);\n",
              "          const docLink = document.createElement('div');\n",
              "          docLink.innerHTML = docLinkHtml;\n",
              "          element.appendChild(docLink);\n",
              "        }\n",
              "      </script>\n",
              "    </div>\n",
              "  </div>\n",
              "  "
            ]
          },
          "metadata": {},
          "execution_count": 9
        }
      ],
      "source": [
        "import pandas as pd\n",
        "import re\n",
        "\n",
        "def get_areas(s):\n",
        "    lowercase_words = re.findall(r'\\b[a-z]\\w*\\b', s)\n",
        "    if len(lowercase_words) == 0:\n",
        "        return  'unknown'\n",
        "    else:\n",
        "        return ','.join(lowercase_words)\n",
        "def get_name(s):\n",
        "    lowercase_words = re.findall(r'\\b[a-z]\\w*\\b', s)\n",
        "    if len(lowercase_words) == 0:\n",
        "        return  s\n",
        "    else:\n",
        "        for word in lowercase_words:\n",
        "            s = re.sub(r'\\b{}\\b'.format(word), '', s)\n",
        "        return re.sub(r'[^a-zA-Z ]+', '', s).strip()\n",
        "df['faculty_areaname'] = df['faculty_name_and_area'].apply(get_areas)\n",
        "df['faculty_name_and_area'] = df['faculty_name_and_area'].apply(get_name)\n",
        "df = df.rename(columns={\"faculty_name_and_area\": \"faculty_name\"})\n",
        "df"
      ]
    },
    {
      "cell_type": "code",
      "execution_count": null,
      "id": "7d584325",
      "metadata": {
        "colab": {
          "base_uri": "https://localhost:8080/"
        },
        "id": "7d584325",
        "outputId": "86bb7f9b-9443-4203-d402-2d6ed3f1ed3d"
      },
      "outputs": [
        {
          "output_type": "stream",
          "name": "stdout",
          "text": [
            "Index(['faculty_name', 'publications', 'adjusted', 'university_name',\n",
            "       'faculty_home_page', 'dblp', 'faculty_areaname'],\n",
            "      dtype='object')\n"
          ]
        }
      ],
      "source": [
        "print(df.columns)"
      ]
    },
    {
      "cell_type": "code",
      "execution_count": null,
      "id": "c2267769",
      "metadata": {
        "id": "c2267769"
      },
      "outputs": [],
      "source": [
        "new_df = df\n",
        "new_df['faculty_areaname'] = new_df.faculty_areaname.str.split(',')\n",
        "new_df = new_df.explode('faculty_areaname')"
      ]
    },
    {
      "cell_type": "code",
      "execution_count": null,
      "id": "e4c2676b",
      "metadata": {
        "colab": {
          "base_uri": "https://localhost:8080/",
          "height": 601
        },
        "id": "e4c2676b",
        "outputId": "5e319c2c-ee87-4696-91a4-de3c24578f41"
      },
      "outputs": [
        {
          "output_type": "execute_result",
          "data": {
            "text/plain": [
              "        faculty_name  publications  adjusted             university_name  \\\n",
              "0      Graham Neubig         135.0      35.1  Carnegie Mellon University   \n",
              "1      Abhinav Gupta         111.0      32.3  Carnegie Mellon University   \n",
              "2   David P Woodruff          99.0      33.7  Carnegie Mellon University   \n",
              "2   David P Woodruff          99.0      33.7  Carnegie Mellon University   \n",
              "3       Howie Choset          83.0      19.5  Carnegie Mellon University   \n",
              "4    Tuomas Sandholm          80.0      29.8  Carnegie Mellon University   \n",
              "4    Tuomas Sandholm          80.0      29.8  Carnegie Mellon University   \n",
              "5  Pradeep Ravikumar          79.0      20.8  Carnegie Mellon University   \n",
              "6     Martial Hebert          78.0      22.0  Carnegie Mellon University   \n",
              "7       Deva Ramanan          77.0      24.4  Carnegie Mellon University   \n",
              "\n",
              "                 faculty_home_page  \\\n",
              "0          http://www.phontron.com   \n",
              "1  http://www.cs.cmu.edu/~abhinavg   \n",
              "2  http://www.cs.cmu.edu/~dwoodruf   \n",
              "2  http://www.cs.cmu.edu/~dwoodruf   \n",
              "3  http://www.cs.cmu.edu/~./choset   \n",
              "4  http://www.cs.cmu.edu/~sandholm   \n",
              "4  http://www.cs.cmu.edu/~sandholm   \n",
              "5  http://www.cs.cmu.edu/~pradeepr   \n",
              "6  http://www.cs.cmu.edu/~./hebert   \n",
              "7      http://www.cs.cmu.edu/~deva   \n",
              "\n",
              "                                             dblp faculty_areaname  \n",
              "0        https://dblp.org/pers/hd/n/Neubig:Graham              nlp  \n",
              "1   https://dblp.org/pers/hd/g/Gupta_0001:Abhinav           vision  \n",
              "2  https://dblp.org/pers/hd/w/Woodruff:David_P%3D               ml  \n",
              "2  https://dblp.org/pers/hd/w/Woodruff:David_P%3D           theory  \n",
              "3         https://dblp.org/pers/hd/c/Choset:Howie         robotics  \n",
              "4      https://dblp.org/pers/hd/s/Sandholm:Tuomas               ai  \n",
              "4      https://dblp.org/pers/hd/s/Sandholm:Tuomas               ml  \n",
              "5    https://dblp.org/pers/hd/r/Ravikumar:Pradeep               ml  \n",
              "6       https://dblp.org/pers/hd/h/Hebert:Martial           vision  \n",
              "7         https://dblp.org/pers/hd/r/Ramanan:Deva           vision  "
            ],
            "text/html": [
              "\n",
              "  <div id=\"df-e7e15b5f-d415-4883-8499-963d5775fdd0\">\n",
              "    <div class=\"colab-df-container\">\n",
              "      <div>\n",
              "<style scoped>\n",
              "    .dataframe tbody tr th:only-of-type {\n",
              "        vertical-align: middle;\n",
              "    }\n",
              "\n",
              "    .dataframe tbody tr th {\n",
              "        vertical-align: top;\n",
              "    }\n",
              "\n",
              "    .dataframe thead th {\n",
              "        text-align: right;\n",
              "    }\n",
              "</style>\n",
              "<table border=\"1\" class=\"dataframe\">\n",
              "  <thead>\n",
              "    <tr style=\"text-align: right;\">\n",
              "      <th></th>\n",
              "      <th>faculty_name</th>\n",
              "      <th>publications</th>\n",
              "      <th>adjusted</th>\n",
              "      <th>university_name</th>\n",
              "      <th>faculty_home_page</th>\n",
              "      <th>dblp</th>\n",
              "      <th>faculty_areaname</th>\n",
              "    </tr>\n",
              "  </thead>\n",
              "  <tbody>\n",
              "    <tr>\n",
              "      <th>0</th>\n",
              "      <td>Graham Neubig</td>\n",
              "      <td>135.0</td>\n",
              "      <td>35.1</td>\n",
              "      <td>Carnegie Mellon University</td>\n",
              "      <td>http://www.phontron.com</td>\n",
              "      <td>https://dblp.org/pers/hd/n/Neubig:Graham</td>\n",
              "      <td>nlp</td>\n",
              "    </tr>\n",
              "    <tr>\n",
              "      <th>1</th>\n",
              "      <td>Abhinav Gupta</td>\n",
              "      <td>111.0</td>\n",
              "      <td>32.3</td>\n",
              "      <td>Carnegie Mellon University</td>\n",
              "      <td>http://www.cs.cmu.edu/~abhinavg</td>\n",
              "      <td>https://dblp.org/pers/hd/g/Gupta_0001:Abhinav</td>\n",
              "      <td>vision</td>\n",
              "    </tr>\n",
              "    <tr>\n",
              "      <th>2</th>\n",
              "      <td>David P Woodruff</td>\n",
              "      <td>99.0</td>\n",
              "      <td>33.7</td>\n",
              "      <td>Carnegie Mellon University</td>\n",
              "      <td>http://www.cs.cmu.edu/~dwoodruf</td>\n",
              "      <td>https://dblp.org/pers/hd/w/Woodruff:David_P%3D</td>\n",
              "      <td>ml</td>\n",
              "    </tr>\n",
              "    <tr>\n",
              "      <th>2</th>\n",
              "      <td>David P Woodruff</td>\n",
              "      <td>99.0</td>\n",
              "      <td>33.7</td>\n",
              "      <td>Carnegie Mellon University</td>\n",
              "      <td>http://www.cs.cmu.edu/~dwoodruf</td>\n",
              "      <td>https://dblp.org/pers/hd/w/Woodruff:David_P%3D</td>\n",
              "      <td>theory</td>\n",
              "    </tr>\n",
              "    <tr>\n",
              "      <th>3</th>\n",
              "      <td>Howie Choset</td>\n",
              "      <td>83.0</td>\n",
              "      <td>19.5</td>\n",
              "      <td>Carnegie Mellon University</td>\n",
              "      <td>http://www.cs.cmu.edu/~./choset</td>\n",
              "      <td>https://dblp.org/pers/hd/c/Choset:Howie</td>\n",
              "      <td>robotics</td>\n",
              "    </tr>\n",
              "    <tr>\n",
              "      <th>4</th>\n",
              "      <td>Tuomas Sandholm</td>\n",
              "      <td>80.0</td>\n",
              "      <td>29.8</td>\n",
              "      <td>Carnegie Mellon University</td>\n",
              "      <td>http://www.cs.cmu.edu/~sandholm</td>\n",
              "      <td>https://dblp.org/pers/hd/s/Sandholm:Tuomas</td>\n",
              "      <td>ai</td>\n",
              "    </tr>\n",
              "    <tr>\n",
              "      <th>4</th>\n",
              "      <td>Tuomas Sandholm</td>\n",
              "      <td>80.0</td>\n",
              "      <td>29.8</td>\n",
              "      <td>Carnegie Mellon University</td>\n",
              "      <td>http://www.cs.cmu.edu/~sandholm</td>\n",
              "      <td>https://dblp.org/pers/hd/s/Sandholm:Tuomas</td>\n",
              "      <td>ml</td>\n",
              "    </tr>\n",
              "    <tr>\n",
              "      <th>5</th>\n",
              "      <td>Pradeep Ravikumar</td>\n",
              "      <td>79.0</td>\n",
              "      <td>20.8</td>\n",
              "      <td>Carnegie Mellon University</td>\n",
              "      <td>http://www.cs.cmu.edu/~pradeepr</td>\n",
              "      <td>https://dblp.org/pers/hd/r/Ravikumar:Pradeep</td>\n",
              "      <td>ml</td>\n",
              "    </tr>\n",
              "    <tr>\n",
              "      <th>6</th>\n",
              "      <td>Martial Hebert</td>\n",
              "      <td>78.0</td>\n",
              "      <td>22.0</td>\n",
              "      <td>Carnegie Mellon University</td>\n",
              "      <td>http://www.cs.cmu.edu/~./hebert</td>\n",
              "      <td>https://dblp.org/pers/hd/h/Hebert:Martial</td>\n",
              "      <td>vision</td>\n",
              "    </tr>\n",
              "    <tr>\n",
              "      <th>7</th>\n",
              "      <td>Deva Ramanan</td>\n",
              "      <td>77.0</td>\n",
              "      <td>24.4</td>\n",
              "      <td>Carnegie Mellon University</td>\n",
              "      <td>http://www.cs.cmu.edu/~deva</td>\n",
              "      <td>https://dblp.org/pers/hd/r/Ramanan:Deva</td>\n",
              "      <td>vision</td>\n",
              "    </tr>\n",
              "  </tbody>\n",
              "</table>\n",
              "</div>\n",
              "      <button class=\"colab-df-convert\" onclick=\"convertToInteractive('df-e7e15b5f-d415-4883-8499-963d5775fdd0')\"\n",
              "              title=\"Convert this dataframe to an interactive table.\"\n",
              "              style=\"display:none;\">\n",
              "        \n",
              "  <svg xmlns=\"http://www.w3.org/2000/svg\" height=\"24px\"viewBox=\"0 0 24 24\"\n",
              "       width=\"24px\">\n",
              "    <path d=\"M0 0h24v24H0V0z\" fill=\"none\"/>\n",
              "    <path d=\"M18.56 5.44l.94 2.06.94-2.06 2.06-.94-2.06-.94-.94-2.06-.94 2.06-2.06.94zm-11 1L8.5 8.5l.94-2.06 2.06-.94-2.06-.94L8.5 2.5l-.94 2.06-2.06.94zm10 10l.94 2.06.94-2.06 2.06-.94-2.06-.94-.94-2.06-.94 2.06-2.06.94z\"/><path d=\"M17.41 7.96l-1.37-1.37c-.4-.4-.92-.59-1.43-.59-.52 0-1.04.2-1.43.59L10.3 9.45l-7.72 7.72c-.78.78-.78 2.05 0 2.83L4 21.41c.39.39.9.59 1.41.59.51 0 1.02-.2 1.41-.59l7.78-7.78 2.81-2.81c.8-.78.8-2.07 0-2.86zM5.41 20L4 18.59l7.72-7.72 1.47 1.35L5.41 20z\"/>\n",
              "  </svg>\n",
              "      </button>\n",
              "      \n",
              "  <style>\n",
              "    .colab-df-container {\n",
              "      display:flex;\n",
              "      flex-wrap:wrap;\n",
              "      gap: 12px;\n",
              "    }\n",
              "\n",
              "    .colab-df-convert {\n",
              "      background-color: #E8F0FE;\n",
              "      border: none;\n",
              "      border-radius: 50%;\n",
              "      cursor: pointer;\n",
              "      display: none;\n",
              "      fill: #1967D2;\n",
              "      height: 32px;\n",
              "      padding: 0 0 0 0;\n",
              "      width: 32px;\n",
              "    }\n",
              "\n",
              "    .colab-df-convert:hover {\n",
              "      background-color: #E2EBFA;\n",
              "      box-shadow: 0px 1px 2px rgba(60, 64, 67, 0.3), 0px 1px 3px 1px rgba(60, 64, 67, 0.15);\n",
              "      fill: #174EA6;\n",
              "    }\n",
              "\n",
              "    [theme=dark] .colab-df-convert {\n",
              "      background-color: #3B4455;\n",
              "      fill: #D2E3FC;\n",
              "    }\n",
              "\n",
              "    [theme=dark] .colab-df-convert:hover {\n",
              "      background-color: #434B5C;\n",
              "      box-shadow: 0px 1px 3px 1px rgba(0, 0, 0, 0.15);\n",
              "      filter: drop-shadow(0px 1px 2px rgba(0, 0, 0, 0.3));\n",
              "      fill: #FFFFFF;\n",
              "    }\n",
              "  </style>\n",
              "\n",
              "      <script>\n",
              "        const buttonEl =\n",
              "          document.querySelector('#df-e7e15b5f-d415-4883-8499-963d5775fdd0 button.colab-df-convert');\n",
              "        buttonEl.style.display =\n",
              "          google.colab.kernel.accessAllowed ? 'block' : 'none';\n",
              "\n",
              "        async function convertToInteractive(key) {\n",
              "          const element = document.querySelector('#df-e7e15b5f-d415-4883-8499-963d5775fdd0');\n",
              "          const dataTable =\n",
              "            await google.colab.kernel.invokeFunction('convertToInteractive',\n",
              "                                                     [key], {});\n",
              "          if (!dataTable) return;\n",
              "\n",
              "          const docLinkHtml = 'Like what you see? Visit the ' +\n",
              "            '<a target=\"_blank\" href=https://colab.research.google.com/notebooks/data_table.ipynb>data table notebook</a>'\n",
              "            + ' to learn more about interactive tables.';\n",
              "          element.innerHTML = '';\n",
              "          dataTable['output_type'] = 'display_data';\n",
              "          await google.colab.output.renderOutput(dataTable, element);\n",
              "          const docLink = document.createElement('div');\n",
              "          docLink.innerHTML = docLinkHtml;\n",
              "          element.appendChild(docLink);\n",
              "        }\n",
              "      </script>\n",
              "    </div>\n",
              "  </div>\n",
              "  "
            ]
          },
          "metadata": {},
          "execution_count": 12
        }
      ],
      "source": [
        "new_df.head(10)"
      ]
    },
    {
      "cell_type": "code",
      "execution_count": null,
      "id": "fcbe0a69",
      "metadata": {
        "colab": {
          "base_uri": "https://localhost:8080/"
        },
        "id": "fcbe0a69",
        "outputId": "ecc49692-c90b-4da1-8c5b-82eccf689bbb"
      },
      "outputs": [
        {
          "output_type": "stream",
          "name": "stdout",
          "text": [
            "13\n"
          ]
        }
      ],
      "source": [
        "print(len(new_df[new_df['faculty_areaname']=='unknown']))"
      ]
    },
    {
      "cell_type": "code",
      "execution_count": null,
      "id": "1b2b95c8",
      "metadata": {
        "colab": {
          "base_uri": "https://localhost:8080/"
        },
        "id": "1b2b95c8",
        "outputId": "7029a1cf-2bc6-46e8-c8a3-19ed80397195"
      },
      "outputs": [
        {
          "output_type": "execute_result",
          "data": {
            "text/plain": [
              "Index(['rank', 'uni_name', 'count', 'faculty', 'div_ids'], dtype='object')"
            ]
          },
          "metadata": {},
          "execution_count": 14
        }
      ],
      "source": [
        "univ_data.columns"
      ]
    },
    {
      "cell_type": "code",
      "execution_count": null,
      "id": "626d5a8d",
      "metadata": {
        "colab": {
          "base_uri": "https://localhost:8080/"
        },
        "id": "626d5a8d",
        "outputId": "e1dc2cc9-ae34-4322-c320-c0a6896d4442"
      },
      "outputs": [
        {
          "output_type": "stream",
          "name": "stderr",
          "text": [
            "\r  0%|          | 0/187 [00:00<?, ?it/s]"
          ]
        },
        {
          "output_type": "stream",
          "name": "stdout",
          "text": [
            "Carnegie Mellon University\n"
          ]
        },
        {
          "output_type": "stream",
          "name": "stderr",
          "text": [
            "\r  1%|          | 1/187 [00:00<00:50,  3.70it/s]"
          ]
        },
        {
          "output_type": "stream",
          "name": "stdout",
          "text": [
            "Univ of Illinois at UrbanaChampaign\n"
          ]
        },
        {
          "output_type": "stream",
          "name": "stderr",
          "text": [
            "\r  1%|          | 2/187 [00:00<00:47,  3.93it/s]"
          ]
        },
        {
          "output_type": "stream",
          "name": "stdout",
          "text": [
            "Massachusetts Institute of Technology\n"
          ]
        },
        {
          "output_type": "stream",
          "name": "stderr",
          "text": [
            "\r  2%|▏         | 3/187 [00:00<00:44,  4.10it/s]"
          ]
        },
        {
          "output_type": "stream",
          "name": "stdout",
          "text": [
            "Univ of California  San Diego\n"
          ]
        },
        {
          "output_type": "stream",
          "name": "stderr",
          "text": [
            "\r  2%|▏         | 4/187 [00:01<00:47,  3.84it/s]"
          ]
        },
        {
          "output_type": "stream",
          "name": "stdout",
          "text": [
            "University of Michigan\n"
          ]
        },
        {
          "output_type": "stream",
          "name": "stderr",
          "text": [
            "\r  3%|▎         | 5/187 [00:01<00:50,  3.62it/s]"
          ]
        },
        {
          "output_type": "stream",
          "name": "stdout",
          "text": [
            "Stanford University\n"
          ]
        },
        {
          "output_type": "stream",
          "name": "stderr",
          "text": [
            "\r  3%|▎         | 6/187 [00:01<00:48,  3.71it/s]"
          ]
        },
        {
          "output_type": "stream",
          "name": "stdout",
          "text": [
            "University of Washington\n"
          ]
        },
        {
          "output_type": "stream",
          "name": "stderr",
          "text": [
            "\r  4%|▎         | 7/187 [00:01<00:49,  3.67it/s]"
          ]
        },
        {
          "output_type": "stream",
          "name": "stdout",
          "text": [
            "Cornell University\n"
          ]
        },
        {
          "output_type": "stream",
          "name": "stderr",
          "text": [
            "\r  4%|▍         | 8/187 [00:02<00:51,  3.45it/s]"
          ]
        },
        {
          "output_type": "stream",
          "name": "stdout",
          "text": [
            "Univ of California  Berkeley\n"
          ]
        },
        {
          "output_type": "stream",
          "name": "stderr",
          "text": [
            "\r  5%|▍         | 9/187 [00:02<00:54,  3.28it/s]"
          ]
        },
        {
          "output_type": "stream",
          "name": "stdout",
          "text": [
            "Georgia Institute of Technology\n"
          ]
        },
        {
          "output_type": "stream",
          "name": "stderr",
          "text": [
            "\r  5%|▌         | 10/187 [00:02<00:58,  3.01it/s]"
          ]
        },
        {
          "output_type": "stream",
          "name": "stdout",
          "text": [
            "University of Maryland  College Park\n"
          ]
        },
        {
          "output_type": "stream",
          "name": "stderr",
          "text": [
            "\r  6%|▌         | 11/187 [00:03<01:01,  2.88it/s]"
          ]
        },
        {
          "output_type": "stream",
          "name": "stdout",
          "text": [
            "Northeastern University\n"
          ]
        },
        {
          "output_type": "stream",
          "name": "stderr",
          "text": [
            "\r  6%|▋         | 12/187 [00:03<01:02,  2.80it/s]"
          ]
        },
        {
          "output_type": "stream",
          "name": "stdout",
          "text": [
            "Purdue University\n"
          ]
        },
        {
          "output_type": "stream",
          "name": "stderr",
          "text": [
            "\r  7%|▋         | 13/187 [00:04<01:03,  2.74it/s]"
          ]
        },
        {
          "output_type": "stream",
          "name": "stdout",
          "text": [
            "Columbia University\n"
          ]
        },
        {
          "output_type": "stream",
          "name": "stderr",
          "text": [
            "\r  7%|▋         | 14/187 [00:04<01:04,  2.69it/s]"
          ]
        },
        {
          "output_type": "stream",
          "name": "stdout",
          "text": [
            "University of Texas at Austin\n"
          ]
        },
        {
          "output_type": "stream",
          "name": "stderr",
          "text": [
            "\r  8%|▊         | 15/187 [00:04<01:04,  2.66it/s]"
          ]
        },
        {
          "output_type": "stream",
          "name": "stdout",
          "text": [
            "University of Wisconsin  Madison\n"
          ]
        },
        {
          "output_type": "stream",
          "name": "stderr",
          "text": [
            "\r  9%|▊         | 16/187 [00:05<01:06,  2.58it/s]"
          ]
        },
        {
          "output_type": "stream",
          "name": "stdout",
          "text": [
            "University of Pennsylvania\n"
          ]
        },
        {
          "output_type": "stream",
          "name": "stderr",
          "text": [
            "\r  9%|▉         | 17/187 [00:05<01:07,  2.51it/s]"
          ]
        },
        {
          "output_type": "stream",
          "name": "stdout",
          "text": [
            "Princeton University\n"
          ]
        },
        {
          "output_type": "stream",
          "name": "stderr",
          "text": [
            "\r 10%|▉         | 18/187 [00:06<01:09,  2.42it/s]"
          ]
        },
        {
          "output_type": "stream",
          "name": "stdout",
          "text": [
            "New York University\n"
          ]
        },
        {
          "output_type": "stream",
          "name": "stderr",
          "text": [
            "\r 10%|█         | 19/187 [00:06<01:11,  2.37it/s]"
          ]
        },
        {
          "output_type": "stream",
          "name": "stdout",
          "text": [
            "Univ of California  Los Angeles\n"
          ]
        },
        {
          "output_type": "stream",
          "name": "stderr",
          "text": [
            "\r 11%|█         | 20/187 [00:07<01:11,  2.35it/s]"
          ]
        },
        {
          "output_type": "stream",
          "name": "stdout",
          "text": [
            "University of Massachusetts Amherst\n"
          ]
        },
        {
          "output_type": "stream",
          "name": "stderr",
          "text": [
            "\r 11%|█         | 21/187 [00:07<01:12,  2.28it/s]"
          ]
        },
        {
          "output_type": "stream",
          "name": "stdout",
          "text": [
            "Stony Brook University\n"
          ]
        },
        {
          "output_type": "stream",
          "name": "stderr",
          "text": [
            "\r 12%|█▏        | 22/187 [00:08<01:17,  2.12it/s]"
          ]
        },
        {
          "output_type": "stream",
          "name": "stdout",
          "text": [
            "Univ of California  Santa Barbara\n"
          ]
        },
        {
          "output_type": "stream",
          "name": "stderr",
          "text": [
            "\r 12%|█▏        | 23/187 [00:08<01:29,  1.84it/s]"
          ]
        },
        {
          "output_type": "stream",
          "name": "stdout",
          "text": [
            "Rutgers University\n"
          ]
        },
        {
          "output_type": "stream",
          "name": "stderr",
          "text": [
            "\r 13%|█▎        | 24/187 [00:09<01:38,  1.65it/s]"
          ]
        },
        {
          "output_type": "stream",
          "name": "stdout",
          "text": [
            "University of Chicago\n"
          ]
        },
        {
          "output_type": "stream",
          "name": "stderr",
          "text": [
            "\r 13%|█▎        | 25/187 [00:10<01:45,  1.54it/s]"
          ]
        },
        {
          "output_type": "stream",
          "name": "stdout",
          "text": [
            "Univ of California  Irvine\n"
          ]
        },
        {
          "output_type": "stream",
          "name": "stderr",
          "text": [
            "\r 14%|█▍        | 26/187 [00:10<01:38,  1.63it/s]"
          ]
        },
        {
          "output_type": "stream",
          "name": "stdout",
          "text": [
            "University of Southern California\n"
          ]
        },
        {
          "output_type": "stream",
          "name": "stderr",
          "text": [
            "\r 14%|█▍        | 27/187 [00:11<01:33,  1.71it/s]"
          ]
        },
        {
          "output_type": "stream",
          "name": "stdout",
          "text": [
            "Duke University\n"
          ]
        },
        {
          "output_type": "stream",
          "name": "stderr",
          "text": [
            "\r 15%|█▍        | 28/187 [00:11<01:29,  1.77it/s]"
          ]
        },
        {
          "output_type": "stream",
          "name": "stdout",
          "text": [
            "Pennsylvania State University\n"
          ]
        },
        {
          "output_type": "stream",
          "name": "stderr",
          "text": [
            "\r 16%|█▌        | 29/187 [00:12<01:29,  1.77it/s]"
          ]
        },
        {
          "output_type": "stream",
          "name": "stdout",
          "text": [
            "Univ of California  Riverside\n"
          ]
        },
        {
          "output_type": "stream",
          "name": "stderr",
          "text": [
            "\r 16%|█▌        | 30/187 [00:12<01:27,  1.80it/s]"
          ]
        },
        {
          "output_type": "stream",
          "name": "stdout",
          "text": [
            "Northwestern University\n"
          ]
        },
        {
          "output_type": "stream",
          "name": "stderr",
          "text": [
            "\r 17%|█▋        | 31/187 [00:13<01:26,  1.81it/s]"
          ]
        },
        {
          "output_type": "stream",
          "name": "stdout",
          "text": [
            "Ohio State University\n"
          ]
        },
        {
          "output_type": "stream",
          "name": "stderr",
          "text": [
            "\r 17%|█▋        | 32/187 [00:13<01:25,  1.82it/s]"
          ]
        },
        {
          "output_type": "stream",
          "name": "stdout",
          "text": [
            "Harvard University\n"
          ]
        },
        {
          "output_type": "stream",
          "name": "stderr",
          "text": [
            "\r 18%|█▊        | 33/187 [00:14<01:25,  1.81it/s]"
          ]
        },
        {
          "output_type": "stream",
          "name": "stdout",
          "text": [
            "University of Utah\n"
          ]
        },
        {
          "output_type": "stream",
          "name": "stderr",
          "text": [
            "\r 18%|█▊        | 34/187 [00:15<01:26,  1.77it/s]"
          ]
        },
        {
          "output_type": "stream",
          "name": "stdout",
          "text": [
            "Yale University\n"
          ]
        },
        {
          "output_type": "stream",
          "name": "stderr",
          "text": [
            "\r 19%|█▊        | 35/187 [00:15<01:26,  1.76it/s]"
          ]
        },
        {
          "output_type": "stream",
          "name": "stdout",
          "text": [
            "George Mason University\n"
          ]
        },
        {
          "output_type": "stream",
          "name": "stderr",
          "text": [
            "\r 19%|█▉        | 36/187 [00:16<01:28,  1.71it/s]"
          ]
        },
        {
          "output_type": "stream",
          "name": "stdout",
          "text": [
            "Brown University\n"
          ]
        },
        {
          "output_type": "stream",
          "name": "stderr",
          "text": [
            "\r 20%|█▉        | 37/187 [00:16<01:27,  1.71it/s]"
          ]
        },
        {
          "output_type": "stream",
          "name": "stdout",
          "text": [
            "Texas AM University\n"
          ]
        },
        {
          "output_type": "stream",
          "name": "stderr",
          "text": [
            "\r 20%|██        | 38/187 [00:17<01:28,  1.68it/s]"
          ]
        },
        {
          "output_type": "stream",
          "name": "stdout",
          "text": [
            "Univ of California  Santa Cruz\n"
          ]
        },
        {
          "output_type": "stream",
          "name": "stderr",
          "text": [
            "\r 21%|██        | 39/187 [00:18<01:30,  1.63it/s]"
          ]
        },
        {
          "output_type": "stream",
          "name": "stdout",
          "text": [
            "Boston University\n"
          ]
        },
        {
          "output_type": "stream",
          "name": "stderr",
          "text": [
            "\r 21%|██▏       | 40/187 [00:18<01:30,  1.62it/s]"
          ]
        },
        {
          "output_type": "stream",
          "name": "stdout",
          "text": [
            "University at Buffalo\n"
          ]
        },
        {
          "output_type": "stream",
          "name": "stderr",
          "text": [
            "\r 22%|██▏       | 41/187 [00:19<01:31,  1.59it/s]"
          ]
        },
        {
          "output_type": "stream",
          "name": "stdout",
          "text": [
            "University of Illinois at Chicago\n"
          ]
        },
        {
          "output_type": "stream",
          "name": "stderr",
          "text": [
            "\r 22%|██▏       | 42/187 [00:20<01:31,  1.58it/s]"
          ]
        },
        {
          "output_type": "stream",
          "name": "stdout",
          "text": [
            "Rice University\n"
          ]
        },
        {
          "output_type": "stream",
          "name": "stderr",
          "text": [
            "\r 23%|██▎       | 43/187 [00:21<01:46,  1.36it/s]"
          ]
        },
        {
          "output_type": "stream",
          "name": "stdout",
          "text": [
            "University of Colorado Boulder\n"
          ]
        },
        {
          "output_type": "stream",
          "name": "stderr",
          "text": [
            "\r 24%|██▎       | 44/187 [00:22<02:00,  1.18it/s]"
          ]
        },
        {
          "output_type": "stream",
          "name": "stdout",
          "text": [
            "Arizona State University\n"
          ]
        },
        {
          "output_type": "stream",
          "name": "stderr",
          "text": [
            "\r 24%|██▍       | 45/187 [00:23<01:58,  1.20it/s]"
          ]
        },
        {
          "output_type": "stream",
          "name": "stdout",
          "text": [
            "University of Minnesota\n"
          ]
        },
        {
          "output_type": "stream",
          "name": "stderr",
          "text": [
            "\r 25%|██▍       | 46/187 [00:23<01:51,  1.26it/s]"
          ]
        },
        {
          "output_type": "stream",
          "name": "stdout",
          "text": [
            "University of Virginia\n"
          ]
        },
        {
          "output_type": "stream",
          "name": "stderr",
          "text": [
            "\r 25%|██▌       | 47/187 [00:24<01:58,  1.18it/s]"
          ]
        },
        {
          "output_type": "stream",
          "name": "stdout",
          "text": [
            "North Carolina State University\n"
          ]
        },
        {
          "output_type": "stream",
          "name": "stderr",
          "text": [
            "\r 26%|██▌       | 48/187 [00:25<02:09,  1.07it/s]"
          ]
        },
        {
          "output_type": "stream",
          "name": "stdout",
          "text": [
            "University of North Carolina\n"
          ]
        },
        {
          "output_type": "stream",
          "name": "stderr",
          "text": [
            "\r 26%|██▌       | 49/187 [00:26<02:06,  1.09it/s]"
          ]
        },
        {
          "output_type": "stream",
          "name": "stdout",
          "text": [
            "Univ of California  Davis\n"
          ]
        },
        {
          "output_type": "stream",
          "name": "stderr",
          "text": [
            "\r 27%|██▋       | 50/187 [00:27<01:57,  1.17it/s]"
          ]
        },
        {
          "output_type": "stream",
          "name": "stdout",
          "text": [
            "Oregon State University\n"
          ]
        },
        {
          "output_type": "stream",
          "name": "stderr",
          "text": [
            "\r 27%|██▋       | 51/187 [00:28<01:51,  1.22it/s]"
          ]
        },
        {
          "output_type": "stream",
          "name": "stdout",
          "text": [
            "Virginia Tech\n"
          ]
        },
        {
          "output_type": "stream",
          "name": "stderr",
          "text": [
            "\r 28%|██▊       | 52/187 [00:28<01:47,  1.25it/s]"
          ]
        },
        {
          "output_type": "stream",
          "name": "stdout",
          "text": [
            "Indiana University\n"
          ]
        },
        {
          "output_type": "stream",
          "name": "stderr",
          "text": [
            "\r 28%|██▊       | 53/187 [00:29<01:45,  1.27it/s]"
          ]
        },
        {
          "output_type": "stream",
          "name": "stdout",
          "text": [
            "Johns Hopkins University\n"
          ]
        },
        {
          "output_type": "stream",
          "name": "stderr",
          "text": [
            "\r 29%|██▉       | 54/187 [00:30<01:43,  1.29it/s]"
          ]
        },
        {
          "output_type": "stream",
          "name": "stdout",
          "text": [
            "University of Pittsburgh\n"
          ]
        },
        {
          "output_type": "stream",
          "name": "stderr",
          "text": [
            "\r 29%|██▉       | 55/187 [00:31<01:41,  1.30it/s]"
          ]
        },
        {
          "output_type": "stream",
          "name": "stdout",
          "text": [
            "University of Central Florida\n"
          ]
        },
        {
          "output_type": "stream",
          "name": "stderr",
          "text": [
            "\r 30%|██▉       | 56/187 [00:31<01:40,  1.30it/s]"
          ]
        },
        {
          "output_type": "stream",
          "name": "stdout",
          "text": [
            "Michigan State University\n"
          ]
        },
        {
          "output_type": "stream",
          "name": "stderr",
          "text": [
            "\r 30%|███       | 57/187 [00:32<01:42,  1.27it/s]"
          ]
        },
        {
          "output_type": "stream",
          "name": "stdout",
          "text": [
            "University of Rochester\n"
          ]
        },
        {
          "output_type": "stream",
          "name": "stderr",
          "text": [
            "\r 31%|███       | 58/187 [00:33<01:58,  1.09it/s]"
          ]
        },
        {
          "output_type": "stream",
          "name": "stdout",
          "text": [
            "University of Texas at Dallas\n"
          ]
        },
        {
          "output_type": "stream",
          "name": "stderr",
          "text": [
            "\r 32%|███▏      | 59/187 [00:35<02:04,  1.03it/s]"
          ]
        },
        {
          "output_type": "stream",
          "name": "stdout",
          "text": [
            "Washington University in St Louis\n"
          ]
        },
        {
          "output_type": "stream",
          "name": "stderr",
          "text": [
            "\r 32%|███▏      | 60/187 [00:35<01:55,  1.10it/s]"
          ]
        },
        {
          "output_type": "stream",
          "name": "stdout",
          "text": [
            "Rochester Institute of Technology\n"
          ]
        },
        {
          "output_type": "stream",
          "name": "stderr",
          "text": [
            "\r 33%|███▎      | 61/187 [00:36<01:51,  1.13it/s]"
          ]
        },
        {
          "output_type": "stream",
          "name": "stdout",
          "text": [
            "Univ of California  Merced\n"
          ]
        },
        {
          "output_type": "stream",
          "name": "stderr",
          "text": [
            "\r 33%|███▎      | 62/187 [00:37<01:46,  1.18it/s]"
          ]
        },
        {
          "output_type": "stream",
          "name": "stdout",
          "text": [
            "University of Notre Dame\n"
          ]
        },
        {
          "output_type": "stream",
          "name": "stderr",
          "text": [
            "\r 34%|███▎      | 63/187 [00:38<01:42,  1.21it/s]"
          ]
        },
        {
          "output_type": "stream",
          "name": "stdout",
          "text": [
            "University of Texas at Arlington\n"
          ]
        },
        {
          "output_type": "stream",
          "name": "stderr",
          "text": [
            "\r 34%|███▍      | 64/187 [00:39<01:40,  1.23it/s]"
          ]
        },
        {
          "output_type": "stream",
          "name": "stdout",
          "text": [
            "Binghamton University\n"
          ]
        },
        {
          "output_type": "stream",
          "name": "stderr",
          "text": [
            "\r 35%|███▍      | 65/187 [00:39<01:37,  1.25it/s]"
          ]
        },
        {
          "output_type": "stream",
          "name": "stdout",
          "text": [
            "Dartmouth College\n"
          ]
        },
        {
          "output_type": "stream",
          "name": "stderr",
          "text": [
            "\r 35%|███▌      | 66/187 [00:40<01:37,  1.25it/s]"
          ]
        },
        {
          "output_type": "stream",
          "name": "stdout",
          "text": [
            "University of Connecticut\n"
          ]
        },
        {
          "output_type": "stream",
          "name": "stderr",
          "text": [
            "\r 36%|███▌      | 67/187 [00:41<01:36,  1.24it/s]"
          ]
        },
        {
          "output_type": "stream",
          "name": "stdout",
          "text": [
            "University of Florida\n"
          ]
        },
        {
          "output_type": "stream",
          "name": "stderr",
          "text": [
            "\r 36%|███▋      | 68/187 [00:42<01:36,  1.24it/s]"
          ]
        },
        {
          "output_type": "stream",
          "name": "stdout",
          "text": [
            "California Institute of Technology\n"
          ]
        },
        {
          "output_type": "stream",
          "name": "stderr",
          "text": [
            "\r 37%|███▋      | 69/187 [00:43<01:34,  1.25it/s]"
          ]
        },
        {
          "output_type": "stream",
          "name": "stdout",
          "text": [
            "TTI Chicago\n"
          ]
        },
        {
          "output_type": "stream",
          "name": "stderr",
          "text": [
            "\r 37%|███▋      | 70/187 [00:43<01:33,  1.25it/s]"
          ]
        },
        {
          "output_type": "stream",
          "name": "stdout",
          "text": [
            "Vanderbilt University\n"
          ]
        },
        {
          "output_type": "stream",
          "name": "stderr",
          "text": [
            "\r 38%|███▊      | 71/187 [00:44<01:33,  1.24it/s]"
          ]
        },
        {
          "output_type": "stream",
          "name": "stdout",
          "text": [
            "Worcester Polytechnic Institute\n"
          ]
        },
        {
          "output_type": "stream",
          "name": "stderr",
          "text": [
            "\r 39%|███▊      | 72/187 [00:45<01:44,  1.10it/s]"
          ]
        },
        {
          "output_type": "stream",
          "name": "stdout",
          "text": [
            "Clemson University\n"
          ]
        },
        {
          "output_type": "stream",
          "name": "stderr",
          "text": [
            "\r 39%|███▉      | 73/187 [00:47<01:57,  1.03s/it]"
          ]
        },
        {
          "output_type": "stream",
          "name": "stdout",
          "text": [
            "College of William and Mary\n"
          ]
        },
        {
          "output_type": "stream",
          "name": "stderr",
          "text": [
            "\r 40%|███▉      | 74/187 [00:47<01:51,  1.01it/s]"
          ]
        },
        {
          "output_type": "stream",
          "name": "stdout",
          "text": [
            "Stevens Institute of Technology\n"
          ]
        },
        {
          "output_type": "stream",
          "name": "stderr",
          "text": [
            "\r 40%|████      | 75/187 [00:48<01:45,  1.06it/s]"
          ]
        },
        {
          "output_type": "stream",
          "name": "stdout",
          "text": [
            "Tufts University\n"
          ]
        },
        {
          "output_type": "stream",
          "name": "stderr",
          "text": [
            "\r 41%|████      | 76/187 [00:49<01:40,  1.10it/s]"
          ]
        },
        {
          "output_type": "stream",
          "name": "stdout",
          "text": [
            "University of Delaware\n"
          ]
        },
        {
          "output_type": "stream",
          "name": "stderr",
          "text": [
            "\r 41%|████      | 77/187 [00:50<01:37,  1.13it/s]"
          ]
        },
        {
          "output_type": "stream",
          "name": "stdout",
          "text": [
            "CUNY\n"
          ]
        },
        {
          "output_type": "stream",
          "name": "stderr",
          "text": [
            "\r 42%|████▏     | 78/187 [00:51<01:36,  1.13it/s]"
          ]
        },
        {
          "output_type": "stream",
          "name": "stdout",
          "text": [
            "Florida State University\n"
          ]
        },
        {
          "output_type": "stream",
          "name": "stderr",
          "text": [
            "\r 42%|████▏     | 79/187 [00:52<01:33,  1.15it/s]"
          ]
        },
        {
          "output_type": "stream",
          "name": "stdout",
          "text": [
            "Iowa State University\n"
          ]
        },
        {
          "output_type": "stream",
          "name": "stderr",
          "text": [
            "\r 43%|████▎     | 80/187 [00:53<01:32,  1.16it/s]"
          ]
        },
        {
          "output_type": "stream",
          "name": "stdout",
          "text": [
            "NJIT\n"
          ]
        },
        {
          "output_type": "stream",
          "name": "stderr",
          "text": [
            "\r 43%|████▎     | 81/187 [00:53<01:31,  1.16it/s]"
          ]
        },
        {
          "output_type": "stream",
          "name": "stdout",
          "text": [
            "University of Houston\n"
          ]
        },
        {
          "output_type": "stream",
          "name": "stderr",
          "text": [
            "\r 44%|████▍     | 82/187 [00:54<01:30,  1.16it/s]"
          ]
        },
        {
          "output_type": "stream",
          "name": "stdout",
          "text": [
            "University of Oregon\n"
          ]
        },
        {
          "output_type": "stream",
          "name": "stderr",
          "text": [
            "\r 44%|████▍     | 83/187 [00:55<01:29,  1.16it/s]"
          ]
        },
        {
          "output_type": "stream",
          "name": "stdout",
          "text": [
            "Colorado School of Mines\n"
          ]
        },
        {
          "output_type": "stream",
          "name": "stderr",
          "text": [
            "\r 45%|████▍     | 84/187 [00:56<01:28,  1.16it/s]"
          ]
        },
        {
          "output_type": "stream",
          "name": "stdout",
          "text": [
            "Emory University\n"
          ]
        },
        {
          "output_type": "stream",
          "name": "stderr",
          "text": [
            "\r 45%|████▌     | 85/187 [00:57<01:29,  1.14it/s]"
          ]
        },
        {
          "output_type": "stream",
          "name": "stdout",
          "text": [
            "Georgetown University\n"
          ]
        },
        {
          "output_type": "stream",
          "name": "stderr",
          "text": [
            "\r 46%|████▌     | 86/187 [00:58<01:43,  1.02s/it]"
          ]
        },
        {
          "output_type": "stream",
          "name": "stdout",
          "text": [
            "Illinois Institute of Technology\n"
          ]
        },
        {
          "output_type": "stream",
          "name": "stderr",
          "text": [
            "\r 47%|████▋     | 87/187 [00:59<01:47,  1.07s/it]"
          ]
        },
        {
          "output_type": "stream",
          "name": "stdout",
          "text": [
            "Syracuse University\n"
          ]
        },
        {
          "output_type": "stream",
          "name": "stderr",
          "text": [
            "\r 47%|████▋     | 88/187 [01:00<01:40,  1.02s/it]"
          ]
        },
        {
          "output_type": "stream",
          "name": "stdout",
          "text": [
            "Temple University\n"
          ]
        },
        {
          "output_type": "stream",
          "name": "stderr",
          "text": [
            "\r 48%|████▊     | 89/187 [01:01<01:35,  1.03it/s]"
          ]
        },
        {
          "output_type": "stream",
          "name": "stdout",
          "text": [
            "University of Arizona\n"
          ]
        },
        {
          "output_type": "stream",
          "name": "stderr",
          "text": [
            "\r 48%|████▊     | 90/187 [01:02<01:31,  1.06it/s]"
          ]
        },
        {
          "output_type": "stream",
          "name": "stdout",
          "text": [
            "University of Tennessee\n"
          ]
        },
        {
          "output_type": "stream",
          "name": "stderr",
          "text": [
            "\r 49%|████▊     | 91/187 [01:03<01:29,  1.07it/s]"
          ]
        },
        {
          "output_type": "stream",
          "name": "stdout",
          "text": [
            "Washington State University\n"
          ]
        },
        {
          "output_type": "stream",
          "name": "stderr",
          "text": [
            "\r 49%|████▉     | 92/187 [01:04<01:34,  1.01it/s]"
          ]
        },
        {
          "output_type": "stream",
          "name": "stdout",
          "text": [
            "Brigham Young University\n"
          ]
        },
        {
          "output_type": "stream",
          "name": "stderr",
          "text": [
            "\r 50%|████▉     | 93/187 [01:06<01:49,  1.16s/it]"
          ]
        },
        {
          "output_type": "stream",
          "name": "stdout",
          "text": [
            "George Washington University\n"
          ]
        },
        {
          "output_type": "stream",
          "name": "stderr",
          "text": [
            "\r 50%|█████     | 94/187 [01:07<01:46,  1.14s/it]"
          ]
        },
        {
          "output_type": "stream",
          "name": "stdout",
          "text": [
            "Lehigh University\n"
          ]
        },
        {
          "output_type": "stream",
          "name": "stderr",
          "text": [
            "\r 51%|█████     | 95/187 [01:08<01:38,  1.07s/it]"
          ]
        },
        {
          "output_type": "stream",
          "name": "stdout",
          "text": [
            "Portland State University\n"
          ]
        },
        {
          "output_type": "stream",
          "name": "stderr",
          "text": [
            "\r 51%|█████▏    | 96/187 [01:09<01:32,  1.02s/it]"
          ]
        },
        {
          "output_type": "stream",
          "name": "stdout",
          "text": [
            "Rensselaer Polytechnic Institute\n"
          ]
        },
        {
          "output_type": "stream",
          "name": "stderr",
          "text": [
            "\r 52%|█████▏    | 97/187 [01:10<01:33,  1.04s/it]"
          ]
        },
        {
          "output_type": "stream",
          "name": "stdout",
          "text": [
            "UNC  Charlotte\n"
          ]
        },
        {
          "output_type": "stream",
          "name": "stderr",
          "text": [
            "\r 52%|█████▏    | 98/187 [01:11<01:44,  1.17s/it]"
          ]
        },
        {
          "output_type": "stream",
          "name": "stdout",
          "text": [
            "University of Georgia\n"
          ]
        },
        {
          "output_type": "stream",
          "name": "stderr",
          "text": [
            "\r 53%|█████▎    | 99/187 [01:12<01:38,  1.12s/it]"
          ]
        },
        {
          "output_type": "stream",
          "name": "stdout",
          "text": [
            "University of Massachusetts Lowell\n"
          ]
        },
        {
          "output_type": "stream",
          "name": "stderr",
          "text": [
            "\r 53%|█████▎    | 100/187 [01:13<01:32,  1.06s/it]"
          ]
        },
        {
          "output_type": "stream",
          "name": "stdout",
          "text": [
            "University of Nebraska\n"
          ]
        },
        {
          "output_type": "stream",
          "name": "stderr",
          "text": [
            "\r 54%|█████▍    | 101/187 [01:14<01:27,  1.02s/it]"
          ]
        },
        {
          "output_type": "stream",
          "name": "stdout",
          "text": [
            "University of South Carolina\n"
          ]
        },
        {
          "output_type": "stream",
          "name": "stderr",
          "text": [
            "\r 55%|█████▍    | 102/187 [01:15<01:24,  1.01it/s]"
          ]
        },
        {
          "output_type": "stream",
          "name": "stdout",
          "text": [
            "Wayne State University\n"
          ]
        },
        {
          "output_type": "stream",
          "name": "stderr",
          "text": [
            "\r 55%|█████▌    | 103/187 [01:16<01:22,  1.02it/s]"
          ]
        },
        {
          "output_type": "stream",
          "name": "stdout",
          "text": [
            "Augusta University\n"
          ]
        },
        {
          "output_type": "stream",
          "name": "stderr",
          "text": [
            "\r 56%|█████▌    | 104/187 [01:17<01:20,  1.03it/s]"
          ]
        },
        {
          "output_type": "stream",
          "name": "stdout",
          "text": [
            "Boston College\n"
          ]
        },
        {
          "output_type": "stream",
          "name": "stderr",
          "text": [
            "\r 56%|█████▌    | 105/187 [01:18<01:18,  1.05it/s]"
          ]
        },
        {
          "output_type": "stream",
          "name": "stdout",
          "text": [
            "Brandeis University\n"
          ]
        },
        {
          "output_type": "stream",
          "name": "stderr",
          "text": [
            "\r 57%|█████▋    | 106/187 [01:19<01:16,  1.06it/s]"
          ]
        },
        {
          "output_type": "stream",
          "name": "stdout",
          "text": [
            "Case Western Reserve University\n"
          ]
        },
        {
          "output_type": "stream",
          "name": "stderr",
          "text": [
            "\r 57%|█████▋    | 107/187 [01:20<01:15,  1.06it/s]"
          ]
        },
        {
          "output_type": "stream",
          "name": "stdout",
          "text": [
            "Drexel University\n"
          ]
        },
        {
          "output_type": "stream",
          "name": "stderr",
          "text": [
            "\r 58%|█████▊    | 108/187 [01:21<01:14,  1.06it/s]"
          ]
        },
        {
          "output_type": "stream",
          "name": "stdout",
          "text": [
            "Florida International University\n"
          ]
        },
        {
          "output_type": "stream",
          "name": "stderr",
          "text": [
            "\r 58%|█████▊    | 109/187 [01:21<01:14,  1.05it/s]"
          ]
        },
        {
          "output_type": "stream",
          "name": "stdout",
          "text": [
            "Tulane University\n"
          ]
        },
        {
          "output_type": "stream",
          "name": "stderr",
          "text": [
            "\r 59%|█████▉    | 110/187 [01:23<01:25,  1.11s/it]"
          ]
        },
        {
          "output_type": "stream",
          "name": "stdout",
          "text": [
            "University of Iowa\n"
          ]
        },
        {
          "output_type": "stream",
          "name": "stderr",
          "text": [
            "\r 59%|█████▉    | 111/187 [01:24<01:27,  1.15s/it]"
          ]
        },
        {
          "output_type": "stream",
          "name": "stdout",
          "text": [
            "University of Louisiana  Lafayette\n"
          ]
        },
        {
          "output_type": "stream",
          "name": "stderr",
          "text": [
            "\r 60%|█████▉    | 112/187 [01:25<01:21,  1.09s/it]"
          ]
        },
        {
          "output_type": "stream",
          "name": "stdout",
          "text": [
            "Colorado State University\n"
          ]
        },
        {
          "output_type": "stream",
          "name": "stderr",
          "text": [
            "\r 60%|██████    | 113/187 [01:26<01:17,  1.04s/it]"
          ]
        },
        {
          "output_type": "stream",
          "name": "stdout",
          "text": [
            "DePaul University\n"
          ]
        },
        {
          "output_type": "stream",
          "name": "stderr",
          "text": [
            "\r 61%|██████    | 114/187 [01:27<01:14,  1.02s/it]"
          ]
        },
        {
          "output_type": "stream",
          "name": "stdout",
          "text": [
            "Kent State University\n"
          ]
        },
        {
          "output_type": "stream",
          "name": "stderr",
          "text": [
            "\r 61%|██████▏   | 115/187 [01:28<01:12,  1.00s/it]"
          ]
        },
        {
          "output_type": "stream",
          "name": "stdout",
          "text": [
            "Michigan Technological University\n"
          ]
        },
        {
          "output_type": "stream",
          "name": "stderr",
          "text": [
            "\r 62%|██████▏   | 116/187 [01:29<01:09,  1.02it/s]"
          ]
        },
        {
          "output_type": "stream",
          "name": "stdout",
          "text": [
            "Texas State University\n"
          ]
        },
        {
          "output_type": "stream",
          "name": "stderr",
          "text": [
            "\r 63%|██████▎   | 117/187 [01:30<01:08,  1.03it/s]"
          ]
        },
        {
          "output_type": "stream",
          "name": "stdout",
          "text": [
            "UCCS\n"
          ]
        },
        {
          "output_type": "stream",
          "name": "stderr",
          "text": [
            "\r 63%|██████▎   | 118/187 [01:31<01:06,  1.03it/s]"
          ]
        },
        {
          "output_type": "stream",
          "name": "stdout",
          "text": [
            "Univ of Maryland  Baltimore County\n"
          ]
        },
        {
          "output_type": "stream",
          "name": "stderr",
          "text": [
            "\r 64%|██████▎   | 119/187 [01:32<01:05,  1.03it/s]"
          ]
        },
        {
          "output_type": "stream",
          "name": "stdout",
          "text": [
            "University of Arkansas\n"
          ]
        },
        {
          "output_type": "stream",
          "name": "stderr",
          "text": [
            "\r 64%|██████▍   | 120/187 [01:33<01:05,  1.03it/s]"
          ]
        },
        {
          "output_type": "stream",
          "name": "stdout",
          "text": [
            "University of Kansas\n"
          ]
        },
        {
          "output_type": "stream",
          "name": "stderr",
          "text": [
            "\r 65%|██████▍   | 121/187 [01:34<01:04,  1.02it/s]"
          ]
        },
        {
          "output_type": "stream",
          "name": "stdout",
          "text": [
            "University of Kentucky\n"
          ]
        },
        {
          "output_type": "stream",
          "name": "stderr",
          "text": [
            "\r 65%|██████▌   | 122/187 [01:35<01:14,  1.14s/it]"
          ]
        },
        {
          "output_type": "stream",
          "name": "stdout",
          "text": [
            "University of Memphis\n"
          ]
        },
        {
          "output_type": "stream",
          "name": "stderr",
          "text": [
            "\r 66%|██████▌   | 123/187 [01:37<01:15,  1.17s/it]"
          ]
        },
        {
          "output_type": "stream",
          "name": "stdout",
          "text": [
            "University of Nevada\n"
          ]
        },
        {
          "output_type": "stream",
          "name": "stderr",
          "text": [
            "\r 66%|██████▋   | 124/187 [01:38<01:10,  1.12s/it]"
          ]
        },
        {
          "output_type": "stream",
          "name": "stdout",
          "text": [
            "University of New Hampshire\n"
          ]
        },
        {
          "output_type": "stream",
          "name": "stderr",
          "text": [
            "\r 67%|██████▋   | 125/187 [01:39<01:06,  1.07s/it]"
          ]
        },
        {
          "output_type": "stream",
          "name": "stdout",
          "text": [
            "University of North Texas\n"
          ]
        },
        {
          "output_type": "stream",
          "name": "stderr",
          "text": [
            "\r 67%|██████▋   | 126/187 [01:40<01:03,  1.04s/it]"
          ]
        },
        {
          "output_type": "stream",
          "name": "stdout",
          "text": [
            "University of South Florida\n"
          ]
        },
        {
          "output_type": "stream",
          "name": "stderr",
          "text": [
            "\r 68%|██████▊   | 127/187 [01:40<01:01,  1.02s/it]"
          ]
        },
        {
          "output_type": "stream",
          "name": "stdout",
          "text": [
            "University of Texas at San Antonio\n"
          ]
        },
        {
          "output_type": "stream",
          "name": "stderr",
          "text": [
            "\r 68%|██████▊   | 128/187 [01:41<00:59,  1.00s/it]"
          ]
        },
        {
          "output_type": "stream",
          "name": "stdout",
          "text": [
            "Virginia Commonwealth University\n"
          ]
        },
        {
          "output_type": "stream",
          "name": "stderr",
          "text": [
            "\r 69%|██████▉   | 129/187 [01:42<00:57,  1.01it/s]"
          ]
        },
        {
          "output_type": "stream",
          "name": "stdout",
          "text": [
            "Auburn University\n"
          ]
        },
        {
          "output_type": "stream",
          "name": "stderr",
          "text": [
            "\r 70%|██████▉   | 130/187 [01:43<00:56,  1.01it/s]"
          ]
        },
        {
          "output_type": "stream",
          "name": "stdout",
          "text": [
            "Georgia State University\n"
          ]
        },
        {
          "output_type": "stream",
          "name": "stderr",
          "text": [
            "\r 70%|███████   | 131/187 [01:44<00:55,  1.02it/s]"
          ]
        },
        {
          "output_type": "stream",
          "name": "stdout",
          "text": [
            "IUPUI\n"
          ]
        },
        {
          "output_type": "stream",
          "name": "stderr",
          "text": [
            "\r 71%|███████   | 132/187 [01:45<00:54,  1.01it/s]"
          ]
        },
        {
          "output_type": "stream",
          "name": "stdout",
          "text": [
            "Kansas State University\n"
          ]
        },
        {
          "output_type": "stream",
          "name": "stderr",
          "text": [
            "\r 71%|███████   | 133/187 [01:46<00:55,  1.03s/it]"
          ]
        },
        {
          "output_type": "stream",
          "name": "stdout",
          "text": [
            "Louisiana State University\n"
          ]
        },
        {
          "output_type": "stream",
          "name": "stderr",
          "text": [
            "\r 72%|███████▏  | 134/187 [01:48<01:03,  1.20s/it]"
          ]
        },
        {
          "output_type": "stream",
          "name": "stdout",
          "text": [
            "New Mexico State University\n"
          ]
        },
        {
          "output_type": "stream",
          "name": "stderr",
          "text": [
            "\r 72%|███████▏  | 135/187 [01:49<01:01,  1.17s/it]"
          ]
        },
        {
          "output_type": "stream",
          "name": "stdout",
          "text": [
            "Northern Arizona University\n"
          ]
        },
        {
          "output_type": "stream",
          "name": "stderr",
          "text": [
            "\r 73%|███████▎  | 136/187 [01:50<00:57,  1.12s/it]"
          ]
        },
        {
          "output_type": "stream",
          "name": "stdout",
          "text": [
            "Old Dominion University\n"
          ]
        },
        {
          "output_type": "stream",
          "name": "stderr",
          "text": [
            "\r 73%|███████▎  | 137/187 [01:51<00:54,  1.08s/it]"
          ]
        },
        {
          "output_type": "stream",
          "name": "stdout",
          "text": [
            "Texas Tech University\n"
          ]
        },
        {
          "output_type": "stream",
          "name": "stderr",
          "text": [
            "\r 74%|███████▍  | 138/187 [01:52<00:51,  1.06s/it]"
          ]
        },
        {
          "output_type": "stream",
          "name": "stdout",
          "text": [
            "University of Hawaii at Manoa\n"
          ]
        },
        {
          "output_type": "stream",
          "name": "stderr",
          "text": [
            "\r 74%|███████▍  | 139/187 [01:53<00:49,  1.04s/it]"
          ]
        },
        {
          "output_type": "stream",
          "name": "stdout",
          "text": [
            "University of MichiganDearborn\n"
          ]
        },
        {
          "output_type": "stream",
          "name": "stderr",
          "text": [
            "\r 75%|███████▍  | 140/187 [01:54<00:48,  1.03s/it]"
          ]
        },
        {
          "output_type": "stream",
          "name": "stdout",
          "text": [
            "University of New Mexico\n"
          ]
        },
        {
          "output_type": "stream",
          "name": "stderr",
          "text": [
            "\r 75%|███████▌  | 141/187 [01:55<00:46,  1.02s/it]"
          ]
        },
        {
          "output_type": "stream",
          "name": "stdout",
          "text": [
            "University of Vermont\n"
          ]
        },
        {
          "output_type": "stream",
          "name": "stderr",
          "text": [
            "\r 76%|███████▌  | 142/187 [01:56<00:45,  1.01s/it]"
          ]
        },
        {
          "output_type": "stream",
          "name": "stdout",
          "text": [
            "West Virginia University\n"
          ]
        },
        {
          "output_type": "stream",
          "name": "stderr",
          "text": [
            "\r 76%|███████▋  | 143/187 [01:57<00:44,  1.02s/it]"
          ]
        },
        {
          "output_type": "stream",
          "name": "stdout",
          "text": [
            "Boise State University\n"
          ]
        },
        {
          "output_type": "stream",
          "name": "stderr",
          "text": [
            "\r 77%|███████▋  | 144/187 [01:58<00:43,  1.01s/it]"
          ]
        },
        {
          "output_type": "stream",
          "name": "stdout",
          "text": [
            "Cleveland State University\n"
          ]
        },
        {
          "output_type": "stream",
          "name": "stderr",
          "text": [
            "\r 78%|███████▊  | 145/187 [02:00<00:47,  1.14s/it]"
          ]
        },
        {
          "output_type": "stream",
          "name": "stdout",
          "text": [
            "Florida Atlantic University\n"
          ]
        },
        {
          "output_type": "stream",
          "name": "stderr",
          "text": [
            "\r 78%|███████▊  | 146/187 [02:01<00:50,  1.22s/it]"
          ]
        },
        {
          "output_type": "stream",
          "name": "stdout",
          "text": [
            "Mississippi State University\n"
          ]
        },
        {
          "output_type": "stream",
          "name": "stderr",
          "text": [
            "\r 79%|███████▊  | 147/187 [02:02<00:46,  1.16s/it]"
          ]
        },
        {
          "output_type": "stream",
          "name": "stdout",
          "text": [
            "Naval Postgraduate School\n"
          ]
        },
        {
          "output_type": "stream",
          "name": "stderr",
          "text": [
            "\r 79%|███████▉  | 148/187 [02:03<00:43,  1.11s/it]"
          ]
        },
        {
          "output_type": "stream",
          "name": "stdout",
          "text": [
            "OHSU\n"
          ]
        },
        {
          "output_type": "stream",
          "name": "stderr",
          "text": [
            "\r 80%|███████▉  | 149/187 [02:04<00:41,  1.08s/it]"
          ]
        },
        {
          "output_type": "stream",
          "name": "stdout",
          "text": [
            "Ohio University\n"
          ]
        },
        {
          "output_type": "stream",
          "name": "stderr",
          "text": [
            "\r 80%|████████  | 150/187 [02:05<00:39,  1.06s/it]"
          ]
        },
        {
          "output_type": "stream",
          "name": "stdout",
          "text": [
            "Oklahoma State University\n"
          ]
        },
        {
          "output_type": "stream",
          "name": "stderr",
          "text": [
            "\r 81%|████████  | 151/187 [02:06<00:37,  1.05s/it]"
          ]
        },
        {
          "output_type": "stream",
          "name": "stdout",
          "text": [
            "The University of Alabama\n"
          ]
        },
        {
          "output_type": "stream",
          "name": "stderr",
          "text": [
            "\r 81%|████████▏ | 152/187 [02:07<00:36,  1.04s/it]"
          ]
        },
        {
          "output_type": "stream",
          "name": "stdout",
          "text": [
            "Towson University\n"
          ]
        },
        {
          "output_type": "stream",
          "name": "stderr",
          "text": [
            "\r 82%|████████▏ | 153/187 [02:08<00:35,  1.03s/it]"
          ]
        },
        {
          "output_type": "stream",
          "name": "stdout",
          "text": [
            "UNC  Greensboro\n"
          ]
        },
        {
          "output_type": "stream",
          "name": "stderr",
          "text": [
            "\r 82%|████████▏ | 154/187 [02:09<00:33,  1.02s/it]"
          ]
        },
        {
          "output_type": "stream",
          "name": "stdout",
          "text": [
            "University at Albany  SUNY\n"
          ]
        },
        {
          "output_type": "stream",
          "name": "stderr",
          "text": [
            "\r 83%|████████▎ | 155/187 [02:10<00:32,  1.00s/it]"
          ]
        },
        {
          "output_type": "stream",
          "name": "stdout",
          "text": [
            "University of Alabama  Birmingham\n"
          ]
        },
        {
          "output_type": "stream",
          "name": "stderr",
          "text": [
            "\r 83%|████████▎ | 156/187 [02:11<00:33,  1.08s/it]"
          ]
        },
        {
          "output_type": "stream",
          "name": "stdout",
          "text": [
            "University of Cincinnati\n"
          ]
        },
        {
          "output_type": "stream",
          "name": "stderr",
          "text": [
            "\r 84%|████████▍ | 157/187 [02:13<00:37,  1.24s/it]"
          ]
        },
        {
          "output_type": "stream",
          "name": "stdout",
          "text": [
            "University of Colorado  Denver\n"
          ]
        },
        {
          "output_type": "stream",
          "name": "stderr",
          "text": [
            "\r 84%|████████▍ | 158/187 [02:14<00:34,  1.18s/it]"
          ]
        },
        {
          "output_type": "stream",
          "name": "stdout",
          "text": [
            "University of Denver\n"
          ]
        },
        {
          "output_type": "stream",
          "name": "stderr",
          "text": [
            "\r 85%|████████▌ | 159/187 [02:15<00:31,  1.13s/it]"
          ]
        },
        {
          "output_type": "stream",
          "name": "stdout",
          "text": [
            "University of Massachusetts Boston\n"
          ]
        },
        {
          "output_type": "stream",
          "name": "stderr",
          "text": [
            "\r 86%|████████▌ | 160/187 [02:16<00:29,  1.09s/it]"
          ]
        },
        {
          "output_type": "stream",
          "name": "stdout",
          "text": [
            "University of Miami\n"
          ]
        },
        {
          "output_type": "stream",
          "name": "stderr",
          "text": [
            "\r 86%|████████▌ | 161/187 [02:17<00:27,  1.07s/it]"
          ]
        },
        {
          "output_type": "stream",
          "name": "stdout",
          "text": [
            "University of Missouri\n"
          ]
        },
        {
          "output_type": "stream",
          "name": "stderr",
          "text": [
            "\r 87%|████████▋ | 162/187 [02:18<00:26,  1.06s/it]"
          ]
        },
        {
          "output_type": "stream",
          "name": "stdout",
          "text": [
            "University of Nebraska  Omaha\n"
          ]
        },
        {
          "output_type": "stream",
          "name": "stderr",
          "text": [
            "\r 87%|████████▋ | 163/187 [02:19<00:24,  1.02s/it]"
          ]
        },
        {
          "output_type": "stream",
          "name": "stdout",
          "text": [
            "University of Nevada Las Vegas\n"
          ]
        },
        {
          "output_type": "stream",
          "name": "stderr",
          "text": [
            "\r 88%|████████▊ | 164/187 [02:20<00:23,  1.02s/it]"
          ]
        },
        {
          "output_type": "stream",
          "name": "stdout",
          "text": [
            "University of New Orleans\n"
          ]
        },
        {
          "output_type": "stream",
          "name": "stderr",
          "text": [
            "\r 88%|████████▊ | 165/187 [02:21<00:22,  1.02s/it]"
          ]
        },
        {
          "output_type": "stream",
          "name": "stdout",
          "text": [
            "University of Southern Mississippi\n"
          ]
        },
        {
          "output_type": "stream",
          "name": "stderr",
          "text": [
            "\r 89%|████████▉ | 166/187 [02:22<00:21,  1.02s/it]"
          ]
        },
        {
          "output_type": "stream",
          "name": "stdout",
          "text": [
            "University of Texas  El Paso\n"
          ]
        },
        {
          "output_type": "stream",
          "name": "stderr",
          "text": [
            "\r 89%|████████▉ | 167/187 [02:23<00:20,  1.02s/it]"
          ]
        },
        {
          "output_type": "stream",
          "name": "stdout",
          "text": [
            "University of Wisconsin  Milwaukee\n"
          ]
        },
        {
          "output_type": "stream",
          "name": "stderr",
          "text": [
            "\r 90%|████████▉ | 168/187 [02:25<00:22,  1.21s/it]"
          ]
        },
        {
          "output_type": "stream",
          "name": "stdout",
          "text": [
            "University of Wyoming\n"
          ]
        },
        {
          "output_type": "stream",
          "name": "stderr",
          "text": [
            "\r 90%|█████████ | 169/187 [02:26<00:22,  1.23s/it]"
          ]
        },
        {
          "output_type": "stream",
          "name": "stdout",
          "text": [
            "Utah State University\n"
          ]
        },
        {
          "output_type": "stream",
          "name": "stderr",
          "text": [
            "\r 91%|█████████ | 170/187 [02:27<00:19,  1.17s/it]"
          ]
        },
        {
          "output_type": "stream",
          "name": "stdout",
          "text": [
            "Western Michigan University\n"
          ]
        },
        {
          "output_type": "stream",
          "name": "stderr",
          "text": [
            "\r 91%|█████████▏| 171/187 [02:28<00:18,  1.13s/it]"
          ]
        },
        {
          "output_type": "stream",
          "name": "stdout",
          "text": [
            "Wichita State University\n"
          ]
        },
        {
          "output_type": "stream",
          "name": "stderr",
          "text": [
            "\r 92%|█████████▏| 172/187 [02:29<00:16,  1.10s/it]"
          ]
        },
        {
          "output_type": "stream",
          "name": "stdout",
          "text": [
            "Florida Institute of Technology\n"
          ]
        },
        {
          "output_type": "stream",
          "name": "stderr",
          "text": [
            "\r 93%|█████████▎| 173/187 [02:30<00:15,  1.08s/it]"
          ]
        },
        {
          "output_type": "stream",
          "name": "stdout",
          "text": [
            "Indiana State University\n"
          ]
        },
        {
          "output_type": "stream",
          "name": "stderr",
          "text": [
            "\r 93%|█████████▎| 174/187 [02:31<00:13,  1.07s/it]"
          ]
        },
        {
          "output_type": "stream",
          "name": "stdout",
          "text": [
            "Missouri ST\n"
          ]
        },
        {
          "output_type": "stream",
          "name": "stderr",
          "text": [
            "\r 94%|█████████▎| 175/187 [02:32<00:12,  1.06s/it]"
          ]
        },
        {
          "output_type": "stream",
          "name": "stdout",
          "text": [
            "Missouri University of Technology\n"
          ]
        },
        {
          "output_type": "stream",
          "name": "stderr",
          "text": [
            "\r 94%|█████████▍| 176/187 [02:33<00:11,  1.05s/it]"
          ]
        },
        {
          "output_type": "stream",
          "name": "stdout",
          "text": [
            "Montana State University\n"
          ]
        },
        {
          "output_type": "stream",
          "name": "stderr",
          "text": [
            "\r 95%|█████████▍| 177/187 [02:34<00:10,  1.05s/it]"
          ]
        },
        {
          "output_type": "stream",
          "name": "stdout",
          "text": [
            "New Mexico Tech\n"
          ]
        },
        {
          "output_type": "stream",
          "name": "stderr",
          "text": [
            "\r 95%|█████████▌| 178/187 [02:35<00:09,  1.04s/it]"
          ]
        },
        {
          "output_type": "stream",
          "name": "stdout",
          "text": [
            "Nova Southeastern University\n"
          ]
        },
        {
          "output_type": "stream",
          "name": "stderr",
          "text": [
            "\r 96%|█████████▌| 179/187 [02:37<00:09,  1.20s/it]"
          ]
        },
        {
          "output_type": "stream",
          "name": "stdout",
          "text": [
            "Oakland University\n"
          ]
        },
        {
          "output_type": "stream",
          "name": "stderr",
          "text": [
            "\r 96%|█████████▋| 180/187 [02:38<00:08,  1.26s/it]"
          ]
        },
        {
          "output_type": "stream",
          "name": "stdout",
          "text": [
            "Shanghaitech University\n"
          ]
        },
        {
          "output_type": "stream",
          "name": "stderr",
          "text": [
            "\r 97%|█████████▋| 181/187 [02:39<00:07,  1.19s/it]"
          ]
        },
        {
          "output_type": "stream",
          "name": "stdout",
          "text": [
            "Southern Methodist University\n"
          ]
        },
        {
          "output_type": "stream",
          "name": "stderr",
          "text": [
            "\r 97%|█████████▋| 182/187 [02:40<00:05,  1.14s/it]"
          ]
        },
        {
          "output_type": "stream",
          "name": "stdout",
          "text": [
            "University of Alabama  Huntsville\n"
          ]
        },
        {
          "output_type": "stream",
          "name": "stderr",
          "text": [
            "\r 98%|█████████▊| 183/187 [02:41<00:04,  1.11s/it]"
          ]
        },
        {
          "output_type": "stream",
          "name": "stdout",
          "text": [
            "University of Louisville\n"
          ]
        },
        {
          "output_type": "stream",
          "name": "stderr",
          "text": [
            "\r 98%|█████████▊| 184/187 [02:42<00:03,  1.09s/it]"
          ]
        },
        {
          "output_type": "stream",
          "name": "stdout",
          "text": [
            "University of Missouri  Kansas City\n"
          ]
        },
        {
          "output_type": "stream",
          "name": "stderr",
          "text": [
            "\r 99%|█████████▉| 185/187 [02:43<00:02,  1.07s/it]"
          ]
        },
        {
          "output_type": "stream",
          "name": "stdout",
          "text": [
            "University of Oklahoma\n"
          ]
        },
        {
          "output_type": "stream",
          "name": "stderr",
          "text": [
            "\r 99%|█████████▉| 186/187 [02:45<00:01,  1.06s/it]"
          ]
        },
        {
          "output_type": "stream",
          "name": "stdout",
          "text": [
            "University of Tulsa\n"
          ]
        },
        {
          "output_type": "stream",
          "name": "stderr",
          "text": [
            "100%|██████████| 187/187 [02:46<00:00,  1.13it/s]\n"
          ]
        }
      ],
      "source": [
        "\n",
        "from tqdm import tqdm\n",
        "all_df = []\n",
        "for i in tqdm(range(len(univ_data))):\n",
        "    \n",
        "    div_id = univ_data.loc[i, 'div_ids']\n",
        "    university = univ_data.loc[i, 'uni_name']\n",
        "    print(university)\n",
        "    # DataFrame1 for faculty name, area, publications and university\n",
        "    # Getting the division of each university which is containing the faculty table\n",
        "    table = S.find('div', {'id': div_id})\n",
        "    df1 = pd.read_html(str(table))[0]\n",
        "    df1.drop('Unnamed: 0', axis=1, inplace=True)\n",
        "    df1 = df1.replace(to_replace='None', value=np.nan).dropna()\n",
        "    df1.columns = ['faculty_name_and_area', 'publications', 'adjusted']\n",
        "    df1['university_name'] = university\n",
        "    df1 = df1.reset_index()\n",
        "    df1.drop('index', axis=1, inplace=True)\n",
        "    # DataFrame2 for faculty_homepage, dblp link\n",
        "    headers = []\n",
        "    data = []\n",
        "    for row in table.find_all('tr'):\n",
        "        row_data = []\n",
        "        for cell in row.find_all(['td', 'th']):\n",
        "            # Extract hyperlink if it exists\n",
        "            link = cell.find('a')\n",
        "            if link is not None:\n",
        "                row_data.append(link.get('href'))\n",
        "            else:\n",
        "                row_data.append(cell.text.strip())\n",
        "\n",
        "            # Extract header if it exists\n",
        "            if cell.name == 'a':\n",
        "                if link is not None:\n",
        "                    headers.append('link_row'+ row_data[-1])\n",
        "        if row_data:\n",
        "            data.append(row_data)\n",
        "    df2 = pd.DataFrame(data)\n",
        "    df2.columns = df2.iloc[0]\n",
        "    df2 = df2[1:]\n",
        "    df2 = df2.replace(to_replace='None', value=np.nan).dropna()\n",
        "    df2 = df2.iloc[: , :-1]\n",
        "    df2 = df2.iloc[: , 1:]\n",
        "    df2.columns.values[1] = 'dblp'\n",
        "    df2 = df2.reset_index()\n",
        "    df2.drop('index', axis=1, inplace=True)\n",
        "    df2.columns = ['faculty_homepage', 'dblp']\n",
        "    df = pd.concat([df1, df2], axis=1, join='inner')\n",
        "    df.columns = [\"faculty_name_and_area\", \"publications\", \"adjusted\", \"university_name\", \"faculty_home_page\", \"dblp\"]\n",
        "    df['faculty_areaname'] = df['faculty_name_and_area'].apply(get_areas)\n",
        "    df['faculty_name_and_area'] = df['faculty_name_and_area'].apply(get_name)\n",
        "    df = df.rename(columns={\"faculty_name_and_area\": \"faculty_name\"})\n",
        "    new_df = df\n",
        "    new_df['faculty_areaname'] = new_df.faculty_areaname.str.split(',')\n",
        "    new_df = new_df.explode('faculty_areaname')\n",
        "    all_df.append(new_df)"
      ]
    },
    {
      "cell_type": "code",
      "execution_count": null,
      "id": "371e2dc6",
      "metadata": {
        "id": "371e2dc6"
      },
      "outputs": [],
      "source": [
        "all_df = pd.concat(all_df)"
      ]
    },
    {
      "cell_type": "code",
      "execution_count": null,
      "id": "f3a302cb",
      "metadata": {
        "colab": {
          "base_uri": "https://localhost:8080/",
          "height": 627
        },
        "id": "f3a302cb",
        "outputId": "fb8ed348-a037-4e19-bdd6-edb4e1eaef3f"
      },
      "outputs": [
        {
          "output_type": "execute_result",
          "data": {
            "text/plain": [
              "        faculty_name  publications  adjusted             university_name  \\\n",
              "0      Graham Neubig         135.0      35.1  Carnegie Mellon University   \n",
              "1      Abhinav Gupta         111.0      32.3  Carnegie Mellon University   \n",
              "2   David P Woodruff          99.0      33.7  Carnegie Mellon University   \n",
              "2   David P Woodruff          99.0      33.7  Carnegie Mellon University   \n",
              "3       Howie Choset          83.0      19.5  Carnegie Mellon University   \n",
              "..               ...           ...       ...                         ...   \n",
              "1     Christan Grant           1.0       0.2      University of Oklahoma   \n",
              "2       Amy McGovern           1.0       0.2      University of Oklahoma   \n",
              "3    Chris E. Weaver           1.0       0.5      University of Oklahoma   \n",
              "0        Tyler Moore           4.0       1.1         University of Tulsa   \n",
              "1          John Hale           1.0       0.2         University of Tulsa   \n",
              "\n",
              "                               faculty_home_page  \\\n",
              "0                        http://www.phontron.com   \n",
              "1                http://www.cs.cmu.edu/~abhinavg   \n",
              "2                http://www.cs.cmu.edu/~dwoodruf   \n",
              "2                http://www.cs.cmu.edu/~dwoodruf   \n",
              "3                http://www.cs.cmu.edu/~./choset   \n",
              "..                                           ...   \n",
              "1         http://www.ou.edu/coe/cs/people/cgrant   \n",
              "2       http://www.ou.edu/coe/cs/people/mcgovern   \n",
              "3              http://cs.ou.edu/~weaver/academic   \n",
              "0              https://tylermoore.ens.utulsa.edu   \n",
              "1   https://faculty.utulsa.edu/faculty/john-hale   \n",
              "\n",
              "                                              dblp faculty_areaname  \n",
              "0         https://dblp.org/pers/hd/n/Neubig:Graham              nlp  \n",
              "1    https://dblp.org/pers/hd/g/Gupta_0001:Abhinav           vision  \n",
              "2   https://dblp.org/pers/hd/w/Woodruff:David_P%3D               ml  \n",
              "2   https://dblp.org/pers/hd/w/Woodruff:David_P%3D           theory  \n",
              "3          https://dblp.org/pers/hd/c/Choset:Howie         robotics  \n",
              "..                                             ...              ...  \n",
              "1        https://dblp.org/pers/hd/g/Grant:Christan          unknown  \n",
              "2          https://dblp.org/pers/hd/m/McGovern:Amy          unknown  \n",
              "3     https://dblp.org/pers/hd/w/Weaver:Chris_E%3D          unknown  \n",
              "0      https://dblp.org/pers/hd/m/Moore_0001:Tyler         security  \n",
              "1             https://dblp.org/pers/hd/h/Hale:John          unknown  \n",
              "\n",
              "[5869 rows x 7 columns]"
            ],
            "text/html": [
              "\n",
              "  <div id=\"df-76aa1c7d-6ab7-42e0-b2c0-1b0a0f8ef7fa\">\n",
              "    <div class=\"colab-df-container\">\n",
              "      <div>\n",
              "<style scoped>\n",
              "    .dataframe tbody tr th:only-of-type {\n",
              "        vertical-align: middle;\n",
              "    }\n",
              "\n",
              "    .dataframe tbody tr th {\n",
              "        vertical-align: top;\n",
              "    }\n",
              "\n",
              "    .dataframe thead th {\n",
              "        text-align: right;\n",
              "    }\n",
              "</style>\n",
              "<table border=\"1\" class=\"dataframe\">\n",
              "  <thead>\n",
              "    <tr style=\"text-align: right;\">\n",
              "      <th></th>\n",
              "      <th>faculty_name</th>\n",
              "      <th>publications</th>\n",
              "      <th>adjusted</th>\n",
              "      <th>university_name</th>\n",
              "      <th>faculty_home_page</th>\n",
              "      <th>dblp</th>\n",
              "      <th>faculty_areaname</th>\n",
              "    </tr>\n",
              "  </thead>\n",
              "  <tbody>\n",
              "    <tr>\n",
              "      <th>0</th>\n",
              "      <td>Graham Neubig</td>\n",
              "      <td>135.0</td>\n",
              "      <td>35.1</td>\n",
              "      <td>Carnegie Mellon University</td>\n",
              "      <td>http://www.phontron.com</td>\n",
              "      <td>https://dblp.org/pers/hd/n/Neubig:Graham</td>\n",
              "      <td>nlp</td>\n",
              "    </tr>\n",
              "    <tr>\n",
              "      <th>1</th>\n",
              "      <td>Abhinav Gupta</td>\n",
              "      <td>111.0</td>\n",
              "      <td>32.3</td>\n",
              "      <td>Carnegie Mellon University</td>\n",
              "      <td>http://www.cs.cmu.edu/~abhinavg</td>\n",
              "      <td>https://dblp.org/pers/hd/g/Gupta_0001:Abhinav</td>\n",
              "      <td>vision</td>\n",
              "    </tr>\n",
              "    <tr>\n",
              "      <th>2</th>\n",
              "      <td>David P Woodruff</td>\n",
              "      <td>99.0</td>\n",
              "      <td>33.7</td>\n",
              "      <td>Carnegie Mellon University</td>\n",
              "      <td>http://www.cs.cmu.edu/~dwoodruf</td>\n",
              "      <td>https://dblp.org/pers/hd/w/Woodruff:David_P%3D</td>\n",
              "      <td>ml</td>\n",
              "    </tr>\n",
              "    <tr>\n",
              "      <th>2</th>\n",
              "      <td>David P Woodruff</td>\n",
              "      <td>99.0</td>\n",
              "      <td>33.7</td>\n",
              "      <td>Carnegie Mellon University</td>\n",
              "      <td>http://www.cs.cmu.edu/~dwoodruf</td>\n",
              "      <td>https://dblp.org/pers/hd/w/Woodruff:David_P%3D</td>\n",
              "      <td>theory</td>\n",
              "    </tr>\n",
              "    <tr>\n",
              "      <th>3</th>\n",
              "      <td>Howie Choset</td>\n",
              "      <td>83.0</td>\n",
              "      <td>19.5</td>\n",
              "      <td>Carnegie Mellon University</td>\n",
              "      <td>http://www.cs.cmu.edu/~./choset</td>\n",
              "      <td>https://dblp.org/pers/hd/c/Choset:Howie</td>\n",
              "      <td>robotics</td>\n",
              "    </tr>\n",
              "    <tr>\n",
              "      <th>...</th>\n",
              "      <td>...</td>\n",
              "      <td>...</td>\n",
              "      <td>...</td>\n",
              "      <td>...</td>\n",
              "      <td>...</td>\n",
              "      <td>...</td>\n",
              "      <td>...</td>\n",
              "    </tr>\n",
              "    <tr>\n",
              "      <th>1</th>\n",
              "      <td>Christan Grant</td>\n",
              "      <td>1.0</td>\n",
              "      <td>0.2</td>\n",
              "      <td>University of Oklahoma</td>\n",
              "      <td>http://www.ou.edu/coe/cs/people/cgrant</td>\n",
              "      <td>https://dblp.org/pers/hd/g/Grant:Christan</td>\n",
              "      <td>unknown</td>\n",
              "    </tr>\n",
              "    <tr>\n",
              "      <th>2</th>\n",
              "      <td>Amy McGovern</td>\n",
              "      <td>1.0</td>\n",
              "      <td>0.2</td>\n",
              "      <td>University of Oklahoma</td>\n",
              "      <td>http://www.ou.edu/coe/cs/people/mcgovern</td>\n",
              "      <td>https://dblp.org/pers/hd/m/McGovern:Amy</td>\n",
              "      <td>unknown</td>\n",
              "    </tr>\n",
              "    <tr>\n",
              "      <th>3</th>\n",
              "      <td>Chris E. Weaver</td>\n",
              "      <td>1.0</td>\n",
              "      <td>0.5</td>\n",
              "      <td>University of Oklahoma</td>\n",
              "      <td>http://cs.ou.edu/~weaver/academic</td>\n",
              "      <td>https://dblp.org/pers/hd/w/Weaver:Chris_E%3D</td>\n",
              "      <td>unknown</td>\n",
              "    </tr>\n",
              "    <tr>\n",
              "      <th>0</th>\n",
              "      <td>Tyler Moore</td>\n",
              "      <td>4.0</td>\n",
              "      <td>1.1</td>\n",
              "      <td>University of Tulsa</td>\n",
              "      <td>https://tylermoore.ens.utulsa.edu</td>\n",
              "      <td>https://dblp.org/pers/hd/m/Moore_0001:Tyler</td>\n",
              "      <td>security</td>\n",
              "    </tr>\n",
              "    <tr>\n",
              "      <th>1</th>\n",
              "      <td>John Hale</td>\n",
              "      <td>1.0</td>\n",
              "      <td>0.2</td>\n",
              "      <td>University of Tulsa</td>\n",
              "      <td>https://faculty.utulsa.edu/faculty/john-hale</td>\n",
              "      <td>https://dblp.org/pers/hd/h/Hale:John</td>\n",
              "      <td>unknown</td>\n",
              "    </tr>\n",
              "  </tbody>\n",
              "</table>\n",
              "<p>5869 rows × 7 columns</p>\n",
              "</div>\n",
              "      <button class=\"colab-df-convert\" onclick=\"convertToInteractive('df-76aa1c7d-6ab7-42e0-b2c0-1b0a0f8ef7fa')\"\n",
              "              title=\"Convert this dataframe to an interactive table.\"\n",
              "              style=\"display:none;\">\n",
              "        \n",
              "  <svg xmlns=\"http://www.w3.org/2000/svg\" height=\"24px\"viewBox=\"0 0 24 24\"\n",
              "       width=\"24px\">\n",
              "    <path d=\"M0 0h24v24H0V0z\" fill=\"none\"/>\n",
              "    <path d=\"M18.56 5.44l.94 2.06.94-2.06 2.06-.94-2.06-.94-.94-2.06-.94 2.06-2.06.94zm-11 1L8.5 8.5l.94-2.06 2.06-.94-2.06-.94L8.5 2.5l-.94 2.06-2.06.94zm10 10l.94 2.06.94-2.06 2.06-.94-2.06-.94-.94-2.06-.94 2.06-2.06.94z\"/><path d=\"M17.41 7.96l-1.37-1.37c-.4-.4-.92-.59-1.43-.59-.52 0-1.04.2-1.43.59L10.3 9.45l-7.72 7.72c-.78.78-.78 2.05 0 2.83L4 21.41c.39.39.9.59 1.41.59.51 0 1.02-.2 1.41-.59l7.78-7.78 2.81-2.81c.8-.78.8-2.07 0-2.86zM5.41 20L4 18.59l7.72-7.72 1.47 1.35L5.41 20z\"/>\n",
              "  </svg>\n",
              "      </button>\n",
              "      \n",
              "  <style>\n",
              "    .colab-df-container {\n",
              "      display:flex;\n",
              "      flex-wrap:wrap;\n",
              "      gap: 12px;\n",
              "    }\n",
              "\n",
              "    .colab-df-convert {\n",
              "      background-color: #E8F0FE;\n",
              "      border: none;\n",
              "      border-radius: 50%;\n",
              "      cursor: pointer;\n",
              "      display: none;\n",
              "      fill: #1967D2;\n",
              "      height: 32px;\n",
              "      padding: 0 0 0 0;\n",
              "      width: 32px;\n",
              "    }\n",
              "\n",
              "    .colab-df-convert:hover {\n",
              "      background-color: #E2EBFA;\n",
              "      box-shadow: 0px 1px 2px rgba(60, 64, 67, 0.3), 0px 1px 3px 1px rgba(60, 64, 67, 0.15);\n",
              "      fill: #174EA6;\n",
              "    }\n",
              "\n",
              "    [theme=dark] .colab-df-convert {\n",
              "      background-color: #3B4455;\n",
              "      fill: #D2E3FC;\n",
              "    }\n",
              "\n",
              "    [theme=dark] .colab-df-convert:hover {\n",
              "      background-color: #434B5C;\n",
              "      box-shadow: 0px 1px 3px 1px rgba(0, 0, 0, 0.15);\n",
              "      filter: drop-shadow(0px 1px 2px rgba(0, 0, 0, 0.3));\n",
              "      fill: #FFFFFF;\n",
              "    }\n",
              "  </style>\n",
              "\n",
              "      <script>\n",
              "        const buttonEl =\n",
              "          document.querySelector('#df-76aa1c7d-6ab7-42e0-b2c0-1b0a0f8ef7fa button.colab-df-convert');\n",
              "        buttonEl.style.display =\n",
              "          google.colab.kernel.accessAllowed ? 'block' : 'none';\n",
              "\n",
              "        async function convertToInteractive(key) {\n",
              "          const element = document.querySelector('#df-76aa1c7d-6ab7-42e0-b2c0-1b0a0f8ef7fa');\n",
              "          const dataTable =\n",
              "            await google.colab.kernel.invokeFunction('convertToInteractive',\n",
              "                                                     [key], {});\n",
              "          if (!dataTable) return;\n",
              "\n",
              "          const docLinkHtml = 'Like what you see? Visit the ' +\n",
              "            '<a target=\"_blank\" href=https://colab.research.google.com/notebooks/data_table.ipynb>data table notebook</a>'\n",
              "            + ' to learn more about interactive tables.';\n",
              "          element.innerHTML = '';\n",
              "          dataTable['output_type'] = 'display_data';\n",
              "          await google.colab.output.renderOutput(dataTable, element);\n",
              "          const docLink = document.createElement('div');\n",
              "          docLink.innerHTML = docLinkHtml;\n",
              "          element.appendChild(docLink);\n",
              "        }\n",
              "      </script>\n",
              "    </div>\n",
              "  </div>\n",
              "  "
            ]
          },
          "metadata": {},
          "execution_count": 25
        }
      ],
      "source": [
        "all_df"
      ]
    },
    {
      "cell_type": "code",
      "execution_count": null,
      "id": "009582b2",
      "metadata": {
        "colab": {
          "base_uri": "https://localhost:8080/"
        },
        "id": "009582b2",
        "outputId": "10a9e392-89e5-4290-bf04-bf5fc10bebf0"
      },
      "outputs": [
        {
          "output_type": "stream",
          "name": "stdout",
          "text": [
            "422\n"
          ]
        }
      ],
      "source": [
        "print(len(all_df[all_df['faculty_areaname']=='hci']))"
      ]
    },
    {
      "cell_type": "code",
      "source": [
        "all_df.to_csv('all_faculty_info.csv')"
      ],
      "metadata": {
        "id": "vAV5uyP1IeaV"
      },
      "id": "vAV5uyP1IeaV",
      "execution_count": null,
      "outputs": []
    },
    {
      "cell_type": "code",
      "source": [
        "div_ids = ['Carnegie%20Mellon%20University-faculty', 'Univ.%20of%20Illinois%20at%20Urbana-Champaign-faculty', 'Florida%20State%20University-faculty']\n",
        "universities = ['Carnegie Mellon University', 'Univ of Illinois at UrbanaChampaign','Florida State University']\n",
        "\n",
        "from tqdm import tqdm\n",
        "three_df = []\n",
        "for i in tqdm(range(3)):\n",
        "    \n",
        "    div_id = div_ids[i]\n",
        "    university = universities[i]\n",
        "    print(university)\n",
        "    # DataFrame1 for faculty name, area, publications and university\n",
        "    # Getting the division of each university which is containing the faculty table\n",
        "    table = S.find('div', {'id': div_id})\n",
        "    df1 = pd.read_html(str(table))[0]\n",
        "    df1.drop('Unnamed: 0', axis=1, inplace=True)\n",
        "    df1 = df1.replace(to_replace='None', value=np.nan).dropna()\n",
        "    df1.columns = ['faculty_name_and_area', 'publications', 'adjusted']\n",
        "    df1['university_name'] = university\n",
        "    df1 = df1.reset_index()\n",
        "    df1.drop('index', axis=1, inplace=True)\n",
        "    # DataFrame2 for faculty_homepage, dblp link\n",
        "    headers = []\n",
        "    data = []\n",
        "    for row in table.find_all('tr'):\n",
        "        row_data = []\n",
        "        for cell in row.find_all(['td', 'th']):\n",
        "            # Extract hyperlink if it exists\n",
        "            link = cell.find('a')\n",
        "            if link is not None:\n",
        "                row_data.append(link.get('href'))\n",
        "            else:\n",
        "                row_data.append(cell.text.strip())\n",
        "\n",
        "            # Extract header if it exists\n",
        "            if cell.name == 'a':\n",
        "                if link is not None:\n",
        "                    headers.append('link_row'+ row_data[-1])\n",
        "        if row_data:\n",
        "            data.append(row_data)\n",
        "    df2 = pd.DataFrame(data)\n",
        "    df2.columns = df2.iloc[0]\n",
        "    df2 = df2[1:]\n",
        "    df2 = df2.replace(to_replace='None', value=np.nan).dropna()\n",
        "    df2 = df2.iloc[: , :-1]\n",
        "    df2 = df2.iloc[: , 1:]\n",
        "    df2.columns.values[1] = 'dblp'\n",
        "    df2 = df2.reset_index()\n",
        "    df2.drop('index', axis=1, inplace=True)\n",
        "    df2.columns = ['faculty_homepage', 'dblp']\n",
        "    df = pd.concat([df1, df2], axis=1, join='inner')\n",
        "    df.columns = [\"faculty_name_and_area\", \"publications\", \"adjusted\", \"university_name\", \"faculty_home_page\", \"dblp\"]\n",
        "    df['faculty_areaname'] = df['faculty_name_and_area'].apply(get_areas)\n",
        "    df['faculty_name_and_area'] = df['faculty_name_and_area'].apply(get_name)\n",
        "    df = df.rename(columns={\"faculty_name_and_area\": \"faculty_name\"})\n",
        "    new_df = df\n",
        "    new_df['faculty_areaname'] = new_df.faculty_areaname.str.split(',')\n",
        "    new_df = new_df.explode('faculty_areaname')\n",
        "    three_df.append(new_df)\n",
        "three_df = pd.concat(three_df)"
      ],
      "metadata": {
        "colab": {
          "base_uri": "https://localhost:8080/"
        },
        "id": "ShU0Qj0dJkX6",
        "outputId": "35cc1270-01ac-4b50-c102-17bd1e7f8b86"
      },
      "id": "ShU0Qj0dJkX6",
      "execution_count": null,
      "outputs": [
        {
          "output_type": "stream",
          "name": "stderr",
          "text": [
            "\r  0%|          | 0/3 [00:00<?, ?it/s]"
          ]
        },
        {
          "output_type": "stream",
          "name": "stdout",
          "text": [
            "Carnegie Mellon University\n"
          ]
        },
        {
          "output_type": "stream",
          "name": "stderr",
          "text": [
            "\r 33%|███▎      | 1/3 [00:00<00:00,  3.72it/s]"
          ]
        },
        {
          "output_type": "stream",
          "name": "stdout",
          "text": [
            "Univ of Illinois at UrbanaChampaign\n"
          ]
        },
        {
          "output_type": "stream",
          "name": "stderr",
          "text": [
            "\r 67%|██████▋   | 2/3 [00:00<00:00,  3.98it/s]"
          ]
        },
        {
          "output_type": "stream",
          "name": "stdout",
          "text": [
            "Florida State University\n"
          ]
        },
        {
          "output_type": "stream",
          "name": "stderr",
          "text": [
            "100%|██████████| 3/3 [00:01<00:00,  1.79it/s]\n"
          ]
        }
      ]
    },
    {
      "cell_type": "code",
      "source": [
        "three_df.to_csv('three_uni.csv')"
      ],
      "metadata": {
        "id": "4PdXxoqjLYKF"
      },
      "id": "4PdXxoqjLYKF",
      "execution_count": null,
      "outputs": []
    },
    {
      "cell_type": "code",
      "source": [
        "import pandas as pd\n",
        "\n",
        "df = pd.read_csv('funding_info2.csv')\n",
        "df.sample(10)"
      ],
      "metadata": {
        "colab": {
          "base_uri": "https://localhost:8080/",
          "height": 618
        },
        "id": "z1em9hondn5T",
        "outputId": "65aa5bf4-a178-4742-c430-06b2b45315d6"
      },
      "id": "z1em9hondn5T",
      "execution_count": null,
      "outputs": [
        {
          "output_type": "execute_result",
          "data": {
            "text/plain": [
              "     Unnamed: 0  Unnamed: 0.1          faculty_name  publications  adjusted  \\\n",
              "183         183           151  Seth Copen Goldstein           2.0       0.5   \n",
              "104         104            88        Virginia Smith          15.0       3.4   \n",
              "115         115            97          Nihar B Shah          13.0       4.3   \n",
              "268         268            52       Matus Telgarsky          16.0       7.1   \n",
              "72           72            60        Norman M Sadeh          22.0       4.2   \n",
              "336         336           105         Luke N. Olson           2.0       0.5   \n",
              "300         300            78        Lav R Varshney           8.0       1.9   \n",
              "112         112            95          Andr Platzer          13.0       6.0   \n",
              "79           79            66          Anupam Datta          20.0       4.9   \n",
              "49           49            44       Pravesh Kothari          27.0       8.1   \n",
              "\n",
              "                         university_name  \\\n",
              "183           Carnegie Mellon University   \n",
              "104           Carnegie Mellon University   \n",
              "115           Carnegie Mellon University   \n",
              "268  Univ of Illinois at UrbanaChampaign   \n",
              "72            Carnegie Mellon University   \n",
              "336  Univ of Illinois at UrbanaChampaign   \n",
              "300  Univ of Illinois at UrbanaChampaign   \n",
              "112           Carnegie Mellon University   \n",
              "79            Carnegie Mellon University   \n",
              "49            Carnegie Mellon University   \n",
              "\n",
              "                          faculty_home_page  \\\n",
              "183             http://www.cs.cmu.edu/~seth   \n",
              "104        http://users.ece.cmu.edu/~smithv   \n",
              "115           http://www.cs.cmu.edu/~nihars   \n",
              "268              http://mjt.cs.illinois.edu   \n",
              "72                 http://www.normsadeh.org   \n",
              "336            http://lukeo.cs.illinois.edu   \n",
              "300   http://varshney.web.engr.illinois.edu   \n",
              "112                   http://symbolaris.com   \n",
              "79   http://www.andrew.cmu.edu/user/danupam   \n",
              "49         https://www.cs.cmu.edu/~praveshk   \n",
              "\n",
              "                                                  dblp faculty_areaname  \\\n",
              "183    https://dblp.org/pers/hd/g/Goldstein:Seth_Copen         robotics   \n",
              "104          https://dblp.org/pers/hd/s/Smith:Virginia               ml   \n",
              "115         https://dblp.org/pers/hd/s/Shah:Nihar_B%3D               ai   \n",
              "268         https://dblp.org/pers/hd/t/Telgarsky:Matus               ml   \n",
              "72        https://dblp.org/pers/hd/s/Sadeh:Norman_M%3D              nlp   \n",
              "336         https://dblp.org/pers/hd/o/Olson:Luke_N%3D          unknown   \n",
              "300       https://dblp.org/pers/hd/v/Varshney:Lav_R%3D               ai   \n",
              "112  https://dblp.org/pers/hd/p/Platzer:Andr%3Deacu...            logic   \n",
              "79             https://dblp.org/pers/hd/d/Datta:Anupam         security   \n",
              "49          https://dblp.org/pers/hd/k/Kothari:Pravesh           theory   \n",
              "\n",
              "     providing_assitantship  matched_ratio    match_words  \n",
              "183                       0       0.000000            NaN  \n",
              "104                       0       0.000000            NaN  \n",
              "115                       0       0.000000            NaN  \n",
              "268                       0       0.000000            NaN  \n",
              "72                        0       0.000000            NaN  \n",
              "336                       0       0.000000            NaN  \n",
              "300                       0       0.000000            NaN  \n",
              "112                       0       0.000000            NaN  \n",
              "79                        0       0.000000            NaN  \n",
              "49                        1       0.090909  fellowships,   "
            ],
            "text/html": [
              "\n",
              "  <div id=\"df-d386598c-e870-4cf4-a909-8fd73eafb098\">\n",
              "    <div class=\"colab-df-container\">\n",
              "      <div>\n",
              "<style scoped>\n",
              "    .dataframe tbody tr th:only-of-type {\n",
              "        vertical-align: middle;\n",
              "    }\n",
              "\n",
              "    .dataframe tbody tr th {\n",
              "        vertical-align: top;\n",
              "    }\n",
              "\n",
              "    .dataframe thead th {\n",
              "        text-align: right;\n",
              "    }\n",
              "</style>\n",
              "<table border=\"1\" class=\"dataframe\">\n",
              "  <thead>\n",
              "    <tr style=\"text-align: right;\">\n",
              "      <th></th>\n",
              "      <th>Unnamed: 0</th>\n",
              "      <th>Unnamed: 0.1</th>\n",
              "      <th>faculty_name</th>\n",
              "      <th>publications</th>\n",
              "      <th>adjusted</th>\n",
              "      <th>university_name</th>\n",
              "      <th>faculty_home_page</th>\n",
              "      <th>dblp</th>\n",
              "      <th>faculty_areaname</th>\n",
              "      <th>providing_assitantship</th>\n",
              "      <th>matched_ratio</th>\n",
              "      <th>match_words</th>\n",
              "    </tr>\n",
              "  </thead>\n",
              "  <tbody>\n",
              "    <tr>\n",
              "      <th>183</th>\n",
              "      <td>183</td>\n",
              "      <td>151</td>\n",
              "      <td>Seth Copen Goldstein</td>\n",
              "      <td>2.0</td>\n",
              "      <td>0.5</td>\n",
              "      <td>Carnegie Mellon University</td>\n",
              "      <td>http://www.cs.cmu.edu/~seth</td>\n",
              "      <td>https://dblp.org/pers/hd/g/Goldstein:Seth_Copen</td>\n",
              "      <td>robotics</td>\n",
              "      <td>0</td>\n",
              "      <td>0.000000</td>\n",
              "      <td>NaN</td>\n",
              "    </tr>\n",
              "    <tr>\n",
              "      <th>104</th>\n",
              "      <td>104</td>\n",
              "      <td>88</td>\n",
              "      <td>Virginia Smith</td>\n",
              "      <td>15.0</td>\n",
              "      <td>3.4</td>\n",
              "      <td>Carnegie Mellon University</td>\n",
              "      <td>http://users.ece.cmu.edu/~smithv</td>\n",
              "      <td>https://dblp.org/pers/hd/s/Smith:Virginia</td>\n",
              "      <td>ml</td>\n",
              "      <td>0</td>\n",
              "      <td>0.000000</td>\n",
              "      <td>NaN</td>\n",
              "    </tr>\n",
              "    <tr>\n",
              "      <th>115</th>\n",
              "      <td>115</td>\n",
              "      <td>97</td>\n",
              "      <td>Nihar B Shah</td>\n",
              "      <td>13.0</td>\n",
              "      <td>4.3</td>\n",
              "      <td>Carnegie Mellon University</td>\n",
              "      <td>http://www.cs.cmu.edu/~nihars</td>\n",
              "      <td>https://dblp.org/pers/hd/s/Shah:Nihar_B%3D</td>\n",
              "      <td>ai</td>\n",
              "      <td>0</td>\n",
              "      <td>0.000000</td>\n",
              "      <td>NaN</td>\n",
              "    </tr>\n",
              "    <tr>\n",
              "      <th>268</th>\n",
              "      <td>268</td>\n",
              "      <td>52</td>\n",
              "      <td>Matus Telgarsky</td>\n",
              "      <td>16.0</td>\n",
              "      <td>7.1</td>\n",
              "      <td>Univ of Illinois at UrbanaChampaign</td>\n",
              "      <td>http://mjt.cs.illinois.edu</td>\n",
              "      <td>https://dblp.org/pers/hd/t/Telgarsky:Matus</td>\n",
              "      <td>ml</td>\n",
              "      <td>0</td>\n",
              "      <td>0.000000</td>\n",
              "      <td>NaN</td>\n",
              "    </tr>\n",
              "    <tr>\n",
              "      <th>72</th>\n",
              "      <td>72</td>\n",
              "      <td>60</td>\n",
              "      <td>Norman M Sadeh</td>\n",
              "      <td>22.0</td>\n",
              "      <td>4.2</td>\n",
              "      <td>Carnegie Mellon University</td>\n",
              "      <td>http://www.normsadeh.org</td>\n",
              "      <td>https://dblp.org/pers/hd/s/Sadeh:Norman_M%3D</td>\n",
              "      <td>nlp</td>\n",
              "      <td>0</td>\n",
              "      <td>0.000000</td>\n",
              "      <td>NaN</td>\n",
              "    </tr>\n",
              "    <tr>\n",
              "      <th>336</th>\n",
              "      <td>336</td>\n",
              "      <td>105</td>\n",
              "      <td>Luke N. Olson</td>\n",
              "      <td>2.0</td>\n",
              "      <td>0.5</td>\n",
              "      <td>Univ of Illinois at UrbanaChampaign</td>\n",
              "      <td>http://lukeo.cs.illinois.edu</td>\n",
              "      <td>https://dblp.org/pers/hd/o/Olson:Luke_N%3D</td>\n",
              "      <td>unknown</td>\n",
              "      <td>0</td>\n",
              "      <td>0.000000</td>\n",
              "      <td>NaN</td>\n",
              "    </tr>\n",
              "    <tr>\n",
              "      <th>300</th>\n",
              "      <td>300</td>\n",
              "      <td>78</td>\n",
              "      <td>Lav R Varshney</td>\n",
              "      <td>8.0</td>\n",
              "      <td>1.9</td>\n",
              "      <td>Univ of Illinois at UrbanaChampaign</td>\n",
              "      <td>http://varshney.web.engr.illinois.edu</td>\n",
              "      <td>https://dblp.org/pers/hd/v/Varshney:Lav_R%3D</td>\n",
              "      <td>ai</td>\n",
              "      <td>0</td>\n",
              "      <td>0.000000</td>\n",
              "      <td>NaN</td>\n",
              "    </tr>\n",
              "    <tr>\n",
              "      <th>112</th>\n",
              "      <td>112</td>\n",
              "      <td>95</td>\n",
              "      <td>Andr Platzer</td>\n",
              "      <td>13.0</td>\n",
              "      <td>6.0</td>\n",
              "      <td>Carnegie Mellon University</td>\n",
              "      <td>http://symbolaris.com</td>\n",
              "      <td>https://dblp.org/pers/hd/p/Platzer:Andr%3Deacu...</td>\n",
              "      <td>logic</td>\n",
              "      <td>0</td>\n",
              "      <td>0.000000</td>\n",
              "      <td>NaN</td>\n",
              "    </tr>\n",
              "    <tr>\n",
              "      <th>79</th>\n",
              "      <td>79</td>\n",
              "      <td>66</td>\n",
              "      <td>Anupam Datta</td>\n",
              "      <td>20.0</td>\n",
              "      <td>4.9</td>\n",
              "      <td>Carnegie Mellon University</td>\n",
              "      <td>http://www.andrew.cmu.edu/user/danupam</td>\n",
              "      <td>https://dblp.org/pers/hd/d/Datta:Anupam</td>\n",
              "      <td>security</td>\n",
              "      <td>0</td>\n",
              "      <td>0.000000</td>\n",
              "      <td>NaN</td>\n",
              "    </tr>\n",
              "    <tr>\n",
              "      <th>49</th>\n",
              "      <td>49</td>\n",
              "      <td>44</td>\n",
              "      <td>Pravesh Kothari</td>\n",
              "      <td>27.0</td>\n",
              "      <td>8.1</td>\n",
              "      <td>Carnegie Mellon University</td>\n",
              "      <td>https://www.cs.cmu.edu/~praveshk</td>\n",
              "      <td>https://dblp.org/pers/hd/k/Kothari:Pravesh</td>\n",
              "      <td>theory</td>\n",
              "      <td>1</td>\n",
              "      <td>0.090909</td>\n",
              "      <td>fellowships,</td>\n",
              "    </tr>\n",
              "  </tbody>\n",
              "</table>\n",
              "</div>\n",
              "      <button class=\"colab-df-convert\" onclick=\"convertToInteractive('df-d386598c-e870-4cf4-a909-8fd73eafb098')\"\n",
              "              title=\"Convert this dataframe to an interactive table.\"\n",
              "              style=\"display:none;\">\n",
              "        \n",
              "  <svg xmlns=\"http://www.w3.org/2000/svg\" height=\"24px\"viewBox=\"0 0 24 24\"\n",
              "       width=\"24px\">\n",
              "    <path d=\"M0 0h24v24H0V0z\" fill=\"none\"/>\n",
              "    <path d=\"M18.56 5.44l.94 2.06.94-2.06 2.06-.94-2.06-.94-.94-2.06-.94 2.06-2.06.94zm-11 1L8.5 8.5l.94-2.06 2.06-.94-2.06-.94L8.5 2.5l-.94 2.06-2.06.94zm10 10l.94 2.06.94-2.06 2.06-.94-2.06-.94-.94-2.06-.94 2.06-2.06.94z\"/><path d=\"M17.41 7.96l-1.37-1.37c-.4-.4-.92-.59-1.43-.59-.52 0-1.04.2-1.43.59L10.3 9.45l-7.72 7.72c-.78.78-.78 2.05 0 2.83L4 21.41c.39.39.9.59 1.41.59.51 0 1.02-.2 1.41-.59l7.78-7.78 2.81-2.81c.8-.78.8-2.07 0-2.86zM5.41 20L4 18.59l7.72-7.72 1.47 1.35L5.41 20z\"/>\n",
              "  </svg>\n",
              "      </button>\n",
              "      \n",
              "  <style>\n",
              "    .colab-df-container {\n",
              "      display:flex;\n",
              "      flex-wrap:wrap;\n",
              "      gap: 12px;\n",
              "    }\n",
              "\n",
              "    .colab-df-convert {\n",
              "      background-color: #E8F0FE;\n",
              "      border: none;\n",
              "      border-radius: 50%;\n",
              "      cursor: pointer;\n",
              "      display: none;\n",
              "      fill: #1967D2;\n",
              "      height: 32px;\n",
              "      padding: 0 0 0 0;\n",
              "      width: 32px;\n",
              "    }\n",
              "\n",
              "    .colab-df-convert:hover {\n",
              "      background-color: #E2EBFA;\n",
              "      box-shadow: 0px 1px 2px rgba(60, 64, 67, 0.3), 0px 1px 3px 1px rgba(60, 64, 67, 0.15);\n",
              "      fill: #174EA6;\n",
              "    }\n",
              "\n",
              "    [theme=dark] .colab-df-convert {\n",
              "      background-color: #3B4455;\n",
              "      fill: #D2E3FC;\n",
              "    }\n",
              "\n",
              "    [theme=dark] .colab-df-convert:hover {\n",
              "      background-color: #434B5C;\n",
              "      box-shadow: 0px 1px 3px 1px rgba(0, 0, 0, 0.15);\n",
              "      filter: drop-shadow(0px 1px 2px rgba(0, 0, 0, 0.3));\n",
              "      fill: #FFFFFF;\n",
              "    }\n",
              "  </style>\n",
              "\n",
              "      <script>\n",
              "        const buttonEl =\n",
              "          document.querySelector('#df-d386598c-e870-4cf4-a909-8fd73eafb098 button.colab-df-convert');\n",
              "        buttonEl.style.display =\n",
              "          google.colab.kernel.accessAllowed ? 'block' : 'none';\n",
              "\n",
              "        async function convertToInteractive(key) {\n",
              "          const element = document.querySelector('#df-d386598c-e870-4cf4-a909-8fd73eafb098');\n",
              "          const dataTable =\n",
              "            await google.colab.kernel.invokeFunction('convertToInteractive',\n",
              "                                                     [key], {});\n",
              "          if (!dataTable) return;\n",
              "\n",
              "          const docLinkHtml = 'Like what you see? Visit the ' +\n",
              "            '<a target=\"_blank\" href=https://colab.research.google.com/notebooks/data_table.ipynb>data table notebook</a>'\n",
              "            + ' to learn more about interactive tables.';\n",
              "          element.innerHTML = '';\n",
              "          dataTable['output_type'] = 'display_data';\n",
              "          await google.colab.output.renderOutput(dataTable, element);\n",
              "          const docLink = document.createElement('div');\n",
              "          docLink.innerHTML = docLinkHtml;\n",
              "          element.appendChild(docLink);\n",
              "        }\n",
              "      </script>\n",
              "    </div>\n",
              "  </div>\n",
              "  "
            ]
          },
          "metadata": {},
          "execution_count": 4
        }
      ]
    },
    {
      "cell_type": "code",
      "source": [
        "# Querying Homepages\n",
        "import requests\n",
        "from selenium import webdriver\n",
        "from selenium.webdriver.chrome.options import Options\n",
        "from bs4 import BeautifulSoup\n",
        "import pandas as pd\n",
        "import re\n",
        "import matplotlib.pyplot as plt\n",
        "from tqdm import tqdm\n",
        "from urllib.error import URLError\n",
        "import time\n",
        "from selenium.common.exceptions import WebDriverException\n",
        "\n",
        "options = Options()\n",
        "options.headless = True\n",
        "driver = webdriver.Chrome(options=options)\n",
        "driver.implicitly_wait(3)\n",
        "\n",
        "search_terms = ['openings', 'self-motivated', 'graduate student position', 'research assistantship', 'postdoctoral fellowship',\n",
        "                'research grants', 'fellowships', 'scholarships', 'strong research skills', 'ability to work independently', 'prior research experience']\n",
        "\n",
        "df = pd.read_csv('three_uni.csv')\n",
        "df['providing_assitantship'] = 0\n",
        "df['matched_ratio'] = 0\n",
        "df['match_words'] = \"\"\n",
        "\n",
        "for i in tqdm(range(len(df))):\n",
        "    if i > 0 and df.loc[i-1, 'faculty_home_page'] == df.loc[i, 'faculty_home_page']:\n",
        "        df.loc[i, 'providing_assitantship'] = df.loc[i-1, 'providing_assitantship']\n",
        "        df.loc[i, 'matched_ratio'] = df.loc[i-1, 'matched_ratio']\n",
        "    df.loc[i, 'faculty_home_page']\n",
        "    url = df.loc[i, 'faculty_home_page']\n",
        "    retry_count = 0\n",
        "    while retry_count < 3:\n",
        "        try:\n",
        "            driver.get(url)\n",
        "            html = driver.page_source\n",
        "            soup = BeautifulSoup(html, 'html.parser')\n",
        "\n",
        "            html = soup.prettify()\n",
        "            html = str(html).lower()\n",
        "            count = 0\n",
        "            matched = \"\"\n",
        "            for s in search_terms:\n",
        "                if s in html:\n",
        "                    df.loc[i, 'providing_assitantship'] = 1\n",
        "                    count += 1\n",
        "                    matched = s + ', '\n",
        "            df.loc[i, 'matched_ratio'] = count / len(search_terms)\n",
        "            df.loc[i, 'match_words'] = matched\n",
        "            break\n",
        "        except (URLError, WebDriverException) as e:\n",
        "            retry_count += 1\n",
        "            print(f\"Error: {e}. Retrying in 2 seconds...\")\n",
        "            time.sleep(2)\n",
        "    if retry_count >= 3:\n",
        "        print(f\"Failed to retrieve data for URL: {url}\")\n",
        "\n",
        "driver.quit()\n"
      ],
      "metadata": {
        "colab": {
          "base_uri": "https://localhost:8080/"
        },
        "id": "UqhRxYQZNJeH",
        "outputId": "366e150e-b081-45f7-c488-b3acbdfc0c09"
      },
      "id": "UqhRxYQZNJeH",
      "execution_count": 1,
      "outputs": [
        {
          "output_type": "stream",
          "name": "stdout",
          "text": [
            "openings\n",
            "self-motivated\n",
            "graduate student position\n",
            "research assistantship\n",
            "postdoctoral fellowship\n",
            "research grants\n",
            "fellowships\n",
            "scholarships\n",
            "strong research skills\n",
            "ability to work independently\n",
            "prior research experience\n"
          ]
        }
      ]
    },
    {
      "cell_type": "code",
      "source": [
        "#Plotting\n",
        "import pandas as pd\n",
        "import matplotlib.pyplot as plt\n",
        "\n",
        "df = pd.read_csv('funding_info2.csv')\n",
        "df = df[df['providing_assitantship']==1]\n",
        "\n",
        "ax = df['faculty_areaname'].value_counts().plot.bar()\n",
        "ax.bar_label(ax.containers[0], label_type=\"edge\")\n",
        "plt.title('Funding offer count in differecnt areas of three Universities: CMU, UIUC and FSU')\n",
        "plt.xlabel('Available Offers')\n",
        "plt.ylabel('Area')\n",
        "plt.legend(loc=\"upper right\")\n",
        "plt.show()\n",
        "\n",
        "all_df = pd.read_csv('all_faculty_info.csv')\n",
        "all_df = all_df.drop(all_df[all_df['faculty_areaname'] == 'unknown'].index)\n",
        "\n",
        "top_areas = all_df['faculty_areaname'].value_counts().head(10)\n",
        "ax = top_areas.plot(kind='pie', autopct='%1.1f%%')\n",
        "ax.set_ylabel('')\n",
        "ax.legend().remove()\n",
        "plt.title('Top 10 Areas with the Highest Faculty Population')\n",
        "plt.show()\n",
        "\n",
        "ml_faculties = all_df[all_df['faculty_areaname']=='ml']\n",
        "ml_faculties = ml_faculties.sort_values('publications', ascending=False)\n",
        "ml_faculties = ml_faculties.loc[:, ['faculty_name', 'publications', 'university_name']]\n",
        "print(ml_faculties.head(7))\n",
        "\n",
        "ml_faculties = ml_faculties.sort_values('publications', ascending=False)\n",
        "\n",
        "top_faculties = ml_faculties.head(5)\n",
        "\n",
        "ax = top_faculties.plot(kind='barh', x='faculty_name', y='publications')\n",
        "\n",
        "for index, row in top_faculties.iterrows():\n",
        "    ax.text(row['publications']+1, index, row['publications'], ha='left', va='center')\n",
        "    ax.text(row['publications']+1, index-0.2, f\"{row['publications']} ({index+1})\", ha='left', va='center')\n",
        "\n",
        "\n",
        "ax.set_xlabel('Number of Publications')\n",
        "\n",
        "y_label = 'Faculty Name\\nUniversity Name'\n",
        "ax.set_ylabel(y_label)\n",
        "\n",
        "\n",
        "for i, name in enumerate(top_faculties['university_name']):\n",
        "    ax.text(0, i, name, ha='left', va='center')\n",
        "\n",
        "ax.invert_yaxis()\n",
        "ax.bar_label(ax.containers[0], label_type=\"edge\")\n",
        "plt.title('Top 5 Faculties in ML by Number of Publications (2012-2022)')\n",
        "\n",
        "plt.show()\n"
      ],
      "metadata": {
        "id": "G6vMRngGNvPp"
      },
      "id": "G6vMRngGNvPp",
      "execution_count": null,
      "outputs": []
    }
  ],
  "metadata": {
    "kernelspec": {
      "display_name": "Python 3 (ipykernel)",
      "language": "python",
      "name": "python3"
    },
    "language_info": {
      "codemirror_mode": {
        "name": "ipython",
        "version": 3
      },
      "file_extension": ".py",
      "mimetype": "text/x-python",
      "name": "python",
      "nbconvert_exporter": "python",
      "pygments_lexer": "ipython3",
      "version": "3.9.12"
    },
    "colab": {
      "provenance": []
    }
  },
  "nbformat": 4,
  "nbformat_minor": 5
}