{
 "cells": [
  {
   "cell_type": "markdown",
   "id": "cd3e04ca",
   "metadata": {},
   "source": [
    "# Titanic data\n",
    "\n",
    "The objective is to correctly classify who is going to survive and who is going to die.\n",
    "\n",
    "Classification problem\n",
    "\n",
    "To have a good Machine Learning model outcome or result we need good data. The better the data the better our model is going to perform. Feature engineering is really important, that is how we get improvement in performance..."
   ]
  },
  {
   "cell_type": "code",
   "execution_count": 1,
   "id": "aa24316c",
   "metadata": {},
   "outputs": [],
   "source": [
    " # Libraries\n",
    "import pandas as pd\n",
    "# to show all columns and lines \n",
    "pd.set_option('display.max_columns', None)\n",
    "pd.set_option('display.max_rows', None)\n",
    "\n",
    "import numpy as np\n",
    "import matplotlib.pyplot as plt\n",
    "\n",
    "from sklearn.model_selection import cross_val_score\n",
    "from sklearn.linear_model import LogisticRegression\n",
    "from sklearn.ensemble import RandomForestClassifier\n",
    "from sklearn.svm import SVC\n",
    "from sklearn.ensemble import VotingClassifier"
   ]
  },
  {
   "cell_type": "code",
   "execution_count": 2,
   "id": "379930ad",
   "metadata": {},
   "outputs": [],
   "source": [
    "# importing data\n",
    "path = '/Users/schama/Desktop/Mirror/00FSU/00CoursesSpring2023/ProjectsDataSci/Assignment3/train.csv'\n",
    "path2 = '/Users/schama/Desktop/Mirror/00FSU/00CoursesSpring2023/ProjectsDataSci/Assignment3/test.csv'\n",
    "train = pd.read_csv(path, index_col = 'PassengerId')\n",
    "test = pd.read_csv(path2)"
   ]
  },
  {
   "cell_type": "code",
   "execution_count": 3,
   "id": "187e7122",
   "metadata": {},
   "outputs": [
    {
     "data": {
      "text/html": [
       "<div>\n",
       "<style scoped>\n",
       "    .dataframe tbody tr th:only-of-type {\n",
       "        vertical-align: middle;\n",
       "    }\n",
       "\n",
       "    .dataframe tbody tr th {\n",
       "        vertical-align: top;\n",
       "    }\n",
       "\n",
       "    .dataframe thead th {\n",
       "        text-align: right;\n",
       "    }\n",
       "</style>\n",
       "<table border=\"1\" class=\"dataframe\">\n",
       "  <thead>\n",
       "    <tr style=\"text-align: right;\">\n",
       "      <th></th>\n",
       "      <th>Survived</th>\n",
       "      <th>Pclass</th>\n",
       "      <th>Name</th>\n",
       "      <th>Sex</th>\n",
       "      <th>Age</th>\n",
       "      <th>SibSp</th>\n",
       "      <th>Parch</th>\n",
       "      <th>Ticket</th>\n",
       "      <th>Fare</th>\n",
       "      <th>Cabin</th>\n",
       "      <th>Embarked</th>\n",
       "    </tr>\n",
       "    <tr>\n",
       "      <th>PassengerId</th>\n",
       "      <th></th>\n",
       "      <th></th>\n",
       "      <th></th>\n",
       "      <th></th>\n",
       "      <th></th>\n",
       "      <th></th>\n",
       "      <th></th>\n",
       "      <th></th>\n",
       "      <th></th>\n",
       "      <th></th>\n",
       "      <th></th>\n",
       "    </tr>\n",
       "  </thead>\n",
       "  <tbody>\n",
       "    <tr>\n",
       "      <th>1</th>\n",
       "      <td>0</td>\n",
       "      <td>3</td>\n",
       "      <td>Braund, Mr. Owen Harris</td>\n",
       "      <td>male</td>\n",
       "      <td>22.0</td>\n",
       "      <td>1</td>\n",
       "      <td>0</td>\n",
       "      <td>A/5 21171</td>\n",
       "      <td>7.2500</td>\n",
       "      <td>NaN</td>\n",
       "      <td>S</td>\n",
       "    </tr>\n",
       "    <tr>\n",
       "      <th>2</th>\n",
       "      <td>1</td>\n",
       "      <td>1</td>\n",
       "      <td>Cumings, Mrs. John Bradley (Florence Briggs Th...</td>\n",
       "      <td>female</td>\n",
       "      <td>38.0</td>\n",
       "      <td>1</td>\n",
       "      <td>0</td>\n",
       "      <td>PC 17599</td>\n",
       "      <td>71.2833</td>\n",
       "      <td>C85</td>\n",
       "      <td>C</td>\n",
       "    </tr>\n",
       "    <tr>\n",
       "      <th>3</th>\n",
       "      <td>1</td>\n",
       "      <td>3</td>\n",
       "      <td>Heikkinen, Miss. Laina</td>\n",
       "      <td>female</td>\n",
       "      <td>26.0</td>\n",
       "      <td>0</td>\n",
       "      <td>0</td>\n",
       "      <td>STON/O2. 3101282</td>\n",
       "      <td>7.9250</td>\n",
       "      <td>NaN</td>\n",
       "      <td>S</td>\n",
       "    </tr>\n",
       "    <tr>\n",
       "      <th>4</th>\n",
       "      <td>1</td>\n",
       "      <td>1</td>\n",
       "      <td>Futrelle, Mrs. Jacques Heath (Lily May Peel)</td>\n",
       "      <td>female</td>\n",
       "      <td>35.0</td>\n",
       "      <td>1</td>\n",
       "      <td>0</td>\n",
       "      <td>113803</td>\n",
       "      <td>53.1000</td>\n",
       "      <td>C123</td>\n",
       "      <td>S</td>\n",
       "    </tr>\n",
       "    <tr>\n",
       "      <th>5</th>\n",
       "      <td>0</td>\n",
       "      <td>3</td>\n",
       "      <td>Allen, Mr. William Henry</td>\n",
       "      <td>male</td>\n",
       "      <td>35.0</td>\n",
       "      <td>0</td>\n",
       "      <td>0</td>\n",
       "      <td>373450</td>\n",
       "      <td>8.0500</td>\n",
       "      <td>NaN</td>\n",
       "      <td>S</td>\n",
       "    </tr>\n",
       "  </tbody>\n",
       "</table>\n",
       "</div>"
      ],
      "text/plain": [
       "             Survived  Pclass  \\\n",
       "PassengerId                     \n",
       "1                   0       3   \n",
       "2                   1       1   \n",
       "3                   1       3   \n",
       "4                   1       1   \n",
       "5                   0       3   \n",
       "\n",
       "                                                          Name     Sex   Age  \\\n",
       "PassengerId                                                                    \n",
       "1                                      Braund, Mr. Owen Harris    male  22.0   \n",
       "2            Cumings, Mrs. John Bradley (Florence Briggs Th...  female  38.0   \n",
       "3                                       Heikkinen, Miss. Laina  female  26.0   \n",
       "4                 Futrelle, Mrs. Jacques Heath (Lily May Peel)  female  35.0   \n",
       "5                                     Allen, Mr. William Henry    male  35.0   \n",
       "\n",
       "             SibSp  Parch            Ticket     Fare Cabin Embarked  \n",
       "PassengerId                                                          \n",
       "1                1      0         A/5 21171   7.2500   NaN        S  \n",
       "2                1      0          PC 17599  71.2833   C85        C  \n",
       "3                0      0  STON/O2. 3101282   7.9250   NaN        S  \n",
       "4                1      0            113803  53.1000  C123        S  \n",
       "5                0      0            373450   8.0500   NaN        S  "
      ]
     },
     "execution_count": 3,
     "metadata": {},
     "output_type": "execute_result"
    }
   ],
   "source": [
    "train.head()"
   ]
  },
  {
   "cell_type": "code",
   "execution_count": 4,
   "id": "c03fa5d0",
   "metadata": {},
   "outputs": [],
   "source": [
    "#train.Cabin"
   ]
  },
  {
   "cell_type": "code",
   "execution_count": 5,
   "id": "997e6d64",
   "metadata": {},
   "outputs": [
    {
     "data": {
      "text/html": [
       "<div>\n",
       "<style scoped>\n",
       "    .dataframe tbody tr th:only-of-type {\n",
       "        vertical-align: middle;\n",
       "    }\n",
       "\n",
       "    .dataframe tbody tr th {\n",
       "        vertical-align: top;\n",
       "    }\n",
       "\n",
       "    .dataframe thead th {\n",
       "        text-align: right;\n",
       "    }\n",
       "</style>\n",
       "<table border=\"1\" class=\"dataframe\">\n",
       "  <thead>\n",
       "    <tr style=\"text-align: right;\">\n",
       "      <th></th>\n",
       "      <th>PassengerId</th>\n",
       "      <th>Pclass</th>\n",
       "      <th>Name</th>\n",
       "      <th>Sex</th>\n",
       "      <th>Age</th>\n",
       "      <th>SibSp</th>\n",
       "      <th>Parch</th>\n",
       "      <th>Ticket</th>\n",
       "      <th>Fare</th>\n",
       "      <th>Cabin</th>\n",
       "      <th>Embarked</th>\n",
       "    </tr>\n",
       "  </thead>\n",
       "  <tbody>\n",
       "    <tr>\n",
       "      <th>0</th>\n",
       "      <td>892</td>\n",
       "      <td>3</td>\n",
       "      <td>Kelly, Mr. James</td>\n",
       "      <td>male</td>\n",
       "      <td>34.5</td>\n",
       "      <td>0</td>\n",
       "      <td>0</td>\n",
       "      <td>330911</td>\n",
       "      <td>7.8292</td>\n",
       "      <td>NaN</td>\n",
       "      <td>Q</td>\n",
       "    </tr>\n",
       "    <tr>\n",
       "      <th>1</th>\n",
       "      <td>893</td>\n",
       "      <td>3</td>\n",
       "      <td>Wilkes, Mrs. James (Ellen Needs)</td>\n",
       "      <td>female</td>\n",
       "      <td>47.0</td>\n",
       "      <td>1</td>\n",
       "      <td>0</td>\n",
       "      <td>363272</td>\n",
       "      <td>7.0000</td>\n",
       "      <td>NaN</td>\n",
       "      <td>S</td>\n",
       "    </tr>\n",
       "    <tr>\n",
       "      <th>2</th>\n",
       "      <td>894</td>\n",
       "      <td>2</td>\n",
       "      <td>Myles, Mr. Thomas Francis</td>\n",
       "      <td>male</td>\n",
       "      <td>62.0</td>\n",
       "      <td>0</td>\n",
       "      <td>0</td>\n",
       "      <td>240276</td>\n",
       "      <td>9.6875</td>\n",
       "      <td>NaN</td>\n",
       "      <td>Q</td>\n",
       "    </tr>\n",
       "    <tr>\n",
       "      <th>3</th>\n",
       "      <td>895</td>\n",
       "      <td>3</td>\n",
       "      <td>Wirz, Mr. Albert</td>\n",
       "      <td>male</td>\n",
       "      <td>27.0</td>\n",
       "      <td>0</td>\n",
       "      <td>0</td>\n",
       "      <td>315154</td>\n",
       "      <td>8.6625</td>\n",
       "      <td>NaN</td>\n",
       "      <td>S</td>\n",
       "    </tr>\n",
       "    <tr>\n",
       "      <th>4</th>\n",
       "      <td>896</td>\n",
       "      <td>3</td>\n",
       "      <td>Hirvonen, Mrs. Alexander (Helga E Lindqvist)</td>\n",
       "      <td>female</td>\n",
       "      <td>22.0</td>\n",
       "      <td>1</td>\n",
       "      <td>1</td>\n",
       "      <td>3101298</td>\n",
       "      <td>12.2875</td>\n",
       "      <td>NaN</td>\n",
       "      <td>S</td>\n",
       "    </tr>\n",
       "  </tbody>\n",
       "</table>\n",
       "</div>"
      ],
      "text/plain": [
       "   PassengerId  Pclass                                          Name     Sex  \\\n",
       "0          892       3                              Kelly, Mr. James    male   \n",
       "1          893       3              Wilkes, Mrs. James (Ellen Needs)  female   \n",
       "2          894       2                     Myles, Mr. Thomas Francis    male   \n",
       "3          895       3                              Wirz, Mr. Albert    male   \n",
       "4          896       3  Hirvonen, Mrs. Alexander (Helga E Lindqvist)  female   \n",
       "\n",
       "    Age  SibSp  Parch   Ticket     Fare Cabin Embarked  \n",
       "0  34.5      0      0   330911   7.8292   NaN        Q  \n",
       "1  47.0      1      0   363272   7.0000   NaN        S  \n",
       "2  62.0      0      0   240276   9.6875   NaN        Q  \n",
       "3  27.0      0      0   315154   8.6625   NaN        S  \n",
       "4  22.0      1      1  3101298  12.2875   NaN        S  "
      ]
     },
     "execution_count": 5,
     "metadata": {},
     "output_type": "execute_result"
    }
   ],
   "source": [
    "test.head()"
   ]
  },
  {
   "cell_type": "code",
   "execution_count": 6,
   "id": "478c0005",
   "metadata": {},
   "outputs": [
    {
     "data": {
      "text/plain": [
       "(418, 11)"
      ]
     },
     "execution_count": 6,
     "metadata": {},
     "output_type": "execute_result"
    }
   ],
   "source": [
    "test.shape"
   ]
  },
  {
   "cell_type": "code",
   "execution_count": 7,
   "id": "56ef69f4",
   "metadata": {},
   "outputs": [
    {
     "data": {
      "text/plain": [
       "(891, 11)"
      ]
     },
     "execution_count": 7,
     "metadata": {},
     "output_type": "execute_result"
    }
   ],
   "source": [
    "train.shape"
   ]
  },
  {
   "cell_type": "code",
   "execution_count": 8,
   "id": "7bc7abe5",
   "metadata": {},
   "outputs": [
    {
     "data": {
      "text/plain": [
       "Survived      int64\n",
       "Pclass        int64\n",
       "Name         object\n",
       "Sex          object\n",
       "Age         float64\n",
       "SibSp         int64\n",
       "Parch         int64\n",
       "Ticket       object\n",
       "Fare        float64\n",
       "Cabin        object\n",
       "Embarked     object\n",
       "dtype: object"
      ]
     },
     "execution_count": 8,
     "metadata": {},
     "output_type": "execute_result"
    }
   ],
   "source": [
    "train.dtypes"
   ]
  },
  {
   "cell_type": "markdown",
   "id": "35156470",
   "metadata": {},
   "source": [
    "# What is the data and what should be done to each variable\n",
    "\n",
    "- PassengerId - unique identification\n",
    "- Survived - numeric. labels that we need to learn - 0 = No, 1 = Yes\n",
    "- Pclass - numeric. first second or third class - 1 = 1st, 2 = 2nd, 3 = 3rd\n",
    "- Name - complete name, can we extract the titles and see if it helps?\n",
    "- Sex - male and female - needs encoding 0/1\n",
    "- Age - numeric, but has missing?\n",
    "- SibSp - # of siblings / spouses aboard the Titanic\n",
    "- Parch - # of parents / children aboard the Titanic\t\n",
    "- ticket - ticket number, is it unique? DELETE? Get something?\n",
    "- fare - ammount paid, has 1 missing in test set\n",
    "- cabin - cabin number, maybe important to get deck? has a lot of missing\n",
    "- embarked - port where got in the boat - C = Cherbourg, Q = Queenstown, S = Southampton - has missing\n",
    "\n",
    "\n",
    "Since the data is small, we should use CV to check the models."
   ]
  },
  {
   "cell_type": "markdown",
   "id": "951d1f3f",
   "metadata": {},
   "source": [
    "# The gold standard\n",
    "\n",
    "Following the book to see if it really is the gold standard for Titanic"
   ]
  },
  {
   "cell_type": "code",
   "execution_count": 9,
   "id": "c33a2aa1",
   "metadata": {},
   "outputs": [],
   "source": [
    "goldtrain = train.copy()\n",
    "goldtest = test.copy()"
   ]
  },
  {
   "cell_type": "code",
   "execution_count": 10,
   "id": "9f5bd0ec",
   "metadata": {},
   "outputs": [
    {
     "data": {
      "text/plain": [
       "Survived      0\n",
       "Pclass        0\n",
       "Name          0\n",
       "Sex           0\n",
       "Age         177\n",
       "SibSp         0\n",
       "Parch         0\n",
       "Ticket        0\n",
       "Fare          0\n",
       "Cabin       687\n",
       "Embarked      2\n",
       "dtype: int64"
      ]
     },
     "execution_count": 10,
     "metadata": {},
     "output_type": "execute_result"
    }
   ],
   "source": [
    "goldtrain.isna().sum()"
   ]
  },
  {
   "cell_type": "code",
   "execution_count": 11,
   "id": "9f61f036",
   "metadata": {},
   "outputs": [
    {
     "data": {
      "text/plain": [
       "PassengerId      0\n",
       "Pclass           0\n",
       "Name             0\n",
       "Sex              0\n",
       "Age             86\n",
       "SibSp            0\n",
       "Parch            0\n",
       "Ticket           0\n",
       "Fare             1\n",
       "Cabin          327\n",
       "Embarked         0\n",
       "dtype: int64"
      ]
     },
     "execution_count": 11,
     "metadata": {},
     "output_type": "execute_result"
    }
   ],
   "source": [
    "goldtest.isna().sum()"
   ]
  },
  {
   "cell_type": "code",
   "execution_count": 12,
   "id": "e60e8d4a",
   "metadata": {},
   "outputs": [],
   "source": [
    "goldtrain.drop('Cabin', axis=1, inplace=True)\n",
    "goldtest.drop('Cabin', axis=1, inplace=True)"
   ]
  },
  {
   "cell_type": "code",
   "execution_count": 13,
   "id": "02dfa6e6",
   "metadata": {},
   "outputs": [],
   "source": [
    "medianAge = goldtrain.Age.median()\n",
    "goldtrain['Age'] = goldtrain.Age.fillna(medianAge)\n",
    "medianAge2 = goldtest.Age.median()\n",
    "goldtest['Age'] = goldtest.Age.fillna(medianAge2)"
   ]
  },
  {
   "cell_type": "code",
   "execution_count": 14,
   "id": "95aefc62",
   "metadata": {},
   "outputs": [],
   "source": [
    "goldtrain.Embarked.fillna('U', inplace=True)\n",
    "# test does not have missing in Embarked"
   ]
  },
  {
   "cell_type": "code",
   "execution_count": 15,
   "id": "96cf5d5e",
   "metadata": {},
   "outputs": [],
   "source": [
    "# getting dummy variable with pandas\n",
    "gender = pd.get_dummies(goldtrain['Sex'], prefix='Sex')\n",
    "embarked = pd.get_dummies(goldtrain['Embarked'], prefix='Port')\n",
    "goldtrain = pd.concat([goldtrain, gender, embarked], axis=1)"
   ]
  },
  {
   "cell_type": "code",
   "execution_count": 16,
   "id": "f4a744be",
   "metadata": {},
   "outputs": [],
   "source": [
    "# for test\n",
    "gender = pd.get_dummies(goldtest['Sex'], prefix='Sex')\n",
    "embarked = pd.get_dummies(goldtest['Embarked'], prefix='Port')\n",
    "goldtest = pd.concat([goldtest, gender, embarked], axis=1)"
   ]
  },
  {
   "cell_type": "code",
   "execution_count": 17,
   "id": "0f53d454",
   "metadata": {},
   "outputs": [],
   "source": [
    "# inputing a column 'Port_U' in test with zeros\n",
    "goldtest['Port_U'] = 0"
   ]
  },
  {
   "cell_type": "code",
   "execution_count": 18,
   "id": "02bfe239",
   "metadata": {},
   "outputs": [],
   "source": [
    "goldtrain.drop(['Sex', 'Embarked'], axis=1, inplace=True)\n",
    "goldtest.drop(['Sex', 'Embarked'], axis=1, inplace=True)"
   ]
  },
  {
   "cell_type": "code",
   "execution_count": 19,
   "id": "500189e5",
   "metadata": {},
   "outputs": [],
   "source": [
    "# one-hot encoding the class (does not seem to be an ordinal relationship with surviving!)\n",
    "pclass = pd.get_dummies(goldtrain['Pclass'], prefix='class')\n",
    "goldtrain = pd.concat([goldtrain, pclass], axis=1)\n",
    "goldtrain.drop('Pclass', axis=1, inplace=True)"
   ]
  },
  {
   "cell_type": "code",
   "execution_count": 20,
   "id": "d742140f",
   "metadata": {},
   "outputs": [],
   "source": [
    "# now test\n",
    "pclass = pd.get_dummies(goldtest['Pclass'], prefix='class')\n",
    "goldtest = pd.concat([goldtest, pclass], axis=1)\n",
    "goldtest.drop('Pclass', axis=1, inplace=True)"
   ]
  },
  {
   "cell_type": "code",
   "execution_count": 21,
   "id": "6a8b02a0",
   "metadata": {},
   "outputs": [],
   "source": [
    "# turning age from numeric to categorical - if relationship between age and survival is not linear this will help\n",
    "bins = [0,10,20,30,40,50,60,70,80]\n",
    "age_group = pd.cut(goldtrain['Age'], bins)\n",
    "goldtrain['Age_group'] = age_group\n",
    "goldtrain.drop('Age', axis=1, inplace=True)\n"
   ]
  },
  {
   "cell_type": "code",
   "execution_count": 22,
   "id": "48737c62",
   "metadata": {},
   "outputs": [],
   "source": [
    "# now test\n",
    "age_group = pd.cut(goldtest['Age'], bins)\n",
    "goldtest['Age_group'] = age_group\n",
    "goldtest.drop('Age', axis=1, inplace=True)"
   ]
  },
  {
   "cell_type": "code",
   "execution_count": 23,
   "id": "c9284ec3",
   "metadata": {},
   "outputs": [],
   "source": [
    "# encoding the age group for train\n",
    "age = pd.get_dummies(goldtrain['Age_group'], prefix='Age')\n",
    "goldtrain = pd.concat([goldtrain, age], axis=1)\n",
    "goldtrain.drop(['Age_group'], axis=1, inplace=True)\n"
   ]
  },
  {
   "cell_type": "code",
   "execution_count": 24,
   "id": "9c787a97",
   "metadata": {},
   "outputs": [],
   "source": [
    "# now for test\n",
    "age = pd.get_dummies(goldtest['Age_group'], prefix='Age')\n",
    "goldtest = pd.concat([goldtest, age], axis=1)\n",
    "goldtest.drop(['Age_group'], axis=1, inplace=True)"
   ]
  },
  {
   "cell_type": "code",
   "execution_count": 25,
   "id": "6c9d1f79",
   "metadata": {},
   "outputs": [],
   "source": [
    "# dropping identification columns\n",
    "goldtrain.drop(['Name', 'Ticket'], axis=1, inplace=True)\n",
    "goldtest.drop(['Name', 'Ticket'], axis=1, inplace=True)"
   ]
  },
  {
   "cell_type": "code",
   "execution_count": 26,
   "id": "d7dc9018",
   "metadata": {},
   "outputs": [
    {
     "data": {
      "text/html": [
       "<div>\n",
       "<style scoped>\n",
       "    .dataframe tbody tr th:only-of-type {\n",
       "        vertical-align: middle;\n",
       "    }\n",
       "\n",
       "    .dataframe tbody tr th {\n",
       "        vertical-align: top;\n",
       "    }\n",
       "\n",
       "    .dataframe thead th {\n",
       "        text-align: right;\n",
       "    }\n",
       "</style>\n",
       "<table border=\"1\" class=\"dataframe\">\n",
       "  <thead>\n",
       "    <tr style=\"text-align: right;\">\n",
       "      <th></th>\n",
       "      <th>PassengerId</th>\n",
       "      <th>SibSp</th>\n",
       "      <th>Parch</th>\n",
       "      <th>Fare</th>\n",
       "      <th>Sex_female</th>\n",
       "      <th>Sex_male</th>\n",
       "      <th>Port_C</th>\n",
       "      <th>Port_Q</th>\n",
       "      <th>Port_S</th>\n",
       "      <th>Port_U</th>\n",
       "      <th>class_1</th>\n",
       "      <th>class_2</th>\n",
       "      <th>class_3</th>\n",
       "      <th>Age_(0, 10]</th>\n",
       "      <th>Age_(10, 20]</th>\n",
       "      <th>Age_(20, 30]</th>\n",
       "      <th>Age_(30, 40]</th>\n",
       "      <th>Age_(40, 50]</th>\n",
       "      <th>Age_(50, 60]</th>\n",
       "      <th>Age_(60, 70]</th>\n",
       "      <th>Age_(70, 80]</th>\n",
       "    </tr>\n",
       "  </thead>\n",
       "  <tbody>\n",
       "    <tr>\n",
       "      <th>0</th>\n",
       "      <td>892</td>\n",
       "      <td>0</td>\n",
       "      <td>0</td>\n",
       "      <td>7.8292</td>\n",
       "      <td>0</td>\n",
       "      <td>1</td>\n",
       "      <td>0</td>\n",
       "      <td>1</td>\n",
       "      <td>0</td>\n",
       "      <td>0</td>\n",
       "      <td>0</td>\n",
       "      <td>0</td>\n",
       "      <td>1</td>\n",
       "      <td>0</td>\n",
       "      <td>0</td>\n",
       "      <td>0</td>\n",
       "      <td>1</td>\n",
       "      <td>0</td>\n",
       "      <td>0</td>\n",
       "      <td>0</td>\n",
       "      <td>0</td>\n",
       "    </tr>\n",
       "    <tr>\n",
       "      <th>1</th>\n",
       "      <td>893</td>\n",
       "      <td>1</td>\n",
       "      <td>0</td>\n",
       "      <td>7.0000</td>\n",
       "      <td>1</td>\n",
       "      <td>0</td>\n",
       "      <td>0</td>\n",
       "      <td>0</td>\n",
       "      <td>1</td>\n",
       "      <td>0</td>\n",
       "      <td>0</td>\n",
       "      <td>0</td>\n",
       "      <td>1</td>\n",
       "      <td>0</td>\n",
       "      <td>0</td>\n",
       "      <td>0</td>\n",
       "      <td>0</td>\n",
       "      <td>1</td>\n",
       "      <td>0</td>\n",
       "      <td>0</td>\n",
       "      <td>0</td>\n",
       "    </tr>\n",
       "    <tr>\n",
       "      <th>2</th>\n",
       "      <td>894</td>\n",
       "      <td>0</td>\n",
       "      <td>0</td>\n",
       "      <td>9.6875</td>\n",
       "      <td>0</td>\n",
       "      <td>1</td>\n",
       "      <td>0</td>\n",
       "      <td>1</td>\n",
       "      <td>0</td>\n",
       "      <td>0</td>\n",
       "      <td>0</td>\n",
       "      <td>1</td>\n",
       "      <td>0</td>\n",
       "      <td>0</td>\n",
       "      <td>0</td>\n",
       "      <td>0</td>\n",
       "      <td>0</td>\n",
       "      <td>0</td>\n",
       "      <td>0</td>\n",
       "      <td>1</td>\n",
       "      <td>0</td>\n",
       "    </tr>\n",
       "    <tr>\n",
       "      <th>3</th>\n",
       "      <td>895</td>\n",
       "      <td>0</td>\n",
       "      <td>0</td>\n",
       "      <td>8.6625</td>\n",
       "      <td>0</td>\n",
       "      <td>1</td>\n",
       "      <td>0</td>\n",
       "      <td>0</td>\n",
       "      <td>1</td>\n",
       "      <td>0</td>\n",
       "      <td>0</td>\n",
       "      <td>0</td>\n",
       "      <td>1</td>\n",
       "      <td>0</td>\n",
       "      <td>0</td>\n",
       "      <td>1</td>\n",
       "      <td>0</td>\n",
       "      <td>0</td>\n",
       "      <td>0</td>\n",
       "      <td>0</td>\n",
       "      <td>0</td>\n",
       "    </tr>\n",
       "    <tr>\n",
       "      <th>4</th>\n",
       "      <td>896</td>\n",
       "      <td>1</td>\n",
       "      <td>1</td>\n",
       "      <td>12.2875</td>\n",
       "      <td>1</td>\n",
       "      <td>0</td>\n",
       "      <td>0</td>\n",
       "      <td>0</td>\n",
       "      <td>1</td>\n",
       "      <td>0</td>\n",
       "      <td>0</td>\n",
       "      <td>0</td>\n",
       "      <td>1</td>\n",
       "      <td>0</td>\n",
       "      <td>0</td>\n",
       "      <td>1</td>\n",
       "      <td>0</td>\n",
       "      <td>0</td>\n",
       "      <td>0</td>\n",
       "      <td>0</td>\n",
       "      <td>0</td>\n",
       "    </tr>\n",
       "  </tbody>\n",
       "</table>\n",
       "</div>"
      ],
      "text/plain": [
       "   PassengerId  SibSp  Parch     Fare  Sex_female  Sex_male  Port_C  Port_Q  \\\n",
       "0          892      0      0   7.8292           0         1       0       1   \n",
       "1          893      1      0   7.0000           1         0       0       0   \n",
       "2          894      0      0   9.6875           0         1       0       1   \n",
       "3          895      0      0   8.6625           0         1       0       0   \n",
       "4          896      1      1  12.2875           1         0       0       0   \n",
       "\n",
       "   Port_S  Port_U  class_1  class_2  class_3  Age_(0, 10]  Age_(10, 20]  \\\n",
       "0       0       0        0        0        1            0             0   \n",
       "1       1       0        0        0        1            0             0   \n",
       "2       0       0        0        1        0            0             0   \n",
       "3       1       0        0        0        1            0             0   \n",
       "4       1       0        0        0        1            0             0   \n",
       "\n",
       "   Age_(20, 30]  Age_(30, 40]  Age_(40, 50]  Age_(50, 60]  Age_(60, 70]  \\\n",
       "0             0             1             0             0             0   \n",
       "1             0             0             1             0             0   \n",
       "2             0             0             0             0             1   \n",
       "3             1             0             0             0             0   \n",
       "4             1             0             0             0             0   \n",
       "\n",
       "   Age_(70, 80]  \n",
       "0             0  \n",
       "1             0  \n",
       "2             0  \n",
       "3             0  \n",
       "4             0  "
      ]
     },
     "execution_count": 26,
     "metadata": {},
     "output_type": "execute_result"
    }
   ],
   "source": [
    "goldtrain.head()\n",
    "goldtest.head()"
   ]
  },
  {
   "cell_type": "code",
   "execution_count": 27,
   "id": "9aeb5903",
   "metadata": {},
   "outputs": [
    {
     "data": {
      "text/plain": [
       "(418, 21)"
      ]
     },
     "execution_count": 27,
     "metadata": {},
     "output_type": "execute_result"
    }
   ],
   "source": [
    "goldtrain.shape\n",
    "goldtest.shape"
   ]
  },
  {
   "cell_type": "code",
   "execution_count": 28,
   "id": "836659f2",
   "metadata": {},
   "outputs": [
    {
     "data": {
      "text/plain": [
       "PassengerId     0\n",
       "SibSp           0\n",
       "Parch           0\n",
       "Fare            1\n",
       "Sex_female      0\n",
       "Sex_male        0\n",
       "Port_C          0\n",
       "Port_Q          0\n",
       "Port_S          0\n",
       "Port_U          0\n",
       "class_1         0\n",
       "class_2         0\n",
       "class_3         0\n",
       "Age_(0, 10]     0\n",
       "Age_(10, 20]    0\n",
       "Age_(20, 30]    0\n",
       "Age_(30, 40]    0\n",
       "Age_(40, 50]    0\n",
       "Age_(50, 60]    0\n",
       "Age_(60, 70]    0\n",
       "Age_(70, 80]    0\n",
       "dtype: int64"
      ]
     },
     "execution_count": 28,
     "metadata": {},
     "output_type": "execute_result"
    }
   ],
   "source": [
    "goldtrain.isna().sum()\n",
    "goldtest.isna().sum()"
   ]
  },
  {
   "cell_type": "code",
   "execution_count": 29,
   "id": "3921f432",
   "metadata": {},
   "outputs": [],
   "source": [
    "# test has missing value in Fare - inputing median\n",
    "medianFare = goldtest.Fare.median()\n",
    "goldtest['Fare'] = goldtest.Fare.fillna(medianFare)"
   ]
  },
  {
   "cell_type": "markdown",
   "id": "1b0eebbf",
   "metadata": {},
   "source": [
    "## Getting labels"
   ]
  },
  {
   "cell_type": "code",
   "execution_count": 30,
   "id": "28241fb3",
   "metadata": {},
   "outputs": [],
   "source": [
    "# Making data easy to train and predict - checking if columns are the same in train and test\n",
    "yt = goldtrain.Survived\n",
    "xt = goldtrain.drop(['Survived'], axis=1)\n",
    "x = goldtest.drop(['PassengerId'], axis=1)"
   ]
  },
  {
   "cell_type": "code",
   "execution_count": 31,
   "id": "ac10c5cd",
   "metadata": {},
   "outputs": [
    {
     "data": {
      "text/plain": [
       "Index(['SibSp', 'Parch', 'Fare', 'Sex_female', 'Sex_male', 'Port_C', 'Port_Q',\n",
       "       'Port_S', 'Port_U', 'class_1', 'class_2', 'class_3', 'Age_(0, 10]',\n",
       "       'Age_(10, 20]', 'Age_(20, 30]', 'Age_(30, 40]', 'Age_(40, 50]',\n",
       "       'Age_(50, 60]', 'Age_(60, 70]', 'Age_(70, 80]'],\n",
       "      dtype='object')"
      ]
     },
     "execution_count": 31,
     "metadata": {},
     "output_type": "execute_result"
    }
   ],
   "source": [
    "xt.columns"
   ]
  },
  {
   "cell_type": "code",
   "execution_count": 32,
   "id": "9434e920",
   "metadata": {},
   "outputs": [
    {
     "data": {
      "text/plain": [
       "Index(['SibSp', 'Parch', 'Fare', 'Sex_female', 'Sex_male', 'Port_C', 'Port_Q',\n",
       "       'Port_S', 'Port_U', 'class_1', 'class_2', 'class_3', 'Age_(0, 10]',\n",
       "       'Age_(10, 20]', 'Age_(20, 30]', 'Age_(30, 40]', 'Age_(40, 50]',\n",
       "       'Age_(50, 60]', 'Age_(60, 70]', 'Age_(70, 80]'],\n",
       "      dtype='object')"
      ]
     },
     "execution_count": 32,
     "metadata": {},
     "output_type": "execute_result"
    }
   ],
   "source": [
    "x.columns"
   ]
  },
  {
   "cell_type": "markdown",
   "id": "05dc46f3",
   "metadata": {},
   "source": [
    "## Running models"
   ]
  },
  {
   "cell_type": "code",
   "execution_count": 33,
   "id": "826490c6",
   "metadata": {},
   "outputs": [
    {
     "name": "stdout",
     "output_type": "stream",
     "text": [
      "[0.78212291 0.80898876 0.7752809  0.7752809  0.81460674]\n",
      "0.7912560416797438\n"
     ]
    }
   ],
   "source": [
    "lr = LogisticRegression(max_iter = 2000)\n",
    "cv = cross_val_score(lr,xt,yt,cv=5)\n",
    "gold_lr = cv.mean()\n",
    "print(cv)\n",
    "print(cv.mean())"
   ]
  },
  {
   "cell_type": "code",
   "execution_count": 34,
   "id": "719a0f83",
   "metadata": {},
   "outputs": [
    {
     "name": "stdout",
     "output_type": "stream",
     "text": [
      "[0.58100559 0.71348315 0.68539326 0.68539326 0.67977528]\n",
      "0.6690101060824808\n"
     ]
    }
   ],
   "source": [
    "svc = SVC(probability = True)\n",
    "cv = cross_val_score(svc,xt,yt,cv=5)\n",
    "gold_svc = cv.mean()\n",
    "print(cv)\n",
    "print(cv.mean())"
   ]
  },
  {
   "cell_type": "code",
   "execution_count": 35,
   "id": "719396a5",
   "metadata": {},
   "outputs": [
    {
     "name": "stdout",
     "output_type": "stream",
     "text": [
      "[0.79329609 0.79775281 0.84831461 0.75280899 0.80337079]\n",
      "0.7991086560793421\n"
     ]
    }
   ],
   "source": [
    "rf = RandomForestClassifier(random_state = 1)\n",
    "cv = cross_val_score(rf,xt,yt,cv=5)\n",
    "gold_rf = cv.mean()\n",
    "print(cv)\n",
    "print(cv.mean())"
   ]
  },
  {
   "cell_type": "code",
   "execution_count": 36,
   "id": "4d50648e",
   "metadata": {},
   "outputs": [
    {
     "name": "stdout",
     "output_type": "stream",
     "text": [
      "[0.76536313 0.79213483 0.83707865 0.79213483 0.80898876]\n",
      "0.7991400414286611\n"
     ]
    }
   ],
   "source": [
    "voting_clf = VotingClassifier(estimators = [('lr',lr),('rf',rf),('svc',svc)], voting = 'soft') \n",
    "cv = cross_val_score(voting_clf,xt,yt,cv=5)\n",
    "gold_vote = cv.mean()\n",
    "print(cv)\n",
    "print(cv.mean())\n"
   ]
  },
  {
   "cell_type": "code",
   "execution_count": 37,
   "id": "625d9ae0",
   "metadata": {},
   "outputs": [
    {
     "data": {
      "text/plain": [
       "0.7646287113175569"
      ]
     },
     "execution_count": 37,
     "metadata": {},
     "output_type": "execute_result"
    }
   ],
   "source": [
    "mean_gold = (gold_vote+gold_rf+gold_svc+gold_lr)/4\n",
    "mean_gold"
   ]
  },
  {
   "cell_type": "markdown",
   "id": "62a4b639",
   "metadata": {},
   "source": [
    "## Making file to upload to Kaggle"
   ]
  },
  {
   "cell_type": "code",
   "execution_count": 38,
   "id": "c7955873",
   "metadata": {},
   "outputs": [],
   "source": [
    "# better results with RF\n",
    "voting_clf.fit(xt,yt)\n",
    "predict = voting_clf.predict(x).astype(int)\n",
    "basic_submission = {'PassengerId': goldtest.PassengerId, 'Survived': predict}\n",
    "base_submission = pd.DataFrame(data=basic_submission)\n",
    "base_submission.to_csv('gold_vote.csv', index=False)"
   ]
  },
  {
   "cell_type": "markdown",
   "id": "92a100cb",
   "metadata": {},
   "source": [
    "# Encoding - Not looking at the columns at all\n",
    "## Let’s drop the Unknowns\n",
    "\n",
    "Deleting when there are missing values, leaving a smaller dataset, and one hot encoding everything!"
   ]
  },
  {
   "cell_type": "code",
   "execution_count": 39,
   "id": "79e45ef2",
   "metadata": {},
   "outputs": [],
   "source": [
    "etrain = train.copy()\n",
    "etest = test.copy()"
   ]
  },
  {
   "cell_type": "code",
   "execution_count": 40,
   "id": "4e5fca22",
   "metadata": {},
   "outputs": [
    {
     "data": {
      "text/plain": [
       "Survived      0\n",
       "Pclass        0\n",
       "Name          0\n",
       "Sex           0\n",
       "Age         177\n",
       "SibSp         0\n",
       "Parch         0\n",
       "Ticket        0\n",
       "Fare          0\n",
       "Cabin       687\n",
       "Embarked      2\n",
       "dtype: int64"
      ]
     },
     "execution_count": 40,
     "metadata": {},
     "output_type": "execute_result"
    }
   ],
   "source": [
    "etrain.isna().sum()"
   ]
  },
  {
   "cell_type": "code",
   "execution_count": 41,
   "id": "cd70fef1",
   "metadata": {},
   "outputs": [
    {
     "data": {
      "text/plain": [
       "PassengerId      0\n",
       "Pclass           0\n",
       "Name             0\n",
       "Sex              0\n",
       "Age             86\n",
       "SibSp            0\n",
       "Parch            0\n",
       "Ticket           0\n",
       "Fare             1\n",
       "Cabin          327\n",
       "Embarked         0\n",
       "dtype: int64"
      ]
     },
     "execution_count": 41,
     "metadata": {},
     "output_type": "execute_result"
    }
   ],
   "source": [
    "etest.isna().sum()"
   ]
  },
  {
   "cell_type": "code",
   "execution_count": 42,
   "id": "087653cd",
   "metadata": {},
   "outputs": [],
   "source": [
    "# has a lot of missing so dropping everything\n",
    "etrain.drop('Cabin', axis=1, inplace=True)\n",
    "etest.drop('Cabin', axis=1, inplace=True)"
   ]
  },
  {
   "cell_type": "code",
   "execution_count": 43,
   "id": "6f9484f8",
   "metadata": {},
   "outputs": [],
   "source": [
    "# cannot drop for test otherwise will not get a score!\n",
    "medianAge = etest.Age.median()\n",
    "etest['Age'] = etest.Age.fillna(medianAge)"
   ]
  },
  {
   "cell_type": "code",
   "execution_count": 44,
   "id": "c2b5a18f",
   "metadata": {},
   "outputs": [],
   "source": [
    "# test has missing value in Fare - inputing median\n",
    "medianFare = etest.Fare.median()\n",
    "etest['Fare'] = etest.Fare.fillna(medianFare)"
   ]
  },
  {
   "cell_type": "code",
   "execution_count": 45,
   "id": "c25bc5d0",
   "metadata": {},
   "outputs": [],
   "source": [
    "# Dropping all other missing from train\n",
    "etrain.dropna(inplace=True)"
   ]
  },
  {
   "cell_type": "code",
   "execution_count": 46,
   "id": "ebf5f0c1",
   "metadata": {},
   "outputs": [
    {
     "data": {
      "text/html": [
       "<div>\n",
       "<style scoped>\n",
       "    .dataframe tbody tr th:only-of-type {\n",
       "        vertical-align: middle;\n",
       "    }\n",
       "\n",
       "    .dataframe tbody tr th {\n",
       "        vertical-align: top;\n",
       "    }\n",
       "\n",
       "    .dataframe thead th {\n",
       "        text-align: right;\n",
       "    }\n",
       "</style>\n",
       "<table border=\"1\" class=\"dataframe\">\n",
       "  <thead>\n",
       "    <tr style=\"text-align: right;\">\n",
       "      <th></th>\n",
       "      <th>PassengerId</th>\n",
       "      <th>Pclass</th>\n",
       "      <th>Name</th>\n",
       "      <th>Sex</th>\n",
       "      <th>Age</th>\n",
       "      <th>SibSp</th>\n",
       "      <th>Parch</th>\n",
       "      <th>Ticket</th>\n",
       "      <th>Fare</th>\n",
       "      <th>Embarked</th>\n",
       "    </tr>\n",
       "  </thead>\n",
       "  <tbody>\n",
       "    <tr>\n",
       "      <th>0</th>\n",
       "      <td>892</td>\n",
       "      <td>3</td>\n",
       "      <td>Kelly, Mr. James</td>\n",
       "      <td>male</td>\n",
       "      <td>34.5</td>\n",
       "      <td>0</td>\n",
       "      <td>0</td>\n",
       "      <td>330911</td>\n",
       "      <td>7.8292</td>\n",
       "      <td>Q</td>\n",
       "    </tr>\n",
       "    <tr>\n",
       "      <th>1</th>\n",
       "      <td>893</td>\n",
       "      <td>3</td>\n",
       "      <td>Wilkes, Mrs. James (Ellen Needs)</td>\n",
       "      <td>female</td>\n",
       "      <td>47.0</td>\n",
       "      <td>1</td>\n",
       "      <td>0</td>\n",
       "      <td>363272</td>\n",
       "      <td>7.0000</td>\n",
       "      <td>S</td>\n",
       "    </tr>\n",
       "    <tr>\n",
       "      <th>2</th>\n",
       "      <td>894</td>\n",
       "      <td>2</td>\n",
       "      <td>Myles, Mr. Thomas Francis</td>\n",
       "      <td>male</td>\n",
       "      <td>62.0</td>\n",
       "      <td>0</td>\n",
       "      <td>0</td>\n",
       "      <td>240276</td>\n",
       "      <td>9.6875</td>\n",
       "      <td>Q</td>\n",
       "    </tr>\n",
       "    <tr>\n",
       "      <th>3</th>\n",
       "      <td>895</td>\n",
       "      <td>3</td>\n",
       "      <td>Wirz, Mr. Albert</td>\n",
       "      <td>male</td>\n",
       "      <td>27.0</td>\n",
       "      <td>0</td>\n",
       "      <td>0</td>\n",
       "      <td>315154</td>\n",
       "      <td>8.6625</td>\n",
       "      <td>S</td>\n",
       "    </tr>\n",
       "    <tr>\n",
       "      <th>4</th>\n",
       "      <td>896</td>\n",
       "      <td>3</td>\n",
       "      <td>Hirvonen, Mrs. Alexander (Helga E Lindqvist)</td>\n",
       "      <td>female</td>\n",
       "      <td>22.0</td>\n",
       "      <td>1</td>\n",
       "      <td>1</td>\n",
       "      <td>3101298</td>\n",
       "      <td>12.2875</td>\n",
       "      <td>S</td>\n",
       "    </tr>\n",
       "  </tbody>\n",
       "</table>\n",
       "</div>"
      ],
      "text/plain": [
       "   PassengerId  Pclass                                          Name     Sex  \\\n",
       "0          892       3                              Kelly, Mr. James    male   \n",
       "1          893       3              Wilkes, Mrs. James (Ellen Needs)  female   \n",
       "2          894       2                     Myles, Mr. Thomas Francis    male   \n",
       "3          895       3                              Wirz, Mr. Albert    male   \n",
       "4          896       3  Hirvonen, Mrs. Alexander (Helga E Lindqvist)  female   \n",
       "\n",
       "    Age  SibSp  Parch   Ticket     Fare Embarked  \n",
       "0  34.5      0      0   330911   7.8292        Q  \n",
       "1  47.0      1      0   363272   7.0000        S  \n",
       "2  62.0      0      0   240276   9.6875        Q  \n",
       "3  27.0      0      0   315154   8.6625        S  \n",
       "4  22.0      1      1  3101298  12.2875        S  "
      ]
     },
     "execution_count": 46,
     "metadata": {},
     "output_type": "execute_result"
    }
   ],
   "source": [
    "etest.head()"
   ]
  },
  {
   "cell_type": "code",
   "execution_count": 47,
   "id": "8ae58a1b",
   "metadata": {},
   "outputs": [],
   "source": [
    "# Dropping columns that cannot one hot encode\n",
    "etrain.drop(['Name','Ticket'], axis=1, inplace=True)\n",
    "etest.drop(['Name','Ticket','PassengerId'], axis=1, inplace=True)\n"
   ]
  },
  {
   "cell_type": "code",
   "execution_count": 48,
   "id": "ff35beec",
   "metadata": {},
   "outputs": [],
   "source": [
    "# one hot encoding what is categorical\n",
    "etrain = pd.get_dummies(etrain, columns=['Sex','Embarked'], prefix=['sex', 'port'])\n",
    "etest = pd.get_dummies(etest, columns=['Sex','Embarked'], prefix=['sex', 'port'])\n"
   ]
  },
  {
   "cell_type": "code",
   "execution_count": 49,
   "id": "176cf1e2",
   "metadata": {
    "scrolled": true
   },
   "outputs": [
    {
     "data": {
      "text/html": [
       "<div>\n",
       "<style scoped>\n",
       "    .dataframe tbody tr th:only-of-type {\n",
       "        vertical-align: middle;\n",
       "    }\n",
       "\n",
       "    .dataframe tbody tr th {\n",
       "        vertical-align: top;\n",
       "    }\n",
       "\n",
       "    .dataframe thead th {\n",
       "        text-align: right;\n",
       "    }\n",
       "</style>\n",
       "<table border=\"1\" class=\"dataframe\">\n",
       "  <thead>\n",
       "    <tr style=\"text-align: right;\">\n",
       "      <th></th>\n",
       "      <th>Pclass</th>\n",
       "      <th>Age</th>\n",
       "      <th>SibSp</th>\n",
       "      <th>Parch</th>\n",
       "      <th>Fare</th>\n",
       "      <th>sex_female</th>\n",
       "      <th>sex_male</th>\n",
       "      <th>port_C</th>\n",
       "      <th>port_Q</th>\n",
       "      <th>port_S</th>\n",
       "    </tr>\n",
       "  </thead>\n",
       "  <tbody>\n",
       "    <tr>\n",
       "      <th>0</th>\n",
       "      <td>3</td>\n",
       "      <td>34.5</td>\n",
       "      <td>0</td>\n",
       "      <td>0</td>\n",
       "      <td>7.8292</td>\n",
       "      <td>0</td>\n",
       "      <td>1</td>\n",
       "      <td>0</td>\n",
       "      <td>1</td>\n",
       "      <td>0</td>\n",
       "    </tr>\n",
       "    <tr>\n",
       "      <th>1</th>\n",
       "      <td>3</td>\n",
       "      <td>47.0</td>\n",
       "      <td>1</td>\n",
       "      <td>0</td>\n",
       "      <td>7.0000</td>\n",
       "      <td>1</td>\n",
       "      <td>0</td>\n",
       "      <td>0</td>\n",
       "      <td>0</td>\n",
       "      <td>1</td>\n",
       "    </tr>\n",
       "    <tr>\n",
       "      <th>2</th>\n",
       "      <td>2</td>\n",
       "      <td>62.0</td>\n",
       "      <td>0</td>\n",
       "      <td>0</td>\n",
       "      <td>9.6875</td>\n",
       "      <td>0</td>\n",
       "      <td>1</td>\n",
       "      <td>0</td>\n",
       "      <td>1</td>\n",
       "      <td>0</td>\n",
       "    </tr>\n",
       "    <tr>\n",
       "      <th>3</th>\n",
       "      <td>3</td>\n",
       "      <td>27.0</td>\n",
       "      <td>0</td>\n",
       "      <td>0</td>\n",
       "      <td>8.6625</td>\n",
       "      <td>0</td>\n",
       "      <td>1</td>\n",
       "      <td>0</td>\n",
       "      <td>0</td>\n",
       "      <td>1</td>\n",
       "    </tr>\n",
       "    <tr>\n",
       "      <th>4</th>\n",
       "      <td>3</td>\n",
       "      <td>22.0</td>\n",
       "      <td>1</td>\n",
       "      <td>1</td>\n",
       "      <td>12.2875</td>\n",
       "      <td>1</td>\n",
       "      <td>0</td>\n",
       "      <td>0</td>\n",
       "      <td>0</td>\n",
       "      <td>1</td>\n",
       "    </tr>\n",
       "  </tbody>\n",
       "</table>\n",
       "</div>"
      ],
      "text/plain": [
       "   Pclass   Age  SibSp  Parch     Fare  sex_female  sex_male  port_C  port_Q  \\\n",
       "0       3  34.5      0      0   7.8292           0         1       0       1   \n",
       "1       3  47.0      1      0   7.0000           1         0       0       0   \n",
       "2       2  62.0      0      0   9.6875           0         1       0       1   \n",
       "3       3  27.0      0      0   8.6625           0         1       0       0   \n",
       "4       3  22.0      1      1  12.2875           1         0       0       0   \n",
       "\n",
       "   port_S  \n",
       "0       0  \n",
       "1       1  \n",
       "2       0  \n",
       "3       1  \n",
       "4       1  "
      ]
     },
     "execution_count": 49,
     "metadata": {},
     "output_type": "execute_result"
    }
   ],
   "source": [
    "etest.head()"
   ]
  },
  {
   "cell_type": "code",
   "execution_count": 50,
   "id": "513407f4",
   "metadata": {},
   "outputs": [
    {
     "data": {
      "text/plain": [
       "(712, 11)"
      ]
     },
     "execution_count": 50,
     "metadata": {},
     "output_type": "execute_result"
    }
   ],
   "source": [
    "etrain.shape"
   ]
  },
  {
   "cell_type": "markdown",
   "id": "10e719a8",
   "metadata": {},
   "source": [
    "## Getting labels and making it easy to train and predict"
   ]
  },
  {
   "cell_type": "code",
   "execution_count": 51,
   "id": "07e765c4",
   "metadata": {},
   "outputs": [],
   "source": [
    "# Making data easy to train and predict - checking if columns are the same in train and test\n",
    "yt = etrain.Survived\n",
    "xt = etrain.drop(['Survived'], axis=1)\n",
    "x = etest"
   ]
  },
  {
   "cell_type": "markdown",
   "id": "0b67b259",
   "metadata": {},
   "source": [
    "## Running models"
   ]
  },
  {
   "cell_type": "code",
   "execution_count": 52,
   "id": "77ee7287",
   "metadata": {},
   "outputs": [
    {
     "name": "stdout",
     "output_type": "stream",
     "text": [
      "[0.74825175 0.83216783 0.76760563 0.76760563 0.80985915]\n",
      "0.7850980005909584\n"
     ]
    }
   ],
   "source": [
    "lr = LogisticRegression(max_iter = 2000)\n",
    "cv = cross_val_score(lr,xt,yt,cv=5)\n",
    "e_lr = cv.mean()\n",
    "print(cv)\n",
    "print(cv.mean())"
   ]
  },
  {
   "cell_type": "code",
   "execution_count": 53,
   "id": "19902697",
   "metadata": {},
   "outputs": [
    {
     "name": "stdout",
     "output_type": "stream",
     "text": [
      "[0.53846154 0.74825175 0.68309859 0.70422535 0.68309859]\n",
      "0.6714271643849109\n"
     ]
    }
   ],
   "source": [
    "svc = SVC(probability = True)\n",
    "cv = cross_val_score(svc,xt,yt,cv=5)\n",
    "e_svc = cv.mean()\n",
    "print(cv)\n",
    "print(cv.mean())"
   ]
  },
  {
   "cell_type": "code",
   "execution_count": 54,
   "id": "c32b3a3c",
   "metadata": {},
   "outputs": [
    {
     "name": "stdout",
     "output_type": "stream",
     "text": [
      "[0.74825175 0.8041958  0.8028169  0.75352113 0.83098592]\n",
      "0.7879542992219049\n"
     ]
    }
   ],
   "source": [
    "rf = RandomForestClassifier(random_state = 1)\n",
    "cv = cross_val_score(rf,xt,yt,cv=5)\n",
    "e_rf = cv.mean()\n",
    "print(cv)\n",
    "print(cv.mean())"
   ]
  },
  {
   "cell_type": "code",
   "execution_count": 55,
   "id": "91c5ea17",
   "metadata": {},
   "outputs": [
    {
     "name": "stdout",
     "output_type": "stream",
     "text": [
      "[0.72027972 0.81118881 0.83802817 0.8028169  0.82394366]\n",
      "0.7992514527725796\n"
     ]
    }
   ],
   "source": [
    "from sklearn.ensemble import VotingClassifier\n",
    "voting_clf = VotingClassifier(estimators = [('lr',lr),('rf',rf),('svc',svc)], voting = 'soft') \n",
    "cv = cross_val_score(voting_clf,xt,yt,cv=5)\n",
    "e_vote = cv.mean()\n",
    "print(cv)\n",
    "print(cv.mean())"
   ]
  },
  {
   "cell_type": "code",
   "execution_count": 56,
   "id": "81774704",
   "metadata": {},
   "outputs": [
    {
     "data": {
      "text/plain": [
       "0.7609327292425885"
      ]
     },
     "execution_count": 56,
     "metadata": {},
     "output_type": "execute_result"
    }
   ],
   "source": [
    "mean_e = (e_vote+e_rf+e_svc+e_lr)/4\n",
    "mean_e"
   ]
  },
  {
   "cell_type": "markdown",
   "id": "25fc3cc0",
   "metadata": {},
   "source": [
    "## Making file to upload to Kaggle"
   ]
  },
  {
   "cell_type": "code",
   "execution_count": 57,
   "id": "2ee3e544",
   "metadata": {},
   "outputs": [],
   "source": [
    "rf.fit(xt,yt)\n",
    "predict = rf.predict(x).astype(int)\n",
    "basic_submission = {'PassengerId': goldtest.PassengerId, 'Survived': predict}\n",
    "base_submission = pd.DataFrame(data=basic_submission)\n",
    "base_submission.to_csv('e_RF.csv', index=False)"
   ]
  },
  {
   "cell_type": "code",
   "execution_count": 58,
   "id": "5287f557",
   "metadata": {},
   "outputs": [],
   "source": [
    "voting_clf.fit(xt,yt)\n",
    "predict = voting_clf.predict(x).astype(int)\n",
    "basic_submission = {'PassengerId': goldtest.PassengerId, 'Survived': predict}\n",
    "base_submission = pd.DataFrame(data=basic_submission)\n",
    "base_submission.to_csv('e_vote.csv', index=False)"
   ]
  },
  {
   "cell_type": "markdown",
   "id": "66f66e44",
   "metadata": {},
   "source": [
    "# leaving identification column\n",
    "## Does Identity matter?\n",
    "\n",
    "So include PassengerId as a feature when training"
   ]
  },
  {
   "cell_type": "code",
   "execution_count": 59,
   "id": "3f583c78",
   "metadata": {},
   "outputs": [],
   "source": [
    "ctrain = pd.read_csv(path)\n",
    "ctest = test.copy()"
   ]
  },
  {
   "cell_type": "code",
   "execution_count": 60,
   "id": "d8de810b",
   "metadata": {},
   "outputs": [
    {
     "data": {
      "text/html": [
       "<div>\n",
       "<style scoped>\n",
       "    .dataframe tbody tr th:only-of-type {\n",
       "        vertical-align: middle;\n",
       "    }\n",
       "\n",
       "    .dataframe tbody tr th {\n",
       "        vertical-align: top;\n",
       "    }\n",
       "\n",
       "    .dataframe thead th {\n",
       "        text-align: right;\n",
       "    }\n",
       "</style>\n",
       "<table border=\"1\" class=\"dataframe\">\n",
       "  <thead>\n",
       "    <tr style=\"text-align: right;\">\n",
       "      <th></th>\n",
       "      <th>PassengerId</th>\n",
       "      <th>Survived</th>\n",
       "      <th>Pclass</th>\n",
       "      <th>Name</th>\n",
       "      <th>Sex</th>\n",
       "      <th>Age</th>\n",
       "      <th>SibSp</th>\n",
       "      <th>Parch</th>\n",
       "      <th>Ticket</th>\n",
       "      <th>Fare</th>\n",
       "      <th>Cabin</th>\n",
       "      <th>Embarked</th>\n",
       "    </tr>\n",
       "  </thead>\n",
       "  <tbody>\n",
       "    <tr>\n",
       "      <th>0</th>\n",
       "      <td>1</td>\n",
       "      <td>0</td>\n",
       "      <td>3</td>\n",
       "      <td>Braund, Mr. Owen Harris</td>\n",
       "      <td>male</td>\n",
       "      <td>22.0</td>\n",
       "      <td>1</td>\n",
       "      <td>0</td>\n",
       "      <td>A/5 21171</td>\n",
       "      <td>7.2500</td>\n",
       "      <td>NaN</td>\n",
       "      <td>S</td>\n",
       "    </tr>\n",
       "    <tr>\n",
       "      <th>1</th>\n",
       "      <td>2</td>\n",
       "      <td>1</td>\n",
       "      <td>1</td>\n",
       "      <td>Cumings, Mrs. John Bradley (Florence Briggs Th...</td>\n",
       "      <td>female</td>\n",
       "      <td>38.0</td>\n",
       "      <td>1</td>\n",
       "      <td>0</td>\n",
       "      <td>PC 17599</td>\n",
       "      <td>71.2833</td>\n",
       "      <td>C85</td>\n",
       "      <td>C</td>\n",
       "    </tr>\n",
       "    <tr>\n",
       "      <th>2</th>\n",
       "      <td>3</td>\n",
       "      <td>1</td>\n",
       "      <td>3</td>\n",
       "      <td>Heikkinen, Miss. Laina</td>\n",
       "      <td>female</td>\n",
       "      <td>26.0</td>\n",
       "      <td>0</td>\n",
       "      <td>0</td>\n",
       "      <td>STON/O2. 3101282</td>\n",
       "      <td>7.9250</td>\n",
       "      <td>NaN</td>\n",
       "      <td>S</td>\n",
       "    </tr>\n",
       "    <tr>\n",
       "      <th>3</th>\n",
       "      <td>4</td>\n",
       "      <td>1</td>\n",
       "      <td>1</td>\n",
       "      <td>Futrelle, Mrs. Jacques Heath (Lily May Peel)</td>\n",
       "      <td>female</td>\n",
       "      <td>35.0</td>\n",
       "      <td>1</td>\n",
       "      <td>0</td>\n",
       "      <td>113803</td>\n",
       "      <td>53.1000</td>\n",
       "      <td>C123</td>\n",
       "      <td>S</td>\n",
       "    </tr>\n",
       "    <tr>\n",
       "      <th>4</th>\n",
       "      <td>5</td>\n",
       "      <td>0</td>\n",
       "      <td>3</td>\n",
       "      <td>Allen, Mr. William Henry</td>\n",
       "      <td>male</td>\n",
       "      <td>35.0</td>\n",
       "      <td>0</td>\n",
       "      <td>0</td>\n",
       "      <td>373450</td>\n",
       "      <td>8.0500</td>\n",
       "      <td>NaN</td>\n",
       "      <td>S</td>\n",
       "    </tr>\n",
       "  </tbody>\n",
       "</table>\n",
       "</div>"
      ],
      "text/plain": [
       "   PassengerId  Survived  Pclass  \\\n",
       "0            1         0       3   \n",
       "1            2         1       1   \n",
       "2            3         1       3   \n",
       "3            4         1       1   \n",
       "4            5         0       3   \n",
       "\n",
       "                                                Name     Sex   Age  SibSp  \\\n",
       "0                            Braund, Mr. Owen Harris    male  22.0      1   \n",
       "1  Cumings, Mrs. John Bradley (Florence Briggs Th...  female  38.0      1   \n",
       "2                             Heikkinen, Miss. Laina  female  26.0      0   \n",
       "3       Futrelle, Mrs. Jacques Heath (Lily May Peel)  female  35.0      1   \n",
       "4                           Allen, Mr. William Henry    male  35.0      0   \n",
       "\n",
       "   Parch            Ticket     Fare Cabin Embarked  \n",
       "0      0         A/5 21171   7.2500   NaN        S  \n",
       "1      0          PC 17599  71.2833   C85        C  \n",
       "2      0  STON/O2. 3101282   7.9250   NaN        S  \n",
       "3      0            113803  53.1000  C123        S  \n",
       "4      0            373450   8.0500   NaN        S  "
      ]
     },
     "execution_count": 60,
     "metadata": {},
     "output_type": "execute_result"
    }
   ],
   "source": [
    "ctrain.head()"
   ]
  },
  {
   "cell_type": "code",
   "execution_count": 61,
   "id": "985a411f",
   "metadata": {},
   "outputs": [],
   "source": [
    "# dealing with missing values - deleting column when it is a lot and rows when less\n",
    "# has a lot of missing so dropping everything from cabin\n",
    "ctrain.drop(['Cabin','Name','Ticket'], axis=1, inplace=True)\n",
    "ctest.drop(['Cabin','Name','Ticket'], axis=1, inplace=True)\n",
    "# cannot drop for test otherwise will not get a score!\n",
    "medianAge = ctest.Age.median()\n",
    "ctest['Age'] = ctest.Age.fillna(medianAge)\n",
    "# test has missing value in Fare - inputing median\n",
    "medianFare = ctest.Fare.median()\n",
    "ctest['Fare'] = ctest.Fare.fillna(medianFare)\n",
    "# Dropping all other missing from train\n",
    "ctrain.dropna(inplace=True)"
   ]
  },
  {
   "cell_type": "code",
   "execution_count": 62,
   "id": "014325db",
   "metadata": {},
   "outputs": [
    {
     "data": {
      "text/plain": [
       "PassengerId    0\n",
       "Pclass         0\n",
       "Sex            0\n",
       "Age            0\n",
       "SibSp          0\n",
       "Parch          0\n",
       "Fare           0\n",
       "Embarked       0\n",
       "dtype: int64"
      ]
     },
     "execution_count": 62,
     "metadata": {},
     "output_type": "execute_result"
    }
   ],
   "source": [
    "ctest.isnull().sum()"
   ]
  },
  {
   "cell_type": "code",
   "execution_count": 63,
   "id": "475c99f8",
   "metadata": {},
   "outputs": [
    {
     "data": {
      "text/html": [
       "<div>\n",
       "<style scoped>\n",
       "    .dataframe tbody tr th:only-of-type {\n",
       "        vertical-align: middle;\n",
       "    }\n",
       "\n",
       "    .dataframe tbody tr th {\n",
       "        vertical-align: top;\n",
       "    }\n",
       "\n",
       "    .dataframe thead th {\n",
       "        text-align: right;\n",
       "    }\n",
       "</style>\n",
       "<table border=\"1\" class=\"dataframe\">\n",
       "  <thead>\n",
       "    <tr style=\"text-align: right;\">\n",
       "      <th></th>\n",
       "      <th>PassengerId</th>\n",
       "      <th>Survived</th>\n",
       "      <th>Pclass</th>\n",
       "      <th>Sex</th>\n",
       "      <th>Age</th>\n",
       "      <th>SibSp</th>\n",
       "      <th>Parch</th>\n",
       "      <th>Fare</th>\n",
       "      <th>Embarked</th>\n",
       "    </tr>\n",
       "  </thead>\n",
       "  <tbody>\n",
       "    <tr>\n",
       "      <th>0</th>\n",
       "      <td>1</td>\n",
       "      <td>0</td>\n",
       "      <td>3</td>\n",
       "      <td>male</td>\n",
       "      <td>22.0</td>\n",
       "      <td>1</td>\n",
       "      <td>0</td>\n",
       "      <td>7.2500</td>\n",
       "      <td>S</td>\n",
       "    </tr>\n",
       "    <tr>\n",
       "      <th>1</th>\n",
       "      <td>2</td>\n",
       "      <td>1</td>\n",
       "      <td>1</td>\n",
       "      <td>female</td>\n",
       "      <td>38.0</td>\n",
       "      <td>1</td>\n",
       "      <td>0</td>\n",
       "      <td>71.2833</td>\n",
       "      <td>C</td>\n",
       "    </tr>\n",
       "    <tr>\n",
       "      <th>2</th>\n",
       "      <td>3</td>\n",
       "      <td>1</td>\n",
       "      <td>3</td>\n",
       "      <td>female</td>\n",
       "      <td>26.0</td>\n",
       "      <td>0</td>\n",
       "      <td>0</td>\n",
       "      <td>7.9250</td>\n",
       "      <td>S</td>\n",
       "    </tr>\n",
       "    <tr>\n",
       "      <th>3</th>\n",
       "      <td>4</td>\n",
       "      <td>1</td>\n",
       "      <td>1</td>\n",
       "      <td>female</td>\n",
       "      <td>35.0</td>\n",
       "      <td>1</td>\n",
       "      <td>0</td>\n",
       "      <td>53.1000</td>\n",
       "      <td>S</td>\n",
       "    </tr>\n",
       "    <tr>\n",
       "      <th>4</th>\n",
       "      <td>5</td>\n",
       "      <td>0</td>\n",
       "      <td>3</td>\n",
       "      <td>male</td>\n",
       "      <td>35.0</td>\n",
       "      <td>0</td>\n",
       "      <td>0</td>\n",
       "      <td>8.0500</td>\n",
       "      <td>S</td>\n",
       "    </tr>\n",
       "  </tbody>\n",
       "</table>\n",
       "</div>"
      ],
      "text/plain": [
       "   PassengerId  Survived  Pclass     Sex   Age  SibSp  Parch     Fare Embarked\n",
       "0            1         0       3    male  22.0      1      0   7.2500        S\n",
       "1            2         1       1  female  38.0      1      0  71.2833        C\n",
       "2            3         1       3  female  26.0      0      0   7.9250        S\n",
       "3            4         1       1  female  35.0      1      0  53.1000        S\n",
       "4            5         0       3    male  35.0      0      0   8.0500        S"
      ]
     },
     "execution_count": 63,
     "metadata": {},
     "output_type": "execute_result"
    }
   ],
   "source": [
    "ctrain.head()"
   ]
  },
  {
   "cell_type": "code",
   "execution_count": 64,
   "id": "ccdc2468",
   "metadata": {},
   "outputs": [
    {
     "data": {
      "text/html": [
       "<div>\n",
       "<style scoped>\n",
       "    .dataframe tbody tr th:only-of-type {\n",
       "        vertical-align: middle;\n",
       "    }\n",
       "\n",
       "    .dataframe tbody tr th {\n",
       "        vertical-align: top;\n",
       "    }\n",
       "\n",
       "    .dataframe thead th {\n",
       "        text-align: right;\n",
       "    }\n",
       "</style>\n",
       "<table border=\"1\" class=\"dataframe\">\n",
       "  <thead>\n",
       "    <tr style=\"text-align: right;\">\n",
       "      <th></th>\n",
       "      <th>PassengerId</th>\n",
       "      <th>Pclass</th>\n",
       "      <th>Sex</th>\n",
       "      <th>Age</th>\n",
       "      <th>SibSp</th>\n",
       "      <th>Parch</th>\n",
       "      <th>Fare</th>\n",
       "      <th>Embarked</th>\n",
       "    </tr>\n",
       "  </thead>\n",
       "  <tbody>\n",
       "    <tr>\n",
       "      <th>0</th>\n",
       "      <td>892</td>\n",
       "      <td>3</td>\n",
       "      <td>male</td>\n",
       "      <td>34.5</td>\n",
       "      <td>0</td>\n",
       "      <td>0</td>\n",
       "      <td>7.8292</td>\n",
       "      <td>Q</td>\n",
       "    </tr>\n",
       "    <tr>\n",
       "      <th>1</th>\n",
       "      <td>893</td>\n",
       "      <td>3</td>\n",
       "      <td>female</td>\n",
       "      <td>47.0</td>\n",
       "      <td>1</td>\n",
       "      <td>0</td>\n",
       "      <td>7.0000</td>\n",
       "      <td>S</td>\n",
       "    </tr>\n",
       "    <tr>\n",
       "      <th>2</th>\n",
       "      <td>894</td>\n",
       "      <td>2</td>\n",
       "      <td>male</td>\n",
       "      <td>62.0</td>\n",
       "      <td>0</td>\n",
       "      <td>0</td>\n",
       "      <td>9.6875</td>\n",
       "      <td>Q</td>\n",
       "    </tr>\n",
       "    <tr>\n",
       "      <th>3</th>\n",
       "      <td>895</td>\n",
       "      <td>3</td>\n",
       "      <td>male</td>\n",
       "      <td>27.0</td>\n",
       "      <td>0</td>\n",
       "      <td>0</td>\n",
       "      <td>8.6625</td>\n",
       "      <td>S</td>\n",
       "    </tr>\n",
       "    <tr>\n",
       "      <th>4</th>\n",
       "      <td>896</td>\n",
       "      <td>3</td>\n",
       "      <td>female</td>\n",
       "      <td>22.0</td>\n",
       "      <td>1</td>\n",
       "      <td>1</td>\n",
       "      <td>12.2875</td>\n",
       "      <td>S</td>\n",
       "    </tr>\n",
       "  </tbody>\n",
       "</table>\n",
       "</div>"
      ],
      "text/plain": [
       "   PassengerId  Pclass     Sex   Age  SibSp  Parch     Fare Embarked\n",
       "0          892       3    male  34.5      0      0   7.8292        Q\n",
       "1          893       3  female  47.0      1      0   7.0000        S\n",
       "2          894       2    male  62.0      0      0   9.6875        Q\n",
       "3          895       3    male  27.0      0      0   8.6625        S\n",
       "4          896       3  female  22.0      1      1  12.2875        S"
      ]
     },
     "execution_count": 64,
     "metadata": {},
     "output_type": "execute_result"
    }
   ],
   "source": [
    "ctest.head()"
   ]
  },
  {
   "cell_type": "code",
   "execution_count": 65,
   "id": "d1a2d838",
   "metadata": {},
   "outputs": [],
   "source": [
    "# one hot encoding what is categorical\n",
    "ctrain = pd.get_dummies(ctrain, columns=['Sex','Embarked'], prefix=['sex','port'])\n",
    "ctest = pd.get_dummies(ctest, columns=['Sex','Embarked'], prefix=['sex','port'])\n"
   ]
  },
  {
   "cell_type": "code",
   "execution_count": 66,
   "id": "0363269b",
   "metadata": {},
   "outputs": [
    {
     "data": {
      "text/plain": [
       "(712, 12)"
      ]
     },
     "execution_count": 66,
     "metadata": {},
     "output_type": "execute_result"
    }
   ],
   "source": [
    "ctrain.shape"
   ]
  },
  {
   "cell_type": "code",
   "execution_count": 67,
   "id": "1cd1fadd",
   "metadata": {},
   "outputs": [
    {
     "data": {
      "text/plain": [
       "(418, 11)"
      ]
     },
     "execution_count": 67,
     "metadata": {},
     "output_type": "execute_result"
    }
   ],
   "source": [
    "ctest.shape"
   ]
  },
  {
   "cell_type": "code",
   "execution_count": 68,
   "id": "3a3acb91",
   "metadata": {},
   "outputs": [],
   "source": [
    "# Making data easy to train and predict - checking if columns are the same in train and test\n",
    "yt = ctrain.Survived\n",
    "xt = ctrain.drop(['Survived'], axis=1)\n",
    "x = ctest"
   ]
  },
  {
   "cell_type": "markdown",
   "id": "0cacee80",
   "metadata": {},
   "source": [
    "## Running models"
   ]
  },
  {
   "cell_type": "code",
   "execution_count": 69,
   "id": "16a9527a",
   "metadata": {},
   "outputs": [
    {
     "name": "stdout",
     "output_type": "stream",
     "text": [
      "[0.72727273 0.83216783 0.76760563 0.76056338 0.8028169 ]\n",
      "0.7780852949867034\n"
     ]
    }
   ],
   "source": [
    "lr = LogisticRegression(max_iter = 2000)\n",
    "cv = cross_val_score(lr,xt,yt,cv=5)\n",
    "c_lr = cv.mean()\n",
    "print(cv)\n",
    "print(cv.mean())"
   ]
  },
  {
   "cell_type": "code",
   "execution_count": 70,
   "id": "8ef6184b",
   "metadata": {},
   "outputs": [
    {
     "name": "stdout",
     "output_type": "stream",
     "text": [
      "[0.6013986  0.62237762 0.64788732 0.66901408 0.64788732]\n",
      "0.6377129912341181\n"
     ]
    }
   ],
   "source": [
    "svc = SVC(probability = True)\n",
    "cv = cross_val_score(svc,xt,yt,cv=5)\n",
    "c_svc = cv.mean()\n",
    "print(cv)\n",
    "print(cv.mean())"
   ]
  },
  {
   "cell_type": "code",
   "execution_count": 71,
   "id": "2d7f3cfc",
   "metadata": {},
   "outputs": [
    {
     "name": "stdout",
     "output_type": "stream",
     "text": [
      "[0.66433566 0.82517483 0.76760563 0.79577465 0.84507042]\n",
      "0.7795922387471684\n"
     ]
    }
   ],
   "source": [
    "rf = RandomForestClassifier(random_state = 1)\n",
    "c_rf = cv.mean()\n",
    "cv = cross_val_score(rf,xt,yt,cv=5)\n",
    "print(cv)\n",
    "print(cv.mean())"
   ]
  },
  {
   "cell_type": "code",
   "execution_count": 72,
   "id": "b4204b5f",
   "metadata": {},
   "outputs": [
    {
     "name": "stdout",
     "output_type": "stream",
     "text": [
      "[0.66433566 0.82517483 0.81690141 0.78169014 0.83802817]\n",
      "0.7852260415640698\n"
     ]
    }
   ],
   "source": [
    "from sklearn.ensemble import VotingClassifier\n",
    "voting_clf = VotingClassifier(estimators = [('lr',lr),('rf',rf),('svc',svc)], voting = 'soft') \n",
    "cv = cross_val_score(voting_clf,xt,yt,cv=5)\n",
    "c_votes = cv.mean()\n",
    "print(cv)\n",
    "print(cv.mean())"
   ]
  },
  {
   "cell_type": "code",
   "execution_count": 73,
   "id": "a758ba21",
   "metadata": {},
   "outputs": [
    {
     "data": {
      "text/plain": [
       "0.7096843297547524"
      ]
     },
     "execution_count": 73,
     "metadata": {},
     "output_type": "execute_result"
    }
   ],
   "source": [
    "mean_c = (c_votes+c_svc+c_rf+c_lr)/4\n",
    "mean_c"
   ]
  },
  {
   "cell_type": "markdown",
   "id": "b11403e7",
   "metadata": {},
   "source": [
    "## Making file to upload to Kaggle"
   ]
  },
  {
   "cell_type": "code",
   "execution_count": 74,
   "id": "fc44e821",
   "metadata": {},
   "outputs": [],
   "source": [
    "rf.fit(xt,yt)\n",
    "predict = rf.predict(x).astype(int)\n",
    "basic_submission = {'PassengerId': goldtest.PassengerId, 'Survived': predict}\n",
    "base_submission = pd.DataFrame(data=basic_submission)\n",
    "base_submission.to_csv('c_RF.csv', index=False)"
   ]
  },
  {
   "cell_type": "markdown",
   "id": "4edff9f1",
   "metadata": {},
   "source": [
    "# Feature engineering 1\n"
   ]
  },
  {
   "cell_type": "code",
   "execution_count": 75,
   "id": "3c991030",
   "metadata": {},
   "outputs": [],
   "source": [
    "Retrain = train.copy()\n",
    "Retest = test.copy()"
   ]
  },
  {
   "cell_type": "code",
   "execution_count": 76,
   "id": "b507a0a2",
   "metadata": {},
   "outputs": [
    {
     "data": {
      "text/html": [
       "<div>\n",
       "<style scoped>\n",
       "    .dataframe tbody tr th:only-of-type {\n",
       "        vertical-align: middle;\n",
       "    }\n",
       "\n",
       "    .dataframe tbody tr th {\n",
       "        vertical-align: top;\n",
       "    }\n",
       "\n",
       "    .dataframe thead th {\n",
       "        text-align: right;\n",
       "    }\n",
       "</style>\n",
       "<table border=\"1\" class=\"dataframe\">\n",
       "  <thead>\n",
       "    <tr style=\"text-align: right;\">\n",
       "      <th></th>\n",
       "      <th>Age</th>\n",
       "      <th>Fare</th>\n",
       "      <th>Parch</th>\n",
       "      <th>SibSp</th>\n",
       "    </tr>\n",
       "    <tr>\n",
       "      <th>Survived</th>\n",
       "      <th></th>\n",
       "      <th></th>\n",
       "      <th></th>\n",
       "      <th></th>\n",
       "    </tr>\n",
       "  </thead>\n",
       "  <tbody>\n",
       "    <tr>\n",
       "      <th>0</th>\n",
       "      <td>30.626179</td>\n",
       "      <td>22.117887</td>\n",
       "      <td>0.329690</td>\n",
       "      <td>0.553734</td>\n",
       "    </tr>\n",
       "    <tr>\n",
       "      <th>1</th>\n",
       "      <td>28.343690</td>\n",
       "      <td>48.395408</td>\n",
       "      <td>0.464912</td>\n",
       "      <td>0.473684</td>\n",
       "    </tr>\n",
       "  </tbody>\n",
       "</table>\n",
       "</div>"
      ],
      "text/plain": [
       "                Age       Fare     Parch     SibSp\n",
       "Survived                                          \n",
       "0         30.626179  22.117887  0.329690  0.553734\n",
       "1         28.343690  48.395408  0.464912  0.473684"
      ]
     },
     "execution_count": 76,
     "metadata": {},
     "output_type": "execute_result"
    }
   ],
   "source": [
    "pd.pivot_table(Retrain, index = 'Survived', values = ['Age','SibSp','Parch','Fare'])# aggfunc='count', default is mean\n"
   ]
  },
  {
   "cell_type": "code",
   "execution_count": 77,
   "id": "d7d32d21",
   "metadata": {},
   "outputs": [
    {
     "name": "stdout",
     "output_type": "stream",
     "text": [
      "Pclass      1   2    3\n",
      "Survived              \n",
      "0          80  97  372\n",
      "1         136  87  119\n",
      "\n",
      "Sex       female  male\n",
      "Survived              \n",
      "0             81   468\n",
      "1            233   109\n",
      "\n",
      "Embarked   C   Q    S\n",
      "Survived             \n",
      "0         75  47  427\n",
      "1         93  30  217\n"
     ]
    }
   ],
   "source": [
    "# Comparing survival and each of these categorical variables \n",
    "print(pd.pivot_table(Retrain, index = 'Survived', columns = 'Pclass', values = 'Ticket' ,aggfunc ='count'))\n",
    "print()\n",
    "print(pd.pivot_table(Retrain, index = 'Survived', columns = 'Sex', values = 'Ticket' ,aggfunc ='count'))\n",
    "print()\n",
    "print(pd.pivot_table(Retrain, index = 'Survived', columns = 'Embarked', values = 'Ticket' ,aggfunc ='count'))\n",
    "\n",
    "# but port may be correlated to Pclass?"
   ]
  },
  {
   "cell_type": "code",
   "execution_count": 78,
   "id": "1ecf1a03",
   "metadata": {},
   "outputs": [],
   "source": [
    "# instead of unknown put two missing values into the largest category Embarked in S\n",
    "Retrain.Embarked.unique()\n",
    "Retrain.groupby('Embarked').size()\n",
    "Retrain.Embarked.fillna('S', inplace=True)"
   ]
  },
  {
   "cell_type": "code",
   "execution_count": 79,
   "id": "c897d6bb",
   "metadata": {},
   "outputs": [],
   "source": [
    "# one hot encoding embarked\n",
    "embarked = pd.get_dummies(Retrain['Embarked'], prefix='Port')\n",
    "Retrain = pd.concat([Retrain, embarked], axis=1)\n",
    "Retrain.drop(['Embarked'], axis=1, inplace=True)"
   ]
  },
  {
   "cell_type": "code",
   "execution_count": 80,
   "id": "aaf4a7b8",
   "metadata": {},
   "outputs": [],
   "source": [
    "# for test\n",
    "embarked = pd.get_dummies(Retest['Embarked'], prefix='Port')\n",
    "Retest = pd.concat([Retest, embarked], axis=1)\n",
    "Retest.drop(['Embarked'], axis=1, inplace=True)"
   ]
  },
  {
   "cell_type": "code",
   "execution_count": 81,
   "id": "41cdc436",
   "metadata": {},
   "outputs": [],
   "source": [
    "# instead of making two columns of dummies just one\n",
    "Retrain['Sex'].replace(['male', 'female'], [0,1], inplace = True)\n",
    "Retrain['Sex'].unique()\n",
    "# for test\n",
    "Retest['Sex'].replace(['male', 'female'], [0,1], inplace = True)"
   ]
  },
  {
   "cell_type": "code",
   "execution_count": 82,
   "id": "d0a4e47e",
   "metadata": {},
   "outputs": [],
   "source": [
    "#Retest.Cabin"
   ]
  },
  {
   "cell_type": "code",
   "execution_count": 83,
   "id": "76438110",
   "metadata": {},
   "outputs": [],
   "source": [
    "# Feature engineering - number of cabins baught by a person\n",
    "Retrain['N_cabins'] = Retrain.Cabin.apply(lambda x: 0 if pd.isna(x) else len(x.split(' ')))"
   ]
  },
  {
   "cell_type": "code",
   "execution_count": 84,
   "id": "f9ce4ccf",
   "metadata": {},
   "outputs": [],
   "source": [
    "Retest['N_cabins'] = Retest.Cabin.apply(lambda x: 0 if pd.isna(x) else len(x.split(' ')))"
   ]
  },
  {
   "cell_type": "code",
   "execution_count": 85,
   "id": "b041d7d7",
   "metadata": {},
   "outputs": [],
   "source": [
    "# Feature engineering - getting the deck out of the cabin number - missing will have their own category\n",
    "Retrain['Deck'] = Retrain.Cabin.apply(lambda x: str(x)[0])"
   ]
  },
  {
   "cell_type": "code",
   "execution_count": 86,
   "id": "f39732df",
   "metadata": {},
   "outputs": [
    {
     "data": {
      "text/plain": [
       "n    688\n",
       "C     59\n",
       "B     47\n",
       "D     33\n",
       "E     32\n",
       "A     15\n",
       "F     13\n",
       "G      4\n",
       "Name: Deck, dtype: int64"
      ]
     },
     "execution_count": 86,
     "metadata": {},
     "output_type": "execute_result"
    }
   ],
   "source": [
    "# Too many categories\n",
    "Retrain['Deck'].replace('T','n', inplace=True)\n",
    "Retrain.Deck.value_counts()"
   ]
  },
  {
   "cell_type": "code",
   "execution_count": 87,
   "id": "a7e9dc4e",
   "metadata": {},
   "outputs": [],
   "source": [
    "Retest['Deck'] = Retest.Cabin.apply(lambda x: str(x)[0])"
   ]
  },
  {
   "cell_type": "code",
   "execution_count": 88,
   "id": "b3d23694",
   "metadata": {},
   "outputs": [
    {
     "data": {
      "text/plain": [
       "n    327\n",
       "C     35\n",
       "B     18\n",
       "D     13\n",
       "E      9\n",
       "F      8\n",
       "A      7\n",
       "G      1\n",
       "Name: Deck, dtype: int64"
      ]
     },
     "execution_count": 88,
     "metadata": {},
     "output_type": "execute_result"
    }
   ],
   "source": [
    "Retest.Deck.value_counts()"
   ]
  },
  {
   "cell_type": "code",
   "execution_count": 91,
   "id": "b9f354a6",
   "metadata": {},
   "outputs": [],
   "source": [
    "# will do one hot for Deck as well\n",
    "deck = pd.get_dummies(Retrain['Deck'], prefix='deck')\n",
    "Retrain = pd.concat([Retrain, deck], axis=1)\n",
    "Retrain.drop(['Deck'], axis=1, inplace=True)"
   ]
  },
  {
   "cell_type": "code",
   "execution_count": 92,
   "id": "f64f81dc",
   "metadata": {},
   "outputs": [],
   "source": [
    "deck = pd.get_dummies(Retest['Deck'], prefix='deck')\n",
    "Retest = pd.concat([Retest, deck], axis=1)\n",
    "Retest.drop(['Deck'], axis=1, inplace=True)"
   ]
  },
  {
   "cell_type": "code",
   "execution_count": 93,
   "id": "e805aac3",
   "metadata": {},
   "outputs": [],
   "source": [
    "Retrain.drop(['Cabin'], axis=1, inplace=True)\n",
    "Retest.drop(['Cabin'], axis=1, inplace=True)"
   ]
  },
  {
   "cell_type": "code",
   "execution_count": 94,
   "id": "c13dca1f",
   "metadata": {},
   "outputs": [],
   "source": [
    "# Feature engineering - getting numeric and non-numeric groups of tickets \n",
    "Retrain['n_ticket'] = Retrain.Ticket.apply(lambda x: 1 if x.isnumeric() else 0)"
   ]
  },
  {
   "cell_type": "code",
   "execution_count": 95,
   "id": "69624391",
   "metadata": {},
   "outputs": [],
   "source": [
    "Retest['n_ticket'] = Retest.Ticket.apply(lambda x: 1 if x.isnumeric() else 0)"
   ]
  },
  {
   "cell_type": "code",
   "execution_count": 96,
   "id": "096b1a7e",
   "metadata": {},
   "outputs": [
    {
     "data": {
      "text/plain": [
       "1    296\n",
       "0    122\n",
       "Name: n_ticket, dtype: int64"
      ]
     },
     "execution_count": 96,
     "metadata": {},
     "output_type": "execute_result"
    }
   ],
   "source": [
    "Retest['n_ticket'].value_counts()"
   ]
  },
  {
   "cell_type": "code",
   "execution_count": 97,
   "id": "d04f8b1c",
   "metadata": {},
   "outputs": [],
   "source": [
    "Retrain.drop(['Ticket'], axis=1, inplace=True)\n",
    "Retest.drop(['Ticket'], axis=1, inplace=True)"
   ]
  },
  {
   "cell_type": "code",
   "execution_count": 98,
   "id": "76f034f1",
   "metadata": {},
   "outputs": [
    {
     "data": {
      "text/plain": [
       "Mr              517\n",
       "Miss            182\n",
       "Mrs             125\n",
       "Master           40\n",
       "Dr                7\n",
       "Rev               6\n",
       "Mlle              2\n",
       "Major             2\n",
       "Col               2\n",
       "the Countess      1\n",
       "Capt              1\n",
       "Ms                1\n",
       "Sir               1\n",
       "Lady              1\n",
       "Mme               1\n",
       "Don               1\n",
       "Jonkheer          1\n",
       "Name: title, dtype: int64"
      ]
     },
     "execution_count": 98,
     "metadata": {},
     "output_type": "execute_result"
    }
   ],
   "source": [
    "# Feature engineering - getting the titles from the name\n",
    "Retrain['title'] = Retrain.Name.apply(lambda x: x.split(',')[1].split('.')[0].strip())\n",
    "Retrain.title.value_counts()\n"
   ]
  },
  {
   "cell_type": "code",
   "execution_count": 99,
   "id": "06be7358",
   "metadata": {},
   "outputs": [
    {
     "data": {
      "text/plain": [
       "Mr      560\n",
       "Miss    184\n",
       "Mrs     129\n",
       "wk       18\n",
       "Name: title, dtype: int64"
      ]
     },
     "execution_count": 99,
     "metadata": {},
     "output_type": "execute_result"
    }
   ],
   "source": [
    "# getting the smaller classes together - leaving Mr, Miss, Mrs, working\n",
    "Retrain['title'].replace(['Mlle'], ['Miss'], inplace = True)\n",
    "Retrain['title'].replace(['Ms', 'Lady', 'Mme', 'the Countess'], ['Mrs','Mrs','Mrs','Mrs'], inplace = True)\n",
    "Retrain['title'].replace(['Master', 'Sir', 'Don', 'Jonkheer'], ['Mr','Mr','Mr','Mr'], inplace = True)\n",
    "Retrain['title'].replace(['Dr', 'Rev', 'Major', 'Col', 'Capt'], ['wk','wk','wk','wk','wk'], inplace = True)\n",
    "Retrain.title.value_counts()"
   ]
  },
  {
   "cell_type": "code",
   "execution_count": 100,
   "id": "4ccafa69",
   "metadata": {},
   "outputs": [],
   "source": [
    "title = pd.get_dummies(Retrain['title'], prefix='ttl')\n",
    "Retrain = pd.concat([Retrain, title], axis=1)\n",
    "Retrain.drop(['Name','title'], axis=1, inplace=True)"
   ]
  },
  {
   "cell_type": "code",
   "execution_count": 101,
   "id": "c043258d",
   "metadata": {},
   "outputs": [
    {
     "data": {
      "text/plain": [
       "Mr        240\n",
       "Miss       78\n",
       "Mrs        72\n",
       "Master     21\n",
       "Col         2\n",
       "Rev         2\n",
       "Ms          1\n",
       "Dr          1\n",
       "Dona        1\n",
       "Name: title, dtype: int64"
      ]
     },
     "execution_count": 101,
     "metadata": {},
     "output_type": "execute_result"
    }
   ],
   "source": [
    "Retest['title'] = Retest.Name.apply(lambda x: x.split(',')[1].split('.')[0].strip())\n",
    "Retest.title.value_counts()"
   ]
  },
  {
   "cell_type": "code",
   "execution_count": 102,
   "id": "d7a55003",
   "metadata": {},
   "outputs": [
    {
     "data": {
      "text/plain": [
       "Mr      261\n",
       "Miss     78\n",
       "Mrs      74\n",
       "wk        5\n",
       "Name: title, dtype: int64"
      ]
     },
     "execution_count": 102,
     "metadata": {},
     "output_type": "execute_result"
    }
   ],
   "source": [
    "# getting the smaller classes together - leaving Mr, Miss, Mrs, working\n",
    "Retest['title'].replace(['Ms','Dona'], ['Mrs','Mrs'], inplace = True)\n",
    "Retest['title'].replace(['Master'], ['Mr'], inplace = True)\n",
    "Retest['title'].replace(['Dr', 'Rev', 'Col'], ['wk','wk','wk'], inplace = True)\n",
    "Retest.title.value_counts()"
   ]
  },
  {
   "cell_type": "code",
   "execution_count": 103,
   "id": "5a4dc372",
   "metadata": {},
   "outputs": [],
   "source": [
    "title = pd.get_dummies(Retest['title'], prefix='ttl')\n",
    "Retest = pd.concat([Retest, title], axis=1)\n",
    "Retest.drop(['Name','title'], axis=1, inplace=True)"
   ]
  },
  {
   "cell_type": "code",
   "execution_count": 104,
   "id": "f748612b",
   "metadata": {},
   "outputs": [],
   "source": [
    "# Age - inputing median for null\n",
    "Retrain.Age = Retrain.Age.fillna(Retrain.Age.median())\n",
    "Retest.Age = Retest.Age.fillna(Retest.Age.median())"
   ]
  },
  {
   "cell_type": "code",
   "execution_count": 105,
   "id": "deeadaa2",
   "metadata": {},
   "outputs": [],
   "source": [
    "# Fare - Test has missing inputing median first\n",
    "Retest.Fare = Retest.Fare.fillna(Retest.Fare.median())\n",
    "# Normalizing Fare\n",
    "Retrain['norm_fare'] = np.log(Retrain.Fare+1)\n",
    "Retest['norm_fare'] = np.log(Retest.Fare+1)"
   ]
  },
  {
   "cell_type": "code",
   "execution_count": 106,
   "id": "06f24baa",
   "metadata": {},
   "outputs": [],
   "source": [
    "Retrain.drop(['Fare'], axis=1, inplace=True)\n",
    "Retest.drop(['Fare'], axis=1, inplace=True)"
   ]
  },
  {
   "cell_type": "code",
   "execution_count": 107,
   "id": "a9a928df",
   "metadata": {},
   "outputs": [
    {
     "data": {
      "text/plain": [
       "PassengerId    0\n",
       "Pclass         0\n",
       "Sex            0\n",
       "Age            0\n",
       "SibSp          0\n",
       "Parch          0\n",
       "Port_C         0\n",
       "Port_Q         0\n",
       "Port_S         0\n",
       "N_cabins       0\n",
       "deck_A         0\n",
       "deck_B         0\n",
       "deck_C         0\n",
       "deck_D         0\n",
       "deck_E         0\n",
       "deck_F         0\n",
       "deck_G         0\n",
       "deck_n         0\n",
       "n_ticket       0\n",
       "ttl_Miss       0\n",
       "ttl_Mr         0\n",
       "ttl_Mrs        0\n",
       "ttl_wk         0\n",
       "norm_fare      0\n",
       "dtype: int64"
      ]
     },
     "execution_count": 107,
     "metadata": {},
     "output_type": "execute_result"
    }
   ],
   "source": [
    "Retest.isna().sum()"
   ]
  },
  {
   "cell_type": "code",
   "execution_count": 108,
   "id": "ef509ade",
   "metadata": {},
   "outputs": [
    {
     "data": {
      "text/plain": [
       "Survived     0\n",
       "Pclass       0\n",
       "Sex          0\n",
       "Age          0\n",
       "SibSp        0\n",
       "Parch        0\n",
       "Port_C       0\n",
       "Port_Q       0\n",
       "Port_S       0\n",
       "N_cabins     0\n",
       "deck_A       0\n",
       "deck_B       0\n",
       "deck_C       0\n",
       "deck_D       0\n",
       "deck_E       0\n",
       "deck_F       0\n",
       "deck_G       0\n",
       "deck_n       0\n",
       "n_ticket     0\n",
       "ttl_Miss     0\n",
       "ttl_Mr       0\n",
       "ttl_Mrs      0\n",
       "ttl_wk       0\n",
       "norm_fare    0\n",
       "dtype: int64"
      ]
     },
     "execution_count": 108,
     "metadata": {},
     "output_type": "execute_result"
    }
   ],
   "source": [
    "Retrain.isna().sum()"
   ]
  },
  {
   "cell_type": "code",
   "execution_count": 109,
   "id": "3c52dd39",
   "metadata": {},
   "outputs": [
    {
     "data": {
      "text/html": [
       "<div>\n",
       "<style scoped>\n",
       "    .dataframe tbody tr th:only-of-type {\n",
       "        vertical-align: middle;\n",
       "    }\n",
       "\n",
       "    .dataframe tbody tr th {\n",
       "        vertical-align: top;\n",
       "    }\n",
       "\n",
       "    .dataframe thead th {\n",
       "        text-align: right;\n",
       "    }\n",
       "</style>\n",
       "<table border=\"1\" class=\"dataframe\">\n",
       "  <thead>\n",
       "    <tr style=\"text-align: right;\">\n",
       "      <th></th>\n",
       "      <th>Survived</th>\n",
       "      <th>Pclass</th>\n",
       "      <th>Sex</th>\n",
       "      <th>Age</th>\n",
       "      <th>SibSp</th>\n",
       "      <th>Parch</th>\n",
       "      <th>Port_C</th>\n",
       "      <th>Port_Q</th>\n",
       "      <th>Port_S</th>\n",
       "      <th>N_cabins</th>\n",
       "      <th>deck_A</th>\n",
       "      <th>deck_B</th>\n",
       "      <th>deck_C</th>\n",
       "      <th>deck_D</th>\n",
       "      <th>deck_E</th>\n",
       "      <th>deck_F</th>\n",
       "      <th>deck_G</th>\n",
       "      <th>deck_n</th>\n",
       "      <th>n_ticket</th>\n",
       "      <th>ttl_Miss</th>\n",
       "      <th>ttl_Mr</th>\n",
       "      <th>ttl_Mrs</th>\n",
       "      <th>ttl_wk</th>\n",
       "      <th>norm_fare</th>\n",
       "    </tr>\n",
       "    <tr>\n",
       "      <th>PassengerId</th>\n",
       "      <th></th>\n",
       "      <th></th>\n",
       "      <th></th>\n",
       "      <th></th>\n",
       "      <th></th>\n",
       "      <th></th>\n",
       "      <th></th>\n",
       "      <th></th>\n",
       "      <th></th>\n",
       "      <th></th>\n",
       "      <th></th>\n",
       "      <th></th>\n",
       "      <th></th>\n",
       "      <th></th>\n",
       "      <th></th>\n",
       "      <th></th>\n",
       "      <th></th>\n",
       "      <th></th>\n",
       "      <th></th>\n",
       "      <th></th>\n",
       "      <th></th>\n",
       "      <th></th>\n",
       "      <th></th>\n",
       "      <th></th>\n",
       "    </tr>\n",
       "  </thead>\n",
       "  <tbody>\n",
       "    <tr>\n",
       "      <th>1</th>\n",
       "      <td>0</td>\n",
       "      <td>3</td>\n",
       "      <td>0</td>\n",
       "      <td>22.0</td>\n",
       "      <td>1</td>\n",
       "      <td>0</td>\n",
       "      <td>0</td>\n",
       "      <td>0</td>\n",
       "      <td>1</td>\n",
       "      <td>0</td>\n",
       "      <td>0</td>\n",
       "      <td>0</td>\n",
       "      <td>0</td>\n",
       "      <td>0</td>\n",
       "      <td>0</td>\n",
       "      <td>0</td>\n",
       "      <td>0</td>\n",
       "      <td>1</td>\n",
       "      <td>0</td>\n",
       "      <td>0</td>\n",
       "      <td>1</td>\n",
       "      <td>0</td>\n",
       "      <td>0</td>\n",
       "      <td>2.110213</td>\n",
       "    </tr>\n",
       "    <tr>\n",
       "      <th>2</th>\n",
       "      <td>1</td>\n",
       "      <td>1</td>\n",
       "      <td>1</td>\n",
       "      <td>38.0</td>\n",
       "      <td>1</td>\n",
       "      <td>0</td>\n",
       "      <td>1</td>\n",
       "      <td>0</td>\n",
       "      <td>0</td>\n",
       "      <td>1</td>\n",
       "      <td>0</td>\n",
       "      <td>0</td>\n",
       "      <td>1</td>\n",
       "      <td>0</td>\n",
       "      <td>0</td>\n",
       "      <td>0</td>\n",
       "      <td>0</td>\n",
       "      <td>0</td>\n",
       "      <td>0</td>\n",
       "      <td>0</td>\n",
       "      <td>0</td>\n",
       "      <td>1</td>\n",
       "      <td>0</td>\n",
       "      <td>4.280593</td>\n",
       "    </tr>\n",
       "    <tr>\n",
       "      <th>3</th>\n",
       "      <td>1</td>\n",
       "      <td>3</td>\n",
       "      <td>1</td>\n",
       "      <td>26.0</td>\n",
       "      <td>0</td>\n",
       "      <td>0</td>\n",
       "      <td>0</td>\n",
       "      <td>0</td>\n",
       "      <td>1</td>\n",
       "      <td>0</td>\n",
       "      <td>0</td>\n",
       "      <td>0</td>\n",
       "      <td>0</td>\n",
       "      <td>0</td>\n",
       "      <td>0</td>\n",
       "      <td>0</td>\n",
       "      <td>0</td>\n",
       "      <td>1</td>\n",
       "      <td>0</td>\n",
       "      <td>1</td>\n",
       "      <td>0</td>\n",
       "      <td>0</td>\n",
       "      <td>0</td>\n",
       "      <td>2.188856</td>\n",
       "    </tr>\n",
       "    <tr>\n",
       "      <th>4</th>\n",
       "      <td>1</td>\n",
       "      <td>1</td>\n",
       "      <td>1</td>\n",
       "      <td>35.0</td>\n",
       "      <td>1</td>\n",
       "      <td>0</td>\n",
       "      <td>0</td>\n",
       "      <td>0</td>\n",
       "      <td>1</td>\n",
       "      <td>1</td>\n",
       "      <td>0</td>\n",
       "      <td>0</td>\n",
       "      <td>1</td>\n",
       "      <td>0</td>\n",
       "      <td>0</td>\n",
       "      <td>0</td>\n",
       "      <td>0</td>\n",
       "      <td>0</td>\n",
       "      <td>1</td>\n",
       "      <td>0</td>\n",
       "      <td>0</td>\n",
       "      <td>1</td>\n",
       "      <td>0</td>\n",
       "      <td>3.990834</td>\n",
       "    </tr>\n",
       "    <tr>\n",
       "      <th>5</th>\n",
       "      <td>0</td>\n",
       "      <td>3</td>\n",
       "      <td>0</td>\n",
       "      <td>35.0</td>\n",
       "      <td>0</td>\n",
       "      <td>0</td>\n",
       "      <td>0</td>\n",
       "      <td>0</td>\n",
       "      <td>1</td>\n",
       "      <td>0</td>\n",
       "      <td>0</td>\n",
       "      <td>0</td>\n",
       "      <td>0</td>\n",
       "      <td>0</td>\n",
       "      <td>0</td>\n",
       "      <td>0</td>\n",
       "      <td>0</td>\n",
       "      <td>1</td>\n",
       "      <td>1</td>\n",
       "      <td>0</td>\n",
       "      <td>1</td>\n",
       "      <td>0</td>\n",
       "      <td>0</td>\n",
       "      <td>2.202765</td>\n",
       "    </tr>\n",
       "  </tbody>\n",
       "</table>\n",
       "</div>"
      ],
      "text/plain": [
       "             Survived  Pclass  Sex   Age  SibSp  Parch  Port_C  Port_Q  \\\n",
       "PassengerId                                                              \n",
       "1                   0       3    0  22.0      1      0       0       0   \n",
       "2                   1       1    1  38.0      1      0       1       0   \n",
       "3                   1       3    1  26.0      0      0       0       0   \n",
       "4                   1       1    1  35.0      1      0       0       0   \n",
       "5                   0       3    0  35.0      0      0       0       0   \n",
       "\n",
       "             Port_S  N_cabins  deck_A  deck_B  deck_C  deck_D  deck_E  deck_F  \\\n",
       "PassengerId                                                                     \n",
       "1                 1         0       0       0       0       0       0       0   \n",
       "2                 0         1       0       0       1       0       0       0   \n",
       "3                 1         0       0       0       0       0       0       0   \n",
       "4                 1         1       0       0       1       0       0       0   \n",
       "5                 1         0       0       0       0       0       0       0   \n",
       "\n",
       "             deck_G  deck_n  n_ticket  ttl_Miss  ttl_Mr  ttl_Mrs  ttl_wk  \\\n",
       "PassengerId                                                                \n",
       "1                 0       1         0         0       1        0       0   \n",
       "2                 0       0         0         0       0        1       0   \n",
       "3                 0       1         0         1       0        0       0   \n",
       "4                 0       0         1         0       0        1       0   \n",
       "5                 0       1         1         0       1        0       0   \n",
       "\n",
       "             norm_fare  \n",
       "PassengerId             \n",
       "1             2.110213  \n",
       "2             4.280593  \n",
       "3             2.188856  \n",
       "4             3.990834  \n",
       "5             2.202765  "
      ]
     },
     "execution_count": 109,
     "metadata": {},
     "output_type": "execute_result"
    }
   ],
   "source": [
    "Retrain.head()"
   ]
  },
  {
   "cell_type": "markdown",
   "id": "2144fed1",
   "metadata": {},
   "source": [
    "## Making it easy to train and predict"
   ]
  },
  {
   "cell_type": "code",
   "execution_count": 110,
   "id": "6414de18",
   "metadata": {},
   "outputs": [],
   "source": [
    "# Making data easy to train and predict\n",
    "yt = Retrain.Survived\n",
    "xt = Retrain.drop(['Survived'], axis=1)\n",
    "x = Retest.drop(['PassengerId'], axis=1)\n"
   ]
  },
  {
   "cell_type": "code",
   "execution_count": 111,
   "id": "7ec3f6d8",
   "metadata": {},
   "outputs": [
    {
     "data": {
      "text/plain": [
       "Index(['Pclass', 'Sex', 'Age', 'SibSp', 'Parch', 'Port_C', 'Port_Q', 'Port_S',\n",
       "       'N_cabins', 'deck_A', 'deck_B', 'deck_C', 'deck_D', 'deck_E', 'deck_F',\n",
       "       'deck_G', 'deck_n', 'n_ticket', 'ttl_Miss', 'ttl_Mr', 'ttl_Mrs',\n",
       "       'ttl_wk', 'norm_fare'],\n",
       "      dtype='object')"
      ]
     },
     "execution_count": 111,
     "metadata": {},
     "output_type": "execute_result"
    }
   ],
   "source": [
    "xt.columns"
   ]
  },
  {
   "cell_type": "code",
   "execution_count": 112,
   "id": "49951b7f",
   "metadata": {},
   "outputs": [
    {
     "data": {
      "text/plain": [
       "Index(['Pclass', 'Sex', 'Age', 'SibSp', 'Parch', 'Port_C', 'Port_Q', 'Port_S',\n",
       "       'N_cabins', 'deck_A', 'deck_B', 'deck_C', 'deck_D', 'deck_E', 'deck_F',\n",
       "       'deck_G', 'deck_n', 'n_ticket', 'ttl_Miss', 'ttl_Mr', 'ttl_Mrs',\n",
       "       'ttl_wk', 'norm_fare'],\n",
       "      dtype='object')"
      ]
     },
     "execution_count": 112,
     "metadata": {},
     "output_type": "execute_result"
    }
   ],
   "source": [
    "x.columns"
   ]
  },
  {
   "cell_type": "markdown",
   "id": "66c9c454",
   "metadata": {},
   "source": [
    "## Running models"
   ]
  },
  {
   "cell_type": "code",
   "execution_count": 113,
   "id": "115a72b0",
   "metadata": {},
   "outputs": [
    {
     "name": "stdout",
     "output_type": "stream",
     "text": [
      "[0.79888268 0.80337079 0.78089888 0.80898876 0.81460674]\n",
      "0.8013495700207143\n"
     ]
    }
   ],
   "source": [
    "lr = LogisticRegression(max_iter = 2000)\n",
    "cv = cross_val_score(lr,xt,yt,cv=5)\n",
    "Re_lr = cv.mean()\n",
    "print(cv)\n",
    "print(cv.mean())"
   ]
  },
  {
   "cell_type": "code",
   "execution_count": 114,
   "id": "0e63812b",
   "metadata": {},
   "outputs": [
    {
     "name": "stdout",
     "output_type": "stream",
     "text": [
      "[0.66480447 0.75842697 0.70224719 0.73033708 0.74719101]\n",
      "0.720601343292951\n"
     ]
    }
   ],
   "source": [
    "svc = SVC(probability = True)\n",
    "cv = cross_val_score(svc,xt,yt,cv=5)\n",
    "Re_svc = cv.mean()\n",
    "print(cv)\n",
    "print(cv.mean())"
   ]
  },
  {
   "cell_type": "code",
   "execution_count": 115,
   "id": "f9beb400",
   "metadata": {},
   "outputs": [
    {
     "name": "stdout",
     "output_type": "stream",
     "text": [
      "[0.79888268 0.79213483 0.85393258 0.73595506 0.80898876]\n",
      "0.7979787835038603\n"
     ]
    }
   ],
   "source": [
    "rf = RandomForestClassifier(random_state = 1)\n",
    "cv = cross_val_score(rf,xt,yt,cv=5)\n",
    "Re_rf = cv.mean()\n",
    "print(cv)\n",
    "print(cv.mean())"
   ]
  },
  {
   "cell_type": "code",
   "execution_count": 116,
   "id": "aadc44ca",
   "metadata": {},
   "outputs": [
    {
     "name": "stdout",
     "output_type": "stream",
     "text": [
      "[0.79329609 0.79775281 0.82022472 0.78651685 0.83707865]\n",
      "0.8069738246186681\n"
     ]
    }
   ],
   "source": [
    "voting_clf = VotingClassifier(estimators = [('lr',lr),('rf',rf),('svc',svc)], voting = 'soft') \n",
    "cv = cross_val_score(voting_clf,xt,yt,cv=5)\n",
    "Re_votes = cv.mean()\n",
    "print(cv)\n",
    "print(cv.mean())"
   ]
  },
  {
   "cell_type": "code",
   "execution_count": 117,
   "id": "5dbd1a6c",
   "metadata": {},
   "outputs": [
    {
     "data": {
      "text/plain": [
       "0.7817258803590483"
      ]
     },
     "execution_count": 117,
     "metadata": {},
     "output_type": "execute_result"
    }
   ],
   "source": [
    "mean_Re = (Re_votes+Re_svc+Re_rf+Re_lr)/4\n",
    "mean_Re"
   ]
  },
  {
   "cell_type": "markdown",
   "id": "2feb6622",
   "metadata": {},
   "source": [
    "## Making file to upload to Kaggle"
   ]
  },
  {
   "cell_type": "code",
   "execution_count": 118,
   "id": "d834be83",
   "metadata": {},
   "outputs": [],
   "source": [
    "rf.fit(xt,yt)\n",
    "predict = rf.predict(x).astype(int)\n",
    "basic_submission = {'PassengerId': goldtest.PassengerId, 'Survived': predict}\n",
    "base_submission = pd.DataFrame(data=basic_submission)\n",
    "base_submission.to_csv('Re_RF.csv', index=False)"
   ]
  },
  {
   "cell_type": "code",
   "execution_count": 119,
   "id": "8ee32fd6",
   "metadata": {},
   "outputs": [],
   "source": [
    "voting_clf.fit(xt,yt)\n",
    "predict = voting_clf.predict(x).astype(int)\n",
    "basic_submission = {'PassengerId': goldtest.PassengerId, 'Survived': predict}\n",
    "base_submission = pd.DataFrame(data=basic_submission)\n",
    "base_submission.to_csv('Re_vote.csv', index=False)"
   ]
  },
  {
   "cell_type": "markdown",
   "id": "6dbf7cdd",
   "metadata": {},
   "source": [
    "# Let's do some feature engineering 2\n"
   ]
  },
  {
   "cell_type": "code",
   "execution_count": 120,
   "id": "b2094947",
   "metadata": {},
   "outputs": [],
   "source": [
    "Retrain = train.copy()\n",
    "Retest = test.copy()"
   ]
  },
  {
   "cell_type": "code",
   "execution_count": 121,
   "id": "b4a5c0d5",
   "metadata": {},
   "outputs": [],
   "source": [
    "# instead of unknown put two missing values into the largest category Embarked in S\n",
    "Retrain.Embarked.unique()\n",
    "Retrain.groupby('Embarked').size()\n",
    "Retrain.Embarked.fillna('S', inplace=True)"
   ]
  },
  {
   "cell_type": "code",
   "execution_count": 122,
   "id": "2e078cc0",
   "metadata": {},
   "outputs": [],
   "source": [
    "# one hot encoding embarked\n",
    "embarked = pd.get_dummies(Retrain['Embarked'], prefix='Port')\n",
    "Retrain = pd.concat([Retrain, embarked], axis=1)\n",
    "Retrain.drop(['Embarked'], axis=1, inplace=True)"
   ]
  },
  {
   "cell_type": "code",
   "execution_count": 123,
   "id": "6c8f7b36",
   "metadata": {},
   "outputs": [],
   "source": [
    "# for test\n",
    "embarked = pd.get_dummies(Retest['Embarked'], prefix='Port')\n",
    "Retest = pd.concat([Retest, embarked], axis=1)\n",
    "Retest.drop(['Embarked'], axis=1, inplace=True)"
   ]
  },
  {
   "cell_type": "code",
   "execution_count": 124,
   "id": "e70da6f0",
   "metadata": {},
   "outputs": [],
   "source": [
    "# instead of making two columns of dummies just one\n",
    "Retrain['Sex'].replace(['male', 'female'], [0,1], inplace = True)\n",
    "Retrain['Sex'].unique()\n",
    "# for test\n",
    "Retest['Sex'].replace(['male', 'female'], [0,1], inplace = True)"
   ]
  },
  {
   "cell_type": "code",
   "execution_count": 125,
   "id": "e4cd515f",
   "metadata": {},
   "outputs": [],
   "source": [
    "# making Ages categoric = easier to deal by non linear models\n",
    "bins = [0,10,20,30,40,50,60,70,80]\n",
    "age_group = pd.cut(Retrain['Age'], bins)\n",
    "Retrain['Age_group'] = age_group\n",
    "Retrain.drop('Age', axis=1, inplace=True)\n",
    "# now test\n",
    "age_group = pd.cut(Retest['Age'], bins)\n",
    "Retest['Age_group'] = age_group\n",
    "Retest.drop('Age', axis=1, inplace=True)\n",
    "\n"
   ]
  },
  {
   "cell_type": "code",
   "execution_count": 126,
   "id": "4f376584",
   "metadata": {},
   "outputs": [],
   "source": [
    "# encoding the age group for train\n",
    "age = pd.get_dummies(Retrain['Age_group'], prefix='Age')\n",
    "Retrain = pd.concat([Retrain, age], axis=1)\n",
    "Retrain.drop(['Age_group'], axis=1, inplace=True)\n"
   ]
  },
  {
   "cell_type": "code",
   "execution_count": 127,
   "id": "26f7253d",
   "metadata": {},
   "outputs": [],
   "source": [
    "# now for test\n",
    "age = pd.get_dummies(Retest['Age_group'], prefix='Age')\n",
    "Retest = pd.concat([Retest, age], axis=1)\n",
    "Retest.drop(['Age_group'], axis=1, inplace=True)"
   ]
  },
  {
   "cell_type": "code",
   "execution_count": 128,
   "id": "1d71c2e7",
   "metadata": {},
   "outputs": [],
   "source": [
    "# Feature engineering - number of cabins baught by a person\n",
    "Retrain['N_cabins'] = Retrain.Cabin.apply(lambda x: 0 if pd.isna(x) else len(x.split(' ')))"
   ]
  },
  {
   "cell_type": "code",
   "execution_count": 129,
   "id": "3836885c",
   "metadata": {},
   "outputs": [],
   "source": [
    "Retest['N_cabins'] = Retest.Cabin.apply(lambda x: 0 if pd.isna(x) else len(x.split(' ')))"
   ]
  },
  {
   "cell_type": "code",
   "execution_count": 130,
   "id": "5fc19d6f",
   "metadata": {},
   "outputs": [],
   "source": [
    "# Feature engineering - getting the deck out of the cabin number - missing will have their own category\n",
    "Retrain['Deck'] = Retrain.Cabin.apply(lambda x: str(x)[0])"
   ]
  },
  {
   "cell_type": "code",
   "execution_count": 131,
   "id": "4275282f",
   "metadata": {},
   "outputs": [
    {
     "data": {
      "text/plain": [
       "n    688\n",
       "C     59\n",
       "B     47\n",
       "D     33\n",
       "E     32\n",
       "A     15\n",
       "F     13\n",
       "G      4\n",
       "Name: Deck, dtype: int64"
      ]
     },
     "execution_count": 131,
     "metadata": {},
     "output_type": "execute_result"
    }
   ],
   "source": [
    "# Too many categories\n",
    "Retrain['Deck'].replace('T','n', inplace=True)\n",
    "Retrain.Deck.value_counts()"
   ]
  },
  {
   "cell_type": "code",
   "execution_count": 132,
   "id": "1546d1e0",
   "metadata": {},
   "outputs": [],
   "source": [
    "Retest['Deck'] = Retest.Cabin.apply(lambda x: str(x)[0])"
   ]
  },
  {
   "cell_type": "code",
   "execution_count": 133,
   "id": "54cef88f",
   "metadata": {},
   "outputs": [],
   "source": [
    "# will do one hot for Deck as well\n",
    "deck = pd.get_dummies(Retrain['Deck'], prefix='deck')\n",
    "Retrain = pd.concat([Retrain, deck], axis=1)\n",
    "Retrain.drop(['Deck'], axis=1, inplace=True)"
   ]
  },
  {
   "cell_type": "code",
   "execution_count": 134,
   "id": "3094bacd",
   "metadata": {},
   "outputs": [],
   "source": [
    "deck = pd.get_dummies(Retest['Deck'], prefix='deck')\n",
    "Retest = pd.concat([Retest, deck], axis=1)\n",
    "Retest.drop(['Deck'], axis=1, inplace=True)"
   ]
  },
  {
   "cell_type": "code",
   "execution_count": 135,
   "id": "11605e1a",
   "metadata": {},
   "outputs": [],
   "source": [
    "Retrain.drop(['Cabin'], axis=1, inplace=True)\n",
    "Retest.drop(['Cabin'], axis=1, inplace=True)"
   ]
  },
  {
   "cell_type": "code",
   "execution_count": 136,
   "id": "d30045a0",
   "metadata": {},
   "outputs": [],
   "source": [
    "# Feature engineering - getting numeric and non-numeric groups of tickets \n",
    "Retrain['n_ticket'] = Retrain.Ticket.apply(lambda x: 1 if x.isnumeric() else 0)"
   ]
  },
  {
   "cell_type": "code",
   "execution_count": 137,
   "id": "c4106466",
   "metadata": {},
   "outputs": [],
   "source": [
    "Retest['n_ticket'] = Retest.Ticket.apply(lambda x: 1 if x.isnumeric() else 0)"
   ]
  },
  {
   "cell_type": "code",
   "execution_count": 138,
   "id": "34fb46f7",
   "metadata": {},
   "outputs": [],
   "source": [
    "Retrain.drop(['Ticket'], axis=1, inplace=True)\n",
    "Retest.drop(['Ticket'], axis=1, inplace=True)"
   ]
  },
  {
   "cell_type": "code",
   "execution_count": 139,
   "id": "33b392d0",
   "metadata": {},
   "outputs": [],
   "source": [
    "# Feature engineering - getting the titles from the name\n",
    "Retrain['title'] = Retrain.Name.apply(lambda x: x.split(',')[1].split('.')[0].strip())\n"
   ]
  },
  {
   "cell_type": "code",
   "execution_count": 140,
   "id": "474240c7",
   "metadata": {},
   "outputs": [
    {
     "data": {
      "text/plain": [
       "Mr      560\n",
       "Miss    184\n",
       "Mrs     129\n",
       "Dr        7\n",
       "Rev       6\n",
       "wk        5\n",
       "Name: title, dtype: int64"
      ]
     },
     "execution_count": 140,
     "metadata": {},
     "output_type": "execute_result"
    }
   ],
   "source": [
    "# getting the smaller classes together - leaving Mr, Miss, Mrs, working\n",
    "Retrain['title'].replace(['Mlle'], ['Miss'], inplace = True)\n",
    "Retrain['title'].replace(['Ms', 'Lady', 'Mme', 'the Countess'], ['Mrs','Mrs','Mrs','Mrs'], inplace = True)\n",
    "Retrain['title'].replace(['Master', 'Sir', 'Don', 'Jonkheer'], ['Mr','Mr','Mr','Mr'], inplace = True)\n",
    "Retrain['title'].replace(['Major', 'Col', 'Capt'], ['wk','wk','wk'], inplace = True)\n",
    "Retrain.title.value_counts()"
   ]
  },
  {
   "cell_type": "code",
   "execution_count": 141,
   "id": "63f0fdd5",
   "metadata": {},
   "outputs": [],
   "source": [
    "title = pd.get_dummies(Retrain['title'], prefix='ttl')\n",
    "Retrain = pd.concat([Retrain, title], axis=1)\n",
    "Retrain.drop(['Name','title'], axis=1, inplace=True)"
   ]
  },
  {
   "cell_type": "code",
   "execution_count": 142,
   "id": "ad7a6d60",
   "metadata": {},
   "outputs": [
    {
     "data": {
      "text/plain": [
       "Mr        240\n",
       "Miss       78\n",
       "Mrs        72\n",
       "Master     21\n",
       "Col         2\n",
       "Rev         2\n",
       "Ms          1\n",
       "Dr          1\n",
       "Dona        1\n",
       "Name: title, dtype: int64"
      ]
     },
     "execution_count": 142,
     "metadata": {},
     "output_type": "execute_result"
    }
   ],
   "source": [
    "Retest['title'] = Retest.Name.apply(lambda x: x.split(',')[1].split('.')[0].strip())\n",
    "Retest.title.value_counts()"
   ]
  },
  {
   "cell_type": "code",
   "execution_count": 143,
   "id": "3d2f0c4d",
   "metadata": {},
   "outputs": [
    {
     "data": {
      "text/plain": [
       "Mr      261\n",
       "Miss     78\n",
       "Mrs      74\n",
       "wk        2\n",
       "Rev       2\n",
       "Dr        1\n",
       "Name: title, dtype: int64"
      ]
     },
     "execution_count": 143,
     "metadata": {},
     "output_type": "execute_result"
    }
   ],
   "source": [
    "# getting the smaller classes together - leaving Mr, Miss, Mrs, working\n",
    "Retest['title'].replace(['Ms','Dona'], ['Mrs','Mrs'], inplace = True)\n",
    "Retest['title'].replace(['Master'], ['Mr'], inplace = True)\n",
    "Retest['title'].replace(['Col'], ['wk'], inplace = True)\n",
    "Retest.title.value_counts()"
   ]
  },
  {
   "cell_type": "code",
   "execution_count": 144,
   "id": "1af3a2e0",
   "metadata": {},
   "outputs": [],
   "source": [
    "title = pd.get_dummies(Retest['title'], prefix='ttl')\n",
    "Retest = pd.concat([Retest, title], axis=1)\n",
    "Retest.drop(['Name','title'], axis=1, inplace=True)"
   ]
  },
  {
   "cell_type": "code",
   "execution_count": 145,
   "id": "2d3cf9b7",
   "metadata": {},
   "outputs": [],
   "source": [
    "# Fare - Test has missing inputing median first\n",
    "Retest.Fare = Retest.Fare.fillna(Retest.Fare.median())\n",
    "# Normalizing Fare\n",
    "Retrain['norm_fare'] = np.log(Retrain.Fare+1)\n",
    "Retest['norm_fare'] = np.log(Retest.Fare+1)"
   ]
  },
  {
   "cell_type": "code",
   "execution_count": 146,
   "id": "5cd3be22",
   "metadata": {},
   "outputs": [],
   "source": [
    "Retrain.drop(['Fare'], axis=1, inplace=True)\n",
    "Retest.drop(['Fare'], axis=1, inplace=True)"
   ]
  },
  {
   "cell_type": "markdown",
   "id": "d3d31c73",
   "metadata": {},
   "source": [
    "To predict"
   ]
  },
  {
   "cell_type": "code",
   "execution_count": 147,
   "id": "17fe01a4",
   "metadata": {},
   "outputs": [],
   "source": [
    "# Making data easy to train and predict\n",
    "yt = Retrain.Survived\n",
    "xt = Retrain.drop(['Survived'], axis=1)\n",
    "x = Retest.drop(['PassengerId'], axis=1)\n"
   ]
  },
  {
   "cell_type": "code",
   "execution_count": 148,
   "id": "93f8b29e",
   "metadata": {},
   "outputs": [
    {
     "name": "stdout",
     "output_type": "stream",
     "text": [
      "[0.77653631 0.81460674 0.79213483 0.79213483 0.80898876]\n",
      "0.7968802962776976\n"
     ]
    }
   ],
   "source": [
    "lr = LogisticRegression(max_iter = 2000)\n",
    "cv = cross_val_score(lr,xt,yt,cv=5)\n",
    "Re2_lr = cv.mean()\n",
    "print(cv)\n",
    "print(cv.mean())"
   ]
  },
  {
   "cell_type": "code",
   "execution_count": 149,
   "id": "3a42dd10",
   "metadata": {},
   "outputs": [
    {
     "name": "stdout",
     "output_type": "stream",
     "text": [
      "[0.82122905 0.81460674 0.81460674 0.79213483 0.81460674]\n",
      "0.811436821291821\n"
     ]
    }
   ],
   "source": [
    "svc = SVC(probability = True)\n",
    "cv = cross_val_score(svc,xt,yt,cv=5)\n",
    "Re2_svc = cv.mean()\n",
    "print(cv)\n",
    "print(cv.mean())"
   ]
  },
  {
   "cell_type": "code",
   "execution_count": 150,
   "id": "2b04cbd4",
   "metadata": {},
   "outputs": [
    {
     "name": "stdout",
     "output_type": "stream",
     "text": [
      "[0.79329609 0.7752809  0.86516854 0.74157303 0.80898876]\n",
      "0.7968614650681062\n"
     ]
    }
   ],
   "source": [
    "rf = RandomForestClassifier(random_state = 1)\n",
    "cv = cross_val_score(rf,xt,yt,cv=5)\n",
    "Re2_rf = cv.mean()\n",
    "print(cv)\n",
    "print(cv.mean())"
   ]
  },
  {
   "cell_type": "code",
   "execution_count": 151,
   "id": "c5cda570",
   "metadata": {},
   "outputs": [
    {
     "name": "stdout",
     "output_type": "stream",
     "text": [
      "[0.81564246 0.83146067 0.85955056 0.80898876 0.83707865]\n",
      "0.8305442219571905\n"
     ]
    }
   ],
   "source": [
    "voting_clf = VotingClassifier(estimators = [('lr',lr),('rf',rf),('svc',svc)], voting = 'soft') \n",
    "cv = cross_val_score(voting_clf,xt,yt,cv=5)\n",
    "Re2_votes = cv.mean()\n",
    "print(cv)\n",
    "print(cv.mean())"
   ]
  },
  {
   "cell_type": "code",
   "execution_count": 152,
   "id": "e3ea8ef5",
   "metadata": {},
   "outputs": [
    {
     "data": {
      "text/plain": [
       "0.8089307011487038"
      ]
     },
     "execution_count": 152,
     "metadata": {},
     "output_type": "execute_result"
    }
   ],
   "source": [
    "mean_Re2 = (Re2_lr+Re2_svc+Re2_rf+Re2_votes)/4\n",
    "mean_Re2"
   ]
  },
  {
   "cell_type": "code",
   "execution_count": 153,
   "id": "9093fa2c",
   "metadata": {},
   "outputs": [],
   "source": [
    "rf.fit(xt,yt)\n",
    "predict = rf.predict(x).astype(int)\n",
    "basic_submission = {'PassengerId': Retest.PassengerId, 'Survived': predict}\n",
    "base_submission = pd.DataFrame(data=basic_submission)\n",
    "base_submission.to_csv('Re2_RF.csv', index=False)"
   ]
  },
  {
   "cell_type": "markdown",
   "id": "e6850772",
   "metadata": {},
   "source": [
    "# Trying out the bins for Age\n"
   ]
  },
  {
   "cell_type": "code",
   "execution_count": 194,
   "id": "c7de4166",
   "metadata": {},
   "outputs": [
    {
     "name": "stdout",
     "output_type": "stream",
     "text": [
      "[0.75977654 0.79775281 0.78651685 0.79775281 0.79213483]\n",
      "0.7867867679367272\n",
      "[0.81005587 0.80898876 0.80898876 0.79213483 0.80898876]\n",
      "0.8058313979034587\n",
      "[0.77094972 0.7752809  0.8258427  0.76966292 0.80337079]\n",
      "0.7890214048082356\n"
     ]
    }
   ],
   "source": [
    "## 1) Dropping age completely\n",
    "\n",
    "Retrain = train.copy()\n",
    "Retest = test.copy()\n",
    "\n",
    "# instead of unknown put two missing values into the largest category Embarked in S\n",
    "Retrain.Embarked.unique()\n",
    "Retrain.groupby('Embarked').size()\n",
    "Retrain.Embarked.fillna('S', inplace=True)\n",
    "\n",
    "# one hot encoding embarked\n",
    "embarked = pd.get_dummies(Retrain['Embarked'], prefix='Port')\n",
    "Retrain = pd.concat([Retrain, embarked], axis=1)\n",
    "Retrain.drop(['Embarked'], axis=1, inplace=True)\n",
    "\n",
    "# for test\n",
    "embarked = pd.get_dummies(Retest['Embarked'], prefix='Port')\n",
    "Retest = pd.concat([Retest, embarked], axis=1)\n",
    "Retest.drop(['Embarked'], axis=1, inplace=True)\n",
    "\n",
    "# instead of making two columns of dummies just one\n",
    "Retrain['Sex'].replace(['male', 'female'], [0,1], inplace = True)\n",
    "Retrain['Sex'].unique()\n",
    "# for test\n",
    "Retest['Sex'].replace(['male', 'female'], [0,1], inplace = True)\n",
    "\n",
    "# Feature engineering - number of cabins baught by a person\n",
    "Retrain['N_cabins'] = Retrain.Cabin.apply(lambda x: 0 if pd.isna(x) else len(x.split(' ')))\n",
    "\n",
    "Retest['N_cabins'] = Retest.Cabin.apply(lambda x: 0 if pd.isna(x) else len(x.split(' ')))\n",
    "\n",
    "# Feature engineering - getting the deck out of the cabin number - missing will have their own category\n",
    "Retrain['Deck'] = Retrain.Cabin.apply(lambda x: str(x)[0])\n",
    "# Too many categories\n",
    "Retrain['Deck'].replace('T','n', inplace=True)\n",
    "Retrain.Deck.value_counts()\n",
    "\n",
    "Retest['Deck'] = Retest.Cabin.apply(lambda x: str(x)[0])\n",
    "\n",
    "# will do one hot for Deck as well\n",
    "deck = pd.get_dummies(Retrain['Deck'], prefix='deck')\n",
    "Retrain = pd.concat([Retrain, deck], axis=1)\n",
    "Retrain.drop(['Deck'], axis=1, inplace=True)\n",
    "\n",
    "deck = pd.get_dummies(Retest['Deck'], prefix='deck')\n",
    "Retest = pd.concat([Retest, deck], axis=1)\n",
    "Retest.drop(['Deck'], axis=1, inplace=True)\n",
    "\n",
    "Retrain.drop(['Cabin'], axis=1, inplace=True)\n",
    "Retest.drop(['Cabin'], axis=1, inplace=True)\n",
    "\n",
    "# Feature engineering - getting numeric and non-numeric groups of tickets \n",
    "Retrain['n_ticket'] = Retrain.Ticket.apply(lambda x: 1 if x.isnumeric() else 0)\n",
    "\n",
    "Retest['n_ticket'] = Retest.Ticket.apply(lambda x: 1 if x.isnumeric() else 0)\n",
    "\n",
    "Retrain.drop(['Ticket'], axis=1, inplace=True)\n",
    "Retest.drop(['Ticket'], axis=1, inplace=True)\n",
    "\n",
    "# Feature engineering - getting the titles from the name\n",
    "Retrain['title'] = Retrain.Name.apply(lambda x: x.split(',')[1].split('.')[0].strip())\n",
    "Retrain.title.value_counts()\n",
    "\n",
    "\n",
    "# getting the smaller classes together - leaving Mr, Miss, Mrs, working\n",
    "Retrain['title'].replace(['Mlle'], ['Miss'], inplace = True)\n",
    "Retrain['title'].replace(['Ms', 'Lady', 'Mme', 'the Countess'], ['Mrs','Mrs','Mrs','Mrs'], inplace = True)\n",
    "Retrain['title'].replace(['Master', 'Sir', 'Don', 'Jonkheer'], ['Mr','Mr','Mr','Mr'], inplace = True)\n",
    "Retrain['title'].replace(['Dr', 'Rev', 'Major', 'Col', 'Capt'], ['wk','wk','wk','wk','wk'], inplace = True)\n",
    "Retrain.title.value_counts()\n",
    "\n",
    "title = pd.get_dummies(Retrain['title'], prefix='ttl')\n",
    "Retrain = pd.concat([Retrain, title], axis=1)\n",
    "Retrain.drop(['Name','title'], axis=1, inplace=True)\n",
    "\n",
    "Retest['title'] = Retest.Name.apply(lambda x: x.split(',')[1].split('.')[0].strip())\n",
    "Retest.title.value_counts()\n",
    "\n",
    "# getting the smaller classes together - leaving Mr, Miss, Mrs, working\n",
    "Retest['title'].replace(['Ms','Dona'], ['Mrs','Mrs'], inplace = True)\n",
    "Retest['title'].replace(['Master'], ['Mr'], inplace = True)\n",
    "Retest['title'].replace(['Dr', 'Rev', 'Col'], ['wk','wk','wk'], inplace = True)\n",
    "Retest.title.value_counts()\n",
    "\n",
    "title = pd.get_dummies(Retest['title'], prefix='ttl')\n",
    "Retest = pd.concat([Retest, title], axis=1)\n",
    "Retest.drop(['Name','title'], axis=1, inplace=True)\n",
    "\n",
    "# Age - inputing median for null\n",
    "Retrain.Age = Retrain.Age.fillna(Retrain.Age.median())\n",
    "Retest.Age = Retest.Age.fillna(Retest.Age.median())\n",
    "\n",
    "# Fare - Test has missing inputing median first\n",
    "Retest.Fare = Retest.Fare.fillna(Retest.Fare.median())\n",
    "# Normalizing Fare\n",
    "Retrain['norm_fare'] = np.log(Retrain.Fare+1)\n",
    "Retest['norm_fare'] = np.log(Retest.Fare+1)\n",
    "\n",
    "Retrain.drop(['Fare','Age'], axis=1, inplace=True)\n",
    "Retest.drop(['Fare','Age'], axis=1, inplace=True)\n",
    "\n",
    "yt = Retrain.Survived.copy()\n",
    "xt = Retrain.drop(['Survived'], axis=1).copy()\n",
    "x = Retest.drop(['PassengerId'], axis=1).copy()\n",
    "\n",
    "lr = LogisticRegression(max_iter = 2000)\n",
    "cv = cross_val_score(lr,xt,yt,cv=5)\n",
    "Re2_lr = cv.mean()\n",
    "print(cv)\n",
    "print(cv.mean())\n",
    "\n",
    "svc = SVC(probability = True)\n",
    "cv = cross_val_score(svc,xt,yt,cv=5)\n",
    "Re2_svc = cv.mean()\n",
    "print(cv)\n",
    "print(cv.mean())\n",
    "\n",
    "rf = RandomForestClassifier(random_state = 1)\n",
    "cv = cross_val_score(rf,xt,yt,cv=5)\n",
    "Re2_rf = cv.mean()\n",
    "print(cv)\n",
    "print(cv.mean())\n"
   ]
  },
  {
   "cell_type": "code",
   "execution_count": 195,
   "id": "2d100fb1",
   "metadata": {},
   "outputs": [
    {
     "name": "stdout",
     "output_type": "stream",
     "text": [
      "[0.75418994 0.80898876 0.7752809  0.78089888 0.80898876]\n",
      "0.7856694495009731\n",
      "[0.81005587 0.80898876 0.80898876 0.79213483 0.81460674]\n",
      "0.8069549934090766\n",
      "[0.7877095  0.76404494 0.82022472 0.76404494 0.79213483]\n",
      "0.7856317870817902\n"
     ]
    }
   ],
   "source": [
    "## 2) Binning smaller\n",
    "\n",
    "Retrain = train.copy()\n",
    "Retest = test.copy()\n",
    "\n",
    "# instead of unknown put two missing values into the largest category Embarked in S\n",
    "Retrain.Embarked.unique()\n",
    "Retrain.groupby('Embarked').size()\n",
    "Retrain.Embarked.fillna('S', inplace=True)\n",
    "\n",
    "# one hot encoding embarked\n",
    "embarked = pd.get_dummies(Retrain['Embarked'], prefix='Port')\n",
    "Retrain = pd.concat([Retrain, embarked], axis=1)\n",
    "Retrain.drop(['Embarked'], axis=1, inplace=True)\n",
    "\n",
    "# for test\n",
    "embarked = pd.get_dummies(Retest['Embarked'], prefix='Port')\n",
    "Retest = pd.concat([Retest, embarked], axis=1)\n",
    "Retest.drop(['Embarked'], axis=1, inplace=True)\n",
    "\n",
    "# instead of making two columns of dummies just one\n",
    "Retrain['Sex'].replace(['male', 'female'], [0,1], inplace = True)\n",
    "Retrain['Sex'].unique()\n",
    "# for test\n",
    "Retest['Sex'].replace(['male', 'female'], [0,1], inplace = True)\n",
    "\n",
    "# Feature engineering - number of cabins baught by a person\n",
    "Retrain['N_cabins'] = Retrain.Cabin.apply(lambda x: 0 if pd.isna(x) else len(x.split(' ')))\n",
    "\n",
    "Retest['N_cabins'] = Retest.Cabin.apply(lambda x: 0 if pd.isna(x) else len(x.split(' ')))\n",
    "\n",
    "# Feature engineering - getting the deck out of the cabin number - missing will have their own category\n",
    "Retrain['Deck'] = Retrain.Cabin.apply(lambda x: str(x)[0])\n",
    "# Too many categories\n",
    "Retrain['Deck'].replace('T','n', inplace=True)\n",
    "Retrain.Deck.value_counts()\n",
    "\n",
    "Retest['Deck'] = Retest.Cabin.apply(lambda x: str(x)[0])\n",
    "\n",
    "# will do one hot for Deck as well\n",
    "deck = pd.get_dummies(Retrain['Deck'], prefix='deck')\n",
    "Retrain = pd.concat([Retrain, deck], axis=1)\n",
    "Retrain.drop(['Deck'], axis=1, inplace=True)\n",
    "\n",
    "deck = pd.get_dummies(Retest['Deck'], prefix='deck')\n",
    "Retest = pd.concat([Retest, deck], axis=1)\n",
    "Retest.drop(['Deck'], axis=1, inplace=True)\n",
    "\n",
    "Retrain.drop(['Cabin'], axis=1, inplace=True)\n",
    "Retest.drop(['Cabin'], axis=1, inplace=True)\n",
    "\n",
    "# Feature engineering - getting numeric and non-numeric groups of tickets \n",
    "Retrain['n_ticket'] = Retrain.Ticket.apply(lambda x: 1 if x.isnumeric() else 0)\n",
    "\n",
    "Retest['n_ticket'] = Retest.Ticket.apply(lambda x: 1 if x.isnumeric() else 0)\n",
    "\n",
    "Retrain.drop(['Ticket'], axis=1, inplace=True)\n",
    "Retest.drop(['Ticket'], axis=1, inplace=True)\n",
    "\n",
    "# Feature engineering - getting the titles from the name\n",
    "Retrain['title'] = Retrain.Name.apply(lambda x: x.split(',')[1].split('.')[0].strip())\n",
    "Retrain.title.value_counts()\n",
    "\n",
    "\n",
    "# getting the smaller classes together - leaving Mr, Miss, Mrs, working\n",
    "Retrain['title'].replace(['Mlle'], ['Miss'], inplace = True)\n",
    "Retrain['title'].replace(['Ms', 'Lady', 'Mme', 'the Countess'], ['Mrs','Mrs','Mrs','Mrs'], inplace = True)\n",
    "Retrain['title'].replace(['Master', 'Sir', 'Don', 'Jonkheer'], ['Mr','Mr','Mr','Mr'], inplace = True)\n",
    "Retrain['title'].replace(['Dr', 'Rev', 'Major', 'Col', 'Capt'], ['wk','wk','wk','wk','wk'], inplace = True)\n",
    "Retrain.title.value_counts()\n",
    "\n",
    "title = pd.get_dummies(Retrain['title'], prefix='ttl')\n",
    "Retrain = pd.concat([Retrain, title], axis=1)\n",
    "Retrain.drop(['Name','title'], axis=1, inplace=True)\n",
    "\n",
    "Retest['title'] = Retest.Name.apply(lambda x: x.split(',')[1].split('.')[0].strip())\n",
    "Retest.title.value_counts()\n",
    "\n",
    "# getting the smaller classes together - leaving Mr, Miss, Mrs, working\n",
    "Retest['title'].replace(['Ms','Dona'], ['Mrs','Mrs'], inplace = True)\n",
    "Retest['title'].replace(['Master'], ['Mr'], inplace = True)\n",
    "Retest['title'].replace(['Dr', 'Rev', 'Col'], ['wk','wk','wk'], inplace = True)\n",
    "Retest.title.value_counts()\n",
    "\n",
    "title = pd.get_dummies(Retest['title'], prefix='ttl')\n",
    "Retest = pd.concat([Retest, title], axis=1)\n",
    "Retest.drop(['Name','title'], axis=1, inplace=True)\n",
    "\n",
    "# Age - inputing median for null\n",
    "Retrain.Age = Retrain.Age.fillna(Retrain.Age.median())\n",
    "Retest.Age = Retest.Age.fillna(Retest.Age.median())\n",
    "\n",
    "# Binning\n",
    "# making Ages categoric = easier to deal by non linear models\n",
    "#bins = [0,40,80]\n",
    "#bins = [0,5,10,15,20,25,30,35,40,45,50,55,60,65,70,75,80]\n",
    "bins = [0,20,40,60,80]\n",
    "age_group = pd.cut(Retrain['Age'], bins)\n",
    "Retrain['Age_group'] = age_group\n",
    "Retrain.drop('Age', axis=1, inplace=True)\n",
    "# now test\n",
    "age_group = pd.cut(Retest['Age'], bins)\n",
    "Retest['Age_group'] = age_group\n",
    "Retest.drop('Age', axis=1, inplace=True)\n",
    "\n",
    "# encoding the age group for train\n",
    "age = pd.get_dummies(Retrain['Age_group'], prefix='Age')\n",
    "Retrain = pd.concat([Retrain, age], axis=1)\n",
    "Retrain.drop(['Age_group'], axis=1, inplace=True)\n",
    "\n",
    "# now for test\n",
    "age = pd.get_dummies(Retest['Age_group'], prefix='Age')\n",
    "Retest = pd.concat([Retest, age], axis=1)\n",
    "Retest.drop(['Age_group'], axis=1, inplace=True)\n",
    "\n",
    "# Fare - Test has missing inputing median first\n",
    "Retest.Fare = Retest.Fare.fillna(Retest.Fare.median())\n",
    "# Normalizing Fare\n",
    "Retrain['norm_fare'] = np.log(Retrain.Fare+1)\n",
    "Retest['norm_fare'] = np.log(Retest.Fare+1)\n",
    "\n",
    "Retrain.drop(['Fare'], axis=1, inplace=True)\n",
    "Retest.drop(['Fare'], axis=1, inplace=True)\n",
    "\n",
    "yt = Retrain.Survived.copy()\n",
    "xt = Retrain.drop(['Survived'], axis=1).copy()\n",
    "x = Retest.drop(['PassengerId'], axis=1).copy()\n",
    "\n",
    "lr = LogisticRegression(max_iter = 2000)\n",
    "cv = cross_val_score(lr,xt,yt,cv=5)\n",
    "Re2_lr = cv.mean()\n",
    "print(cv)\n",
    "print(cv.mean())\n",
    "\n",
    "svc = SVC(probability = True)\n",
    "cv = cross_val_score(svc,xt,yt,cv=5)\n",
    "Re2_svc = cv.mean()\n",
    "print(cv)\n",
    "print(cv.mean())\n",
    "\n",
    "rf = RandomForestClassifier(random_state = 1)\n",
    "cv = cross_val_score(rf,xt,yt,cv=5)\n",
    "Re2_rf = cv.mean()\n",
    "print(cv)\n",
    "print(cv.mean())\n",
    "\n"
   ]
  },
  {
   "cell_type": "markdown",
   "id": "7d9f6395",
   "metadata": {},
   "source": [
    "# Randomizing values in columns\n"
   ]
  },
  {
   "cell_type": "code",
   "execution_count": 196,
   "id": "8c137ea1",
   "metadata": {},
   "outputs": [],
   "source": [
    "yt = Retrain.Survived.copy()\n",
    "xt = Retrain.drop(['Survived'], axis=1).copy()\n",
    "x = Retest.drop(['PassengerId'], axis=1).copy()"
   ]
  },
  {
   "cell_type": "code",
   "execution_count": 197,
   "id": "a72e33bb",
   "metadata": {
    "scrolled": true
   },
   "outputs": [
    {
     "data": {
      "text/html": [
       "<div>\n",
       "<style scoped>\n",
       "    .dataframe tbody tr th:only-of-type {\n",
       "        vertical-align: middle;\n",
       "    }\n",
       "\n",
       "    .dataframe tbody tr th {\n",
       "        vertical-align: top;\n",
       "    }\n",
       "\n",
       "    .dataframe thead th {\n",
       "        text-align: right;\n",
       "    }\n",
       "</style>\n",
       "<table border=\"1\" class=\"dataframe\">\n",
       "  <thead>\n",
       "    <tr style=\"text-align: right;\">\n",
       "      <th></th>\n",
       "      <th>Pclass</th>\n",
       "      <th>Sex</th>\n",
       "      <th>SibSp</th>\n",
       "      <th>Parch</th>\n",
       "      <th>Port_C</th>\n",
       "      <th>Port_Q</th>\n",
       "      <th>Port_S</th>\n",
       "      <th>N_cabins</th>\n",
       "      <th>deck_A</th>\n",
       "      <th>deck_B</th>\n",
       "      <th>deck_C</th>\n",
       "      <th>deck_D</th>\n",
       "      <th>deck_E</th>\n",
       "      <th>deck_F</th>\n",
       "      <th>deck_G</th>\n",
       "      <th>deck_n</th>\n",
       "      <th>n_ticket</th>\n",
       "      <th>ttl_Miss</th>\n",
       "      <th>ttl_Mr</th>\n",
       "      <th>ttl_Mrs</th>\n",
       "      <th>ttl_wk</th>\n",
       "      <th>Age_(0, 20]</th>\n",
       "      <th>Age_(20, 40]</th>\n",
       "      <th>Age_(40, 60]</th>\n",
       "      <th>Age_(60, 80]</th>\n",
       "      <th>norm_fare</th>\n",
       "    </tr>\n",
       "    <tr>\n",
       "      <th>PassengerId</th>\n",
       "      <th></th>\n",
       "      <th></th>\n",
       "      <th></th>\n",
       "      <th></th>\n",
       "      <th></th>\n",
       "      <th></th>\n",
       "      <th></th>\n",
       "      <th></th>\n",
       "      <th></th>\n",
       "      <th></th>\n",
       "      <th></th>\n",
       "      <th></th>\n",
       "      <th></th>\n",
       "      <th></th>\n",
       "      <th></th>\n",
       "      <th></th>\n",
       "      <th></th>\n",
       "      <th></th>\n",
       "      <th></th>\n",
       "      <th></th>\n",
       "      <th></th>\n",
       "      <th></th>\n",
       "      <th></th>\n",
       "      <th></th>\n",
       "      <th></th>\n",
       "      <th></th>\n",
       "    </tr>\n",
       "  </thead>\n",
       "  <tbody>\n",
       "    <tr>\n",
       "      <th>1</th>\n",
       "      <td>3</td>\n",
       "      <td>0</td>\n",
       "      <td>1</td>\n",
       "      <td>0</td>\n",
       "      <td>0</td>\n",
       "      <td>0</td>\n",
       "      <td>1</td>\n",
       "      <td>0</td>\n",
       "      <td>0</td>\n",
       "      <td>0</td>\n",
       "      <td>0</td>\n",
       "      <td>0</td>\n",
       "      <td>0</td>\n",
       "      <td>0</td>\n",
       "      <td>0</td>\n",
       "      <td>1</td>\n",
       "      <td>0</td>\n",
       "      <td>0</td>\n",
       "      <td>1</td>\n",
       "      <td>0</td>\n",
       "      <td>0</td>\n",
       "      <td>0</td>\n",
       "      <td>1</td>\n",
       "      <td>0</td>\n",
       "      <td>0</td>\n",
       "      <td>2.110213</td>\n",
       "    </tr>\n",
       "    <tr>\n",
       "      <th>2</th>\n",
       "      <td>1</td>\n",
       "      <td>1</td>\n",
       "      <td>1</td>\n",
       "      <td>0</td>\n",
       "      <td>1</td>\n",
       "      <td>0</td>\n",
       "      <td>0</td>\n",
       "      <td>1</td>\n",
       "      <td>0</td>\n",
       "      <td>0</td>\n",
       "      <td>1</td>\n",
       "      <td>0</td>\n",
       "      <td>0</td>\n",
       "      <td>0</td>\n",
       "      <td>0</td>\n",
       "      <td>0</td>\n",
       "      <td>0</td>\n",
       "      <td>0</td>\n",
       "      <td>0</td>\n",
       "      <td>1</td>\n",
       "      <td>0</td>\n",
       "      <td>0</td>\n",
       "      <td>1</td>\n",
       "      <td>0</td>\n",
       "      <td>0</td>\n",
       "      <td>4.280593</td>\n",
       "    </tr>\n",
       "    <tr>\n",
       "      <th>3</th>\n",
       "      <td>3</td>\n",
       "      <td>1</td>\n",
       "      <td>0</td>\n",
       "      <td>0</td>\n",
       "      <td>0</td>\n",
       "      <td>0</td>\n",
       "      <td>1</td>\n",
       "      <td>0</td>\n",
       "      <td>0</td>\n",
       "      <td>0</td>\n",
       "      <td>0</td>\n",
       "      <td>0</td>\n",
       "      <td>0</td>\n",
       "      <td>0</td>\n",
       "      <td>0</td>\n",
       "      <td>1</td>\n",
       "      <td>0</td>\n",
       "      <td>1</td>\n",
       "      <td>0</td>\n",
       "      <td>0</td>\n",
       "      <td>0</td>\n",
       "      <td>0</td>\n",
       "      <td>1</td>\n",
       "      <td>0</td>\n",
       "      <td>0</td>\n",
       "      <td>2.188856</td>\n",
       "    </tr>\n",
       "    <tr>\n",
       "      <th>4</th>\n",
       "      <td>1</td>\n",
       "      <td>1</td>\n",
       "      <td>1</td>\n",
       "      <td>0</td>\n",
       "      <td>0</td>\n",
       "      <td>0</td>\n",
       "      <td>1</td>\n",
       "      <td>1</td>\n",
       "      <td>0</td>\n",
       "      <td>0</td>\n",
       "      <td>1</td>\n",
       "      <td>0</td>\n",
       "      <td>0</td>\n",
       "      <td>0</td>\n",
       "      <td>0</td>\n",
       "      <td>0</td>\n",
       "      <td>1</td>\n",
       "      <td>0</td>\n",
       "      <td>0</td>\n",
       "      <td>1</td>\n",
       "      <td>0</td>\n",
       "      <td>0</td>\n",
       "      <td>1</td>\n",
       "      <td>0</td>\n",
       "      <td>0</td>\n",
       "      <td>3.990834</td>\n",
       "    </tr>\n",
       "    <tr>\n",
       "      <th>5</th>\n",
       "      <td>3</td>\n",
       "      <td>0</td>\n",
       "      <td>0</td>\n",
       "      <td>0</td>\n",
       "      <td>0</td>\n",
       "      <td>0</td>\n",
       "      <td>1</td>\n",
       "      <td>0</td>\n",
       "      <td>0</td>\n",
       "      <td>0</td>\n",
       "      <td>0</td>\n",
       "      <td>0</td>\n",
       "      <td>0</td>\n",
       "      <td>0</td>\n",
       "      <td>0</td>\n",
       "      <td>1</td>\n",
       "      <td>1</td>\n",
       "      <td>0</td>\n",
       "      <td>1</td>\n",
       "      <td>0</td>\n",
       "      <td>0</td>\n",
       "      <td>0</td>\n",
       "      <td>1</td>\n",
       "      <td>0</td>\n",
       "      <td>0</td>\n",
       "      <td>2.202765</td>\n",
       "    </tr>\n",
       "  </tbody>\n",
       "</table>\n",
       "</div>"
      ],
      "text/plain": [
       "             Pclass  Sex  SibSp  Parch  Port_C  Port_Q  Port_S  N_cabins  \\\n",
       "PassengerId                                                                \n",
       "1                 3    0      1      0       0       0       1         0   \n",
       "2                 1    1      1      0       1       0       0         1   \n",
       "3                 3    1      0      0       0       0       1         0   \n",
       "4                 1    1      1      0       0       0       1         1   \n",
       "5                 3    0      0      0       0       0       1         0   \n",
       "\n",
       "             deck_A  deck_B  deck_C  deck_D  deck_E  deck_F  deck_G  deck_n  \\\n",
       "PassengerId                                                                   \n",
       "1                 0       0       0       0       0       0       0       1   \n",
       "2                 0       0       1       0       0       0       0       0   \n",
       "3                 0       0       0       0       0       0       0       1   \n",
       "4                 0       0       1       0       0       0       0       0   \n",
       "5                 0       0       0       0       0       0       0       1   \n",
       "\n",
       "             n_ticket  ttl_Miss  ttl_Mr  ttl_Mrs  ttl_wk  Age_(0, 20]  \\\n",
       "PassengerId                                                             \n",
       "1                   0         0       1        0       0            0   \n",
       "2                   0         0       0        1       0            0   \n",
       "3                   0         1       0        0       0            0   \n",
       "4                   1         0       0        1       0            0   \n",
       "5                   1         0       1        0       0            0   \n",
       "\n",
       "             Age_(20, 40]  Age_(40, 60]  Age_(60, 80]  norm_fare  \n",
       "PassengerId                                                       \n",
       "1                       1             0             0   2.110213  \n",
       "2                       1             0             0   4.280593  \n",
       "3                       1             0             0   2.188856  \n",
       "4                       1             0             0   3.990834  \n",
       "5                       1             0             0   2.202765  "
      ]
     },
     "execution_count": 197,
     "metadata": {},
     "output_type": "execute_result"
    }
   ],
   "source": [
    "xt.head()"
   ]
  },
  {
   "cell_type": "code",
   "execution_count": 198,
   "id": "112d550d",
   "metadata": {},
   "outputs": [],
   "source": [
    "xt['SibSp'] = xt['SibSp'].sample(frac=1).values"
   ]
  },
  {
   "cell_type": "code",
   "execution_count": 199,
   "id": "95fd53c9",
   "metadata": {},
   "outputs": [],
   "source": [
    "xt['Parch'] = xt['Parch'].sample(frac=1).values"
   ]
  },
  {
   "cell_type": "code",
   "execution_count": 200,
   "id": "08419ecd",
   "metadata": {},
   "outputs": [
    {
     "name": "stdout",
     "output_type": "stream",
     "text": [
      "[0.77653631 0.79213483 0.82022472 0.76404494 0.81460674]\n",
      "0.7935095097608437\n"
     ]
    }
   ],
   "source": [
    "voting_clf = VotingClassifier(estimators = [('lr',lr),('rf',rf),('svc',svc)], voting = 'soft') \n",
    "cv = cross_val_score(voting_clf,xt,yt,cv=5)\n",
    "RandPclass_votes = cv.mean()\n",
    "print(cv)\n",
    "print(cv.mean())"
   ]
  },
  {
   "cell_type": "markdown",
   "id": "4cd71d01",
   "metadata": {},
   "source": [
    "# Making final figures\n"
   ]
  },
  {
   "cell_type": "code",
   "execution_count": 204,
   "id": "766ed280",
   "metadata": {},
   "outputs": [
    {
     "data": {
      "text/html": [
       "<div>\n",
       "<style scoped>\n",
       "    .dataframe tbody tr th:only-of-type {\n",
       "        vertical-align: middle;\n",
       "    }\n",
       "\n",
       "    .dataframe tbody tr th {\n",
       "        vertical-align: top;\n",
       "    }\n",
       "\n",
       "    .dataframe thead th {\n",
       "        text-align: right;\n",
       "    }\n",
       "</style>\n",
       "<table border=\"1\" class=\"dataframe\">\n",
       "  <thead>\n",
       "    <tr style=\"text-align: right;\">\n",
       "      <th></th>\n",
       "      <th>Dropping</th>\n",
       "      <th>Identification</th>\n",
       "      <th>GoldStandard</th>\n",
       "      <th>Engineering</th>\n",
       "      <th>Engineering_2</th>\n",
       "    </tr>\n",
       "  </thead>\n",
       "  <tbody>\n",
       "    <tr>\n",
       "      <th>LogitReg</th>\n",
       "      <td>0.785098</td>\n",
       "      <td>0.778085</td>\n",
       "      <td>0.791256</td>\n",
       "      <td>0.801350</td>\n",
       "      <td>0.785669</td>\n",
       "    </tr>\n",
       "    <tr>\n",
       "      <th>SVM</th>\n",
       "      <td>0.671427</td>\n",
       "      <td>0.637713</td>\n",
       "      <td>0.669010</td>\n",
       "      <td>0.720601</td>\n",
       "      <td>0.806955</td>\n",
       "    </tr>\n",
       "    <tr>\n",
       "      <th>RF</th>\n",
       "      <td>0.787954</td>\n",
       "      <td>0.637713</td>\n",
       "      <td>0.799109</td>\n",
       "      <td>0.797979</td>\n",
       "      <td>0.785632</td>\n",
       "    </tr>\n",
       "    <tr>\n",
       "      <th>Ensamble</th>\n",
       "      <td>0.799251</td>\n",
       "      <td>0.785226</td>\n",
       "      <td>0.799140</td>\n",
       "      <td>0.806974</td>\n",
       "      <td>0.830544</td>\n",
       "    </tr>\n",
       "  </tbody>\n",
       "</table>\n",
       "</div>"
      ],
      "text/plain": [
       "          Dropping  Identification  GoldStandard  Engineering  Engineering_2\n",
       "LogitReg  0.785098        0.778085      0.791256     0.801350       0.785669\n",
       "SVM       0.671427        0.637713      0.669010     0.720601       0.806955\n",
       "RF        0.787954        0.637713      0.799109     0.797979       0.785632\n",
       "Ensamble  0.799251        0.785226      0.799140     0.806974       0.830544"
      ]
     },
     "execution_count": 204,
     "metadata": {},
     "output_type": "execute_result"
    }
   ],
   "source": [
    "gold_score = [gold_lr,gold_svc,gold_rf,gold_vote]\n",
    "e_scores = [e_lr,e_svc,e_rf,e_vote]\n",
    "c_scores = [c_lr,c_svc,c_rf,c_votes]\n",
    "Re_scores = [Re_lr,Re_svc,Re_rf,Re_votes]\n",
    "# below changinf ages to categorical and leaving Dr and Rev in categories of Title\n",
    "Re2_scores = [Re2_lr,Re2_svc,Re2_rf,Re2_votes]\n",
    "#[0.7968802962776976,0.811436821291821,0.7968614650681062]\n",
    "# below leaving cabin Deck and one hot encoding it\n",
    "#e2_scores = [0.7865064512951837,0.6728356150891361,0.7556781246922092]\n",
    "#'One-Hot_2':e2_scores,\n",
    "table = {\"Dropping\":e_scores,\n",
    "         'Identification':c_scores,\n",
    "         \"GoldStandard\":gold_score,\n",
    "         'Engineering':Re_scores,\n",
    "         'Engineering_2':Re2_scores\n",
    "        }\n",
    "df = pd.DataFrame(table)\n",
    "df = df.rename(index={0:'LogitReg',1:'SVM',2:'RF',3:'Ensamble'})\n",
    "df"
   ]
  },
  {
   "cell_type": "code",
   "execution_count": 205,
   "id": "73c95d51",
   "metadata": {},
   "outputs": [
    {
     "data": {
      "text/plain": [
       "<AxesSubplot:>"
      ]
     },
     "execution_count": 205,
     "metadata": {},
     "output_type": "execute_result"
    },
    {
     "data": {
      "image/png": "[encoded data removed]",
      "text/plain": [
       "<Figure size 432x288 with 1 Axes>"
      ]
     },
     "metadata": {},
     "output_type": "display_data"
    }
   ],
   "source": [
    "# accuracy with the cross validation - looks like engineering and gold stadandard are the best\n",
    "# but they seem to overfit because did not get a good score on kaggle!!\n",
    "plt.style.use('dark_background')\n",
    "\n",
    "df.plot.line()"
   ]
  },
  {
   "cell_type": "code",
   "execution_count": 206,
   "id": "9827863a",
   "metadata": {},
   "outputs": [
    {
     "data": {
      "text/html": [
       "<div>\n",
       "<style scoped>\n",
       "    .dataframe tbody tr th:only-of-type {\n",
       "        vertical-align: middle;\n",
       "    }\n",
       "\n",
       "    .dataframe tbody tr th {\n",
       "        vertical-align: top;\n",
       "    }\n",
       "\n",
       "    .dataframe thead th {\n",
       "        text-align: right;\n",
       "    }\n",
       "</style>\n",
       "<table border=\"1\" class=\"dataframe\">\n",
       "  <thead>\n",
       "    <tr style=\"text-align: right;\">\n",
       "      <th></th>\n",
       "      <th>index</th>\n",
       "      <th>LogitReg</th>\n",
       "      <th>SVM</th>\n",
       "      <th>RF</th>\n",
       "      <th>Ensamble</th>\n",
       "    </tr>\n",
       "  </thead>\n",
       "  <tbody>\n",
       "    <tr>\n",
       "      <th>0</th>\n",
       "      <td>Dropping</td>\n",
       "      <td>0.785098</td>\n",
       "      <td>0.671427</td>\n",
       "      <td>0.787954</td>\n",
       "      <td>0.799251</td>\n",
       "    </tr>\n",
       "    <tr>\n",
       "      <th>1</th>\n",
       "      <td>Identification</td>\n",
       "      <td>0.778085</td>\n",
       "      <td>0.637713</td>\n",
       "      <td>0.637713</td>\n",
       "      <td>0.785226</td>\n",
       "    </tr>\n",
       "    <tr>\n",
       "      <th>2</th>\n",
       "      <td>GoldStandard</td>\n",
       "      <td>0.791256</td>\n",
       "      <td>0.669010</td>\n",
       "      <td>0.799109</td>\n",
       "      <td>0.799140</td>\n",
       "    </tr>\n",
       "    <tr>\n",
       "      <th>3</th>\n",
       "      <td>Engineering</td>\n",
       "      <td>0.801350</td>\n",
       "      <td>0.720601</td>\n",
       "      <td>0.797979</td>\n",
       "      <td>0.806974</td>\n",
       "    </tr>\n",
       "    <tr>\n",
       "      <th>4</th>\n",
       "      <td>Engineering_2</td>\n",
       "      <td>0.785669</td>\n",
       "      <td>0.806955</td>\n",
       "      <td>0.785632</td>\n",
       "      <td>0.830544</td>\n",
       "    </tr>\n",
       "  </tbody>\n",
       "</table>\n",
       "</div>"
      ],
      "text/plain": [
       "            index  LogitReg       SVM        RF  Ensamble\n",
       "0        Dropping  0.785098  0.671427  0.787954  0.799251\n",
       "1  Identification  0.778085  0.637713  0.637713  0.785226\n",
       "2    GoldStandard  0.791256  0.669010  0.799109  0.799140\n",
       "3     Engineering  0.801350  0.720601  0.797979  0.806974\n",
       "4   Engineering_2  0.785669  0.806955  0.785632  0.830544"
      ]
     },
     "execution_count": 206,
     "metadata": {},
     "output_type": "execute_result"
    }
   ],
   "source": [
    "df1 = df.T.reset_index()\n",
    "df1"
   ]
  },
  {
   "cell_type": "code",
   "execution_count": 207,
   "id": "8f519d07",
   "metadata": {},
   "outputs": [
    {
     "data": {
      "image/png": "[encoded data removed]",
      "text/plain": [
       "<Figure size 432x288 with 1 Axes>"
      ]
     },
     "metadata": {},
     "output_type": "display_data"
    }
   ],
   "source": [
    "# this plot show more the effects of each treatment on the different classifiers, i am not sure it is interesting for us!\n",
    "\n",
    "# Create an axes object \n",
    "axes = plt.gca()\n",
    "\n",
    "# pass the axes object to plot function\n",
    "df1.plot(kind='line', x='index', y='LogitReg', ax=axes);\n",
    "df1.plot(kind='line', x='index', y='SVM', ax=axes);\n",
    "df1.plot(kind='line', x='index', y='RF', ax=axes);\n",
    "df1.plot(kind='line', x='index', y='Ensamble', ax=axes);"
   ]
  },
  {
   "cell_type": "code",
   "execution_count": 208,
   "id": "d5d94747",
   "metadata": {},
   "outputs": [
    {
     "data": {
      "text/html": [
       "<div>\n",
       "<style scoped>\n",
       "    .dataframe tbody tr th:only-of-type {\n",
       "        vertical-align: middle;\n",
       "    }\n",
       "\n",
       "    .dataframe tbody tr th {\n",
       "        vertical-align: top;\n",
       "    }\n",
       "\n",
       "    .dataframe thead th {\n",
       "        text-align: right;\n",
       "    }\n",
       "</style>\n",
       "<table border=\"1\" class=\"dataframe\">\n",
       "  <thead>\n",
       "    <tr style=\"text-align: right;\">\n",
       "      <th></th>\n",
       "      <th>index</th>\n",
       "      <th>variable</th>\n",
       "      <th>value</th>\n",
       "    </tr>\n",
       "  </thead>\n",
       "  <tbody>\n",
       "    <tr>\n",
       "      <th>0</th>\n",
       "      <td>LogitReg</td>\n",
       "      <td>GoldStandard</td>\n",
       "      <td>0.791256</td>\n",
       "    </tr>\n",
       "    <tr>\n",
       "      <th>1</th>\n",
       "      <td>SVM</td>\n",
       "      <td>GoldStandard</td>\n",
       "      <td>0.669010</td>\n",
       "    </tr>\n",
       "    <tr>\n",
       "      <th>2</th>\n",
       "      <td>RF</td>\n",
       "      <td>GoldStandard</td>\n",
       "      <td>0.799109</td>\n",
       "    </tr>\n",
       "    <tr>\n",
       "      <th>3</th>\n",
       "      <td>Ensamble</td>\n",
       "      <td>GoldStandard</td>\n",
       "      <td>0.799140</td>\n",
       "    </tr>\n",
       "    <tr>\n",
       "      <th>4</th>\n",
       "      <td>LogitReg</td>\n",
       "      <td>Dropping</td>\n",
       "      <td>0.785098</td>\n",
       "    </tr>\n",
       "    <tr>\n",
       "      <th>5</th>\n",
       "      <td>SVM</td>\n",
       "      <td>Dropping</td>\n",
       "      <td>0.671427</td>\n",
       "    </tr>\n",
       "    <tr>\n",
       "      <th>6</th>\n",
       "      <td>RF</td>\n",
       "      <td>Dropping</td>\n",
       "      <td>0.787954</td>\n",
       "    </tr>\n",
       "    <tr>\n",
       "      <th>7</th>\n",
       "      <td>Ensamble</td>\n",
       "      <td>Dropping</td>\n",
       "      <td>0.799251</td>\n",
       "    </tr>\n",
       "    <tr>\n",
       "      <th>8</th>\n",
       "      <td>LogitReg</td>\n",
       "      <td>Identification</td>\n",
       "      <td>0.778085</td>\n",
       "    </tr>\n",
       "    <tr>\n",
       "      <th>9</th>\n",
       "      <td>SVM</td>\n",
       "      <td>Identification</td>\n",
       "      <td>0.637713</td>\n",
       "    </tr>\n",
       "    <tr>\n",
       "      <th>10</th>\n",
       "      <td>RF</td>\n",
       "      <td>Identification</td>\n",
       "      <td>0.637713</td>\n",
       "    </tr>\n",
       "    <tr>\n",
       "      <th>11</th>\n",
       "      <td>Ensamble</td>\n",
       "      <td>Identification</td>\n",
       "      <td>0.785226</td>\n",
       "    </tr>\n",
       "    <tr>\n",
       "      <th>12</th>\n",
       "      <td>LogitReg</td>\n",
       "      <td>Engineering</td>\n",
       "      <td>0.801350</td>\n",
       "    </tr>\n",
       "    <tr>\n",
       "      <th>13</th>\n",
       "      <td>SVM</td>\n",
       "      <td>Engineering</td>\n",
       "      <td>0.720601</td>\n",
       "    </tr>\n",
       "    <tr>\n",
       "      <th>14</th>\n",
       "      <td>RF</td>\n",
       "      <td>Engineering</td>\n",
       "      <td>0.797979</td>\n",
       "    </tr>\n",
       "    <tr>\n",
       "      <th>15</th>\n",
       "      <td>Ensamble</td>\n",
       "      <td>Engineering</td>\n",
       "      <td>0.806974</td>\n",
       "    </tr>\n",
       "    <tr>\n",
       "      <th>16</th>\n",
       "      <td>LogitReg</td>\n",
       "      <td>Engineering_2</td>\n",
       "      <td>0.785669</td>\n",
       "    </tr>\n",
       "    <tr>\n",
       "      <th>17</th>\n",
       "      <td>SVM</td>\n",
       "      <td>Engineering_2</td>\n",
       "      <td>0.806955</td>\n",
       "    </tr>\n",
       "    <tr>\n",
       "      <th>18</th>\n",
       "      <td>RF</td>\n",
       "      <td>Engineering_2</td>\n",
       "      <td>0.785632</td>\n",
       "    </tr>\n",
       "    <tr>\n",
       "      <th>19</th>\n",
       "      <td>Ensamble</td>\n",
       "      <td>Engineering_2</td>\n",
       "      <td>0.830544</td>\n",
       "    </tr>\n",
       "  </tbody>\n",
       "</table>\n",
       "</div>"
      ],
      "text/plain": [
       "       index        variable     value\n",
       "0   LogitReg    GoldStandard  0.791256\n",
       "1        SVM    GoldStandard  0.669010\n",
       "2         RF    GoldStandard  0.799109\n",
       "3   Ensamble    GoldStandard  0.799140\n",
       "4   LogitReg        Dropping  0.785098\n",
       "5        SVM        Dropping  0.671427\n",
       "6         RF        Dropping  0.787954\n",
       "7   Ensamble        Dropping  0.799251\n",
       "8   LogitReg  Identification  0.778085\n",
       "9        SVM  Identification  0.637713\n",
       "10        RF  Identification  0.637713\n",
       "11  Ensamble  Identification  0.785226\n",
       "12  LogitReg     Engineering  0.801350\n",
       "13       SVM     Engineering  0.720601\n",
       "14        RF     Engineering  0.797979\n",
       "15  Ensamble     Engineering  0.806974\n",
       "16  LogitReg   Engineering_2  0.785669\n",
       "17       SVM   Engineering_2  0.806955\n",
       "18        RF   Engineering_2  0.785632\n",
       "19  Ensamble   Engineering_2  0.830544"
      ]
     },
     "execution_count": 208,
     "metadata": {},
     "output_type": "execute_result"
    }
   ],
   "source": [
    "dfm = df.melt(value_vars=['GoldStandard','Dropping','Identification','Engineering','Engineering_2'], ignore_index=False).reset_index()\n",
    "dfm"
   ]
  }
 ],
 "metadata": {
  "kernelspec": {
   "display_name": "Python 3 (ipykernel)",
   "language": "python",
   "name": "python3"
  },
  "language_info": {
   "codemirror_mode": {
    "name": "ipython",
    "version": 3
   },
   "file_extension": ".py",
   "mimetype": "text/x-python",
   "name": "python",
   "nbconvert_exporter": "python",
   "pygments_lexer": "ipython3",
   "version": "3.8.2"
  }
 },
 "nbformat": 4,
 "nbformat_minor": 5
}
