{
 "cells": [
  {
   "cell_type": "code",
   "execution_count": 75,
   "id": "92091989",
   "metadata": {},
   "outputs": [],
   "source": [
    "import pandas as pd\n",
    "from tqdm import tqdm\n",
    "tqdm.pandas(desc='My bar!')\n",
    "import numpy as np\n",
    "import time\n",
    "import matplotlib.pyplot as plt "
   ]
  },
  {
   "cell_type": "code",
   "execution_count": 3,
   "id": "363292fd",
   "metadata": {},
   "outputs": [
    {
     "name": "stdout",
     "output_type": "stream",
     "text": [
      "Index(['icustay_id', 'hr', 'category', 'description', 'text'], dtype='object')\n"
     ]
    }
   ],
   "source": [
    "df = pd.read_excel('clinical_notes_hourly.xlsx')\n",
    "print(df.columns)"
   ]
  },
  {
   "cell_type": "code",
   "execution_count": 4,
   "id": "cacc0413",
   "metadata": {},
   "outputs": [
    {
     "data": {
      "text/html": [
       "<div>\n",
       "<style scoped>\n",
       "    .dataframe tbody tr th:only-of-type {\n",
       "        vertical-align: middle;\n",
       "    }\n",
       "\n",
       "    .dataframe tbody tr th {\n",
       "        vertical-align: top;\n",
       "    }\n",
       "\n",
       "    .dataframe thead th {\n",
       "        text-align: right;\n",
       "    }\n",
       "</style>\n",
       "<table border=\"1\" class=\"dataframe\">\n",
       "  <thead>\n",
       "    <tr style=\"text-align: right;\">\n",
       "      <th></th>\n",
       "      <th>icustay_id</th>\n",
       "      <th>hr</th>\n",
       "      <th>category</th>\n",
       "      <th>description</th>\n",
       "      <th>text</th>\n",
       "    </tr>\n",
       "  </thead>\n",
       "  <tbody>\n",
       "    <tr>\n",
       "      <th>0</th>\n",
       "      <td>200039</td>\n",
       "      <td>1</td>\n",
       "      <td>NaN</td>\n",
       "      <td>NaN</td>\n",
       "      <td>NaN</td>\n",
       "    </tr>\n",
       "    <tr>\n",
       "      <th>1</th>\n",
       "      <td>200039</td>\n",
       "      <td>2</td>\n",
       "      <td>Nursing/other</td>\n",
       "      <td>Report</td>\n",
       "      <td>CCU NSG ADMIT NOTE-NSICU BORDER.\\n69 YO [**Hos...</td>\n",
       "    </tr>\n",
       "    <tr>\n",
       "      <th>2</th>\n",
       "      <td>200039</td>\n",
       "      <td>3</td>\n",
       "      <td>NaN</td>\n",
       "      <td>NaN</td>\n",
       "      <td>NaN</td>\n",
       "    </tr>\n",
       "    <tr>\n",
       "      <th>3</th>\n",
       "      <td>200039</td>\n",
       "      <td>4</td>\n",
       "      <td>NaN</td>\n",
       "      <td>NaN</td>\n",
       "      <td>NaN</td>\n",
       "    </tr>\n",
       "    <tr>\n",
       "      <th>4</th>\n",
       "      <td>200039</td>\n",
       "      <td>5</td>\n",
       "      <td>NaN</td>\n",
       "      <td>NaN</td>\n",
       "      <td>NaN</td>\n",
       "    </tr>\n",
       "  </tbody>\n",
       "</table>\n",
       "</div>"
      ],
      "text/plain": [
       "   icustay_id  hr       category description  \\\n",
       "0      200039   1            NaN         NaN   \n",
       "1      200039   2  Nursing/other      Report   \n",
       "2      200039   3            NaN         NaN   \n",
       "3      200039   4            NaN         NaN   \n",
       "4      200039   5            NaN         NaN   \n",
       "\n",
       "                                                text  \n",
       "0                                                NaN  \n",
       "1  CCU NSG ADMIT NOTE-NSICU BORDER.\\n69 YO [**Hos...  \n",
       "2                                                NaN  \n",
       "3                                                NaN  \n",
       "4                                                NaN  "
      ]
     },
     "execution_count": 4,
     "metadata": {},
     "output_type": "execute_result"
    }
   ],
   "source": [
    "df.head()"
   ]
  },
  {
   "cell_type": "code",
   "execution_count": 13,
   "id": "efaf3012",
   "metadata": {
    "scrolled": true
   },
   "outputs": [
    {
     "name": "stdout",
     "output_type": "stream",
     "text": [
      "<class 'str'>\n"
     ]
    }
   ],
   "source": [
    "report = df.loc[1, 'text']\n",
    "print(type(report))"
   ]
  },
  {
   "cell_type": "code",
   "execution_count": 19,
   "id": "f9567cb2",
   "metadata": {
    "scrolled": true
   },
   "outputs": [
    {
     "data": {
      "text/html": [
       "<div>\n",
       "<style scoped>\n",
       "    .dataframe tbody tr th:only-of-type {\n",
       "        vertical-align: middle;\n",
       "    }\n",
       "\n",
       "    .dataframe tbody tr th {\n",
       "        vertical-align: top;\n",
       "    }\n",
       "\n",
       "    .dataframe thead th {\n",
       "        text-align: right;\n",
       "    }\n",
       "</style>\n",
       "<table border=\"1\" class=\"dataframe\">\n",
       "  <thead>\n",
       "    <tr style=\"text-align: right;\">\n",
       "      <th></th>\n",
       "      <th>icustay_id</th>\n",
       "      <th>hr</th>\n",
       "      <th>category</th>\n",
       "      <th>description</th>\n",
       "      <th>text</th>\n",
       "    </tr>\n",
       "  </thead>\n",
       "  <tbody>\n",
       "    <tr>\n",
       "      <th>0</th>\n",
       "      <td>200039</td>\n",
       "      <td>1</td>\n",
       "      <td>NaN</td>\n",
       "      <td>NaN</td>\n",
       "      <td></td>\n",
       "    </tr>\n",
       "    <tr>\n",
       "      <th>1</th>\n",
       "      <td>200039</td>\n",
       "      <td>2</td>\n",
       "      <td>Nursing/other</td>\n",
       "      <td>Report</td>\n",
       "      <td>CCU NSG ADMIT NOTE-NSICU BORDER.\\n69 YO [**Hos...</td>\n",
       "    </tr>\n",
       "    <tr>\n",
       "      <th>2</th>\n",
       "      <td>200039</td>\n",
       "      <td>3</td>\n",
       "      <td>NaN</td>\n",
       "      <td>NaN</td>\n",
       "      <td></td>\n",
       "    </tr>\n",
       "    <tr>\n",
       "      <th>3</th>\n",
       "      <td>200039</td>\n",
       "      <td>4</td>\n",
       "      <td>NaN</td>\n",
       "      <td>NaN</td>\n",
       "      <td></td>\n",
       "    </tr>\n",
       "    <tr>\n",
       "      <th>4</th>\n",
       "      <td>200039</td>\n",
       "      <td>5</td>\n",
       "      <td>NaN</td>\n",
       "      <td>NaN</td>\n",
       "      <td></td>\n",
       "    </tr>\n",
       "  </tbody>\n",
       "</table>\n",
       "</div>"
      ],
      "text/plain": [
       "   icustay_id  hr       category description  \\\n",
       "0      200039   1            NaN         NaN   \n",
       "1      200039   2  Nursing/other      Report   \n",
       "2      200039   3            NaN         NaN   \n",
       "3      200039   4            NaN         NaN   \n",
       "4      200039   5            NaN         NaN   \n",
       "\n",
       "                                                text  \n",
       "0                                                     \n",
       "1  CCU NSG ADMIT NOTE-NSICU BORDER.\\n69 YO [**Hos...  \n",
       "2                                                     \n",
       "3                                                     \n",
       "4                                                     "
      ]
     },
     "execution_count": 19,
     "metadata": {},
     "output_type": "execute_result"
    }
   ],
   "source": [
    "#converting all NaN to a string\n",
    "df.text.fillna('', inplace=True)\n",
    "#df['text'].replace(np.nan,'', regex=True) did not work\n",
    "df.head()"
   ]
  },
  {
   "cell_type": "code",
   "execution_count": 54,
   "id": "5f55998a",
   "metadata": {},
   "outputs": [
    {
     "data": {
      "text/plain": [
       "icustay_id       int64\n",
       "hr               int64\n",
       "category        object\n",
       "description     object\n",
       "text            object\n",
       "Number_Words     int64\n",
       "dtype: object"
      ]
     },
     "execution_count": 54,
     "metadata": {},
     "output_type": "execute_result"
    }
   ],
   "source": [
    "df.dtypes"
   ]
  },
  {
   "cell_type": "code",
   "execution_count": 20,
   "id": "fb5e4210",
   "metadata": {},
   "outputs": [
    {
     "name": "stdout",
     "output_type": "stream",
     "text": [
      "<class 'str'>\n"
     ]
    }
   ],
   "source": [
    "report = df.loc[0, 'text']\n",
    "print(type(report))"
   ]
  },
  {
   "cell_type": "code",
   "execution_count": 30,
   "id": "c809ff52",
   "metadata": {},
   "outputs": [],
   "source": [
    "# the column 'text' was object, but contained NaNs and datetime onjects inside which could not be .split()\n",
    "df['text'] = df['text'].astype(str)"
   ]
  },
  {
   "cell_type": "code",
   "execution_count": 32,
   "id": "c82109c0",
   "metadata": {},
   "outputs": [
    {
     "data": {
      "text/html": [
       "<div>\n",
       "<style scoped>\n",
       "    .dataframe tbody tr th:only-of-type {\n",
       "        vertical-align: middle;\n",
       "    }\n",
       "\n",
       "    .dataframe tbody tr th {\n",
       "        vertical-align: top;\n",
       "    }\n",
       "\n",
       "    .dataframe thead th {\n",
       "        text-align: right;\n",
       "    }\n",
       "</style>\n",
       "<table border=\"1\" class=\"dataframe\">\n",
       "  <thead>\n",
       "    <tr style=\"text-align: right;\">\n",
       "      <th></th>\n",
       "      <th>icustay_id</th>\n",
       "      <th>hr</th>\n",
       "      <th>category</th>\n",
       "      <th>description</th>\n",
       "      <th>text</th>\n",
       "      <th>Number_Words</th>\n",
       "    </tr>\n",
       "  </thead>\n",
       "  <tbody>\n",
       "    <tr>\n",
       "      <th>0</th>\n",
       "      <td>200039</td>\n",
       "      <td>1</td>\n",
       "      <td>NaN</td>\n",
       "      <td>NaN</td>\n",
       "      <td></td>\n",
       "      <td>0</td>\n",
       "    </tr>\n",
       "    <tr>\n",
       "      <th>1</th>\n",
       "      <td>200039</td>\n",
       "      <td>2</td>\n",
       "      <td>Nursing/other</td>\n",
       "      <td>Report</td>\n",
       "      <td>CCU NSG ADMIT NOTE-NSICU BORDER.\\n69 YO [**Hos...</td>\n",
       "      <td>279</td>\n",
       "    </tr>\n",
       "    <tr>\n",
       "      <th>2</th>\n",
       "      <td>200039</td>\n",
       "      <td>3</td>\n",
       "      <td>NaN</td>\n",
       "      <td>NaN</td>\n",
       "      <td></td>\n",
       "      <td>0</td>\n",
       "    </tr>\n",
       "    <tr>\n",
       "      <th>3</th>\n",
       "      <td>200039</td>\n",
       "      <td>4</td>\n",
       "      <td>NaN</td>\n",
       "      <td>NaN</td>\n",
       "      <td></td>\n",
       "      <td>0</td>\n",
       "    </tr>\n",
       "    <tr>\n",
       "      <th>4</th>\n",
       "      <td>200039</td>\n",
       "      <td>5</td>\n",
       "      <td>NaN</td>\n",
       "      <td>NaN</td>\n",
       "      <td></td>\n",
       "      <td>0</td>\n",
       "    </tr>\n",
       "  </tbody>\n",
       "</table>\n",
       "</div>"
      ],
      "text/plain": [
       "   icustay_id  hr       category description  \\\n",
       "0      200039   1            NaN         NaN   \n",
       "1      200039   2  Nursing/other      Report   \n",
       "2      200039   3            NaN         NaN   \n",
       "3      200039   4            NaN         NaN   \n",
       "4      200039   5            NaN         NaN   \n",
       "\n",
       "                                                text  Number_Words  \n",
       "0                                                                0  \n",
       "1  CCU NSG ADMIT NOTE-NSICU BORDER.\\n69 YO [**Hos...           279  \n",
       "2                                                                0  \n",
       "3                                                                0  \n",
       "4                                                                0  "
      ]
     },
     "execution_count": 32,
     "metadata": {},
     "output_type": "execute_result"
    }
   ],
   "source": [
    "# how many words in the text column\n",
    "df[\"Number_Words\"] = df[\"text\"].apply(lambda n: len(n.split()))\n",
    "df.head()"
   ]
  },
  {
   "cell_type": "code",
   "execution_count": 39,
   "id": "68229147",
   "metadata": {},
   "outputs": [
    {
     "data": {
      "text/plain": [
       "1132    1\n",
       "1295    1\n",
       "1071    1\n",
       "686     1\n",
       "802     1\n",
       "Name: Number_Words, dtype: int64"
      ]
     },
     "execution_count": 39,
     "metadata": {},
     "output_type": "execute_result"
    }
   ],
   "source": [
    "df1 = df[\"Number_Words\"].value_counts()\n",
    "df1.tail()"
   ]
  },
  {
   "cell_type": "code",
   "execution_count": 69,
   "id": "4cf331e9",
   "metadata": {},
   "outputs": [
    {
     "data": {
      "text/plain": [
       "count    54330.000000\n",
       "mean        69.637291\n",
       "std        183.110674\n",
       "min          0.000000\n",
       "25%          0.000000\n",
       "50%          0.000000\n",
       "75%          0.000000\n",
       "max       2646.000000\n",
       "Name: Number_Words, dtype: float64"
      ]
     },
     "execution_count": 69,
     "metadata": {},
     "output_type": "execute_result"
    }
   ],
   "source": [
    "#at the end .tolist() returns a list of these numbers!\n",
    "df.Number_Words.describe()"
   ]
  },
  {
   "cell_type": "code",
   "execution_count": 70,
   "id": "fc09769f",
   "metadata": {},
   "outputs": [],
   "source": [
    "words = sorted(df.Number_Words.unique())"
   ]
  },
  {
   "cell_type": "code",
   "execution_count": 79,
   "id": "5ffeb052",
   "metadata": {
    "scrolled": true
   },
   "outputs": [
    {
     "data": {
      "text/plain": [
       "(array([442., 583., 476., 563., 808., 969., 919., 902., 792., 597., 579.,\n",
       "        498., 450., 420., 349., 290., 211., 239., 213., 180., 180., 174.,\n",
       "        147., 135., 154., 129., 135., 104.,  92., 102.,  92.,  81.,  82.,\n",
       "         85.,  81.,  65.,  48.,  42.,  78.,  49.,  69.,  40.,  45.,  48.,\n",
       "         48.,  25.,  28.,  30.,  36.,  24.,  20.,  23.,  10.,  20.,  14.,\n",
       "         10.,   8.,  21.,  11.,   4.,   8.,   9.,   4.,   4.,   5.,   3.,\n",
       "          6.,   4.,   1.,   2.,   6.,  10.,  11.,  10.,   6.,   4.,   5.,\n",
       "          2.,   6.,   3.,   2.,   7.,   1.,   3.,   0.,   1.,   0.,   7.,\n",
       "          9.,   0.,   1.,   1.,   4.,   2.,   1.,   2.,   8.,   0.,   0.,\n",
       "          0.]),\n",
       " array([  10. ,   29.9,   49.8,   69.7,   89.6,  109.5,  129.4,  149.3,\n",
       "         169.2,  189.1,  209. ,  228.9,  248.8,  268.7,  288.6,  308.5,\n",
       "         328.4,  348.3,  368.2,  388.1,  408. ,  427.9,  447.8,  467.7,\n",
       "         487.6,  507.5,  527.4,  547.3,  567.2,  587.1,  607. ,  626.9,\n",
       "         646.8,  666.7,  686.6,  706.5,  726.4,  746.3,  766.2,  786.1,\n",
       "         806. ,  825.9,  845.8,  865.7,  885.6,  905.5,  925.4,  945.3,\n",
       "         965.2,  985.1, 1005. , 1024.9, 1044.8, 1064.7, 1084.6, 1104.5,\n",
       "        1124.4, 1144.3, 1164.2, 1184.1, 1204. , 1223.9, 1243.8, 1263.7,\n",
       "        1283.6, 1303.5, 1323.4, 1343.3, 1363.2, 1383.1, 1403. , 1422.9,\n",
       "        1442.8, 1462.7, 1482.6, 1502.5, 1522.4, 1542.3, 1562.2, 1582.1,\n",
       "        1602. , 1621.9, 1641.8, 1661.7, 1681.6, 1701.5, 1721.4, 1741.3,\n",
       "        1761.2, 1781.1, 1801. , 1820.9, 1840.8, 1860.7, 1880.6, 1900.5,\n",
       "        1920.4, 1940.3, 1960.2, 1980.1, 2000. ]),\n",
       " <BarContainer object of 100 artists>)"
      ]
     },
     "execution_count": 79,
     "metadata": {},
     "output_type": "execute_result"
    },
    {
     "data": {
      "image/png": "[encoded data removed]",
      "text/plain": [
       "<Figure size 640x480 with 1 Axes>"
      ]
     },
     "metadata": {},
     "output_type": "display_data"
    }
   ],
   "source": [
    "#df[\"Number_Words\"].hist()\n",
    "plt.hist(df['Number_Words'], edgecolor='black', range=[10, 2000], bins=100)"
   ]
  },
  {
   "cell_type": "code",
   "execution_count": 36,
   "id": "c712cca3",
   "metadata": {
    "scrolled": false
   },
   "outputs": [
    {
     "name": "stdout",
     "output_type": "stream",
     "text": [
      "CCU NSG ADMIT NOTE-NSICU BORDER.\n",
      "69 YO [**Hospital **] TRANSFERED FROM [**Hospital 8483**] MEDICAL CENTER ([**Telephone/Fax (1) 8484**], [**Location (un) 7507**], VT ON [**12-26**] TO [**Hospital1 95**] W ALTERED MENTAL STATUS, ELEVATED ICP, & NEW SAH-POSTERIOR FOSSA.\n",
      "\n",
      "PMH:SEVER TIC DOULOUREUX W TRIGEMINAL NERVE DECOMPRESSION ON [**2121-12-18**] @ [**Hospital1 95**].\n",
      "    HTN.\n",
      "    OSTEOPOROSIS.\n",
      "    HX DIVERTICULITUS.\n",
      "    HYPERLIPIDEMIA.\n",
      "    DM.\n",
      "    CHRONIC PAIN SYNDROME.\n",
      "\n",
      "ALLERGIES:PCN.\n",
      "          MSO4.\n",
      "\n",
      "MEDS:SEE MD ADMIT NOTE.\n",
      "\n",
      "SOCIAL:LIVES IN VT W FAMILY NEAR BY. FAMILY ON WAY TO HOSPITAL.\n",
      "\n",
      "PRESENT HX:DCED FROM [**Hospital1 95**] ON [**12-22**] SP TRIGEMINAL NERVE DECOMPRESSION. DEVELOPED NECK PAIN SINCE DC W INCREASED SEVERITY ON [**12-25**]-PRESENTED TO OUTSIDE HOSPITAL-WORKUPED W LP-ELEVATED ICP & 1 GRAM POS COCCI TUBE (?CONTAMINANT) & CT SCAN-SAH. TRANSFERED TO [**Hospital1 95**] FOR FURTHER MANAGEMENT. IN EW-REPEAT CT SCAN-SAH-POTERIOR FOSSA W OBSTRUCTIVE HYDROCEPHALUS. VENTRICULAR DRAIN PLACED & ADMITTED TO CCU (NO NSICU BEDS).\n",
      "\n",
      "O:NEURO=SOMULENT, BUT AROUSABLE. VERY SOFT SPOKEN. WO CO PAIN @ PRESENT. MOVES ALL EXTREM W ?L-SIDE SLIGHTLY WEAKER. POSITIVE SENSATION THROUGHOUT. TONGUE MIDLINE. ORIENTED X1-THOUGHT SHE WAS ON THE WAY TO THE HOSPITAL, UNSURE OF YEAR, BUT KNOW HER NAME & AGE.\n",
      "VENTRICULAR DRAIN INTACT-LEVELED @ 15CM ABOVE TROCHUS W MINIMAL AMT CL DRAINAGE-TRANSDUCED W ICP 4-6.\n",
      "  PULM=BREATH SOUNDS=CLEAR. O2 4L NC W SATS UPPER 90'S.\n",
      "  CV=SR TO ST WO ECTOPY. ON NIPRIDE GTT-TITRATING TO SBP <140-SEE FLOW SHEET. ALINE PLACED R-RADIAL.\n",
      "  GI=NPO.\n",
      "  GU=FOLEY. ADEQ UO-PINK TINGED.\n",
      "  LABS=SENT UPON ARRIVAL IN EW.\n",
      "  ID=LOW GRADE T. VANCO ORDER (RECEIVED DOSE @ OUTSIDE HOSPITAL [**1-4**] [**2050**]).\n",
      "  SOCIAL=FAMILY PRESENTLY IN-ROUTE TO HOSPITAL. FAMILY INFORMED OF EVENTS BY RN.\n",
      "\n",
      "A:VENTRICULAR DRAIN INPLACE. STABLE NEURO EXAM @ PRESENT.\n",
      "\n",
      "P:?PLAN. MAINT SBP <140 W NIPRIDE GTT. Q1HR NEURO CKS. CSF SPEC WHEN ABLE. SUPPORT PT/FAMILY AS NEEDED.\n",
      "\n",
      "\n"
     ]
    }
   ],
   "source": [
    "report = df.loc[1, 'text']\n",
    "print(report)"
   ]
  },
  {
   "cell_type": "code",
   "execution_count": 37,
   "id": "cadbc701",
   "metadata": {},
   "outputs": [
    {
     "data": {
      "text/plain": [
       "array([nan, 'Nursing/other', 'Radiology', 'Nursing', 'Physician',\n",
       "       'Respiratory', 'General', 'Nutrition', 'Case Management',\n",
       "       'Rehab Services', 'Social Work', 'Consult'], dtype=object)"
      ]
     },
     "execution_count": 37,
     "metadata": {},
     "output_type": "execute_result"
    }
   ],
   "source": [
    "df[\"category\"].unique()"
   ]
  },
  {
   "cell_type": "code",
   "execution_count": 97,
   "id": "de9fc074",
   "metadata": {},
   "outputs": [
    {
     "data": {
      "text/plain": [
       "category\n",
       "Case Management       6\n",
       "Consult               2\n",
       "General              89\n",
       "Nursing            2348\n",
       "Nursing/other      3958\n",
       "Nutrition            92\n",
       "Physician          1510\n",
       "Radiology          4882\n",
       "Rehab Services       78\n",
       "Respiratory         346\n",
       "Social Work          27\n",
       "dtype: int64"
      ]
     },
     "execution_count": 97,
     "metadata": {},
     "output_type": "execute_result"
    }
   ],
   "source": [
    "df.groupby(['category']).size()"
   ]
  },
  {
   "cell_type": "code",
   "execution_count": 139,
   "id": "7da7bce4",
   "metadata": {
    "scrolled": true
   },
   "outputs": [
    {
     "data": {
      "text/plain": [
       "57       SICU\\n   HPI:\\n   55M with no PMHx who reports...\n",
       "58       SICU\\n   HPI:\\n   55M with no PMHx who reports...\n",
       "67       CVICU\\n   HPI:\\n   HD23\\n   [**3-25**] POD 1\\n...\n",
       "68       CVICU\\n   HPI:\\n   HD23\\n   [**3-25**] POD 1\\n...\n",
       "73       CVICU\\n   HPI:\\n   [**3-25**] POD 1\\n   55M s/...\n",
       "                               ...                        \n",
       "53974    Chief Complaint:\\n   24 Hour Events:\\n   Dobut...\n",
       "53975    Chief Complaint:\\n   24 Hour Events:\\n   Dobut...\n",
       "54035    TSICU\\n   HPI:\\n   69F transferred from OSH af...\n",
       "54036    TSICU\\n   HPI:\\n   69F transferred from OSH af...\n",
       "54212    SICU\\n   HPI:\\n   47yo F W/hX cocaine use, was...\n",
       "Name: text, Length: 1510, dtype: object"
      ]
     },
     "execution_count": 139,
     "metadata": {},
     "output_type": "execute_result"
    }
   ],
   "source": [
    "df.loc[df['category'] == 'Physician'][\"text\"]"
   ]
  },
  {
   "cell_type": "code",
   "execution_count": 140,
   "id": "855e0a05",
   "metadata": {
    "scrolled": true
   },
   "outputs": [
    {
     "data": {
      "text/plain": [
       "\"SICU\\n   HPI:\\n   55M with no PMHx who reports 10 days of band like chest pain on\\n   exertion with radiation to bilateral extremities who developed acute\\n   onset of diplopia and dizziness at doctor's office. Drove home and took\\n   ASA 325 x1 and went to sleep. Called 911 when did not resolve and was\\n   sent to [**Hospital1 1233**] and CT head found to have LEFT sided cerebellar bleed\\n   and SBP 217 and transferred to ED here.  Admitted to ICU for BP control\\n   and q1hour neuro checks\\n   PMHx:\\n   none (has not seen Dr [**Last Name (STitle) **] 15 years)\\n   Current medications:\\n   Acetaminophen, Dexamethasone, Docusate Sodium, Insulin, Influenza Virus\\n   Vaccine, Labetalol, Nitroprusside Sodium, Pantoprazole, Senna\\n   Allergies:\\n   No Known Drug Allergies\\n   Infusions:\\n   Nitroprusside - 0.8 mcg/Kg/min\\n   Flowsheet Data as of  [**2106-3-4**] 04:52 AM\\n   Vital signs\\n   Hemodynamic monitoring\\n   Fluid balance\\n                                                                  24 hours\\n                                                             Since [**09**] a.m.\\n   Tmax: 36.8\\nC (98.2\\n   T current: 36.8\\nC (98.2\\n   HR: 78 (67 - 78) bpm\\n   BP: 149/71(88) {120/55(75) - 152/73(91)} mmHg\\n   RR: 21 (11 - 21) insp/min\\n   SPO2: 94%\\n   Heart rhythm: SR (Sinus Rhythm)\\n   Wgt (current): 122.9 kg (admission): 122.9 kg\\n   Height: 72 Inch\\n             Total In:\\n                                                                    530 mL\\n                                                                    507 mL\\n   PO:\\n             Tube feeding:\\n   IV Fluid:\\n                                                                    239 mL\\n                                                                    507 mL\\n   Blood products:\\n                                                                    291 mL\\n   Total out:\\n                                                                      0 mL\\n                                                                    375 mL\\n   Urine:\\n   375 mL\\n   NG:\\n   Stool:\\n   Drains:\\n   Balance:\\n                                                                    530 mL\\n                                                                    132 mL\\n   Respiratory support\\n   O2 Delivery Device: Nasal cannula\\n   SPO2: 94%\\n   ABG: ///24/\\n   Physical Examination\\n   General Appearance: No acute distress\\n   HEENT: PERRL, diplopia\\n   Cardiovascular: (Rhythm: Regular)\\n   Respiratory / Chest: (Breath Sounds: CTA bilateral : )\\n   Abdominal: Soft, Non-distended, Non-tender, Bowel sounds present\\n   Left Extremities: (Edema: Absent)\\n   Right Extremities: (Edema: Absent)\\n   Skin: (Incision: Clean / Dry / Intact)\\n   Neurologic: (Awake / Alert / Oriented: x 3)\\n   Labs / Radiology\\n   279 K/uL\\n   14.0 g/dL\\n   158 mg/dL\\n   1.0 mg/dL\\n   24 mEq/L\\n   4.3 mEq/L\\n   18 mg/dL\\n   104 mEq/L\\n   137 mEq/L\\n   37.9 %\\n   7.5 K/uL\\n        [image002.jpg]\\n                             [**2106-3-4**]  02:39 AM\\n   WBC\\n   7.5\\n   Hct\\n   37.9\\n   Plt\\n   279\\n   Creatinine\\n   1.0\\n   Glucose\\n   158\\n   Other labs: PT / PTT / INR:15.2/27.3/1.3, CK / CK-MB / Troponin\\n   T:104//, Ca:9.3 mg/dL, Mg:2.3 mg/dL, PO4:3.2 mg/dL\\n   Assessment and Plan\\n   INTRACEREBRAL HEMORRHAGE (ICH)\\n   Assessment and Plan:\\n   Neurologic: LEFT cerebellar stroke with diplopia, follow q1hour neuro\\n   checks, continue Decadron 4''', no dilantin\\n   Cardiovascular: maintain SBP 100-140, rule out MI, check lipid panel\\n   and HbA1c given hx of chest pain, will need stress test at sometime,\\n   will stop nipride gtt and start prn hydralazine and labetolol tid\\n   Pulmonary: NC\\n   Gastrointestinal / Abdomen: NPO\\n   Nutrition: NPO\\n   Renal: no issues\\n   Hematology: received plts in ED for ASA 325 at home\\n   Endocrine: RISS\\n   Infectious Disease: no issue\\n   Lines / Tubes / Drains: PIV\\n   Wounds: none\\n   Imaging: CT scan head today, MRI head\\n   Fluids: will heplock IV\\n   Consults: Neuro surgery\\n   Billing Diagnosis:\\n   ICU Care\\n   Nutrition:\\n   Glycemic Control:  Regular insulin sliding scale\\n   Lines:\\n   20 Gauge - [**2106-3-3**] 09:20 PM\\n   18 Gauge - [**2106-3-3**] 09:20 PM\\n   Prophylaxis:\\n   DVT:\\n   Stress ulcer: PPI\\n   VAP bundle:\\n   Comments:\\n   Communication: ICU consent signed Comments:\\n   Code status: Full code\\n   Disposition: [**Hospital 1025**] Transfer to floor\\n   Total time spent: 34 minutes\\n\""
      ]
     },
     "execution_count": 140,
     "metadata": {},
     "output_type": "execute_result"
    }
   ],
   "source": [
    "df.loc[57, 'text']"
   ]
  },
  {
   "cell_type": "markdown",
   "id": "0d896c01",
   "metadata": {},
   "source": [
    "# finidng code to split in more columns based on the topics of the CONDITION: for example. but has to be more than three letter i think\n",
    "dff['Version_short'] = dff['Name'].str.extract('_(V\\d+)$').fillna('')\n",
    "# [A-Z]+: regex for a word in capital letter before a :, now I need to split the text by this and sabe to different columns!\n",
    "df['incident_characteristics'].str.split(r',\\s[A-Z]', expand=True)\n"
   ]
  },
  {
   "cell_type": "code",
   "execution_count": 80,
   "id": "10ad35e7",
   "metadata": {},
   "outputs": [
    {
     "data": {
      "text/plain": [
       "array([nan, 'Report', 'CT HEAD W/O CONTRAST', 'Nursing Progress Note',\n",
       "       'Intensivist Note', 'MR HEAD W & W/O CONTRAST',\n",
       "       'Nursing Transfer Note', 'ICU Note - CVI', 'CHEST (PORTABLE AP)',\n",
       "       'SEL CATH 3RD ORDER THOR', 'Respiratory Care Shift Note',\n",
       "       'EMBO TRANSCRANIAL', 'MRA BRAIN W/O CONTRAST',\n",
       "       'CHEST PORT. LINE PLACEMENT', 'CT ABDOMEN W/CONTRAST',\n",
       "       'LP FEMUR (AP & LAT) LEFT PORT', 'L FEMUR (AP & LAT) LEFT',\n",
       "       'Physician Attending Admission Note', 'ICU Event Note',\n",
       "       'Physician Resident Admission Note', 'Generic Note',\n",
       "       'Physician Resident Progress Note', 'P BILAT LOWER EXT VEINS PORT',\n",
       "       'Clinical Nutrition Note',\n",
       "       'Case Managment Initial Patient Assessment',\n",
       "       'Physician Attending Progress Note', 'INTERUP IVC',\n",
       "       'RP HAND (AP, LAT & OBLIQUE) RIGHT PORT',\n",
       "       'Deferred Bedside Swallowing Evaluation',\n",
       "       'Physician Surgical Admission Note',\n",
       "       'R SHOULDER (AP, NEUTRAL & AXILLARY) SOFT TISSUE RIGHT',\n",
       "       'BILAT LOWER EXT VEINS', 'Social Work Admission Note',\n",
       "       'L UNILAT LOWER EXT VEINS LEFT',\n",
       "       'LIVER OR GALLBLADDER US (SINGLE ORGAN)', 'MR HEAD W/O CONTRAST',\n",
       "       'CTA HEAD W&W/O C & RECONS', 'R HUMERUS (AP & LAT) RIGHT',\n",
       "       'BY SAME PHYSICIAN', 'BY DIFFERENT PHYSICIAN',\n",
       "       'ABDOMEN (SUPINE & ERECT)', 'SEL CATH 2ND ORDER',\n",
       "       'Bedside Swallowing Evaluation', 'CT CHEST W/O CONTRAST',\n",
       "       'PORTABLE ABDOMEN', 'CT C-SPINE W/O CONTRAST',\n",
       "       'PORTABLE HEAD CT W/O CONTRAST', 'DISTINCT PROCEDURAL SERVICE',\n",
       "       'VERT/CAROTID A-GRAM', 'CT ABDOMEN W/O CONTRAST',\n",
       "       'CT SINUS W/O CONTRAST FOR SURGICAL PLANNING',\n",
       "       'CT HEAD W/ & W/O CONTRAST', 'RENAL U.S.', 'CT CHEST W/CONTRAST',\n",
       "       'Physical Therapy Evaluation Note',\n",
       "       'Occupational Therapy Abbreviated Evaluation Note',\n",
       "       'Occupational Therapy Evaluation Note', 'CT ABD W&W/O C',\n",
       "       'R HIP UNILAT MIN 2 VIEWS RIGHT', 'MR CERVICAL SPINE W/O CONTRAST',\n",
       "       'CHEST (PRE-OP AP ONLY)', 'Bedside Swallow Evaluation',\n",
       "       'VEN DUP EXTEXT BIL (MAP/DVT)', 'R FEMORAL VASCULAR US RIGHT',\n",
       "       'MR-ANGIO HEAD', 'P ABDOMEN (SUPINE & ERECT) PORT',\n",
       "       'P ART DUP EXT LO UNI;F/U PORT',\n",
       "       'TRANSLUMIN BAL ANGIOPLASTY, PERIPHERAL', \"ADD'L 2ND/3RD ORDER\",\n",
       "       'MULTI-PROCEDURE SAME DAY', 'CT EMERGENCY HEAD W/O CONTRAST',\n",
       "       'MR C-SPINE W& W/O CONTRAST', 'Deferred Swallowing Evaluation',\n",
       "       'CT UP EXT W/O C', 'Physician Attending Admission Note - MICU',\n",
       "       'DUPLEX DOPP ABD/PEL', 'TRANSCATH PLCT STENTS, INITIAL VESSEL',\n",
       "       'EMBO INTRACRANIAL/SPINAL CORD',\n",
       "       'LP ELBOW (AP & LAT) SOFT TISSUE LEFT PORT',\n",
       "       'CAROTID/CERVICAL UNILAT', 'CT L-SPINE W/O CONTRAST',\n",
       "       'Resident / Attending Notes', 'ICU Attending Note',\n",
       "       'L ANKLE 1 VIEW LEFT',\n",
       "       'SECONDARY THROMBECTOMY W/OTHER PERC PROCEDURE',\n",
       "       'CHEST (PA & LAT)', 'VIDEO OROPHARYNGEAL SWALLOW',\n",
       "       'Physical Therapy Progress Note', 'MR HEAD W/ CONTRAST',\n",
       "       'P CHEST (PRE-OP AP ONLY) PORT', 'EMBO EXTRACRAINIAL',\n",
       "       'Surgery Progress note', 'EXT BILAT A-GRAM',\n",
       "       'R UNILAT UP EXT VEINS US RIGHT', 'P PELVIS (AP ONLY) PORT',\n",
       "       'LPLP ELBOW (AP, LAT & OBLIQUE) LEFT PORT LEFT PORT',\n",
       "       'CTA NECK W&W/OC & RECONS',\n",
       "       'CTA CHEST W&W/O C&RECONS, NON-CORONARY',\n",
       "       'Physician Resident/Attending Progress Note - MICU', 'BRAIN SCAN',\n",
       "       'Resident admission note', 'Family Meeting Note',\n",
       "       'LP WRIST(3 + VIEWS) LEFT PORT', 'MR L-SPINE W & W/O CONTRAST',\n",
       "       'CAROTID LMTD/ DPP', 'CVL/PICC', '3ED ORDER THOR/BRACHIOCEPHALIC',\n",
       "       'P SPINAL FLUORO WITHOUT RADIOLOGIST PORT',\n",
       "       'Physician Surgical Progress Note',\n",
       "       'P LIVER OR GALLBLADDER US (SINGLE ORGAN) PORT',\n",
       "       'CT SINUS AXIAL W/VTI', 'PT Contact Note',\n",
       "       'LP UNILAT UP EXT VEINS US LEFT PORT', 'Nursing Admission Note',\n",
       "       'R KNEE (AP, LAT & OBLIQUE) RIGHT', 'R WRIST(3 + VIEWS) RIGHT',\n",
       "       'R ANKLE (AP, MORTISE & LAT) RIGHT', 'L WRIST(3 + VIEWS) LEFT',\n",
       "       'CT SINUS/MANDIBLE/MAXILLOFACIAL W/O CONTRAST',\n",
       "       'CHEST (SINGLE VIEW)', 'P ABDOMEN U.S. (COMPLETE STUDY) PORT',\n",
       "       'BAS/UGI AIR/SBFT', 'L HAND (AP, LAT & OBLIQUE) LEFT',\n",
       "       'TRANCATHETER EMBOLIZATION',\n",
       "       'RP ANKLE (AP, LAT & OBLIQUE) RIGHT PORT',\n",
       "       'INSERT HEPATIC HUNT TIPS', 'Deferred Bedside Swallow Evaluation',\n",
       "       'MRA NECK W&W/O CONTRAST', 'PERIPHERAL W/O PORT',\n",
       "       'P VEN DUP EXTEXT BIL (MAP/DVT) PORT',\n",
       "       'P ABDOMEN, SINGLE VIEW PORT', 'CAROTID/CEREBRAL BILAT',\n",
       "       'MR CONTRAST GADOLIN', 'ABDOMEN U.S. (COMPLETE STUDY)',\n",
       "       'EXT UNILAT A-GRAM', 'Social Work Progress Note',\n",
       "       'Physician Attending/Resident Admission Note - MICU',\n",
       "       'Physician Resident/Attending Admission Note - MICU',\n",
       "       'ORBITS PRE-MRI (WATERS LOOK UP&DOWN)',\n",
       "       'MR T-SPINE W &W/O CONTRAST', 'ICU Admission Note',\n",
       "       'MR RECONSTRUCTION IMAGING', 'CT T-SPINE W/O CONTRAST',\n",
       "       'CT PELVIS W/CONTRAST', 'CT HEAD W/ CONTRAST',\n",
       "       'P ABDOMEN (SUPINE ONLY) PORT', 'MR CERVICAL SPINE',\n",
       "       'CT CHEST W&W/O C', 'ABDOMEN (SUPINE ONLY)',\n",
       "       'SKULL AP&LAT/C-SP/CXR/ABD SLG VIEWS MR SCREENING',\n",
       "       'P CAROTID LMTD/ DPP PORT', 'P RENAL U.S. PORT',\n",
       "       'Cardiology Consult Note', 'P RENAL TRANSPLANT U.S. PORT',\n",
       "       'CHEST (LAT DECUB ONLY)',\n",
       "       'O SKULL (AP, TOWNES & LAT) TRAUMA IN O.R.', 'PICC W/O PORT',\n",
       "       'Addendum to admission note', 'ABDOMEN U.S. (PORTABLE)',\n",
       "       'PRE-MRI ABDOMEN, SINGLE VIEW ONLY', 'C-SPINE, TRAUMA',\n",
       "       'Physician Consult Progress Note', 'L SHOULDER 1 VIEW LEFT',\n",
       "       'RP UNILAT UP EXT VEINS US RIGHT PORT', 'SWALLOWING FOLLOW-UP',\n",
       "       'P ART DUP EXT UP UNI OR LMTD PORT',\n",
       "       'Resident Note / Attending Addendum', 'REDUCED SERVICES',\n",
       "       'RP FOREARM (AP & LAT) RIGHT PORT',\n",
       "       'L KNEE (AP, LAT & OBLIQUE) LEFT',\n",
       "       'R HAND (AP, LAT & OBLIQUE) RIGHT',\n",
       "       'NASO-INTESTINAL TUBE PLACEMENT (W/FLUORO)',\n",
       "       'INS ENDOVAS VENA CAVA FILTER', 'TRANSCATH EMBO THERAPY',\n",
       "       'LP FOREARM (AP & LAT) LEFT PORT',\n",
       "       'ORBITS (WATERS, CALDWELL & LAT)',\n",
       "       'RP WRIST(3 + VIEWS) RIGHT PORT',\n",
       "       'Case Management Continued Stay Review',\n",
       "       'CT NECK W/O CONTRAST (EG: PAROTIDS)', 'CAROTID/CERVICAL BILAT',\n",
       "       'CT STEREOTAXIS W/ CONTRAST', 'T-SPINE',\n",
       "       'CTA CHEST W&W/O C &RECONS', 'O CHEST (SINGLE VIEW) IN O.R.',\n",
       "       'F/U TRANS CATH THERAPY', 'PELVIS PORTABLE',\n",
       "       'ABDOMEN, SINGLE VIEW', 'LUMBAR SPINAL PUNCTURE',\n",
       "       'Cardiology Comprehensive Physician Note', 'EXT CAROTID BILAT',\n",
       "       'CAROTID SERIES COMPLETE', 'MR HEAD NEURO',\n",
       "       'L 36216 2ND ORDER THOR/BRACHIOCEPHALIC LEFT',\n",
       "       'CT STEREOTAXIS NEURO W/O C',\n",
       "       'Overnight Intensivist / Fellow Admission',\n",
       "       'Physician Fellow Progress Note - MICU', 'Attending Note',\n",
       "       'P CAROTID SERIES COMPLETE PORT',\n",
       "       'L SHOULDER (AP, NEUTRAL & AXILLARY) TRAUMA LEFT',\n",
       "       'P US ABD LIMIT, SINGLE ORGAN PORT', 'CT 150CC NONIONIC CONTRAST',\n",
       "       'UNILAT LOWER EXT VEINS', 'LP KNEE (2 VIEWS) LEFT PORT',\n",
       "       'RP UNILAT LOWER EXT VEINS RIGHT PORT',\n",
       "       'Overnight Intensivist Admission',\n",
       "       'Attempted Bedside Swallowing Evaluation',\n",
       "       'Cardiology Teaching Physician Note', 'ART EXT (REST ONLY)',\n",
       "       'SKULL (AP, TOWNES & LAT) TRAUMA', 'CT ABD & PELVIS WITH CONTRAST',\n",
       "       'SKULL (CALDWELL, LFT LAT, TOWNES & BASE)',\n",
       "       'Initial Cardiology Consultation', 'CT 100CC NON IONIC CONTRAST',\n",
       "       'RP HUMERUS (AP & LAT) SOFT TISSUE RIGHT PORT',\n",
       "       'RP SHOULDER 2-3 VIEWS NON TRAUMA RIGHT PORT',\n",
       "       'CHEST (PRE-OP PA & LAT)', 'SEL CATH 1ST ORDER',\n",
       "       'RENAL U.S. (PORTABLE)', 'NON-TUNNELED',\n",
       "       'C-SPINE (SINGLE VIEW ONLY)', 'CTA ABD W&W/O C & RECONS',\n",
       "       'L ABDOMEN (LAT DECUB ONLY) LEFT',\n",
       "       'L ANKLE (AP, MORTISE & LAT) LEFT',\n",
       "       'LP KNEE (AP, LAT & OBLIQUE) LEFT PORT',\n",
       "       'LP HAND (AP, LAT & OBLIQUE) LEFT PORT',\n",
       "       'Physician Resident and attg Admission Note - MICU',\n",
       "       'CTA AORTA/BIFEM/ILIAC RUNOFF W/W&WO C AND RECONS',\n",
       "       'O NECK SOFT TISSUES IN O.R.', 'P RETROPERITONEAL US PORT',\n",
       "       'MRV HEAD W/O CONTRAST', 'P CHEST (PRE-OP PA & LAT) PORT',\n",
       "       'P ACUTE ABD SERIES (2-3 VIEWS OF ABD & SGL CHEST VIEW) PORT',\n",
       "       'RO LOWER EXTREMITY FLUORO WITHOUT RADIOLOGIST RIGHT IN O.R.',\n",
       "       'Video Swallow Evaluation',\n",
       "       'ICU Fellow Progress Note - MICU attending addendum',\n",
       "       'ICU Fellow Progress Note - MICU', 'ICU Note', 'EMBO NON NEURO',\n",
       "       'P C-SPINE, TRAUMA PORT', 'MRI CHEST/MEDIASTINUM W/O & W/CONTRAST',\n",
       "       'Admission Note', 'P EMERG BILAT LOWER EXT VEINS PORT',\n",
       "       'STENT CERVICAL/CAROTID W/O EMBOLIC PROTECTION',\n",
       "       'CT RECONSTRUCTION', 'ICU Fellow Admission Note - MICU',\n",
       "       'ERCP BILIARY ONLY PORTABLY BY TECH',\n",
       "       'MR C-SPINE SCAN WITH CONTRAST', 'L HIP UNILAT MIN 2 VIEWS LEFT'],\n",
       "      dtype=object)"
      ]
     },
     "execution_count": 80,
     "metadata": {},
     "output_type": "execute_result"
    }
   ],
   "source": [
    "# might have info just in the number of things that has been done to a patient?\n",
    "# so checking the ones that are not NaNs and aggregating them to see the number for each patient?\n",
    "df['description'].unique()"
   ]
  },
  {
   "cell_type": "markdown",
   "id": "990f19f6",
   "metadata": {},
   "source": [
    "# Making a new dataset with only the text we will analyze for homework 6\n",
    "\n",
    "Method 1: Select Rows where Column is Equal to Specific Value\n",
    "\n",
    "`df.loc[df['col1'] == value]`\n",
    "\n",
    "Method 2: Select Rows where Column Value is in List of Values\n",
    "\n",
    "`df.loc[df['col1'].isin([value1, value2, value3, ...])]`\n",
    "\n",
    "Method 3: Select Rows Based on Multiple Column Conditions\n",
    "\n",
    "`df.loc[(df['col1'] == value) & (df['col2'] < value)]`"
   ]
  },
  {
   "cell_type": "code",
   "execution_count": 141,
   "id": "31e459bf",
   "metadata": {},
   "outputs": [
    {
     "data": {
      "text/plain": [
       "(4882, 6)"
      ]
     },
     "execution_count": 141,
     "metadata": {},
     "output_type": "execute_result"
    }
   ],
   "source": [
    "df2 = df.loc[df['category'] == 'Radiology']\n",
    "df2.shape"
   ]
  },
  {
   "cell_type": "code",
   "execution_count": 147,
   "id": "79af5fa2",
   "metadata": {},
   "outputs": [
    {
     "name": "stderr",
     "output_type": "stream",
     "text": [
      "/var/folders/v1/39txyj1100x4ydww7x2m4qq80000gn/T/ipykernel_52382/2396606919.py:1: SettingWithCopyWarning: \n",
      "A value is trying to be set on a copy of a slice from a DataFrame\n",
      "\n",
      "See the caveats in the documentation: https://pandas.pydata.org/pandas-docs/stable/user_guide/indexing.html#returning-a-view-versus-a-copy\n",
      "  df2.dropna(subset=['category', 'description'], how='all', inplace=True)\n"
     ]
    }
   ],
   "source": [
    "df2.dropna(subset=['category', 'description'], how='all', inplace=True)"
   ]
  },
  {
   "cell_type": "code",
   "execution_count": 149,
   "id": "18135060",
   "metadata": {
    "scrolled": true
   },
   "outputs": [
    {
     "data": {
      "text/plain": [
       "category\n",
       "Radiology    4882\n",
       "dtype: int64"
      ]
     },
     "execution_count": 149,
     "metadata": {},
     "output_type": "execute_result"
    }
   ],
   "source": [
    "df2.groupby(['category']).size()"
   ]
  },
  {
   "cell_type": "code",
   "execution_count": 150,
   "id": "04ab431d",
   "metadata": {},
   "outputs": [
    {
     "data": {
      "text/plain": [
       "count    4882.000000\n",
       "mean      264.364195\n",
       "std       217.026687\n",
       "min        54.000000\n",
       "25%       125.000000\n",
       "50%       185.500000\n",
       "75%       319.750000\n",
       "max      2083.000000\n",
       "Name: Number_Words, dtype: float64"
      ]
     },
     "execution_count": 150,
     "metadata": {},
     "output_type": "execute_result"
    }
   ],
   "source": [
    "df2.Number_Words.describe()"
   ]
  },
  {
   "cell_type": "code",
   "execution_count": 151,
   "id": "ceed0936",
   "metadata": {},
   "outputs": [
    {
     "data": {
      "text/plain": [
       "(array([  0.,   0.,  58., 235., 474., 569., 437., 412., 310., 238., 234.,\n",
       "        181., 164., 156., 135., 107.,  80.,  93.,  74.,  82.,  80.,  78.,\n",
       "         62.,  51.,  57.,  30.,  35.,  34.,  29.,  20.,  14.,  20.,  24.,\n",
       "         18.,  23.,  19.,  11.,  13.,  21.,  14.,  16.,   9.,  13.,  14.,\n",
       "         19.,   5.,  11.,  10.,   5.,  12.,   9.,  12.,   2.,   7.,   2.,\n",
       "          6.,   1.,   3.,   3.,   1.,   3.,   7.,   1.,   0.,   3.,   0.,\n",
       "          2.,   2.,   1.,   0.,   0.,   4.,   1.,   1.,   0.,   0.,   0.,\n",
       "          1.,   0.,   0.,   1.,   0.,   0.,   0.,   0.,   0.,   0.,   1.,\n",
       "          0.,   0.,   0.,   0.,   0.,   0.,   0.,   0.,   0.,   0.,   0.,\n",
       "          0.]),\n",
       " array([  10. ,   29.9,   49.8,   69.7,   89.6,  109.5,  129.4,  149.3,\n",
       "         169.2,  189.1,  209. ,  228.9,  248.8,  268.7,  288.6,  308.5,\n",
       "         328.4,  348.3,  368.2,  388.1,  408. ,  427.9,  447.8,  467.7,\n",
       "         487.6,  507.5,  527.4,  547.3,  567.2,  587.1,  607. ,  626.9,\n",
       "         646.8,  666.7,  686.6,  706.5,  726.4,  746.3,  766.2,  786.1,\n",
       "         806. ,  825.9,  845.8,  865.7,  885.6,  905.5,  925.4,  945.3,\n",
       "         965.2,  985.1, 1005. , 1024.9, 1044.8, 1064.7, 1084.6, 1104.5,\n",
       "        1124.4, 1144.3, 1164.2, 1184.1, 1204. , 1223.9, 1243.8, 1263.7,\n",
       "        1283.6, 1303.5, 1323.4, 1343.3, 1363.2, 1383.1, 1403. , 1422.9,\n",
       "        1442.8, 1462.7, 1482.6, 1502.5, 1522.4, 1542.3, 1562.2, 1582.1,\n",
       "        1602. , 1621.9, 1641.8, 1661.7, 1681.6, 1701.5, 1721.4, 1741.3,\n",
       "        1761.2, 1781.1, 1801. , 1820.9, 1840.8, 1860.7, 1880.6, 1900.5,\n",
       "        1920.4, 1940.3, 1960.2, 1980.1, 2000. ]),\n",
       " <BarContainer object of 100 artists>)"
      ]
     },
     "execution_count": 151,
     "metadata": {},
     "output_type": "execute_result"
    },
    {
     "data": {
      "image/png": "[encoded data removed]",
      "text/plain": [
       "<Figure size 640x480 with 1 Axes>"
      ]
     },
     "metadata": {},
     "output_type": "display_data"
    }
   ],
   "source": [
    "plt.hist(df2['Number_Words'], edgecolor='black', range=[10, 2000], bins=100)"
   ]
  },
  {
   "cell_type": "code",
   "execution_count": null,
   "id": "57c325b8",
   "metadata": {},
   "outputs": [],
   "source": [
    "# saving to CSV - better save after we clean!\n",
    "#df2.to_csv('FinalDataHW6.csv', index=False)"
   ]
  },
  {
   "cell_type": "markdown",
   "id": "e6febe9a",
   "metadata": {},
   "source": [
    "# Cleaning the text column"
   ]
  },
  {
   "cell_type": "code",
   "execution_count": 94,
   "id": "c90180aa",
   "metadata": {},
   "outputs": [],
   "source": [
    "import re\n",
    "# Chashi code\n",
    "def clean_report(report):\n",
    "    report = re.sub(r'\\[[^]]*\\]', '', report)  # remove any text within square brackets\n",
    "    report = re.sub(r'\\n\\s*\\n', '\\n', report)  # remove any blank lines\n",
    "    report = re.sub(r'^\\s+', '', report, flags=re.MULTILINE)  # remove any leading spaces at the beginning of each line\n",
    "    \n",
    "    #report = re.sub(r'^[^:]*:', '', report, flags=re.MULTILINE)  # remove any text before a colon\n",
    "    #report = re.sub(r'\\n', '. ', report)  # add a period at the end of each line --> RENATA did not like that for the doctor note!\n",
    "    # remove time stamp\n",
    "    report = re.sub(r'\\d{1,2}:\\d{2}\\s(AM|PM)\\.\\s', '', report)\n",
    "    # remove underscores\n",
    "    report = report.replace('_', '')\n",
    "    # remove extra white spaces\n",
    "    report = re.sub(r'\\s+', ' ', report.strip())\n",
    "    # remove double punctuations\n",
    "    report = re.sub(r'(?<=[^\\w\\s])\\s?[^\\w\\s]|[^\\w\\s]\\s?(?=[^\\w\\s])', '', report)\n",
    "    return report.strip()  # remove any trailing spaces at the end of the report\n"
   ]
  },
  {
   "cell_type": "code",
   "execution_count": 105,
   "id": "879f73f9",
   "metadata": {},
   "outputs": [
    {
     "name": "stdout",
     "output_type": "stream",
     "text": [
      "10:57 AM CT HEAD W/O CONTRAST-77 BY DIFFERENT PHYSICIAN # Reason: 47 year old woman s/p cerebral angio and coiling, EVD in pla Admitting Diagnosis: SUBARACHNOID HEMORRHAGE MEDICAL CONDITION: 47 year old woman s/p cerebral angio and coiling, EVD in place, please evaluate position. REASON FOR THIS EXAMINATION: 47 year old woman s/p cerebral angio and coiling, EVD in place, please evaluate position. No contraindications for IV contrast PROVISIONAL FINDINGS IMPRESSION (PFI AJy WED 4:41 PM Status post right frontal ventriculostomy shunt placement with tip terminating in the region of the foramen of in the right lateral ventricle. Ventricular size is unchanged. Re-demonstration of subarachnoid hemorrhage with no evidence for new hemorrhage. FINAL REPORT HISTORY: 47-year-old female with subarachnoid hemorrhage and left MCA aneurysm, status post ETT placement. COMPARISON: CTs of the head dated , and . NON-CONTRAST HEAD CT: There has been interval placement of a right frontal approach ventriculostomy catheter, with tip terminating in the right lateral ventricle in the region of the foramen of . The ventricular size has not substantially changed compared to prior examination. Re-demonstrated is diffuse subarachnoid hemorrhage, most prominent in the left sylvian fissure. Small amount of blood products are seen layering dependently within the occipital horns. There is minimal pneumocephalus, expected following catheter placement. There is no shift of normally midline structures. Mild sulcal effacement likely reflects cerebral edema. Osseous and soft tissue structures are unchanged. IMPRESSION: 1. Status post right frontal approach ventriculostomy catheter placement, with expected pneumocephalus but no evidence for new hemorrhage. 2. Re-demonstration of diffuse subarachnoid blood, now including definite intraventricular extension. 3. Unchanged prominence of the lateral and third ventricles. 4. Mild cerebral edema.\n"
     ]
    }
   ],
   "source": [
    "print(clean_report(df.loc[54217, 'text']))"
   ]
  },
  {
   "cell_type": "code",
   "execution_count": 41,
   "id": "0e7980d3",
   "metadata": {
    "scrolled": true
   },
   "outputs": [
    {
     "name": "stdout",
     "output_type": "stream",
     "text": [
      "CCU NSG ADMIT NOTE-NSICU BORDER 69 YO TRANSFERED FROM MEDICAL CENTER  VT ON TO W ALTERED MENTAL STATUS, ELEVATED ICP& NEW SAH-POSTERIOR FOSSA PMH:SEVER TIC DOULOUREUX W TRIGEMINAL NERVE DECOMPRESSION ON  HTN OSTEOPOROSIS HX DIVERTICULITUS HYPERLIPIDEMIA DM CHRONIC PAIN SYNDROME ALLERGIES:PCN MSO4 MEDS:SEE MD ADMIT NOTE SOCIAL:LIVES IN VT W FAMILY NEAR BY. FAMILY ON WAY TO HOSPITAL PRESENT HX:DCED FROM ON SP TRIGEMINAL NERVE DECOMPRESSION. DEVELOPED NECK PAIN SINCE DC W INCREASED SEVERITY ON -PRESENTED TO OUTSIDE HOSPITAL-WORKUPED W LP-ELEVATED ICP & 1 GRAM POS COCCI TUBE CONTAMINANT& CT SCAN-SAH. TRANSFERED TO FOR FURTHER MANAGEMENT. IN EW-REPEAT CT SCAN-SAH-POTERIOR FOSSA W OBSTRUCTIVE HYDROCEPHALUS. VENTRICULAR DRAIN PLACED & ADMITTED TO CCU (NO NSICU BEDS O:NEURO=SOMULENT, BUT AROUSABLE. VERY SOFT SPOKEN. WO CO PAIN @ PRESENT. MOVES ALL EXTREM W ?L-SIDE SLIGHTLY WEAKER. POSITIVE SENSATION THROUGHOUT. TONGUE MIDLINE. ORIENTED X1-THOUGHT SHE WAS ON THE WAY TO THE HOSPITAL, UNSURE OF YEAR, BUT KNOW HER NAME & AGE VENTRICULAR DRAIN INTACT-LEVELED @ 15CM ABOVE TROCHUS W MINIMAL AMT CL DRAINAGE-TRANSDUCED W ICP 4-6 PULM=BREATH SOUNDS=CLEAR. O2 4L NC W SATS UPPER 90'S CV=SR TO ST WO ECTOPY. ON NIPRIDE GTT-TITRATING TO SBP <140-SEE FLOW SHEET. ALINE PLACED R-RADIAL GI=NPO GU=FOLEY. ADEQ UO-PINK TINGED LABS=SENT UPON ARRIVAL IN EW ID=LOW GRADE T. VANCO ORDER (RECEIVED DOSE @ OUTSIDE HOSPITAL  SOCIAL=FAMILY PRESENTLY IN-ROUTE TO HOSPITAL. FAMILY INFORMED OF EVENTS BY RN A:VENTRICULAR DRAIN INPLACE. STABLE NEURO EXAM @ PRESENT PPLAN. MAINT SBP <140 W NIPRIDE GTT. Q1HR NEURO CKS. CSF SPEC WHEN ABLE. SUPPORT PT/FAMILY AS NEEDED\n"
     ]
    }
   ],
   "source": [
    "print(clean_report(report))"
   ]
  },
  {
   "cell_type": "code",
   "execution_count": 44,
   "id": "10e07eae",
   "metadata": {},
   "outputs": [],
   "source": [
    "report_clean = clean_report(report)"
   ]
  },
  {
   "cell_type": "code",
   "execution_count": 48,
   "id": "5a83820c",
   "metadata": {},
   "outputs": [
    {
     "data": {
      "text/plain": [
       "str"
      ]
     },
     "execution_count": 48,
     "metadata": {},
     "output_type": "execute_result"
    }
   ],
   "source": [
    "type(report_clean)"
   ]
  },
  {
   "cell_type": "code",
   "execution_count": 47,
   "id": "989779a3",
   "metadata": {},
   "outputs": [
    {
     "name": "stdout",
     "output_type": "stream",
     "text": [
      "253\n"
     ]
    }
   ],
   "source": [
    "print(len(str(report_clean).split()))"
   ]
  },
  {
   "cell_type": "code",
   "execution_count": 49,
   "id": "7b08ffc6",
   "metadata": {},
   "outputs": [
    {
     "name": "stdout",
     "output_type": "stream",
     "text": [
      "279\n"
     ]
    }
   ],
   "source": [
    "print(len(str(report).split()))"
   ]
  },
  {
   "cell_type": "code",
   "execution_count": 107,
   "id": "945287b5",
   "metadata": {
    "scrolled": true
   },
   "outputs": [
    {
     "name": "stdout",
     "output_type": "stream",
     "text": [
      "Summary: CCU NSG ADMIT NOTE-NSICU BORDER 69 YO TRANSFERED FROM MEDICAL CENTER VT ON TO W ALTERED MENTAL STATUS, ELEVATED ICP& NEW SAH-POSTERIOR FOSSA. VENTRICULAR DRAIN PLACED & ADMITTED TO CCU (NO NSICU BEDS O:SOMULENT, BUT AROUS\n"
     ]
    }
   ],
   "source": [
    "import transformers\n",
    "import torch\n",
    "\n",
    "# Load the T5 model\n",
    "model = transformers.T5ForConditionalGeneration.from_pretrained('t5-base')\n",
    "tokenizer = transformers.T5Tokenizer.from_pretrained('t5-base', model_max_length=1024)\n",
    "\n",
    "# Define the input data\n",
    "input_text = report_clean\n",
    "\n",
    "# Tokenize the input data\n",
    "input_ids = tokenizer.encode(\"summarize: \" +input_text, return_tensors='pt')\n",
    "\n",
    "# Generate the summary\n",
    "summary_ids = model.generate(input_ids, num_beams=4, max_length=100, early_stopping=True)\n",
    "summary = tokenizer.decode(summary_ids[0], skip_special_tokens=True)\n",
    "\n",
    "# Print the summary\n",
    "print(\"Summary:\", summary)\n"
   ]
  },
  {
   "cell_type": "code",
   "execution_count": 114,
   "id": "e3927bb5",
   "metadata": {},
   "outputs": [],
   "source": [
    "from transformers import pipeline\n",
    "\n",
    "# Load the summarization pipeline\n",
    "summarizer = pipeline(\"summarization\", model=\"t5-base\", tokenizer=\"t5-base\")\n",
    "\n",
    "def sumamrizer(text):\n",
    "  # Generate summary\n",
    "  summary = summarizer(text, min_length=30, do_sample=False)\n",
    "\n",
    "  # Print the summary\n",
    "  #print(summary[0]['summary_text'])\n",
    "  return summary[0]['summary_text']"
   ]
  },
  {
   "cell_type": "code",
   "execution_count": 115,
   "id": "80797a31",
   "metadata": {},
   "outputs": [
    {
     "name": "stderr",
     "output_type": "stream",
     "text": [
      "Token indices sequence length is longer than the specified maximum sequence length for this model (573 > 512). Running this sequence through the model will result in indexing errors\n"
     ]
    },
    {
     "name": "stdout",
     "output_type": "stream",
     "text": [
      "47-year-old female with subarachnoid hemorrhage and left MCA aneurysm . ventricular size has not substantially changed compared to prior examination .\n"
     ]
    }
   ],
   "source": [
    "print(sumamrizer(input_text2))"
   ]
  },
  {
   "cell_type": "code",
   "execution_count": 152,
   "id": "c3b27412",
   "metadata": {},
   "outputs": [
    {
     "name": "stdout",
     "output_type": "stream",
     "text": [
      "Summary: 47 year old female with subarachnoid hemorrhage and left MCA aneurysm. re-demonstrated is diffuse subarachnoid hemorrhage with no evidence for new hemorrhage. mild sulcal effacement likely reflects cerebral edema.\n"
     ]
    }
   ],
   "source": [
    "# Define the input data\n",
    "input_text2 = clean_report(df.loc[54217, 'text'])\n",
    "\n",
    "# Tokenize the input data\n",
    "input_ids = tokenizer.encode(\"summarize: \" +input_text2, return_tensors='pt')\n",
    "\n",
    "# Generate the summary\n",
    "summary_ids = model.generate(input_ids, num_beams=4, max_length=300, early_stopping=False)\n",
    "summary = tokenizer.decode(summary_ids[0], skip_special_tokens=True)\n",
    "\n",
    "# Print the summary\n",
    "print(\"Summary:\", summary)"
   ]
  },
  {
   "cell_type": "code",
   "execution_count": 145,
   "id": "12a57a67",
   "metadata": {},
   "outputs": [
    {
     "name": "stdout",
     "output_type": "stream",
     "text": [
      "Summary: 47 year old female with subarachnoid hemorrhage and left MCA aneurysm. re-demonstrated is diffuse subarachnoid hemorrhage with no evidence for new hemorrhage. mild sulcal effacement likely reflects cerebral edema.\n"
     ]
    }
   ],
   "source": [
    "# Define the input data\n",
    "input_text2 = clean_report(df.loc[54217, 'text'])\n",
    "\n",
    "# Tokenize the input data\n",
    "input_ids = tokenizer.encode(\"summarize: \" +input_text2, return_tensors='pt')\n",
    "\n",
    "# Generate the summary\n",
    "summary_ids = model.generate(input_ids, num_beams=64, max_length=400, early_stopping=False)\n",
    "summary = tokenizer.decode(summary_ids[0], skip_special_tokens=True)\n",
    "\n",
    "# Print the summary\n",
    "print(\"Summary:\", summary)"
   ]
  },
  {
   "cell_type": "markdown",
   "id": "770609be",
   "metadata": {},
   "source": [
    "# Understanding the parameters\n",
    "### For the model,generate() part:\n",
    "max_legth = how long the summary can be (but it has not changed for me, see early_Stopping)\n",
    "num_beams = how many summaries options are generated?\n",
    "______\n",
    "input_ids: This is the input sequence of tokens that the model should generate from. It is typically a tensor of shape (batch_size, sequence_length).\n",
    "\n",
    "max_length: This is the maximum length of the generated sequence, in terms of number of tokens. If the generated sequence exceeds this length, it will be truncated.\n",
    "\n",
    "num_beams: This parameter controls how many \"beams\" the model should use when generating the sequence. Each beam corresponds to a different sequence of tokens that the model is considering at any given time. A higher number of beams can help the model to explore a wider range of possible sequences, but it also increases the computational cost.\n",
    "\n",
    "length_penalty: This parameter controls how much to penalize longer sequences when selecting the final output. A higher length penalty will tend to favor shorter sequences, while a lower length penalty will tend to favor longer sequences.\n",
    "\n",
    "temperature: This parameter controls the \"temperature\" of the softmax distribution used to sample the next token in the sequence. A higher temperature will tend to produce more diverse and unpredictable sequences, while a lower temperature will tend to produce more predictable and repetitive sequences.\n",
    "\n",
    "repetition_penalty: This parameter controls how much to penalize repeating the same token in the sequence. A higher repetition penalty will tend to favor sequences with less repetition, while a lower repetition penalty will tend to favor sequences with more repetition.\n",
    "\n",
    "early_stopping: This parameter controls whether the model should stop generating the sequence as soon as it reaches an EOS (end-of-sequence) token. If early_stopping is set to True, the model will stop generating the sequence as soon as it encounters an EOS token.\n",
    "\n",
    "# For the toekinzer.decode() part (making it human readable again):\n",
    "skip_special_tokens=True\n",
    "\n",
    "summary_ids: The summary output from the generate() method of the model. This is a sequence of token IDs representing the generated summary.\n",
    "\n",
    "skip_special_tokens=True: This parameter tells the tokenizer to skip any special tokens, such as [CLS] and [SEP], that were added to the input sequence by the tokenizer. Since these tokens are not part of the original input text, we want to exclude them from the final summary.\n",
    "\n",
    "clean_up_tokenization_spaces=True: This parameter tells the tokenizer to clean up any extra spaces or whitespace characters that may have been added during tokenization. This ensures that the final summary is a clean, readable text without any unnecessary whitespace.\n",
    "\n",
    "\n",
    "____\n",
    "To use another Clinical model that was fina tuned on T5 we can use the t5-base tokenizer from hugging face. But I was not able to get any of them. I thnik it depends if the model has it's own tokenizer or not as well.  \n",
    "\n",
    "Maybe fine tune ourselves?\n"
   ]
  },
  {
   "cell_type": "markdown",
   "id": "66ad8071",
   "metadata": {},
   "source": [
    "# Ok, I liked mine and not the pipeline better. But I need to worry about the size. So either we get what is smaller or I think we should split the columns in more!"
   ]
  },
  {
   "cell_type": "code",
   "execution_count": null,
   "id": "9330546e",
   "metadata": {},
   "outputs": [],
   "source": []
  }
 ],
 "metadata": {
  "kernelspec": {
   "display_name": "DataScience",
   "language": "python",
   "name": "datascience"
  },
  "language_info": {
   "codemirror_mode": {
    "name": "ipython",
    "version": 3
   },
   "file_extension": ".py",
   "mimetype": "text/x-python",
   "name": "python",
   "nbconvert_exporter": "python",
   "pygments_lexer": "ipython3",
   "version": "3.8.16"
  }
 },
 "nbformat": 4,
 "nbformat_minor": 5
}
