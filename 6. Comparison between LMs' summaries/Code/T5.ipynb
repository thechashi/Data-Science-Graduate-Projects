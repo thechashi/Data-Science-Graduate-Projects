{
 "cells": [
  {
   "cell_type": "code",
   "execution_count": 1,
   "id": "bd0a036f",
   "metadata": {},
   "outputs": [],
   "source": [
    "import pandas as pd\n",
    "from tqdm import tqdm\n",
    "tqdm.pandas(desc='My bar!')\n",
    "import numpy as np\n",
    "import time\n",
    "import matplotlib.pyplot as plt "
   ]
  },
  {
   "cell_type": "code",
   "execution_count": 116,
   "id": "9ccc9ace",
   "metadata": {
    "scrolled": true
   },
   "outputs": [
    {
     "name": "stdout",
     "output_type": "stream",
     "text": [
      "Index(['icustay_id', 'hr', 'category', 'description', 'text'], dtype='object')\n"
     ]
    }
   ],
   "source": [
    "df = pd.read_excel('clinical_notes_hourly.xlsx')\n",
    "print(df.columns)"
   ]
  },
  {
   "cell_type": "code",
   "execution_count": 117,
   "id": "6c5b1262",
   "metadata": {},
   "outputs": [],
   "source": [
    "df.dropna(subset=['category', 'description'], how='all', inplace=True)"
   ]
  },
  {
   "cell_type": "code",
   "execution_count": 118,
   "id": "a6d84301",
   "metadata": {},
   "outputs": [
    {
     "data": {
      "text/html": [
       "<div>\n",
       "<style scoped>\n",
       "    .dataframe tbody tr th:only-of-type {\n",
       "        vertical-align: middle;\n",
       "    }\n",
       "\n",
       "    .dataframe tbody tr th {\n",
       "        vertical-align: top;\n",
       "    }\n",
       "\n",
       "    .dataframe thead th {\n",
       "        text-align: right;\n",
       "    }\n",
       "</style>\n",
       "<table border=\"1\" class=\"dataframe\">\n",
       "  <thead>\n",
       "    <tr style=\"text-align: right;\">\n",
       "      <th></th>\n",
       "      <th>icustay_id</th>\n",
       "      <th>hr</th>\n",
       "      <th>category</th>\n",
       "      <th>description</th>\n",
       "      <th>text</th>\n",
       "    </tr>\n",
       "  </thead>\n",
       "  <tbody>\n",
       "    <tr>\n",
       "      <th>1</th>\n",
       "      <td>200039</td>\n",
       "      <td>2</td>\n",
       "      <td>Nursing/other</td>\n",
       "      <td>Report</td>\n",
       "      <td>CCU NSG ADMIT NOTE-NSICU BORDER.\\n69 YO [**Hos...</td>\n",
       "    </tr>\n",
       "    <tr>\n",
       "      <th>11</th>\n",
       "      <td>200039</td>\n",
       "      <td>12</td>\n",
       "      <td>Radiology</td>\n",
       "      <td>CT HEAD W/O CONTRAST</td>\n",
       "      <td>[**2121-12-26**] 4:56 PM\\n CT HEAD W/O CONTRAS...</td>\n",
       "    </tr>\n",
       "    <tr>\n",
       "      <th>13</th>\n",
       "      <td>200039</td>\n",
       "      <td>14</td>\n",
       "      <td>Nursing/other</td>\n",
       "      <td>Report</td>\n",
       "      <td>npn ccu\\nn-fc's, mae's, slow to respond but do...</td>\n",
       "    </tr>\n",
       "    <tr>\n",
       "      <th>40</th>\n",
       "      <td>200052</td>\n",
       "      <td>17</td>\n",
       "      <td>Nursing/other</td>\n",
       "      <td>Report</td>\n",
       "      <td>NURSING NOTE (1900-0700)\\n\\nMrs. [**Known last...</td>\n",
       "    </tr>\n",
       "    <tr>\n",
       "      <th>43</th>\n",
       "      <td>200052</td>\n",
       "      <td>20</td>\n",
       "      <td>Radiology</td>\n",
       "      <td>CT HEAD W/O CONTRAST</td>\n",
       "      <td>[**2193-9-19**] 8:41 AM\\n CT HEAD W/O CONTRAST...</td>\n",
       "    </tr>\n",
       "    <tr>\n",
       "      <th>53</th>\n",
       "      <td>200072</td>\n",
       "      <td>6</td>\n",
       "      <td>Nursing</td>\n",
       "      <td>Nursing Progress Note</td>\n",
       "      <td>Intracerebral hemorrhage (ICH)\\n   Assessment:...</td>\n",
       "    </tr>\n",
       "    <tr>\n",
       "      <th>54</th>\n",
       "      <td>200072</td>\n",
       "      <td>6</td>\n",
       "      <td>Nursing</td>\n",
       "      <td>Nursing Progress Note</td>\n",
       "      <td>Intracerebral hemorrhage (ICH)\\n   Assessment:...</td>\n",
       "    </tr>\n",
       "    <tr>\n",
       "      <th>55</th>\n",
       "      <td>200072</td>\n",
       "      <td>6</td>\n",
       "      <td>Nursing</td>\n",
       "      <td>Nursing Progress Note</td>\n",
       "      <td>Intracerebral hemorrhage (ICH)\\n   Assessment:...</td>\n",
       "    </tr>\n",
       "    <tr>\n",
       "      <th>56</th>\n",
       "      <td>200072</td>\n",
       "      <td>6</td>\n",
       "      <td>Radiology</td>\n",
       "      <td>CT HEAD W/O CONTRAST</td>\n",
       "      <td>[**2106-3-4**] 3:26 AM\\n CT HEAD W/O CONTRAST ...</td>\n",
       "    </tr>\n",
       "    <tr>\n",
       "      <th>57</th>\n",
       "      <td>200072</td>\n",
       "      <td>7</td>\n",
       "      <td>Physician</td>\n",
       "      <td>Intensivist Note</td>\n",
       "      <td>SICU\\n   HPI:\\n   55M with no PMHx who reports...</td>\n",
       "    </tr>\n",
       "    <tr>\n",
       "      <th>58</th>\n",
       "      <td>200072</td>\n",
       "      <td>7</td>\n",
       "      <td>Physician</td>\n",
       "      <td>Intensivist Note</td>\n",
       "      <td>SICU\\n   HPI:\\n   55M with no PMHx who reports...</td>\n",
       "    </tr>\n",
       "    <tr>\n",
       "      <th>59</th>\n",
       "      <td>200072</td>\n",
       "      <td>8</td>\n",
       "      <td>Radiology</td>\n",
       "      <td>MR HEAD W &amp; W/O CONTRAST</td>\n",
       "      <td>[**2106-3-4**] 5:26 AM\\n MR HEAD W &amp; W/O CONTR...</td>\n",
       "    </tr>\n",
       "    <tr>\n",
       "      <th>60</th>\n",
       "      <td>200072</td>\n",
       "      <td>8</td>\n",
       "      <td>Radiology</td>\n",
       "      <td>MR HEAD W &amp; W/O CONTRAST</td>\n",
       "      <td>[**Last Name (LF) 477**],[**First Name3 (LF) 4...</td>\n",
       "    </tr>\n",
       "    <tr>\n",
       "      <th>67</th>\n",
       "      <td>200072</td>\n",
       "      <td>15</td>\n",
       "      <td>Physician</td>\n",
       "      <td>Intensivist Note</td>\n",
       "      <td>CVICU\\n   HPI:\\n   HD23\\n   [**3-25**] POD 1\\n...</td>\n",
       "    </tr>\n",
       "    <tr>\n",
       "      <th>68</th>\n",
       "      <td>200072</td>\n",
       "      <td>15</td>\n",
       "      <td>Physician</td>\n",
       "      <td>Intensivist Note</td>\n",
       "      <td>CVICU\\n   HPI:\\n   HD23\\n   [**3-25**] POD 1\\n...</td>\n",
       "    </tr>\n",
       "    <tr>\n",
       "      <th>69</th>\n",
       "      <td>200072</td>\n",
       "      <td>15</td>\n",
       "      <td>Nursing</td>\n",
       "      <td>Nursing Progress Note</td>\n",
       "      <td>Coronary artery bypass graft (CABG)\\n   Assess...</td>\n",
       "    </tr>\n",
       "    <tr>\n",
       "      <th>72</th>\n",
       "      <td>200072</td>\n",
       "      <td>18</td>\n",
       "      <td>Nursing</td>\n",
       "      <td>Nursing Transfer Note</td>\n",
       "      <td>55M with no PMHx who reports 10 days of band l...</td>\n",
       "    </tr>\n",
       "    <tr>\n",
       "      <th>73</th>\n",
       "      <td>200072</td>\n",
       "      <td>19</td>\n",
       "      <td>Physician</td>\n",
       "      <td>ICU Note - CVI</td>\n",
       "      <td>CVICU\\n   HPI:\\n   [**3-25**] POD 1\\n   55M s/...</td>\n",
       "    </tr>\n",
       "    <tr>\n",
       "      <th>74</th>\n",
       "      <td>200072</td>\n",
       "      <td>19</td>\n",
       "      <td>Physician</td>\n",
       "      <td>ICU Note - CVI</td>\n",
       "      <td>CVICU\\n   HPI:\\n   [**3-25**] POD 1\\n   55M s/...</td>\n",
       "    </tr>\n",
       "    <tr>\n",
       "      <th>77</th>\n",
       "      <td>200072</td>\n",
       "      <td>22</td>\n",
       "      <td>Radiology</td>\n",
       "      <td>CHEST (PORTABLE AP)</td>\n",
       "      <td>[**2106-3-25**] 1:18 PM\\n CHEST (PORTABLE AP) ...</td>\n",
       "    </tr>\n",
       "  </tbody>\n",
       "</table>\n",
       "</div>"
      ],
      "text/plain": [
       "    icustay_id  hr       category               description  \\\n",
       "1       200039   2  Nursing/other                    Report   \n",
       "11      200039  12      Radiology      CT HEAD W/O CONTRAST   \n",
       "13      200039  14  Nursing/other                    Report   \n",
       "40      200052  17  Nursing/other                    Report   \n",
       "43      200052  20      Radiology      CT HEAD W/O CONTRAST   \n",
       "53      200072   6        Nursing     Nursing Progress Note   \n",
       "54      200072   6        Nursing     Nursing Progress Note   \n",
       "55      200072   6        Nursing     Nursing Progress Note   \n",
       "56      200072   6      Radiology      CT HEAD W/O CONTRAST   \n",
       "57      200072   7      Physician          Intensivist Note   \n",
       "58      200072   7      Physician          Intensivist Note   \n",
       "59      200072   8      Radiology  MR HEAD W & W/O CONTRAST   \n",
       "60      200072   8      Radiology  MR HEAD W & W/O CONTRAST   \n",
       "67      200072  15      Physician          Intensivist Note   \n",
       "68      200072  15      Physician          Intensivist Note   \n",
       "69      200072  15        Nursing     Nursing Progress Note   \n",
       "72      200072  18        Nursing     Nursing Transfer Note   \n",
       "73      200072  19      Physician            ICU Note - CVI   \n",
       "74      200072  19      Physician            ICU Note - CVI   \n",
       "77      200072  22      Radiology       CHEST (PORTABLE AP)   \n",
       "\n",
       "                                                 text  \n",
       "1   CCU NSG ADMIT NOTE-NSICU BORDER.\\n69 YO [**Hos...  \n",
       "11  [**2121-12-26**] 4:56 PM\\n CT HEAD W/O CONTRAS...  \n",
       "13  npn ccu\\nn-fc's, mae's, slow to respond but do...  \n",
       "40  NURSING NOTE (1900-0700)\\n\\nMrs. [**Known last...  \n",
       "43  [**2193-9-19**] 8:41 AM\\n CT HEAD W/O CONTRAST...  \n",
       "53  Intracerebral hemorrhage (ICH)\\n   Assessment:...  \n",
       "54  Intracerebral hemorrhage (ICH)\\n   Assessment:...  \n",
       "55  Intracerebral hemorrhage (ICH)\\n   Assessment:...  \n",
       "56  [**2106-3-4**] 3:26 AM\\n CT HEAD W/O CONTRAST ...  \n",
       "57  SICU\\n   HPI:\\n   55M with no PMHx who reports...  \n",
       "58  SICU\\n   HPI:\\n   55M with no PMHx who reports...  \n",
       "59  [**2106-3-4**] 5:26 AM\\n MR HEAD W & W/O CONTR...  \n",
       "60  [**Last Name (LF) 477**],[**First Name3 (LF) 4...  \n",
       "67  CVICU\\n   HPI:\\n   HD23\\n   [**3-25**] POD 1\\n...  \n",
       "68  CVICU\\n   HPI:\\n   HD23\\n   [**3-25**] POD 1\\n...  \n",
       "69  Coronary artery bypass graft (CABG)\\n   Assess...  \n",
       "72  55M with no PMHx who reports 10 days of band l...  \n",
       "73  CVICU\\n   HPI:\\n   [**3-25**] POD 1\\n   55M s/...  \n",
       "74  CVICU\\n   HPI:\\n   [**3-25**] POD 1\\n   55M s/...  \n",
       "77  [**2106-3-25**] 1:18 PM\\n CHEST (PORTABLE AP) ...  "
      ]
     },
     "execution_count": 118,
     "metadata": {},
     "output_type": "execute_result"
    }
   ],
   "source": [
    "df.head(20)"
   ]
  },
  {
   "cell_type": "code",
   "execution_count": 119,
   "id": "8ade40cf",
   "metadata": {},
   "outputs": [],
   "source": [
    "# 'text' column is an object but not all strings\n",
    "df['text'] = df['text'].astype(str)"
   ]
  },
  {
   "cell_type": "markdown",
   "id": "013f1b75",
   "metadata": {},
   "source": [
    "# Objective is to summarize the reports, extracting the important information"
   ]
  },
  {
   "cell_type": "code",
   "execution_count": 120,
   "id": "026b855f",
   "metadata": {
    "scrolled": false
   },
   "outputs": [
    {
     "name": "stdout",
     "output_type": "stream",
     "text": [
      "[**2106-3-25**] 1:18 PM\n",
      " CHEST (PORTABLE AP)                                             Clip # [**Clip Number (Radiology) 53995**]\n",
      " Reason: eval for pneumothorax s/p chest tube removal\n",
      " Admitting Diagnosis: CEREBELLAR HEMORRHAGE\n",
      " ______________________________________________________________________________\n",
      " [**Hospital 2**] MEDICAL CONDITION:\n",
      "  55 year old man s/p CABG\n",
      " REASON FOR THIS EXAMINATION:\n",
      "  eval for pneumothorax s/p chest tube removal\n",
      " ______________________________________________________________________________\n",
      "                                 FINAL REPORT\n",
      " PORTABLE CHEST, [**2106-3-25**]\n",
      "\n",
      " COMPARISON:  [**2105-3-23**].\n",
      "\n",
      " INDICATION:  Chest tube removal.\n",
      "\n",
      " Various indwelling devices have been removed in the interval and a right\n",
      " internal jugular catheter has been placed within the superior vena cava.  No\n",
      " pneumothorax.  Cardiomediastinal contours are widened but unchanged in the\n",
      " post-operative setting.  A crescenteric lucency is present adjacent to the\n",
      " aortic knob and may represent an area of normally aerated lung adjacent to\n",
      " linear left suprahilar atelectasis.  Localized pneumomediastinum is considered\n",
      " less likely.  Worsening bibasilar atelectasis and new small left pleural\n",
      " effusion are present as well as new moderate gastric distention.\n",
      "\n",
      "\n",
      "\n"
     ]
    }
   ],
   "source": [
    "report = df.loc[77, 'text'] #77\n",
    "print(report)"
   ]
  },
  {
   "cell_type": "code",
   "execution_count": 121,
   "id": "9cdab357",
   "metadata": {},
   "outputs": [
    {
     "data": {
      "text/plain": [
       "142"
      ]
     },
     "execution_count": 121,
     "metadata": {},
     "output_type": "execute_result"
    }
   ],
   "source": [
    "len(report.split())"
   ]
  },
  {
   "cell_type": "code",
   "execution_count": 122,
   "id": "036f82e4",
   "metadata": {},
   "outputs": [
    {
     "data": {
      "text/html": [
       "<div>\n",
       "<style scoped>\n",
       "    .dataframe tbody tr th:only-of-type {\n",
       "        vertical-align: middle;\n",
       "    }\n",
       "\n",
       "    .dataframe tbody tr th {\n",
       "        vertical-align: top;\n",
       "    }\n",
       "\n",
       "    .dataframe thead th {\n",
       "        text-align: right;\n",
       "    }\n",
       "</style>\n",
       "<table border=\"1\" class=\"dataframe\">\n",
       "  <thead>\n",
       "    <tr style=\"text-align: right;\">\n",
       "      <th></th>\n",
       "      <th>icustay_id</th>\n",
       "      <th>hr</th>\n",
       "      <th>category</th>\n",
       "      <th>description</th>\n",
       "      <th>text</th>\n",
       "    </tr>\n",
       "  </thead>\n",
       "  <tbody>\n",
       "    <tr>\n",
       "      <th>11</th>\n",
       "      <td>200039</td>\n",
       "      <td>12</td>\n",
       "      <td>Radiology</td>\n",
       "      <td>CT HEAD W/O CONTRAST</td>\n",
       "      <td>[**2121-12-26**] 4:56 PM\\n CT HEAD W/O CONTRAS...</td>\n",
       "    </tr>\n",
       "    <tr>\n",
       "      <th>43</th>\n",
       "      <td>200052</td>\n",
       "      <td>20</td>\n",
       "      <td>Radiology</td>\n",
       "      <td>CT HEAD W/O CONTRAST</td>\n",
       "      <td>[**2193-9-19**] 8:41 AM\\n CT HEAD W/O CONTRAST...</td>\n",
       "    </tr>\n",
       "    <tr>\n",
       "      <th>56</th>\n",
       "      <td>200072</td>\n",
       "      <td>6</td>\n",
       "      <td>Radiology</td>\n",
       "      <td>CT HEAD W/O CONTRAST</td>\n",
       "      <td>[**2106-3-4**] 3:26 AM\\n CT HEAD W/O CONTRAST ...</td>\n",
       "    </tr>\n",
       "    <tr>\n",
       "      <th>59</th>\n",
       "      <td>200072</td>\n",
       "      <td>8</td>\n",
       "      <td>Radiology</td>\n",
       "      <td>MR HEAD W &amp; W/O CONTRAST</td>\n",
       "      <td>[**2106-3-4**] 5:26 AM\\n MR HEAD W &amp; W/O CONTR...</td>\n",
       "    </tr>\n",
       "    <tr>\n",
       "      <th>60</th>\n",
       "      <td>200072</td>\n",
       "      <td>8</td>\n",
       "      <td>Radiology</td>\n",
       "      <td>MR HEAD W &amp; W/O CONTRAST</td>\n",
       "      <td>[**Last Name (LF) 477**],[**First Name3 (LF) 4...</td>\n",
       "    </tr>\n",
       "  </tbody>\n",
       "</table>\n",
       "</div>"
      ],
      "text/plain": [
       "    icustay_id  hr   category               description  \\\n",
       "11      200039  12  Radiology      CT HEAD W/O CONTRAST   \n",
       "43      200052  20  Radiology      CT HEAD W/O CONTRAST   \n",
       "56      200072   6  Radiology      CT HEAD W/O CONTRAST   \n",
       "59      200072   8  Radiology  MR HEAD W & W/O CONTRAST   \n",
       "60      200072   8  Radiology  MR HEAD W & W/O CONTRAST   \n",
       "\n",
       "                                                 text  \n",
       "11  [**2121-12-26**] 4:56 PM\\n CT HEAD W/O CONTRAS...  \n",
       "43  [**2193-9-19**] 8:41 AM\\n CT HEAD W/O CONTRAST...  \n",
       "56  [**2106-3-4**] 3:26 AM\\n CT HEAD W/O CONTRAST ...  \n",
       "59  [**2106-3-4**] 5:26 AM\\n MR HEAD W & W/O CONTR...  \n",
       "60  [**Last Name (LF) 477**],[**First Name3 (LF) 4...  "
      ]
     },
     "execution_count": 122,
     "metadata": {},
     "output_type": "execute_result"
    }
   ],
   "source": [
    "# dropping all rows that are not 'Radiology'\n",
    "df.drop(df[df['category'] != 'Radiology'].index, inplace = True)\n",
    "df.head()"
   ]
  },
  {
   "cell_type": "code",
   "execution_count": 123,
   "id": "af17df38",
   "metadata": {},
   "outputs": [
    {
     "data": {
      "text/plain": [
       "(4882, 5)"
      ]
     },
     "execution_count": 123,
     "metadata": {},
     "output_type": "execute_result"
    }
   ],
   "source": [
    "df.shape"
   ]
  },
  {
   "cell_type": "markdown",
   "id": "6d99516d",
   "metadata": {},
   "source": [
    "# Cleaning step 1 - removing non-informative text"
   ]
  },
  {
   "cell_type": "code",
   "execution_count": 125,
   "id": "d1f1fcff",
   "metadata": {},
   "outputs": [],
   "source": [
    "import re\n",
    "\n",
    "def custom_cleaner(text):\n",
    "  text = re.sub('\\s+', ' ', text).strip()\n",
    "  text = re.sub(r'\\n\\.', ' ', text)\n",
    "  # regular expression to match all substrings between square brackets\n",
    "  pattern = r\"\\[.*?\\]\"\n",
    "    \n",
    "  # substitute all matches with an empty string\n",
    "  text = re.sub(pattern, \"\", text)\n",
    "\n",
    "  # Remove time stamps\n",
    "  text = re.sub(r'\\d+:\\d+\\s*(?:AM|PM)', '', text)\n",
    "\n",
    "  # Remove all characters except alphabets, full stop, and colon\n",
    "  text = re.sub(r'[^a-zA-Z0-9.:\\s]', '', text)\n",
    "\n",
    "  colon_index = text.find(':')\n",
    "  if colon_index != -1:\n",
    "      text = text[0:colon_index+1] + text[colon_index+1:].split(':', 1)[1]\n",
    "\n",
    "  words = text.split()\n",
    "  output = \"\"\n",
    "  colon_found = False\n",
    "\n",
    "  for word in words:\n",
    "      if \":\" in word:\n",
    "          output += word + \" \"\n",
    "          colon_found = True\n",
    "      elif colon_found:\n",
    "          output += word + \" \"\n",
    "  if output != \"\":\n",
    "    text = output\n",
    "  return text\n"
   ]
  },
  {
   "cell_type": "code",
   "execution_count": 126,
   "id": "24d1630e",
   "metadata": {},
   "outputs": [],
   "source": [
    "report_clean2 = custom_cleaner(report)"
   ]
  },
  {
   "cell_type": "code",
   "execution_count": 127,
   "id": "3806f02b",
   "metadata": {},
   "outputs": [
    {
     "data": {
      "text/plain": [
       "116"
      ]
     },
     "execution_count": 127,
     "metadata": {},
     "output_type": "execute_result"
    }
   ],
   "source": [
    "len(report_clean2.split())"
   ]
  },
  {
   "cell_type": "code",
   "execution_count": 128,
   "id": "3028413e",
   "metadata": {},
   "outputs": [
    {
     "data": {
      "text/plain": [
       "'Reason: CEREBELLAR HEMORRHAGE MEDICAL CONDITION: 55 year old man sp CABG REASON FOR THIS EXAMINATION: eval for pneumothorax sp chest tube removal FINAL REPORT PORTABLE CHEST COMPARISON: . INDICATION: Chest tube removal. Various indwelling devices have been removed in the interval and a right internal jugular catheter has been placed within the superior vena cava. No pneumothorax. Cardiomediastinal contours are widened but unchanged in the postoperative setting. A crescenteric lucency is present adjacent to the aortic knob and may represent an area of normally aerated lung adjacent to linear left suprahilar atelectasis. Localized pneumomediastinum is considered less likely. Worsening bibasilar atelectasis and new small left pleural effusion are present as well as new moderate gastric distention. '"
      ]
     },
     "execution_count": 128,
     "metadata": {},
     "output_type": "execute_result"
    }
   ],
   "source": [
    "report_clean2"
   ]
  },
  {
   "cell_type": "code",
   "execution_count": 129,
   "id": "1eeeeaab",
   "metadata": {},
   "outputs": [
    {
     "name": "stdout",
     "output_type": "stream",
     "text": [
      "Index(['Unnamed: 0', 'icustay_id', 'hr', 'category', 'description', 'text',\n",
      "       'mortality', 'cleaned_text'],\n",
      "      dtype='object')\n"
     ]
    }
   ],
   "source": [
    "df2 = pd.read_csv('cleaned_radiology.csv')\n",
    "print(df2.columns)"
   ]
  },
  {
   "cell_type": "code",
   "execution_count": 132,
   "id": "382f86b4",
   "metadata": {
    "scrolled": false
   },
   "outputs": [
    {
     "name": "stdout",
     "output_type": "stream",
     "text": [
      "[**2190-11-19**] 12:29 PM\n",
      " CT CHEST W/O CONTRAST; CT ABDOMEN W/O CONTRAST                  Clip # [**Clip Number (Radiology) 71847**]\n",
      " CT PELVIS W/O CONTRAST\n",
      " Reason: eval for evidence of traumatic injury\n",
      " Admitting Diagnosis: INTRACRANIAL HEMORRHAGE\n",
      " ______________________________________________________________________________\n",
      " [**Hospital 2**] MEDICAL CONDITION:\n",
      "  63 year old woman with fall, on coumadin, intubated\n",
      " REASON FOR THIS EXAMINATION:\n",
      "  eval for evidence of traumatic injury\n",
      " No contraindications for IV contrast\n",
      " ______________________________________________________________________________\n",
      "                                 FINAL REPORT\n",
      " INDICATION:  Fall while on Coumadin.\n",
      "\n",
      " COMPARISON:  None available.\n",
      "\n",
      " TECHNIQUE:  Axial CT images were acquired through the torso in the absence of\n",
      " intravenous contrast.  Coronal and sagittal reformatted images were also\n",
      " reviewed.\n",
      "\n",
      " CT CHEST WITHOUT CONTRAST:  The patient is intubated and the endotracheal tube\n",
      " terminates at the ostium of the right main stem bronchus and needs to be\n",
      " retracted.  The lungs are notable for diffuse ground-glass density as well as\n",
      " intralobular septal thickening and small bilateral pleural effusions, overall\n",
      " suggestive of volume overload.  In addition, note is made of bibasilar\n",
      " consolidations, possibly aspiration in an intubated patient though bilateral\n",
      " pneumonia would also be a consideration, and these findings might be\n",
      " distinguished by the clinical history.  The heart is slightly enlarged and\n",
      " note is made of a coronary arterial stent.  Numerous nodes are scattered\n",
      " through the mediastinum and axillae, none of which are frankly enlarged by CT\n",
      " size criteria.  The partially visualized thyroid is notable for multiple\n",
      " bilateral nodules throughout.\n",
      "\n",
      " CT ABDOMEN WITHOUT CONTRAST:  A nasogastric tube terminates just distal to the\n",
      " level of the gastroesophageal junction and must be advanced.  Otherwise, the\n",
      " stomach, duodenal, spleen, pancreas, left adrenal gland, gallbladder, and\n",
      " liver are unremarkable.  The right adrenal gland contains a 29 x 17 mm area of\n",
      " nodular thickening consistent with a right adrenal adenoma.  The left kidney\n",
      " contains two exophytic isodense nodules, which are not further characterized\n",
      " on this study, absent intravenous contrast.  Regional vascular structure\n",
      " reveals atherosclerotic calcification of the abdominal aorta, in the absence\n",
      " of aneurysmal dilation.  There is no free gas or fluid in the abdomen.\n",
      " Multiple nodes are scattered through the retroperitoneum and mesentery, none\n",
      " of which are enlarged by CT size criteria.  There is no evidence of\n",
      " retroperitoneal hematoma.\n",
      "\n",
      " CT PELVIS WITHOUT CONTRAST:  The urinary bladder contains a Foley catheter and\n",
      " a small amount of gas.  The uterus and adnexa are not visualized.  The rectum\n",
      " and colon reveal extensive diverticulosis, in the absence of diverticulitis.\n",
      " There is no free gas or fluid in the pelvis.  There is no pelvic side wall or\n",
      " inguinal lymphadenopathy.  The hips are notable for subchondral cysts\n",
      " suggestive of arthritic changes present bilaterally.  There are no suspicious\n",
      "                                                             (Over)\n",
      "\n",
      " [**2190-11-19**] 12:29 PM\n",
      " CT CHEST W/O CONTRAST; CT ABDOMEN W/O CONTRAST                  Clip # [**Clip Number (Radiology) 71847**]\n",
      " CT PELVIS W/O CONTRAST\n",
      " Reason: eval for evidence of traumatic injury\n",
      " Admitting Diagnosis: INTRACRANIAL HEMORRHAGE\n",
      " ______________________________________________________________________________\n",
      "                                 FINAL REPORT\n",
      " (Cont)\n",
      " sclerotic or lytic osseous lesions.\n",
      "\n",
      " IMPRESSION:\n",
      " 1.  Endotracheal tube and nasogastric tubes in position, the endotracheal tube\n",
      " terminates at the origin of the right main stem bronchus and should be\n",
      " retracted and the nasogastric tube terminates at the gastroesophageal junction\n",
      " and should be advanced.\n",
      " 2.  Small bilateral pleural effusions with diffuse ground-glass opacities and\n",
      " interlobular septal thickening, overall suggestive of volume overload.\n",
      " 3.  Bilateral pulmonary consolidations, possibly aspirational in this\n",
      " intubated patient.\n",
      " 4.  Markedly heterogeneous thyroid.  Nonurgent correlation to a thyroid\n",
      " son[**Name (NI) **] is recommended.\n",
      " 5.  Right adrenal adenoma.\n",
      " 6.  Inadequately characterized left renal nodular densities.  Possibly\n",
      " hyperdense cysts though these might be better evaluated with ultrasound or MRI\n",
      " if clinically indicated.\n",
      " 7.  Diverticulosis.\n",
      "\n",
      " Findings were discussed over the telephone with [**Name6 (MD) 11804**] [**Name8 (MD) 11805**], MD [**First Name (Titles) 1882**]\n",
      "[**Last Name (Titles) 71848**]y at ~15:00.\n",
      "\n",
      "\n"
     ]
    }
   ],
   "source": [
    "report2 = df2.loc[101, 'text']\n",
    "print(report2)"
   ]
  },
  {
   "cell_type": "code",
   "execution_count": 150,
   "id": "51386a81",
   "metadata": {
    "scrolled": true
   },
   "outputs": [
    {
     "name": "stdout",
     "output_type": "stream",
     "text": [
      "63 year old woman with fall while on coumadin intubated. eval for evidence of traumatic injury no contraindications for IV contrast. lungs notable for diffuse groundglass density as well as intralobular septal thickening.\n"
     ]
    }
   ],
   "source": [
    "report2_T5 = df3.loc[101, 'summary_T5']\n",
    "print(report2_T5)"
   ]
  },
  {
   "cell_type": "code",
   "execution_count": 153,
   "id": "b4488cad",
   "metadata": {},
   "outputs": [],
   "source": [
    "s = \"Reason: INTRACRANIAL HEMORRHAGE MEDICAL CONDITION: 63 year old woman with fall on coumadin intubated REASON FOR THIS EXAMINATION: eval for evidence of traumatic injury No contraindications for IV contrast FINAL REPORT INDICATION: Fall while on Coumadin. COMPARISON: None available. TECHNIQUE: Axial CT images were acquired through the torso in the absence of intravenous contrast. Coronal and sagittal reformatted images were also reviewed. CT CHEST WITHOUT CONTRAST: The patient is intubated and the endotracheal tube terminates at the ostium of the right main stem bronchus and needs to be retracted. The lungs are notable for diffuse groundglass density as well as intralobular septal thickening\"\n"
   ]
  },
  {
   "cell_type": "code",
   "execution_count": 154,
   "id": "4cd4795b",
   "metadata": {},
   "outputs": [
    {
     "data": {
      "text/plain": [
       "103"
      ]
     },
     "execution_count": 154,
     "metadata": {},
     "output_type": "execute_result"
    }
   ],
   "source": [
    "len(s.split())"
   ]
  },
  {
   "cell_type": "code",
   "execution_count": 134,
   "id": "baf49a18",
   "metadata": {},
   "outputs": [],
   "source": [
    "report_clean = custom_cleaner(report2)"
   ]
  },
  {
   "cell_type": "code",
   "execution_count": 135,
   "id": "84d85300",
   "metadata": {
    "scrolled": false
   },
   "outputs": [
    {
     "data": {
      "text/plain": [
       "'Reason: INTRACRANIAL HEMORRHAGE MEDICAL CONDITION: 63 year old woman with fall on coumadin intubated REASON FOR THIS EXAMINATION: eval for evidence of traumatic injury No contraindications for IV contrast FINAL REPORT INDICATION: Fall while on Coumadin. COMPARISON: None available. TECHNIQUE: Axial CT images were acquired through the torso in the absence of intravenous contrast. Coronal and sagittal reformatted images were also reviewed. CT CHEST WITHOUT CONTRAST: The patient is intubated and the endotracheal tube terminates at the ostium of the right main stem bronchus and needs to be retracted. The lungs are notable for diffuse groundglass density as well as intralobular septal thickening and small bilateral pleural effusions overall suggestive of volume overload. In addition note is made of bibasilar consolidations possibly aspiration in an intubated patient though bilateral pneumonia would also be a consideration and these findings might be distinguished by the clinical history. The heart is slightly enlarged and note is made of a coronary arterial stent. Numerous nodes are scattered through the mediastinum and axillae none of which are frankly enlarged by CT size criteria. The partially visualized thyroid is notable for multiple bilateral nodules throughout. CT ABDOMEN WITHOUT CONTRAST: A nasogastric tube terminates just distal to the level of the gastroesophageal junction and must be advanced. Otherwise the stomach duodenal spleen pancreas left adrenal gland gallbladder and liver are unremarkable. The right adrenal gland contains a 29 x 17 mm area of nodular thickening consistent with a right adrenal adenoma. The left kidney contains two exophytic isodense nodules which are not further characterized on this study absent intravenous contrast. Regional vascular structure reveals atherosclerotic calcification of the abdominal aorta in the absence of aneurysmal dilation. There is no free gas or fluid in the abdomen. Multiple nodes are scattered through the retroperitoneum and mesentery none of which are enlarged by CT size criteria. There is no evidence of retroperitoneal hematoma. CT PELVIS WITHOUT CONTRAST: The urinary bladder contains a Foley catheter and a small amount of gas. The uterus and adnexa are not visualized. The rectum and colon reveal extensive diverticulosis in the absence of diverticulitis. There is no free gas or fluid in the pelvis. There is no pelvic side wall or inguinal lymphadenopathy. The hips are notable for subchondral cysts suggestive of arthritic changes present bilaterally. There are no suspicious Over CT CHEST WO CONTRAST CT ABDOMEN WO CONTRAST Clip CT PELVIS WO CONTRAST Reason: eval for evidence of traumatic injury Admitting Diagnosis: INTRACRANIAL HEMORRHAGE FINAL REPORT Cont sclerotic or lytic osseous lesions. IMPRESSION: 1. Endotracheal tube and nasogastric tubes in position the endotracheal tube terminates at the origin of the right main stem bronchus and should be retracted and the nasogastric tube terminates at the gastroesophageal junction and should be advanced. 2. Small bilateral pleural effusions with diffuse groundglass opacities and interlobular septal thickening overall suggestive of volume overload. 3. Bilateral pulmonary consolidations possibly aspirational in this intubated patient. 4. Markedly heterogeneous thyroid. Nonurgent correlation to a thyroid son is recommended. 5. Right adrenal adenoma. 6. Inadequately characterized left renal nodular densities. Possibly hyperdense cysts though these might be better evaluated with ultrasound or MRI if clinically indicated. 7. Diverticulosis. Findings were discussed over the telephone with MD y at 15:00. '"
      ]
     },
     "execution_count": 135,
     "metadata": {},
     "output_type": "execute_result"
    }
   ],
   "source": [
    "report_clean"
   ]
  },
  {
   "cell_type": "code",
   "execution_count": 64,
   "id": "0be79978",
   "metadata": {
    "scrolled": true
   },
   "outputs": [
    {
     "name": "stdout",
     "output_type": "stream",
     "text": [
      "Reason: CEREBELLAR HEMORRHAGE MEDICAL CONDITION: 55 year old man sp CABG REASON FOR THIS EXAMINATION: eval for pneumothorax sp chest tube removal FINAL REPORT PORTABLE CHEST COMPARISON: . INDICATION: Chest tube removal. Various indwelling devices have been removed in the interval and a right internal jugular catheter has been placed within the superior vena cava. No pneumothorax. Cardiomediastinal contours are widened but unchanged in the postoperative setting. A crescenteric lucency is present adjacent to the aortic knob and may represent an area of normally aerated lung adjacent to linear left suprahilar atelectasis. Localized pneumomediastinum is considered less likely. Worsening bibasilar atelectasis and new small left pleural effusion are present as well as new moderate gastric distention. \n"
     ]
    }
   ],
   "source": [
    "print(report2)"
   ]
  },
  {
   "cell_type": "markdown",
   "id": "422524fa",
   "metadata": {},
   "source": [
    "# Running the T5-base model on all cells"
   ]
  },
  {
   "cell_type": "code",
   "execution_count": 2,
   "id": "c0d5948a",
   "metadata": {},
   "outputs": [
    {
     "name": "stderr",
     "output_type": "stream",
     "text": [
      "/opt/anaconda3/envs/DataScience/lib/python3.8/site-packages/tqdm/auto.py:21: TqdmWarning: IProgress not found. Please update jupyter and ipywidgets. See https://ipywidgets.readthedocs.io/en/stable/user_install.html\n",
      "  from .autonotebook import tqdm as notebook_tqdm\n"
     ]
    }
   ],
   "source": [
    "import transformers\n",
    "import torch\n",
    "\n",
    "# Load the T5 model\n",
    "model = transformers.T5ForConditionalGeneration.from_pretrained('t5-base')\n",
    "tokenizer = transformers.T5Tokenizer.from_pretrained('t5-base', model_max_length=512)\n"
   ]
  },
  {
   "cell_type": "code",
   "execution_count": null,
   "id": "282dce49",
   "metadata": {},
   "outputs": [],
   "source": []
  },
  {
   "cell_type": "code",
   "execution_count": 3,
   "id": "2111736b",
   "metadata": {},
   "outputs": [],
   "source": [
    "# Define the input data\n",
    "input_text2 = \"Reason: WEAKNESS MEDICAL CONDITION: 58 year old man with apml with shortness of breath. REASON FOR THIS EXAMINATION: assess for effusions infiltrate cause for hct drop dah FINAL REPORT INDICATION: 58yearold with APML and shortness of breath. Evaluate for effusions and infiltrates or cause for hematocrit drop. COMPARISON: CT of the chest . SINGLE AP UPRIGHT BEDSIDE CHEST RADIOGRAPH: Compared to the CT and chest radiograph from one day prior there has been significant interval improvement of the right upper lobe opacity which may have been due to aspiration given its marked improvement. There is a new right infrahilar opacity which may represent pneumonia or hemorrhage. There is perihilar haze and indistinctness of the vasculature consistent with mild pulmonary edema. The cardiomediastinal silhouette is normal. IMPRESSION: 1. Improved right upper lobe opacity with new right perihilar opacity. This new opacity may represent pneumonia or hemorrhage given the patients hematocrit drop. 2. Mild fluid overload.\"\n",
    "\n"
   ]
  },
  {
   "cell_type": "code",
   "execution_count": 5,
   "id": "c0d429da",
   "metadata": {},
   "outputs": [
    {
     "name": "stdout",
     "output_type": "stream",
     "text": [
      "Summary: 58 year old man with apml with shortness of breath. assess for effusions and infiltrates or cause for hematocrit drop. a new right infrahilar opacity may represent pneumonia or hemorrhage.\n"
     ]
    }
   ],
   "source": [
    "# Tokenize the input data\n",
    "input_ids = tokenizer.encode(\"summarize: \" +input_text2, max_length=512,truncation=True, padding='max_length', return_tensors='pt')\n",
    "\n",
    "# Generate the summary\n",
    "summary_ids = model.generate(input_ids, num_beams=4, max_length=500, early_stopping=False)\n",
    "summary = tokenizer.decode(summary_ids[0], skip_special_tokens=True)\n",
    "\n",
    "# Print the summary\n",
    "print(\"Summary:\", summary)"
   ]
  },
  {
   "cell_type": "code",
   "execution_count": 33,
   "id": "cad646b1",
   "metadata": {},
   "outputs": [],
   "source": [
    "def sumarizer(text):\n",
    "    # Tokenize the input data\n",
    "    input_ids = tokenizer.encode(\"summarize: \" +text, max_length=500,truncation=True, padding='max_length', return_tensors='pt')\n",
    "\n",
    "    # Generate the summary\n",
    "    summary_ids = model.generate(input_ids, num_beams=4, max_length=500, early_stopping=False)\n",
    "    summary = tokenizer.decode(summary_ids[0], skip_special_tokens=True)\n",
    "\n",
    "    # Print the summary\n",
    "    return summary\n"
   ]
  },
  {
   "cell_type": "code",
   "execution_count": 34,
   "id": "e96bf5cf",
   "metadata": {},
   "outputs": [],
   "source": [
    "tentative = sumarizer(df2.loc[5, 'cleaned_text'])"
   ]
  },
  {
   "cell_type": "code",
   "execution_count": 35,
   "id": "797be240",
   "metadata": {},
   "outputs": [
    {
     "data": {
      "text/plain": [
       "38"
      ]
     },
     "execution_count": 35,
     "metadata": {},
     "output_type": "execute_result"
    }
   ],
   "source": [
    "len(tentative.split())"
   ]
  },
  {
   "cell_type": "code",
   "execution_count": 37,
   "id": "066dffa5",
   "metadata": {
    "scrolled": true
   },
   "outputs": [
    {
     "name": "stderr",
     "output_type": "stream",
     "text": [
      "My bar!: 100%|███████████████████████████████████████████████████████████████████████████████████████████████████████████| 4882/4882 [8:47:18<00:00,  6.48s/it]\n"
     ]
    }
   ],
   "source": [
    "df2['summary_T5'] = df2['cleaned_text'].progress_apply(sumarizer)"
   ]
  },
  {
   "cell_type": "code",
   "execution_count": 38,
   "id": "24822485",
   "metadata": {
    "scrolled": true
   },
   "outputs": [
    {
     "data": {
      "text/html": [
       "<div>\n",
       "<style scoped>\n",
       "    .dataframe tbody tr th:only-of-type {\n",
       "        vertical-align: middle;\n",
       "    }\n",
       "\n",
       "    .dataframe tbody tr th {\n",
       "        vertical-align: top;\n",
       "    }\n",
       "\n",
       "    .dataframe thead th {\n",
       "        text-align: right;\n",
       "    }\n",
       "</style>\n",
       "<table border=\"1\" class=\"dataframe\">\n",
       "  <thead>\n",
       "    <tr style=\"text-align: right;\">\n",
       "      <th></th>\n",
       "      <th>Unnamed: 0</th>\n",
       "      <th>icustay_id</th>\n",
       "      <th>hr</th>\n",
       "      <th>category</th>\n",
       "      <th>description</th>\n",
       "      <th>text</th>\n",
       "      <th>mortality</th>\n",
       "      <th>cleaned_text</th>\n",
       "      <th>summary_T5</th>\n",
       "    </tr>\n",
       "  </thead>\n",
       "  <tbody>\n",
       "    <tr>\n",
       "      <th>0</th>\n",
       "      <td>0</td>\n",
       "      <td>200039</td>\n",
       "      <td>12</td>\n",
       "      <td>Radiology</td>\n",
       "      <td>CT HEAD W/O CONTRAST</td>\n",
       "      <td>[**2121-12-26**] 4:56 PM\\n CT HEAD W/O CONTRAS...</td>\n",
       "      <td>0</td>\n",
       "      <td>Reason: 69 year old woman sp decompressive sur...</td>\n",
       "      <td>69 year old woman sp decompressive surgery for...</td>\n",
       "    </tr>\n",
       "    <tr>\n",
       "      <th>1</th>\n",
       "      <td>1</td>\n",
       "      <td>200052</td>\n",
       "      <td>20</td>\n",
       "      <td>Radiology</td>\n",
       "      <td>CT HEAD W/O CONTRAST</td>\n",
       "      <td>[**2193-9-19**] 8:41 AM\\n CT HEAD W/O CONTRAST...</td>\n",
       "      <td>0</td>\n",
       "      <td>Reason: CEREBELLER HEMORRHAGE MEDICAL CONDITIO...</td>\n",
       "      <td>57 year old woman with cerebellar hemorrhage. ...</td>\n",
       "    </tr>\n",
       "    <tr>\n",
       "      <th>2</th>\n",
       "      <td>2</td>\n",
       "      <td>200072</td>\n",
       "      <td>6</td>\n",
       "      <td>Radiology</td>\n",
       "      <td>CT HEAD W/O CONTRAST</td>\n",
       "      <td>[**2106-3-4**] 3:26 AM\\n CT HEAD W/O CONTRAST ...</td>\n",
       "      <td>0</td>\n",
       "      <td>Reason: CEREBELLAR HEMORRHAGE MEDICAL CONDITIO...</td>\n",
       "      <td>MEDICAL CONDITION: 55 year old male with left ...</td>\n",
       "    </tr>\n",
       "    <tr>\n",
       "      <th>3</th>\n",
       "      <td>3</td>\n",
       "      <td>200072</td>\n",
       "      <td>8</td>\n",
       "      <td>Radiology</td>\n",
       "      <td>MR HEAD W &amp; W/O CONTRAST</td>\n",
       "      <td>[**2106-3-4**] 5:26 AM\\n MR HEAD W &amp; W/O CONTR...</td>\n",
       "      <td>0</td>\n",
       "      <td>Reason: CEREBELLAR HEMORRHAGE Contrast: MAGNEV...</td>\n",
       "      <td>a 55 year old man with acute onset diplopia an...</td>\n",
       "    </tr>\n",
       "    <tr>\n",
       "      <th>4</th>\n",
       "      <td>4</td>\n",
       "      <td>200072</td>\n",
       "      <td>8</td>\n",
       "      <td>Radiology</td>\n",
       "      <td>MR HEAD W &amp; W/O CONTRAST</td>\n",
       "      <td>[**Last Name (LF) 477**],[**First Name3 (LF) 4...</td>\n",
       "      <td>0</td>\n",
       "      <td>Reason: CEREBELLAR HEMORRHAGE Contrast: MAGNEV...</td>\n",
       "      <td>man with acute onset diplopia and imbalance hy...</td>\n",
       "    </tr>\n",
       "  </tbody>\n",
       "</table>\n",
       "</div>"
      ],
      "text/plain": [
       "   Unnamed: 0  icustay_id  hr   category               description  \\\n",
       "0           0      200039  12  Radiology      CT HEAD W/O CONTRAST   \n",
       "1           1      200052  20  Radiology      CT HEAD W/O CONTRAST   \n",
       "2           2      200072   6  Radiology      CT HEAD W/O CONTRAST   \n",
       "3           3      200072   8  Radiology  MR HEAD W & W/O CONTRAST   \n",
       "4           4      200072   8  Radiology  MR HEAD W & W/O CONTRAST   \n",
       "\n",
       "                                                text  mortality  \\\n",
       "0  [**2121-12-26**] 4:56 PM\\n CT HEAD W/O CONTRAS...          0   \n",
       "1  [**2193-9-19**] 8:41 AM\\n CT HEAD W/O CONTRAST...          0   \n",
       "2  [**2106-3-4**] 3:26 AM\\n CT HEAD W/O CONTRAST ...          0   \n",
       "3  [**2106-3-4**] 5:26 AM\\n MR HEAD W & W/O CONTR...          0   \n",
       "4  [**Last Name (LF) 477**],[**First Name3 (LF) 4...          0   \n",
       "\n",
       "                                        cleaned_text  \\\n",
       "0  Reason: 69 year old woman sp decompressive sur...   \n",
       "1  Reason: CEREBELLER HEMORRHAGE MEDICAL CONDITIO...   \n",
       "2  Reason: CEREBELLAR HEMORRHAGE MEDICAL CONDITIO...   \n",
       "3  Reason: CEREBELLAR HEMORRHAGE Contrast: MAGNEV...   \n",
       "4  Reason: CEREBELLAR HEMORRHAGE Contrast: MAGNEV...   \n",
       "\n",
       "                                          summary_T5  \n",
       "0  69 year old woman sp decompressive surgery for...  \n",
       "1  57 year old woman with cerebellar hemorrhage. ...  \n",
       "2  MEDICAL CONDITION: 55 year old male with left ...  \n",
       "3  a 55 year old man with acute onset diplopia an...  \n",
       "4  man with acute onset diplopia and imbalance hy...  "
      ]
     },
     "execution_count": 38,
     "metadata": {},
     "output_type": "execute_result"
    }
   ],
   "source": [
    "df2.head()"
   ]
  },
  {
   "cell_type": "code",
   "execution_count": 42,
   "id": "ade6350c",
   "metadata": {},
   "outputs": [
    {
     "data": {
      "text/html": [
       "<div>\n",
       "<style scoped>\n",
       "    .dataframe tbody tr th:only-of-type {\n",
       "        vertical-align: middle;\n",
       "    }\n",
       "\n",
       "    .dataframe tbody tr th {\n",
       "        vertical-align: top;\n",
       "    }\n",
       "\n",
       "    .dataframe thead th {\n",
       "        text-align: right;\n",
       "    }\n",
       "</style>\n",
       "<table border=\"1\" class=\"dataframe\">\n",
       "  <thead>\n",
       "    <tr style=\"text-align: right;\">\n",
       "      <th></th>\n",
       "      <th>Unnamed: 0</th>\n",
       "      <th>icustay_id</th>\n",
       "      <th>hr</th>\n",
       "      <th>category</th>\n",
       "      <th>description</th>\n",
       "      <th>text</th>\n",
       "      <th>mortality</th>\n",
       "      <th>cleaned_text</th>\n",
       "      <th>summary_T5</th>\n",
       "      <th>Number_Words</th>\n",
       "    </tr>\n",
       "  </thead>\n",
       "  <tbody>\n",
       "    <tr>\n",
       "      <th>0</th>\n",
       "      <td>0</td>\n",
       "      <td>200039</td>\n",
       "      <td>12</td>\n",
       "      <td>Radiology</td>\n",
       "      <td>CT HEAD W/O CONTRAST</td>\n",
       "      <td>[**2121-12-26**] 4:56 PM\\n CT HEAD W/O CONTRAS...</td>\n",
       "      <td>0</td>\n",
       "      <td>Reason: 69 year old woman sp decompressive sur...</td>\n",
       "      <td>69 year old woman sp decompressive surgery for...</td>\n",
       "      <td>184</td>\n",
       "    </tr>\n",
       "    <tr>\n",
       "      <th>1</th>\n",
       "      <td>1</td>\n",
       "      <td>200052</td>\n",
       "      <td>20</td>\n",
       "      <td>Radiology</td>\n",
       "      <td>CT HEAD W/O CONTRAST</td>\n",
       "      <td>[**2193-9-19**] 8:41 AM\\n CT HEAD W/O CONTRAST...</td>\n",
       "      <td>0</td>\n",
       "      <td>Reason: CEREBELLER HEMORRHAGE MEDICAL CONDITIO...</td>\n",
       "      <td>57 year old woman with cerebellar hemorrhage. ...</td>\n",
       "      <td>141</td>\n",
       "    </tr>\n",
       "    <tr>\n",
       "      <th>2</th>\n",
       "      <td>2</td>\n",
       "      <td>200072</td>\n",
       "      <td>6</td>\n",
       "      <td>Radiology</td>\n",
       "      <td>CT HEAD W/O CONTRAST</td>\n",
       "      <td>[**2106-3-4**] 3:26 AM\\n CT HEAD W/O CONTRAST ...</td>\n",
       "      <td>0</td>\n",
       "      <td>Reason: CEREBELLAR HEMORRHAGE MEDICAL CONDITIO...</td>\n",
       "      <td>MEDICAL CONDITION: 55 year old male with left ...</td>\n",
       "      <td>202</td>\n",
       "    </tr>\n",
       "    <tr>\n",
       "      <th>3</th>\n",
       "      <td>3</td>\n",
       "      <td>200072</td>\n",
       "      <td>8</td>\n",
       "      <td>Radiology</td>\n",
       "      <td>MR HEAD W &amp; W/O CONTRAST</td>\n",
       "      <td>[**2106-3-4**] 5:26 AM\\n MR HEAD W &amp; W/O CONTR...</td>\n",
       "      <td>0</td>\n",
       "      <td>Reason: CEREBELLAR HEMORRHAGE Contrast: MAGNEV...</td>\n",
       "      <td>a 55 year old man with acute onset diplopia an...</td>\n",
       "      <td>244</td>\n",
       "    </tr>\n",
       "    <tr>\n",
       "      <th>4</th>\n",
       "      <td>4</td>\n",
       "      <td>200072</td>\n",
       "      <td>8</td>\n",
       "      <td>Radiology</td>\n",
       "      <td>MR HEAD W &amp; W/O CONTRAST</td>\n",
       "      <td>[**Last Name (LF) 477**],[**First Name3 (LF) 4...</td>\n",
       "      <td>0</td>\n",
       "      <td>Reason: CEREBELLAR HEMORRHAGE Contrast: MAGNEV...</td>\n",
       "      <td>man with acute onset diplopia and imbalance hy...</td>\n",
       "      <td>96</td>\n",
       "    </tr>\n",
       "  </tbody>\n",
       "</table>\n",
       "</div>"
      ],
      "text/plain": [
       "   Unnamed: 0  icustay_id  hr   category               description  \\\n",
       "0           0      200039  12  Radiology      CT HEAD W/O CONTRAST   \n",
       "1           1      200052  20  Radiology      CT HEAD W/O CONTRAST   \n",
       "2           2      200072   6  Radiology      CT HEAD W/O CONTRAST   \n",
       "3           3      200072   8  Radiology  MR HEAD W & W/O CONTRAST   \n",
       "4           4      200072   8  Radiology  MR HEAD W & W/O CONTRAST   \n",
       "\n",
       "                                                text  mortality  \\\n",
       "0  [**2121-12-26**] 4:56 PM\\n CT HEAD W/O CONTRAS...          0   \n",
       "1  [**2193-9-19**] 8:41 AM\\n CT HEAD W/O CONTRAST...          0   \n",
       "2  [**2106-3-4**] 3:26 AM\\n CT HEAD W/O CONTRAST ...          0   \n",
       "3  [**2106-3-4**] 5:26 AM\\n MR HEAD W & W/O CONTR...          0   \n",
       "4  [**Last Name (LF) 477**],[**First Name3 (LF) 4...          0   \n",
       "\n",
       "                                        cleaned_text  \\\n",
       "0  Reason: 69 year old woman sp decompressive sur...   \n",
       "1  Reason: CEREBELLER HEMORRHAGE MEDICAL CONDITIO...   \n",
       "2  Reason: CEREBELLAR HEMORRHAGE MEDICAL CONDITIO...   \n",
       "3  Reason: CEREBELLAR HEMORRHAGE Contrast: MAGNEV...   \n",
       "4  Reason: CEREBELLAR HEMORRHAGE Contrast: MAGNEV...   \n",
       "\n",
       "                                          summary_T5  Number_Words  \n",
       "0  69 year old woman sp decompressive surgery for...           184  \n",
       "1  57 year old woman with cerebellar hemorrhage. ...           141  \n",
       "2  MEDICAL CONDITION: 55 year old male with left ...           202  \n",
       "3  a 55 year old man with acute onset diplopia an...           244  \n",
       "4  man with acute onset diplopia and imbalance hy...            96  "
      ]
     },
     "execution_count": 42,
     "metadata": {},
     "output_type": "execute_result"
    }
   ],
   "source": [
    "# how many words in the text column\n",
    "df2[\"Number_Words\"] = df2[\"text\"].apply(lambda n: len(n.split()))\n",
    "df2.head()"
   ]
  },
  {
   "cell_type": "code",
   "execution_count": 43,
   "id": "1c666a2d",
   "metadata": {},
   "outputs": [
    {
     "data": {
      "text/html": [
       "<div>\n",
       "<style scoped>\n",
       "    .dataframe tbody tr th:only-of-type {\n",
       "        vertical-align: middle;\n",
       "    }\n",
       "\n",
       "    .dataframe tbody tr th {\n",
       "        vertical-align: top;\n",
       "    }\n",
       "\n",
       "    .dataframe thead th {\n",
       "        text-align: right;\n",
       "    }\n",
       "</style>\n",
       "<table border=\"1\" class=\"dataframe\">\n",
       "  <thead>\n",
       "    <tr style=\"text-align: right;\">\n",
       "      <th></th>\n",
       "      <th>Unnamed: 0</th>\n",
       "      <th>icustay_id</th>\n",
       "      <th>hr</th>\n",
       "      <th>category</th>\n",
       "      <th>description</th>\n",
       "      <th>text</th>\n",
       "      <th>mortality</th>\n",
       "      <th>cleaned_text</th>\n",
       "      <th>summary_T5</th>\n",
       "      <th>Number_Words</th>\n",
       "      <th>Number_Words_T5</th>\n",
       "    </tr>\n",
       "  </thead>\n",
       "  <tbody>\n",
       "    <tr>\n",
       "      <th>0</th>\n",
       "      <td>0</td>\n",
       "      <td>200039</td>\n",
       "      <td>12</td>\n",
       "      <td>Radiology</td>\n",
       "      <td>CT HEAD W/O CONTRAST</td>\n",
       "      <td>[**2121-12-26**] 4:56 PM\\n CT HEAD W/O CONTRAS...</td>\n",
       "      <td>0</td>\n",
       "      <td>Reason: 69 year old woman sp decompressive sur...</td>\n",
       "      <td>69 year old woman sp decompressive surgery for...</td>\n",
       "      <td>184</td>\n",
       "      <td>22</td>\n",
       "    </tr>\n",
       "    <tr>\n",
       "      <th>1</th>\n",
       "      <td>1</td>\n",
       "      <td>200052</td>\n",
       "      <td>20</td>\n",
       "      <td>Radiology</td>\n",
       "      <td>CT HEAD W/O CONTRAST</td>\n",
       "      <td>[**2193-9-19**] 8:41 AM\\n CT HEAD W/O CONTRAST...</td>\n",
       "      <td>0</td>\n",
       "      <td>Reason: CEREBELLER HEMORRHAGE MEDICAL CONDITIO...</td>\n",
       "      <td>57 year old woman with cerebellar hemorrhage. ...</td>\n",
       "      <td>141</td>\n",
       "      <td>21</td>\n",
       "    </tr>\n",
       "    <tr>\n",
       "      <th>2</th>\n",
       "      <td>2</td>\n",
       "      <td>200072</td>\n",
       "      <td>6</td>\n",
       "      <td>Radiology</td>\n",
       "      <td>CT HEAD W/O CONTRAST</td>\n",
       "      <td>[**2106-3-4**] 3:26 AM\\n CT HEAD W/O CONTRAST ...</td>\n",
       "      <td>0</td>\n",
       "      <td>Reason: CEREBELLAR HEMORRHAGE MEDICAL CONDITIO...</td>\n",
       "      <td>MEDICAL CONDITION: 55 year old male with left ...</td>\n",
       "      <td>202</td>\n",
       "      <td>29</td>\n",
       "    </tr>\n",
       "    <tr>\n",
       "      <th>3</th>\n",
       "      <td>3</td>\n",
       "      <td>200072</td>\n",
       "      <td>8</td>\n",
       "      <td>Radiology</td>\n",
       "      <td>MR HEAD W &amp; W/O CONTRAST</td>\n",
       "      <td>[**2106-3-4**] 5:26 AM\\n MR HEAD W &amp; W/O CONTR...</td>\n",
       "      <td>0</td>\n",
       "      <td>Reason: CEREBELLAR HEMORRHAGE Contrast: MAGNEV...</td>\n",
       "      <td>a 55 year old man with acute onset diplopia an...</td>\n",
       "      <td>244</td>\n",
       "      <td>40</td>\n",
       "    </tr>\n",
       "    <tr>\n",
       "      <th>4</th>\n",
       "      <td>4</td>\n",
       "      <td>200072</td>\n",
       "      <td>8</td>\n",
       "      <td>Radiology</td>\n",
       "      <td>MR HEAD W &amp; W/O CONTRAST</td>\n",
       "      <td>[**Last Name (LF) 477**],[**First Name3 (LF) 4...</td>\n",
       "      <td>0</td>\n",
       "      <td>Reason: CEREBELLAR HEMORRHAGE Contrast: MAGNEV...</td>\n",
       "      <td>man with acute onset diplopia and imbalance hy...</td>\n",
       "      <td>96</td>\n",
       "      <td>22</td>\n",
       "    </tr>\n",
       "    <tr>\n",
       "      <th>5</th>\n",
       "      <td>5</td>\n",
       "      <td>200072</td>\n",
       "      <td>22</td>\n",
       "      <td>Radiology</td>\n",
       "      <td>CHEST (PORTABLE AP)</td>\n",
       "      <td>[**2106-3-25**] 1:18 PM\\n CHEST (PORTABLE AP) ...</td>\n",
       "      <td>0</td>\n",
       "      <td>Reason: CEREBELLAR HEMORRHAGE MEDICAL CONDITIO...</td>\n",
       "      <td>55 year old man sp CABG eval for pneumothorax ...</td>\n",
       "      <td>142</td>\n",
       "      <td>38</td>\n",
       "    </tr>\n",
       "    <tr>\n",
       "      <th>6</th>\n",
       "      <td>6</td>\n",
       "      <td>200103</td>\n",
       "      <td>15</td>\n",
       "      <td>Radiology</td>\n",
       "      <td>SEL CATH 3RD ORDER THOR</td>\n",
       "      <td>[**2201-5-18**] 10:55 AM\\n CAROT/CEREB [**Hosp...</td>\n",
       "      <td>0</td>\n",
       "      <td>Reason: SUBARACHNOID HEMORRHAGE Contrast: OPTI...</td>\n",
       "      <td>58-year-old man with sAH had a 19gauge single ...</td>\n",
       "      <td>665</td>\n",
       "      <td>62</td>\n",
       "    </tr>\n",
       "    <tr>\n",
       "      <th>7</th>\n",
       "      <td>7</td>\n",
       "      <td>200131</td>\n",
       "      <td>16</td>\n",
       "      <td>Radiology</td>\n",
       "      <td>CT HEAD W/O CONTRAST</td>\n",
       "      <td>[**2176-10-31**] 5:25 AM\\n CT HEAD W/O CONTRAS...</td>\n",
       "      <td>0</td>\n",
       "      <td>Reason: STROKETELEMETRYTRANSIENT ISCHEMIC ATTA...</td>\n",
       "      <td>pontine hemorrhage appears slightly larger in ...</td>\n",
       "      <td>164</td>\n",
       "      <td>20</td>\n",
       "    </tr>\n",
       "    <tr>\n",
       "      <th>8</th>\n",
       "      <td>8</td>\n",
       "      <td>200131</td>\n",
       "      <td>21</td>\n",
       "      <td>Radiology</td>\n",
       "      <td>CHEST (PORTABLE AP)</td>\n",
       "      <td>[**2176-10-31**] 10:07 AM\\n CHEST (PORTABLE AP...</td>\n",
       "      <td>0</td>\n",
       "      <td>Reason: STROKETELEMETRYTRANSIENT ISCHEMIC ATTA...</td>\n",
       "      <td>69 year old woman with pontine hemorrhage and ...</td>\n",
       "      <td>168</td>\n",
       "      <td>27</td>\n",
       "    </tr>\n",
       "    <tr>\n",
       "      <th>9</th>\n",
       "      <td>9</td>\n",
       "      <td>200131</td>\n",
       "      <td>21</td>\n",
       "      <td>Radiology</td>\n",
       "      <td>CHEST (PORTABLE AP)</td>\n",
       "      <td>[**Last Name (LF) **],[**First Name8 (NamePatt...</td>\n",
       "      <td>0</td>\n",
       "      <td>Reason: STROKETELEMETRYTRANSIENT ISCHEMIC ATTA...</td>\n",
       "      <td>69 year old woman with pontine hemorrhage feve...</td>\n",
       "      <td>79</td>\n",
       "      <td>25</td>\n",
       "    </tr>\n",
       "    <tr>\n",
       "      <th>10</th>\n",
       "      <td>10</td>\n",
       "      <td>200131</td>\n",
       "      <td>24</td>\n",
       "      <td>Radiology</td>\n",
       "      <td>MR HEAD W &amp; W/O CONTRAST</td>\n",
       "      <td>[**2176-10-31**] 1:24 PM\\n MR HEAD W &amp; W/O CON...</td>\n",
       "      <td>0</td>\n",
       "      <td>Reason: STROKETELEMETRYTRANSIENT ISCHEMIC ATTA...</td>\n",
       "      <td>69 year old female with pontine IPH. no other ...</td>\n",
       "      <td>244</td>\n",
       "      <td>19</td>\n",
       "    </tr>\n",
       "    <tr>\n",
       "      <th>11</th>\n",
       "      <td>11</td>\n",
       "      <td>200166</td>\n",
       "      <td>6</td>\n",
       "      <td>Radiology</td>\n",
       "      <td>EMBO TRANSCRANIAL</td>\n",
       "      <td>[**2142-7-28**] 8:34 AM\\n CAROT/CEREB [**Hospi...</td>\n",
       "      <td>0</td>\n",
       "      <td>Reason: LEFT MCA ANEURYSMSUBARACHNOID HEMORRHA...</td>\n",
       "      <td>a 24-year-old man experienced a sudden headach...</td>\n",
       "      <td>923</td>\n",
       "      <td>45</td>\n",
       "    </tr>\n",
       "    <tr>\n",
       "      <th>12</th>\n",
       "      <td>12</td>\n",
       "      <td>200166</td>\n",
       "      <td>12</td>\n",
       "      <td>Radiology</td>\n",
       "      <td>CHEST (PORTABLE AP)</td>\n",
       "      <td>[**2142-7-28**] 2:38 PM\\n CHEST (PORTABLE AP) ...</td>\n",
       "      <td>0</td>\n",
       "      <td>Reason: LEFT MCA ANEURYSMSUBARACHNOID HEMORRHA...</td>\n",
       "      <td>a new right subclavian line has been placed wi...</td>\n",
       "      <td>165</td>\n",
       "      <td>26</td>\n",
       "    </tr>\n",
       "    <tr>\n",
       "      <th>13</th>\n",
       "      <td>13</td>\n",
       "      <td>200249</td>\n",
       "      <td>4</td>\n",
       "      <td>Radiology</td>\n",
       "      <td>MRA BRAIN W/O CONTRAST</td>\n",
       "      <td>[**2146-7-4**] 8:48 AM\\n MRA BRAIN W/O CONTRAS...</td>\n",
       "      <td>0</td>\n",
       "      <td>Reason: STROKETELEMETRY MEDICAL CONDITION: 68 ...</td>\n",
       "      <td>68 year old woman with right frontal intrapare...</td>\n",
       "      <td>570</td>\n",
       "      <td>44</td>\n",
       "    </tr>\n",
       "    <tr>\n",
       "      <th>14</th>\n",
       "      <td>14</td>\n",
       "      <td>200249</td>\n",
       "      <td>4</td>\n",
       "      <td>Radiology</td>\n",
       "      <td>CHEST (PORTABLE AP)</td>\n",
       "      <td>[**2146-7-4**] 8:50 AM\\n CHEST (PORTABLE AP)  ...</td>\n",
       "      <td>0</td>\n",
       "      <td>Reason: STROKETELEMETRY MEDICAL CONDITION: 68 ...</td>\n",
       "      <td>68 year old woman with FINAL REPORT INDICATION...</td>\n",
       "      <td>139</td>\n",
       "      <td>31</td>\n",
       "    </tr>\n",
       "    <tr>\n",
       "      <th>15</th>\n",
       "      <td>15</td>\n",
       "      <td>200249</td>\n",
       "      <td>11</td>\n",
       "      <td>Radiology</td>\n",
       "      <td>CHEST PORT. LINE PLACEMENT</td>\n",
       "      <td>[**2146-7-4**] 3:15 PM\\n CHEST PORT. LINE PLAC...</td>\n",
       "      <td>0</td>\n",
       "      <td>Reason: STROKETELEMETRY MEDICAL CONDITION: 68 ...</td>\n",
       "      <td>the endotracheal tube has been retracted and n...</td>\n",
       "      <td>117</td>\n",
       "      <td>25</td>\n",
       "    </tr>\n",
       "    <tr>\n",
       "      <th>16</th>\n",
       "      <td>16</td>\n",
       "      <td>200249</td>\n",
       "      <td>12</td>\n",
       "      <td>Radiology</td>\n",
       "      <td>CT HEAD W/O CONTRAST</td>\n",
       "      <td>[**2146-7-4**] 4:42 PM\\n CT HEAD W/O CONTRAST;...</td>\n",
       "      <td>0</td>\n",
       "      <td>Reason:30pm Admitting Diagnosis: STROKETELEMET...</td>\n",
       "      <td>68 year old woman with right frontal hematoma ...</td>\n",
       "      <td>302</td>\n",
       "      <td>41</td>\n",
       "    </tr>\n",
       "    <tr>\n",
       "      <th>17</th>\n",
       "      <td>17</td>\n",
       "      <td>200322</td>\n",
       "      <td>18</td>\n",
       "      <td>Radiology</td>\n",
       "      <td>CT HEAD W/O CONTRAST</td>\n",
       "      <td>[**2168-4-21**] 9:43 AM\\n CT HEAD W/O CONTRAST...</td>\n",
       "      <td>0</td>\n",
       "      <td>Reason: INTRACRANIAL HEMORRHAGE FINAL REPORT C...</td>\n",
       "      <td>INTRACRANIAL HEMORRHAGE FINAL REPORT CT OF THE...</td>\n",
       "      <td>177</td>\n",
       "      <td>34</td>\n",
       "    </tr>\n",
       "    <tr>\n",
       "      <th>18</th>\n",
       "      <td>18</td>\n",
       "      <td>200322</td>\n",
       "      <td>19</td>\n",
       "      <td>Radiology</td>\n",
       "      <td>CHEST (PORTABLE AP)</td>\n",
       "      <td>[**2168-4-21**] 10:21 AM\\n CHEST (PORTABLE AP)...</td>\n",
       "      <td>0</td>\n",
       "      <td>Reason: INTRACRANIAL HEMORRHAGE MEDICAL CONDIT...</td>\n",
       "      <td>55 year old woman with left basal ganglia hemo...</td>\n",
       "      <td>117</td>\n",
       "      <td>30</td>\n",
       "    </tr>\n",
       "    <tr>\n",
       "      <th>19</th>\n",
       "      <td>19</td>\n",
       "      <td>200326</td>\n",
       "      <td>1</td>\n",
       "      <td>Radiology</td>\n",
       "      <td>CHEST (PORTABLE AP)</td>\n",
       "      <td>[**2183-9-24**] 8:36 PM\\n CHEST (PORTABLE AP) ...</td>\n",
       "      <td>0</td>\n",
       "      <td>Reason: STROKE TIA MEDICAL CONDITION: 69 year ...</td>\n",
       "      <td>69 year old man with IDH lines and tube placem...</td>\n",
       "      <td>145</td>\n",
       "      <td>26</td>\n",
       "    </tr>\n",
       "  </tbody>\n",
       "</table>\n",
       "</div>"
      ],
      "text/plain": [
       "    Unnamed: 0  icustay_id  hr   category                 description  \\\n",
       "0            0      200039  12  Radiology        CT HEAD W/O CONTRAST   \n",
       "1            1      200052  20  Radiology        CT HEAD W/O CONTRAST   \n",
       "2            2      200072   6  Radiology        CT HEAD W/O CONTRAST   \n",
       "3            3      200072   8  Radiology    MR HEAD W & W/O CONTRAST   \n",
       "4            4      200072   8  Radiology    MR HEAD W & W/O CONTRAST   \n",
       "5            5      200072  22  Radiology         CHEST (PORTABLE AP)   \n",
       "6            6      200103  15  Radiology     SEL CATH 3RD ORDER THOR   \n",
       "7            7      200131  16  Radiology        CT HEAD W/O CONTRAST   \n",
       "8            8      200131  21  Radiology         CHEST (PORTABLE AP)   \n",
       "9            9      200131  21  Radiology         CHEST (PORTABLE AP)   \n",
       "10          10      200131  24  Radiology    MR HEAD W & W/O CONTRAST   \n",
       "11          11      200166   6  Radiology           EMBO TRANSCRANIAL   \n",
       "12          12      200166  12  Radiology         CHEST (PORTABLE AP)   \n",
       "13          13      200249   4  Radiology      MRA BRAIN W/O CONTRAST   \n",
       "14          14      200249   4  Radiology         CHEST (PORTABLE AP)   \n",
       "15          15      200249  11  Radiology  CHEST PORT. LINE PLACEMENT   \n",
       "16          16      200249  12  Radiology        CT HEAD W/O CONTRAST   \n",
       "17          17      200322  18  Radiology        CT HEAD W/O CONTRAST   \n",
       "18          18      200322  19  Radiology         CHEST (PORTABLE AP)   \n",
       "19          19      200326   1  Radiology         CHEST (PORTABLE AP)   \n",
       "\n",
       "                                                 text  mortality  \\\n",
       "0   [**2121-12-26**] 4:56 PM\\n CT HEAD W/O CONTRAS...          0   \n",
       "1   [**2193-9-19**] 8:41 AM\\n CT HEAD W/O CONTRAST...          0   \n",
       "2   [**2106-3-4**] 3:26 AM\\n CT HEAD W/O CONTRAST ...          0   \n",
       "3   [**2106-3-4**] 5:26 AM\\n MR HEAD W & W/O CONTR...          0   \n",
       "4   [**Last Name (LF) 477**],[**First Name3 (LF) 4...          0   \n",
       "5   [**2106-3-25**] 1:18 PM\\n CHEST (PORTABLE AP) ...          0   \n",
       "6   [**2201-5-18**] 10:55 AM\\n CAROT/CEREB [**Hosp...          0   \n",
       "7   [**2176-10-31**] 5:25 AM\\n CT HEAD W/O CONTRAS...          0   \n",
       "8   [**2176-10-31**] 10:07 AM\\n CHEST (PORTABLE AP...          0   \n",
       "9   [**Last Name (LF) **],[**First Name8 (NamePatt...          0   \n",
       "10  [**2176-10-31**] 1:24 PM\\n MR HEAD W & W/O CON...          0   \n",
       "11  [**2142-7-28**] 8:34 AM\\n CAROT/CEREB [**Hospi...          0   \n",
       "12  [**2142-7-28**] 2:38 PM\\n CHEST (PORTABLE AP) ...          0   \n",
       "13  [**2146-7-4**] 8:48 AM\\n MRA BRAIN W/O CONTRAS...          0   \n",
       "14  [**2146-7-4**] 8:50 AM\\n CHEST (PORTABLE AP)  ...          0   \n",
       "15  [**2146-7-4**] 3:15 PM\\n CHEST PORT. LINE PLAC...          0   \n",
       "16  [**2146-7-4**] 4:42 PM\\n CT HEAD W/O CONTRAST;...          0   \n",
       "17  [**2168-4-21**] 9:43 AM\\n CT HEAD W/O CONTRAST...          0   \n",
       "18  [**2168-4-21**] 10:21 AM\\n CHEST (PORTABLE AP)...          0   \n",
       "19  [**2183-9-24**] 8:36 PM\\n CHEST (PORTABLE AP) ...          0   \n",
       "\n",
       "                                         cleaned_text  \\\n",
       "0   Reason: 69 year old woman sp decompressive sur...   \n",
       "1   Reason: CEREBELLER HEMORRHAGE MEDICAL CONDITIO...   \n",
       "2   Reason: CEREBELLAR HEMORRHAGE MEDICAL CONDITIO...   \n",
       "3   Reason: CEREBELLAR HEMORRHAGE Contrast: MAGNEV...   \n",
       "4   Reason: CEREBELLAR HEMORRHAGE Contrast: MAGNEV...   \n",
       "5   Reason: CEREBELLAR HEMORRHAGE MEDICAL CONDITIO...   \n",
       "6   Reason: SUBARACHNOID HEMORRHAGE Contrast: OPTI...   \n",
       "7   Reason: STROKETELEMETRYTRANSIENT ISCHEMIC ATTA...   \n",
       "8   Reason: STROKETELEMETRYTRANSIENT ISCHEMIC ATTA...   \n",
       "9   Reason: STROKETELEMETRYTRANSIENT ISCHEMIC ATTA...   \n",
       "10  Reason: STROKETELEMETRYTRANSIENT ISCHEMIC ATTA...   \n",
       "11  Reason: LEFT MCA ANEURYSMSUBARACHNOID HEMORRHA...   \n",
       "12  Reason: LEFT MCA ANEURYSMSUBARACHNOID HEMORRHA...   \n",
       "13  Reason: STROKETELEMETRY MEDICAL CONDITION: 68 ...   \n",
       "14  Reason: STROKETELEMETRY MEDICAL CONDITION: 68 ...   \n",
       "15  Reason: STROKETELEMETRY MEDICAL CONDITION: 68 ...   \n",
       "16  Reason:30pm Admitting Diagnosis: STROKETELEMET...   \n",
       "17  Reason: INTRACRANIAL HEMORRHAGE FINAL REPORT C...   \n",
       "18  Reason: INTRACRANIAL HEMORRHAGE MEDICAL CONDIT...   \n",
       "19  Reason: STROKE TIA MEDICAL CONDITION: 69 year ...   \n",
       "\n",
       "                                           summary_T5  Number_Words  \\\n",
       "0   69 year old woman sp decompressive surgery for...           184   \n",
       "1   57 year old woman with cerebellar hemorrhage. ...           141   \n",
       "2   MEDICAL CONDITION: 55 year old male with left ...           202   \n",
       "3   a 55 year old man with acute onset diplopia an...           244   \n",
       "4   man with acute onset diplopia and imbalance hy...            96   \n",
       "5   55 year old man sp CABG eval for pneumothorax ...           142   \n",
       "6   58-year-old man with sAH had a 19gauge single ...           665   \n",
       "7   pontine hemorrhage appears slightly larger in ...           164   \n",
       "8   69 year old woman with pontine hemorrhage and ...           168   \n",
       "9   69 year old woman with pontine hemorrhage feve...            79   \n",
       "10  69 year old female with pontine IPH. no other ...           244   \n",
       "11  a 24-year-old man experienced a sudden headach...           923   \n",
       "12  a new right subclavian line has been placed wi...           165   \n",
       "13  68 year old woman with right frontal intrapare...           570   \n",
       "14  68 year old woman with FINAL REPORT INDICATION...           139   \n",
       "15  the endotracheal tube has been retracted and n...           117   \n",
       "16  68 year old woman with right frontal hematoma ...           302   \n",
       "17  INTRACRANIAL HEMORRHAGE FINAL REPORT CT OF THE...           177   \n",
       "18  55 year old woman with left basal ganglia hemo...           117   \n",
       "19  69 year old man with IDH lines and tube placem...           145   \n",
       "\n",
       "    Number_Words_T5  \n",
       "0                22  \n",
       "1                21  \n",
       "2                29  \n",
       "3                40  \n",
       "4                22  \n",
       "5                38  \n",
       "6                62  \n",
       "7                20  \n",
       "8                27  \n",
       "9                25  \n",
       "10               19  \n",
       "11               45  \n",
       "12               26  \n",
       "13               44  \n",
       "14               31  \n",
       "15               25  \n",
       "16               41  \n",
       "17               34  \n",
       "18               30  \n",
       "19               26  "
      ]
     },
     "execution_count": 43,
     "metadata": {},
     "output_type": "execute_result"
    }
   ],
   "source": [
    "df2[\"Number_Words\"] = df2[\"text\"].apply(lambda n: len(n.split()))\n",
    "df2[\"Number_Words_T5\"] = df2[\"summary_T5\"].apply(lambda n: len(n.split()))\n",
    "df2.head(20)"
   ]
  },
  {
   "cell_type": "code",
   "execution_count": 44,
   "id": "d3ddc829",
   "metadata": {},
   "outputs": [],
   "source": [
    "df2.to_csv(\"t5resultsB.csv\", index=False)"
   ]
  },
  {
   "cell_type": "code",
   "execution_count": 139,
   "id": "34f3aad2",
   "metadata": {
    "scrolled": false
   },
   "outputs": [
    {
     "data": {
      "text/html": [
       "<div>\n",
       "<style scoped>\n",
       "    .dataframe tbody tr th:only-of-type {\n",
       "        vertical-align: middle;\n",
       "    }\n",
       "\n",
       "    .dataframe tbody tr th {\n",
       "        vertical-align: top;\n",
       "    }\n",
       "\n",
       "    .dataframe thead th {\n",
       "        text-align: right;\n",
       "    }\n",
       "</style>\n",
       "<table border=\"1\" class=\"dataframe\">\n",
       "  <thead>\n",
       "    <tr style=\"text-align: right;\">\n",
       "      <th></th>\n",
       "      <th>Unnamed: 0</th>\n",
       "      <th>icustay_id</th>\n",
       "      <th>hr</th>\n",
       "      <th>category</th>\n",
       "      <th>description</th>\n",
       "      <th>text</th>\n",
       "      <th>mortality</th>\n",
       "      <th>cleaned_text</th>\n",
       "      <th>summary_T5</th>\n",
       "      <th>Number_Words</th>\n",
       "      <th>Number_Words_T5</th>\n",
       "    </tr>\n",
       "  </thead>\n",
       "  <tbody>\n",
       "    <tr>\n",
       "      <th>0</th>\n",
       "      <td>0</td>\n",
       "      <td>200039</td>\n",
       "      <td>12</td>\n",
       "      <td>Radiology</td>\n",
       "      <td>CT HEAD W/O CONTRAST</td>\n",
       "      <td>[**2121-12-26**] 4:56 PM\\n CT HEAD W/O CONTRAS...</td>\n",
       "      <td>0</td>\n",
       "      <td>Reason: 69 year old woman sp decompressive sur...</td>\n",
       "      <td>69 year old woman sp decompressive surgery for...</td>\n",
       "      <td>184</td>\n",
       "      <td>22</td>\n",
       "    </tr>\n",
       "    <tr>\n",
       "      <th>1</th>\n",
       "      <td>1</td>\n",
       "      <td>200052</td>\n",
       "      <td>20</td>\n",
       "      <td>Radiology</td>\n",
       "      <td>CT HEAD W/O CONTRAST</td>\n",
       "      <td>[**2193-9-19**] 8:41 AM\\n CT HEAD W/O CONTRAST...</td>\n",
       "      <td>0</td>\n",
       "      <td>Reason: CEREBELLER HEMORRHAGE MEDICAL CONDITIO...</td>\n",
       "      <td>57 year old woman with cerebellar hemorrhage. ...</td>\n",
       "      <td>141</td>\n",
       "      <td>21</td>\n",
       "    </tr>\n",
       "    <tr>\n",
       "      <th>2</th>\n",
       "      <td>2</td>\n",
       "      <td>200072</td>\n",
       "      <td>6</td>\n",
       "      <td>Radiology</td>\n",
       "      <td>CT HEAD W/O CONTRAST</td>\n",
       "      <td>[**2106-3-4**] 3:26 AM\\n CT HEAD W/O CONTRAST ...</td>\n",
       "      <td>0</td>\n",
       "      <td>Reason: CEREBELLAR HEMORRHAGE MEDICAL CONDITIO...</td>\n",
       "      <td>MEDICAL CONDITION: 55 year old male with left ...</td>\n",
       "      <td>202</td>\n",
       "      <td>29</td>\n",
       "    </tr>\n",
       "    <tr>\n",
       "      <th>3</th>\n",
       "      <td>3</td>\n",
       "      <td>200072</td>\n",
       "      <td>8</td>\n",
       "      <td>Radiology</td>\n",
       "      <td>MR HEAD W &amp; W/O CONTRAST</td>\n",
       "      <td>[**2106-3-4**] 5:26 AM\\n MR HEAD W &amp; W/O CONTR...</td>\n",
       "      <td>0</td>\n",
       "      <td>Reason: CEREBELLAR HEMORRHAGE Contrast: MAGNEV...</td>\n",
       "      <td>a 55 year old man with acute onset diplopia an...</td>\n",
       "      <td>244</td>\n",
       "      <td>40</td>\n",
       "    </tr>\n",
       "    <tr>\n",
       "      <th>4</th>\n",
       "      <td>4</td>\n",
       "      <td>200072</td>\n",
       "      <td>8</td>\n",
       "      <td>Radiology</td>\n",
       "      <td>MR HEAD W &amp; W/O CONTRAST</td>\n",
       "      <td>[**Last Name (LF) 477**],[**First Name3 (LF) 4...</td>\n",
       "      <td>0</td>\n",
       "      <td>Reason: CEREBELLAR HEMORRHAGE Contrast: MAGNEV...</td>\n",
       "      <td>man with acute onset diplopia and imbalance hy...</td>\n",
       "      <td>96</td>\n",
       "      <td>22</td>\n",
       "    </tr>\n",
       "  </tbody>\n",
       "</table>\n",
       "</div>"
      ],
      "text/plain": [
       "   Unnamed: 0  icustay_id  hr   category               description  \\\n",
       "0           0      200039  12  Radiology      CT HEAD W/O CONTRAST   \n",
       "1           1      200052  20  Radiology      CT HEAD W/O CONTRAST   \n",
       "2           2      200072   6  Radiology      CT HEAD W/O CONTRAST   \n",
       "3           3      200072   8  Radiology  MR HEAD W & W/O CONTRAST   \n",
       "4           4      200072   8  Radiology  MR HEAD W & W/O CONTRAST   \n",
       "\n",
       "                                                text  mortality  \\\n",
       "0  [**2121-12-26**] 4:56 PM\\n CT HEAD W/O CONTRAS...          0   \n",
       "1  [**2193-9-19**] 8:41 AM\\n CT HEAD W/O CONTRAST...          0   \n",
       "2  [**2106-3-4**] 3:26 AM\\n CT HEAD W/O CONTRAST ...          0   \n",
       "3  [**2106-3-4**] 5:26 AM\\n MR HEAD W & W/O CONTR...          0   \n",
       "4  [**Last Name (LF) 477**],[**First Name3 (LF) 4...          0   \n",
       "\n",
       "                                        cleaned_text  \\\n",
       "0  Reason: 69 year old woman sp decompressive sur...   \n",
       "1  Reason: CEREBELLER HEMORRHAGE MEDICAL CONDITIO...   \n",
       "2  Reason: CEREBELLAR HEMORRHAGE MEDICAL CONDITIO...   \n",
       "3  Reason: CEREBELLAR HEMORRHAGE Contrast: MAGNEV...   \n",
       "4  Reason: CEREBELLAR HEMORRHAGE Contrast: MAGNEV...   \n",
       "\n",
       "                                          summary_T5  Number_Words  \\\n",
       "0  69 year old woman sp decompressive surgery for...           184   \n",
       "1  57 year old woman with cerebellar hemorrhage. ...           141   \n",
       "2  MEDICAL CONDITION: 55 year old male with left ...           202   \n",
       "3  a 55 year old man with acute onset diplopia an...           244   \n",
       "4  man with acute onset diplopia and imbalance hy...            96   \n",
       "\n",
       "   Number_Words_T5  \n",
       "0               22  \n",
       "1               21  \n",
       "2               29  \n",
       "3               40  \n",
       "4               22  "
      ]
     },
     "execution_count": 139,
     "metadata": {},
     "output_type": "execute_result"
    }
   ],
   "source": [
    "df3 = pd.read_csv('t5resultsB.csv')\n",
    "df3.head()"
   ]
  },
  {
   "cell_type": "code",
   "execution_count": 143,
   "id": "3ea3606c",
   "metadata": {},
   "outputs": [
    {
     "data": {
      "text/plain": [
       "595"
      ]
     },
     "execution_count": 143,
     "metadata": {},
     "output_type": "execute_result"
    }
   ],
   "source": [
    "df3.loc[101, 'Number_Words']"
   ]
  },
  {
   "cell_type": "code",
   "execution_count": 140,
   "id": "1d18a98a",
   "metadata": {},
   "outputs": [
    {
     "name": "stdout",
     "output_type": "stream",
     "text": [
      "63 year old woman with fall while on coumadin intubated. eval for evidence of traumatic injury no contraindications for IV contrast. lungs notable for diffuse groundglass density as well as intralobular septal thickening.\n"
     ]
    }
   ],
   "source": [
    "report2_T5 = df3.loc[101, 'summary_T5']\n",
    "print(report2_T5)"
   ]
  },
  {
   "cell_type": "code",
   "execution_count": 144,
   "id": "9fc32751",
   "metadata": {},
   "outputs": [
    {
     "data": {
      "text/plain": [
       "33"
      ]
     },
     "execution_count": 144,
     "metadata": {},
     "output_type": "execute_result"
    }
   ],
   "source": [
    "df3.loc[101, 'Number_Words_T5']"
   ]
  },
  {
   "cell_type": "code",
   "execution_count": null,
   "id": "45511877",
   "metadata": {},
   "outputs": [],
   "source": [
    "#subplots=True"
   ]
  },
  {
   "cell_type": "code",
   "execution_count": 148,
   "id": "88d11e42",
   "metadata": {},
   "outputs": [],
   "source": [
    "word_count = df3[['Number_Words','Number_Words_T5']].copy()"
   ]
  },
  {
   "cell_type": "code",
   "execution_count": 158,
   "id": "c00fe8c4",
   "metadata": {},
   "outputs": [
    {
     "data": {
      "image/png": "[encoded data removed]",
      "text/plain": [
       "<Figure size 640x480 with 1 Axes>"
      ]
     },
     "metadata": {},
     "output_type": "display_data"
    }
   ],
   "source": [
    "lines = word_count.plot.line()"
   ]
  },
  {
   "cell_type": "markdown",
   "id": "f447b7d2",
   "metadata": {},
   "source": [
    "# Playing with tokenizers"
   ]
  },
  {
   "cell_type": "code",
   "execution_count": null,
   "id": "ccff61d3",
   "metadata": {},
   "outputs": [],
   "source": [
    "clinical_text = \"Patient presents with hyperlipidemia and hypertension, requiring further evaluation and management. Mild bilateral pleural effusions. No pneumothorax or pulmonary edema.\"\n"
   ]
  },
  {
   "cell_type": "code",
   "execution_count": null,
   "id": "913efb4d",
   "metadata": {},
   "outputs": [],
   "source": [
    "regular_text = \"I'm going to the grocery store to buy some milk and bread. The store name is supercalifragilisticexpialidocious\"\n"
   ]
  },
  {
   "cell_type": "code",
   "execution_count": null,
   "id": "08d16093",
   "metadata": {},
   "outputs": [],
   "source": [
    "# T5\n",
    "import transformers\n",
    "import torch\n",
    "model = transformers.T5ForConditionalGeneration.from_pretrained('t5-base')\n",
    "tokenizer = transformers.T5Tokenizer.from_pretrained('t5-base', model_max_length=512)\n",
    "\n",
    "input_ids = tokenizer.encode(regular_text, return_tensors=\"pt\")\n",
    "input_ids2 = tokenizer.encode(clinical_text, return_tensors=\"pt\")\n",
    "\n",
    "print(\"Regular text:\", regular_text)\n",
    "print(\"Input tokens:\", tokenizer.convert_ids_to_tokens(input_ids[0]))\n",
    "print()\n",
    "print(\"Medical text:\", clinical_text)\n",
    "print(\"Input tokens:\", tokenizer.convert_ids_to_tokens(input_ids2[0]))"
   ]
  },
  {
   "cell_type": "code",
   "execution_count": null,
   "id": "78164e42",
   "metadata": {},
   "outputs": [],
   "source": [
    "# testing to see if a word is in the tokenizer vocabulary\n",
    "#all words that are broken up were not in the vocabulary!\n",
    "from transformers import T5Tokenizer\n",
    "\n",
    "tokenizer = T5Tokenizer.from_pretrained('t5-base')\n",
    "word = \"pneumothorax\"\n",
    "\n",
    "# Get the vocabulary dictionary\n",
    "vocab_dict = tokenizer.get_vocab()\n",
    "\n",
    "# Check if the word is in the vocabulary\n",
    "if word in vocab_dict:\n",
    "    print(f\"{word} is in the vocabulary!\")\n",
    "else:\n",
    "    print(f\"{word} is not in the vocabulary.\")"
   ]
  },
  {
   "cell_type": "code",
   "execution_count": null,
   "id": "d3f1f8a9",
   "metadata": {},
   "outputs": [],
   "source": [
    "#increasing the tokenizer vocabulary\n",
    "from transformers import T5Tokenizer\n",
    "\n",
    "# Load the T5 tokenizer\n",
    "t5_tokenizer = T5Tokenizer.from_pretrained(\"t5-base\")\n",
    "\n",
    "# Define your own vocabulary\n",
    "new_vocab = [\"pleural\", \"pneumothorax\", \"effusions\", \"edema\"]\n",
    "\n",
    "# Add your new vocabulary to the T5 tokenizer\n",
    "t5_tokenizer.add_tokens(new_vocab)"
   ]
  },
  {
   "cell_type": "code",
   "execution_count": null,
   "id": "e49e0765",
   "metadata": {},
   "outputs": [],
   "source": [
    "# Resize the T5 model's embedding layer to accommodate the new vocabulary\n",
    "model = transformers.T5ForConditionalGeneration.from_pretrained(\"t5-base\")\n",
    "model.resize_token_embeddings(len(t5_tokenizer))\n",
    "\n",
    "# Use the updated tokenizer to preprocess your data and generate summaries\n",
    "#input_text = \"your input text\"\n",
    "#input_ids = t5_tokenizer.encode(input_text, add_special_tokens=True, padding=\"max_length\", max_length=512, truncation=True, return_tensors=\"pt\")\n",
    "#outputs = model.generate(input_ids)\n",
    "\n",
    "\n",
    "input_ids = t5_tokenizer.encode(regular_text, add_special_tokens=True, return_tensors=\"pt\")\n",
    "input_ids2 = t5_tokenizer.encode(clinical_text, add_special_tokens=True, return_tensors=\"pt\")\n",
    "\n",
    "print(\"Regular text:\", regular_text)\n",
    "print(\"Input tokens:\", t5_tokenizer.convert_ids_to_tokens(input_ids[0]))\n",
    "print()\n",
    "print(\"Medical text:\", clinical_text)\n",
    "print(\"Input tokens:\", t5_tokenizer.convert_ids_to_tokens(input_ids2[0]))\n"
   ]
  },
  {
   "cell_type": "markdown",
   "id": "f04bf358",
   "metadata": {},
   "source": [
    "# Creating the vocabulary list"
   ]
  },
  {
   "cell_type": "code",
   "execution_count": 72,
   "id": "b7a8448a",
   "metadata": {},
   "outputs": [
    {
     "name": "stderr",
     "output_type": "stream",
     "text": [
      "[nltk_data] Downloading package stopwords to\n",
      "[nltk_data]     /Users/schama/nltk_data...\n",
      "[nltk_data]   Unzipping corpora/stopwords.zip.\n"
     ]
    }
   ],
   "source": [
    "import nltk\n",
    "nltk.download('stopwords')\n",
    "from nltk import pos_tag\n",
    "from nltk.corpus import stopwords\n",
    "from nltk.corpus import wordnet\n",
    "\n",
    "# Define a function to clean the text and keep only adjectives and nouns\n",
    "def clean_text(text):\n",
    "    # Tokenize the text and tag the parts of speech\n",
    "    tokens = nltk.word_tokenize(text.lower())\n",
    "    tagged_tokens = pos_tag(tokens)\n",
    "\n",
    "    # Keep only adjectives and nouns\n",
    "    clean_tokens = []\n",
    "    for token, tag in tagged_tokens:\n",
    "        if tag.startswith('NN') or tag.startswith('JJ'):\n",
    "            # Lemmatize the token to reduce inflectional forms\n",
    "            lemmas = wordnet._morphy(token, wordnet.NOUN) + wordnet._morphy(token, wordnet.ADJ)\n",
    "            clean_token = lemmas[0] if lemmas else token\n",
    "            clean_tokens.append(clean_token)\n",
    "    # Remove stopwords\n",
    "    stop_words = set(stopwords.words('english'))\n",
    "    filtered_tokens = [token for token in clean_tokens if token not in stop_words]\n",
    "\n",
    "    # Remove duplicate words\n",
    "    unique_tokens = set(filtered_tokens)\n",
    "\n",
    "    # Remove duplicate words\n",
    "    unique_tokens = set(clean_tokens)\n",
    "    return list(unique_tokens)"
   ]
  },
  {
   "cell_type": "code",
   "execution_count": 78,
   "id": "cf786be7",
   "metadata": {},
   "outputs": [
    {
     "data": {
      "text/plain": [
       "56"
      ]
     },
     "execution_count": 78,
     "metadata": {},
     "output_type": "execute_result"
    }
   ],
   "source": [
    "len(clean_text(report2))"
   ]
  },
  {
   "cell_type": "code",
   "execution_count": 76,
   "id": "1c3dd109",
   "metadata": {},
   "outputs": [],
   "source": [
    "# comparing to the tokenizer vocabulary and keeping only the different owrds\n",
    "from transformers import T5Tokenizer\n",
    "\n",
    "# Load the T5 tokenizer\n",
    "tokenizer = T5Tokenizer.from_pretrained('t5-base', model_max_length=1024)\n",
    "\n",
    "# Get the vocabulary of the T5 tokenizer\n",
    "t5_vocab = set(tokenizer.get_vocab().keys())\n",
    "\n",
    "# Get your list of cleaned words\n",
    "cleaned_words = clean_text(report2)\n",
    "\n",
    "# Get the set of words that are in your list but not in the T5 vocabulary\n",
    "new_words = list(set(cleaned_words) - t5_vocab)"
   ]
  },
  {
   "cell_type": "code",
   "execution_count": 79,
   "id": "ffb367d7",
   "metadata": {},
   "outputs": [
    {
     "data": {
      "text/plain": [
       "42"
      ]
     },
     "execution_count": 79,
     "metadata": {},
     "output_type": "execute_result"
    }
   ],
   "source": [
    "len(new_words)"
   ]
  },
  {
   "cell_type": "code",
   "execution_count": 99,
   "id": "92b10409",
   "metadata": {},
   "outputs": [
    {
     "name": "stderr",
     "output_type": "stream",
     "text": [
      "My bar!: 100%|████████████████████████████████████████████████████████████████████████████████████████████████████████████| 4882/4882 [00:45<00:00, 107.68it/s]\n"
     ]
    }
   ],
   "source": [
    "# Join all texts of each cell in a column and clean the resulting text\n",
    "#cleaned_column = df2['cleaned_text'].progress_apply(lambda x: clean_text(' '.join(map(str, x))))\n",
    "cleaned_column = df2['cleaned_text'].progress_apply(clean_text)\n"
   ]
  },
  {
   "cell_type": "code",
   "execution_count": 100,
   "id": "b0421f98",
   "metadata": {},
   "outputs": [
    {
     "data": {
      "text/plain": [
       "pandas.core.series.Series"
      ]
     },
     "execution_count": 100,
     "metadata": {},
     "output_type": "execute_result"
    }
   ],
   "source": [
    "type(cleaned_column)"
   ]
  },
  {
   "cell_type": "code",
   "execution_count": 82,
   "id": "b43ca837",
   "metadata": {},
   "outputs": [],
   "source": [
    "cleaned_list = cleaned_column.tolist()"
   ]
  },
  {
   "cell_type": "code",
   "execution_count": 83,
   "id": "47228f90",
   "metadata": {},
   "outputs": [
    {
     "data": {
      "text/plain": [
       "4882"
      ]
     },
     "execution_count": 83,
     "metadata": {},
     "output_type": "execute_result"
    }
   ],
   "source": [
    "# so here we have a list of words in each row of the pandas series!\n",
    "len(cleaned_list)"
   ]
  },
  {
   "cell_type": "code",
   "execution_count": 101,
   "id": "9c25c1a7",
   "metadata": {},
   "outputs": [
    {
     "data": {
      "text/plain": [
       "['unchanged',\n",
       " 'contraindication',\n",
       " 'lacunar',\n",
       " 'change',\n",
       " 'head',\n",
       " 'present',\n",
       " 'followup',\n",
       " 'axial',\n",
       " 'lowattenuation',\n",
       " 'consistent',\n",
       " 'ct',\n",
       " 'cerebellar',\n",
       " 'year',\n",
       " 'vermis',\n",
       " 'condition',\n",
       " 'image',\n",
       " 'indication',\n",
       " 'focus',\n",
       " 'ventricle',\n",
       " 'intravenous',\n",
       " 'final',\n",
       " 'woman',\n",
       " 'old',\n",
       " 'iv',\n",
       " 'mild',\n",
       " 'examination',\n",
       " 'edema',\n",
       " 'impression',\n",
       " 'lateral',\n",
       " 'cerebeller',\n",
       " 'report',\n",
       " 'reason',\n",
       " 'hemisphere',\n",
       " 'effect',\n",
       " 'hemorrhage',\n",
       " 'medical',\n",
       " 'dilatation',\n",
       " 'right',\n",
       " 'study',\n",
       " 'ganglion',\n",
       " 'fourth',\n",
       " 'technique',\n",
       " 'occiput',\n",
       " 'vertex',\n",
       " 'comparison',\n",
       " 'mass',\n",
       " 'contrast',\n",
       " 'ct.',\n",
       " 'third',\n",
       " 'stable',\n",
       " 'infarct',\n",
       " 'basal']"
      ]
     },
     "execution_count": 101,
     "metadata": {},
     "output_type": "execute_result"
    }
   ],
   "source": [
    "cleaned_column[1]"
   ]
  },
  {
   "cell_type": "code",
   "execution_count": 85,
   "id": "a69626e1",
   "metadata": {},
   "outputs": [],
   "source": [
    "# Get a list of all the cleaned words from the cleaned_list\n",
    "#all_words = [word for sublist in cleaned_list for word in sublist]\n",
    "\n",
    "# Remove duplicates and convert to a set\n",
    "#unique_words = set(all_words)"
   ]
  },
  {
   "cell_type": "code",
   "execution_count": 86,
   "id": "4f27cf15",
   "metadata": {},
   "outputs": [
    {
     "data": {
      "text/plain": [
       "25"
      ]
     },
     "execution_count": 86,
     "metadata": {},
     "output_type": "execute_result"
    }
   ],
   "source": [
    "#len(unique_words)"
   ]
  },
  {
   "cell_type": "code",
   "execution_count": 87,
   "id": "e128cd49",
   "metadata": {},
   "outputs": [],
   "source": [
    "# Remove duplicates from each list in the cleaned_column Series\n",
    "#cleaned_column_unique = cleaned_column.apply(lambda x: list(set(x)))\n",
    "\n",
    "# Combine all the lists into a single list of unique words\n",
    "#unique_words2 = set([word for sublist in cleaned_column_unique.tolist() for word in sublist])\n"
   ]
  },
  {
   "cell_type": "code",
   "execution_count": 88,
   "id": "24bb16f7",
   "metadata": {},
   "outputs": [
    {
     "data": {
      "text/plain": [
       "25"
      ]
     },
     "execution_count": 88,
     "metadata": {},
     "output_type": "execute_result"
    }
   ],
   "source": [
    "#len(unique_words2)"
   ]
  },
  {
   "cell_type": "code",
   "execution_count": 102,
   "id": "24ef622b",
   "metadata": {},
   "outputs": [],
   "source": [
    "# Combine all the lists into a single list of unique words\n",
    "unique_words = set([word for sublist in cleaned_column.tolist() for word in sublist])\n",
    "\n",
    "# Get the set of words that are in the unique_words set but not in the T5 vocabulary, and convert it to a list\n",
    "new_words_ALL = list(unique_words - t5_vocab)"
   ]
  },
  {
   "cell_type": "code",
   "execution_count": 89,
   "id": "27f2eb88",
   "metadata": {},
   "outputs": [],
   "source": [
    "# Get the set of words that are in your list but not in the T5 vocabulary\n",
    "#new_words_ALL = list(unique_words - t5_vocab)"
   ]
  },
  {
   "cell_type": "code",
   "execution_count": 103,
   "id": "9d09218e",
   "metadata": {},
   "outputs": [
    {
     "data": {
      "text/plain": [
       "7749"
      ]
     },
     "execution_count": 103,
     "metadata": {},
     "output_type": "execute_result"
    }
   ],
   "source": [
    "len(new_words_ALL)"
   ]
  },
  {
   "cell_type": "markdown",
   "id": "7cdd5431",
   "metadata": {},
   "source": [
    "# Increasing vocabulary of Tokenizer"
   ]
  },
  {
   "cell_type": "code",
   "execution_count": 104,
   "id": "b4e97c1f",
   "metadata": {},
   "outputs": [
    {
     "data": {
      "text/plain": [
       "7749"
      ]
     },
     "execution_count": 104,
     "metadata": {},
     "output_type": "execute_result"
    }
   ],
   "source": [
    "#increasing the tokenizer vocabulary\n",
    "from transformers import T5Tokenizer\n",
    "\n",
    "# Load the T5 tokenizer\n",
    "t5_tokenizer = T5Tokenizer.from_pretrained(\"t5-base\")\n",
    "\n",
    "# Define your own vocabulary\n",
    "new_vocab = new_words_ALL\n",
    "\n",
    "# Add your new vocabulary to the T5 tokenizer\n",
    "t5_tokenizer.add_tokens(new_vocab)"
   ]
  },
  {
   "cell_type": "code",
   "execution_count": 106,
   "id": "16d3b81c",
   "metadata": {},
   "outputs": [
    {
     "data": {
      "text/plain": [
       "Embedding(39849, 768)"
      ]
     },
     "execution_count": 106,
     "metadata": {},
     "output_type": "execute_result"
    }
   ],
   "source": [
    "# Resize the T5 model's embedding layer to accommodate the new vocabulary\n",
    "model = transformers.T5ForConditionalGeneration.from_pretrained(\"t5-base\")\n",
    "model.resize_token_embeddings(len(t5_tokenizer))\n",
    "\n",
    "# Use the updated tokenizer to preprocess your data and generate summaries\n",
    "#input_text = \"your input text\"\n",
    "#input_ids = t5_tokenizer.encode(input_text, add_special_tokens=True, padding=\"max_length\", max_length=512, truncation=True, return_tensors=\"pt\")\n",
    "#outputs = model.generate(input_ids)\n",
    "\n",
    "\n",
    "#input_ids = t5_tokenizer.encode(regular_text, add_special_tokens=True, return_tensors=\"pt\")"
   ]
  },
  {
   "cell_type": "code",
   "execution_count": 107,
   "id": "e9353087",
   "metadata": {},
   "outputs": [],
   "source": [
    "# Define the input data\n",
    "input_text2 = report2"
   ]
  },
  {
   "cell_type": "code",
   "execution_count": 109,
   "id": "2e5a2bb6",
   "metadata": {
    "scrolled": false
   },
   "outputs": [
    {
     "name": "stdout",
     "output_type": "stream",
     "text": [
      "Summary: arterires atrial multisinus atrial atrial outpatient atrial atrial atrial outpatient atrial atrial artery.please atrial artery.please atrial outpatient atrial outpatient atrial outpatient outpatient outpatient opti24056ml atrial artery.please atrial artery.please atrial artery.please atrial artery.please atrial artery.please atrial artery.please atrial outpatient atrial outpatient artery.please atrial outpatient outpatient artery.please atrial outpatient outpatient artery.please atrial outpatient outpatient artery.please atrial outpatient outpatient artery.please atrial outpatient outpatient artery.please atrial outpatient outpatient outpatient artery.please atrial outpatient outpatient outpatient outpatient verterbral outpatient verterbral outpatient verterbral outpatient verterbral outpatient verterbral outpatient verterbral outpatient verterbral outpatient verterbral outpatient verterbral outpatient verterbral outpatient verterbral outpatient verterbral outpatient verterbral outpatient verterbral outpatient verterbral outpatient verterbral outpatient verterbral outpatient verterbral outpatient verterbral outpatient verterbral outpatient verterbral verterbral ea ea ea ea ea ea ea ea ea ea ea ea ea ea ea ea ea ea ea ea ea ea ea ea ea ea ea ea ea ea ea ea ea ea ea ea ea ea ea ea ea ea ea ea ea ea ea ea ea ea ea ea ea ea ea ea ea ea ea ea psuedomeningocele ea ea ea ea ea ea ea ea ea ea ea ea ea ea ea ea ea ea ea ea ea ea ea ea ea ea ea ea ea ea ea ea ea ea ea ea ea ea ea ea ea ea ea ea ea ea psuedomeningocele psuedomeningocele psuedomeningocele psuedomeningocele psuedomeningocele psuedomeningocele psuedomeningocele ea ea ea ea ea ea ea ea ea psuedomeningocele ea ea ea psuedomeningocele ea ea ea ea ea ea ea psuedomeningocele ea ea psuedomeningocele ea ea psuedomeningocele ea psuedomeningocele ea psuedomeningocele psuedomeningocele psuedomeningocele psuedomeningocele psuedomeningocele psuedomeningocele psuedomeningocele psuedomeningocele psuedomeningocele psuedomeningocele psuedomeningocele psuedomeningocele psuedomeningocele psuedomeningocele psuedomeningocele psuedomeningocele psuedomeningocele psuedomeningocele psuedomeningocele psuedomeningocele psuedomeningocele psuedomeningocele psuedomeningocele psuedomeningocele psuedomeningocele psuedomeningocele psuedomeningocele psuedomeningocele psuedomeningocele intracanial psuedomeningocele intracanial intracanial intracanial intracanial intracanial intracanial intracanial intracanial intracanial intracanial intracanial intracanial intracanial intracanial intracanial intracanial intracanial intracanial intracanial intracanial intracanial intracanial intracanial intracanial intracanial intracanial intracanial intracanial intracanial intracanial intracanial intracanial intracanial intracanial ea intracanial ea intracanial ea ea ea ea ea ea ea ea ea ea ea intracanial ea ea ea ea ea ea ea ea ea ea ea ea ea ea ea ea ea ea ea ea ea ea ea ea ea ea ea ea ea ea ea ea ea ea ea ea ea ea ea ea ea ea ea ea ea ea ea ea ea ea ea ea ea ea ea ea ea ea ea ea ea ea ea ea ea ea ea ea ea ea ea ea ea ea ea ea ea ea ea intracanial intracanial intracanial intracanial intracanial intracanial intracanial intracanial intracanial intracanial intracanial intracanial intracanial intracanial intracanial intracanial intracanial intracanial intracanial intracanial intracanial intracanial intracanial intracanial intracanial intracanial intracanial intracanial intracanial intracanial intracanial intracanial intracanial intracanial intracanial intracanial intracanial intracanial intracanial intracanial intracanial intracanial intracanial intracanial intracanial intracanial intracanial intracanial intracanial intracanial intracanial intracanial intracanial intracanial intracanial intracanial intracanial intracanial intracanial intracanial intracanial intracanial intracanial intracanial intracanial intracanial intracanial intracanial intracanial intracanial intracanial intracanial intracanial intracanial intracanial intracanial intracanial intracanial intracanial intracanial intracanial intracanial intracanial intracanial intracanial intracanial intracanial intracanial intracanial intracanial intracanial intracanial ea\n"
     ]
    }
   ],
   "source": [
    "# Tokenize the input data\n",
    "input_ids = t5_tokenizer.encode(\"summarize: \" +input_text2, max_length=1024,truncation=True, padding='max_length', return_tensors='pt')\n",
    "\n",
    "# Generate the summary\n",
    "summary_ids = model.generate(input_ids, num_beams=4, max_length=512, early_stopping=False)\n",
    "summary = t5_tokenizer.decode(summary_ids[0], skip_special_tokens=True)\n",
    "\n",
    "# Print the summary\n",
    "print(\"Summary:\", summary)\n"
   ]
  },
  {
   "cell_type": "code",
   "execution_count": 165,
   "id": "c9ec7776",
   "metadata": {},
   "outputs": [],
   "source": [
    "def sumarizer(text):\n",
    "    # Tokenize the input data\n",
    "    input_ids = t5_tokenizer.encode(\"summarize: \" +text, max_length=500,truncation=True, padding='max_length', return_tensors='pt')\n",
    "\n",
    "    # Generate the summary\n",
    "    summary_ids = model.generate(input_ids, num_beams=4, max_length=500, early_stopping=False)\n",
    "    summary = t5_tokenizer.decode(summary_ids[0], skip_special_tokens=True)\n",
    "\n",
    "    # Print the summary\n",
    "    return summary"
   ]
  },
  {
   "cell_type": "code",
   "execution_count": null,
   "id": "4bd5e462",
   "metadata": {},
   "outputs": [],
   "source": [
    "tentative = sumarizer(df2.loc[5, 'cleaned_text'])"
   ]
  },
  {
   "cell_type": "code",
   "execution_count": null,
   "id": "f5c6417e",
   "metadata": {},
   "outputs": [],
   "source": [
    "len(tentative.split())"
   ]
  },
  {
   "cell_type": "code",
   "execution_count": null,
   "id": "40880f20",
   "metadata": {},
   "outputs": [],
   "source": [
    "df2['summary_T5_vocab'] = df2['cleaned_text'].progress_apply(sumarizer)"
   ]
  },
  {
   "cell_type": "code",
   "execution_count": null,
   "id": "06c0af3e",
   "metadata": {},
   "outputs": [],
   "source": [
    "df2.head()"
   ]
  },
  {
   "cell_type": "code",
   "execution_count": null,
   "id": "36ae003b",
   "metadata": {},
   "outputs": [],
   "source": [
    "df2[\"Number_Words\"] = df2[\"summary_T5_vocab\"].apply(lambda n: len(n.split()))\n",
    "df2.head(20)"
   ]
  }
 ],
 "metadata": {
  "kernelspec": {
   "display_name": "DataScience",
   "language": "python",
   "name": "datascience"
  },
  "language_info": {
   "codemirror_mode": {
    "name": "ipython",
    "version": 3
   },
   "file_extension": ".py",
   "mimetype": "text/x-python",
   "name": "python",
   "nbconvert_exporter": "python",
   "pygments_lexer": "ipython3",
   "version": "3.8.16"
  }
 },
 "nbformat": 4,
 "nbformat_minor": 5
}
